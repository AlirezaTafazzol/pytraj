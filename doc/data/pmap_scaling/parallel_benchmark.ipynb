{
 "cells": [
  {
   "cell_type": "markdown",
   "metadata": {},
   "source": [
    "## System\n",
    "\n",
    "```python\n",
    "pytraj.TrajectoryIterator, 200000 frames: \n",
    "Size: 58.150291 (GB)\n",
    "<Topology: 13008 atoms, 4189 residues, 4174 mols, PBC with box type = truncoct>\n",
    "\n",
    "format: netcdf\n",
    "```"
   ]
  },
  {
   "cell_type": "markdown",
   "metadata": {},
   "source": [
    "## Multiprocessing"
   ]
  },
  {
   "cell_type": "markdown",
   "metadata": {},
   "source": [
    "<img src=\"./bench_pmap_casegroup.png\">"
   ]
  },
  {
   "cell_type": "markdown",
   "metadata": {},
   "source": [
    "## Distributed: using MPI (via mpi4py)"
   ]
  },
  {
   "cell_type": "markdown",
   "metadata": {},
   "source": [
    "<img src=\"./bench_pmap_mpi.png\">"
   ]
  },
  {
   "cell_type": "markdown",
   "metadata": {},
   "source": [
    "### script for multiprocessing\n",
    "\n",
    "```python\n",
    "from multiprocessing import cpu_count\n",
    "from glob import glob\n",
    "import pytraj as pt\n",
    "from time import time\n",
    "\n",
    "print(\"max cores = {}\".format(cpu_count()))\n",
    "filenames = glob('mdx/md*.nc') * 10\n",
    "traj = pt.iterload(filenames, 'prmtop')\n",
    "print(traj)\n",
    "\n",
    "mask = '!:WAT,Na+'\n",
    "\n",
    "t0 = time()\n",
    "pt.rmsd(traj, mask=mask)\n",
    "t_serial = time() - t0\n",
    "# print('serial time = ', t_serial)\n",
    "\n",
    "func = pt.rmsd\n",
    "\n",
    "# for n_cores in [1, 2, 4, 6, 8, 16, 20, 24]:\n",
    "for n_cores in [1, 2, 4, 6, 7]:\n",
    "    t0 = time()\n",
    "    pt.pmap(func, traj, mask=mask, n_cores=n_cores, ref=traj[0])\n",
    "    t_par = time() - t0\n",
    "    print(n_cores, t_serial / t_par)\n",
    "```\n"
   ]
  },
  {
   "cell_type": "markdown",
   "metadata": {},
   "source": [
    "### script for MPI\n",
    "\n",
    "```python\n",
    "from glob import glob\n",
    "import pytraj as pt\n",
    "from time import time\n",
    "from mpi4py import MPI\n",
    "\n",
    "comm = MPI.COMM_WORLD\n",
    "\n",
    "# need to run program in serial and update serial time\n",
    "serial_time = 45.\n",
    "\n",
    "filenames = glob('mdx/md*.nc') * 10\n",
    "traj = pt.iterload(filenames, 'prmtop')\n",
    "\n",
    "mask = '!:WAT,Na+'\n",
    "\n",
    "func = pt.rmsd\n",
    "\n",
    "t0 = time()\n",
    "x = pt.pmap_mpi(func, traj, mask=mask, ref=traj[0])\n",
    "t_par = time() - t0\n",
    "\n",
    "if comm.rank == 0:\n",
    "    print(serial_time/t_par)\n",
    "```"
   ]
  }
 ],
 "metadata": {
  "kernelspec": {
   "display_name": "Python 3",
   "language": "python",
   "name": "python3"
  },
  "language_info": {
   "codemirror_mode": {
    "name": "ipython",
    "version": 3
   },
   "file_extension": ".py",
   "mimetype": "text/x-python",
   "name": "python",
   "nbconvert_exporter": "python",
   "pygments_lexer": "ipython3",
   "version": "3.5.1"
  }
 },
 "nbformat": 4,
 "nbformat_minor": 0
}
