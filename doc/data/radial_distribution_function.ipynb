{
 "cells": [
  {
   "cell_type": "code",
   "execution_count": 27,
   "metadata": {
    "collapsed": false
   },
   "outputs": [
    {
     "name": "stdout",
     "output_type": "stream",
     "text": [
      "<pytraj.Trajectory, 10 frames, include:\n",
      "<Topology: 5293 atoms, 1704 residues, 1692 mols, PBC with box type = ortho>>\n",
      "           \n"
     ]
    }
   ],
   "source": [
    "# TODO: validate the data. seems weirds\n",
    "# make plot inline\n",
    "%matplotlib inline\n",
    "from matplotlib import pyplot as plt\n",
    "\n",
    "# load pytraj\n",
    "import pytraj as pt\n",
    "\n",
    "# load traj\n",
    "traj = pt.load('tz2.ortho.nc', 'tz2.ortho.parm7')\n",
    "pt.autoimage(traj)\n",
    "print(traj)"
   ]
  },
  {
   "cell_type": "code",
   "execution_count": 28,
   "metadata": {
    "collapsed": false
   },
   "outputs": [
    {
     "data": {
      "text/plain": [
       "(array([  0.1,   0.3,   0.5, ...,  19.5,  19.7,  19.9]),\n",
       " array([ 0.        ,  0.        ,  0.        , ...,  0.00656225,\n",
       "         0.00648587,  0.00638812]))"
      ]
     },
     "execution_count": 28,
     "metadata": {},
     "output_type": "execute_result"
    }
   ],
   "source": [
    "# do calculation\n",
    "rdf_data = pt.rdf(traj, bin_spacing=0.2, maximum=20., solvent_mask=':WAT@O', solute_mask=':3')\n",
    "rdf_data"
   ]
  },
  {
   "cell_type": "code",
   "execution_count": 29,
   "metadata": {
    "collapsed": false
   },
   "outputs": [
    {
     "data": {
      "image/png": "[encoded data removed]",
      "text/plain": [
       "<matplotlib.figure.Figure at 0x2aaad4fa3978>"
      ]
     },
     "metadata": {},
     "output_type": "display_data"
    }
   ],
   "source": [
    "# plot\n",
    "fig = plt.plot(rdf_data[0], rdf_data[1])"
   ]
  }
 ],
 "metadata": {
  "kernelspec": {
   "display_name": "Python 3",
   "language": "python",
   "name": "python3"
  },
  "language_info": {
   "codemirror_mode": {
    "name": "ipython",
    "version": 3
   },
   "file_extension": ".py",
   "mimetype": "text/x-python",
   "name": "python",
   "nbconvert_exporter": "python",
   "pygments_lexer": "ipython3",
   "version": "3.4.3"
  }
 },
 "nbformat": 4,
 "nbformat_minor": 0
}
