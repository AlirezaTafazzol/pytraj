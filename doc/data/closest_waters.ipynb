{
 "cells": [
  {
   "cell_type": "code",
   "execution_count": 7,
   "metadata": {
    "collapsed": false
   },
   "outputs": [
    {
     "name": "stdout",
     "output_type": "stream",
     "text": [
      "pytraj.TrajectoryIterator, 10 frames: \n",
      "Size: 0.001183 (GB)\n",
      "<Topology: 5293 atoms, 1704 residues, 1692 mols, PBC with box type = ortho>\n",
      "           \n",
      "['SER', 'TRP', 'THR', 'TRP', 'GLU', 'ASN', 'GLY', 'LYS', 'TRP', 'THR', 'TRP', 'LYS', 'NHE']\n"
     ]
    }
   ],
   "source": [
    "# load pytraj\n",
    "import pytraj as pt\n",
    "\n",
    "# load trajectory\n",
    "traj = pt.iterload('tz2.ortho.nc', 'tz2.ortho.parm7')\n",
    "print(traj)\n",
    "\n",
    "print([res.name for res in traj.top.residues if not res.is_solvent()])"
   ]
  },
  {
   "cell_type": "code",
   "execution_count": 9,
   "metadata": {
    "collapsed": false
   },
   "outputs": [
    {
     "name": "stdout",
     "output_type": "stream",
     "text": [
      "pytraj.Trajectory, 10 frames: \n",
      "Size: 0.000116 (GB)\n",
      "<Topology: 520 atoms, 113 residues, 101 mols, PBC with box type = ortho>\n",
      "           \n"
     ]
    }
   ],
   "source": [
    "# supposed we want to keep 100 closest solvents around protein\n",
    "\n",
    "# specify solute mask\n",
    "# and number of solvents\n",
    "new_traj = pt.closest(traj, mask=':1-13', n_solvents=100, dtype='trajectory')\n",
    "print(new_traj)"
   ]
  }
 ],
 "metadata": {
  "kernelspec": {
   "display_name": "Python 3",
   "language": "python",
   "name": "python3"
  },
  "language_info": {
   "codemirror_mode": {
    "name": "ipython",
    "version": 3
   },
   "file_extension": ".py",
   "mimetype": "text/x-python",
   "name": "python",
   "nbconvert_exporter": "python",
   "pygments_lexer": "ipython3",
   "version": "3.4.3"
  }
 },
 "nbformat": 4,
 "nbformat_minor": 0
}
