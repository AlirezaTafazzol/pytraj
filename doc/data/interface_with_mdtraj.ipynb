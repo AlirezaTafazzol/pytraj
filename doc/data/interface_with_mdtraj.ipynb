{
 "cells": [
  {
   "cell_type": "markdown",
   "metadata": {},
   "source": [
    "# Iterface with mdtraj"
   ]
  },
  {
   "cell_type": "code",
   "execution_count": 21,
   "metadata": {
    "collapsed": true
   },
   "outputs": [],
   "source": [
    "# It's not uncommon to use similiar package to pytraj for given task.\n",
    "# In this tutorial, we will show how to convert mdtraj's Trajectory to pytraj's Trajectory\n",
    "# Why? for example, you want to load '.xtc' file extension that is not supported in pytraj/cpptraj\n",
    "\n",
    "# load pytraj\n",
    "import pytraj as pt\n",
    "\n",
    "# load mdtraj\n",
    "import mdtraj as md\n",
    "from mdtraj.testing import get_fn"
   ]
  },
  {
   "cell_type": "code",
   "execution_count": 22,
   "metadata": {
    "collapsed": false
   },
   "outputs": [],
   "source": [
    "# load h5 file \n",
    "filename, topology_name = get_fn('monolayer.xtc'), get_fn('monolayer.pdb')"
   ]
  },
  {
   "cell_type": "code",
   "execution_count": 23,
   "metadata": {
    "collapsed": false
   },
   "outputs": [
    {
     "data": {
      "text/plain": [
       "<pytraj.Trajectory, 0 frames, include:\n",
       "<Topology: 3600 atoms, 1 residues, 0 mols, PBC with box type = ortho>>\n",
       "           "
      ]
     },
     "execution_count": 23,
     "metadata": {},
     "output_type": "execute_result"
    }
   ],
   "source": [
    "pt.load(filename, topology_name)"
   ]
  },
  {
   "cell_type": "code",
   "execution_count": 24,
   "metadata": {
    "collapsed": false
   },
   "outputs": [
    {
     "data": {
      "text/plain": [
       "<mdtraj.Trajectory with 101 frames, 3600 atoms, 1 residues, and unitcells at 0x2aaad3727b00>"
      ]
     },
     "execution_count": 24,
     "metadata": {},
     "output_type": "execute_result"
    }
   ],
   "source": [
    "# if you can see, load xtc file extension results 0 frame because pytraj/cpptraj does not know how to read it.\n",
    "# try mdtraj\n",
    "m_traj = md.load(filename, top=topology_name)\n",
    "m_traj"
   ]
  },
  {
   "cell_type": "code",
   "execution_count": 25,
   "metadata": {
    "collapsed": false
   },
   "outputs": [
    {
     "data": {
      "text/plain": [
       "<pytraj.Trajectory, 101 frames, include:\n",
       "<Topology: 3600 atoms, 1 residues, 0 mols, PBC with box type = ortho>>\n",
       "           "
      ]
     },
     "execution_count": 25,
     "metadata": {},
     "output_type": "execute_result"
    }
   ],
   "source": [
    "# convert mdtraj.Trajectory to pytraj.Trajectory\n",
    "# need to provide topology_name (a pdb file)\n",
    "# and convert m_traj's dtype of float32 to float64\n",
    "\n",
    "traj = pt.Trajectory(xyz=m_traj.xyz.astype('f8'), top=topology_name)\n",
    "traj"
   ]
  },
  {
   "cell_type": "code",
   "execution_count": 26,
   "metadata": {
    "collapsed": false
   },
   "outputs": [
    {
     "data": {
      "text/plain": [
       "array([[[ 0.,  0.,  0.],\n",
       "        [ 0.,  0.,  0.],\n",
       "        [ 0.,  0.,  0.],\n",
       "        ..., \n",
       "        [ 0.,  0.,  0.],\n",
       "        [ 0.,  0.,  0.],\n",
       "        [ 0.,  0.,  0.]],\n",
       "\n",
       "       [[ 0.,  0.,  0.],\n",
       "        [ 0.,  0.,  0.],\n",
       "        [ 0.,  0.,  0.],\n",
       "        ..., \n",
       "        [ 0.,  0.,  0.],\n",
       "        [ 0.,  0.,  0.],\n",
       "        [ 0.,  0.,  0.]]])"
      ]
     },
     "execution_count": 26,
     "metadata": {},
     "output_type": "execute_result"
    }
   ],
   "source": [
    "# compare mdtraj's m_traj and pytraj' s traj\n",
    "(m_traj.xyz - traj.xyz)[:2]"
   ]
  },
  {
   "cell_type": "code",
   "execution_count": 28,
   "metadata": {
    "collapsed": false
   },
   "outputs": [
    {
     "data": {
      "text/plain": [
       "array([ 0.        ,  0.78563455,  0.19675571, ...,  0.78462811,\n",
       "        0.56851667,  0.57288392])"
      ]
     },
     "execution_count": 28,
     "metadata": {},
     "output_type": "execute_result"
    }
   ],
   "source": [
    "# perfom some calculation with pytraj\n",
    "pt.rmsd(traj, ref=0)"
   ]
  },
  {
   "cell_type": "code",
   "execution_count": 35,
   "metadata": {
    "collapsed": false
   },
   "outputs": [
    {
     "name": "stdout",
     "output_type": "stream",
     "text": [
      "{'Si', 'H', 'C', 'O'}\n",
      "{'Si', 'H', 'C', 'O'}\n"
     ]
    }
   ],
   "source": [
    "# mdtraj\n",
    "print(set(atom.name for atom in m_traj.top.atoms))\n",
    "\n",
    "# pytraj\n",
    "print(set(atom.name for atom in traj.top.atoms))"
   ]
  }
 ],
 "metadata": {
  "kernelspec": {
   "display_name": "Python 3",
   "language": "python",
   "name": "python3"
  },
  "language_info": {
   "codemirror_mode": {
    "name": "ipython",
    "version": 3
   },
   "file_extension": ".py",
   "mimetype": "text/x-python",
   "name": "python",
   "nbconvert_exporter": "python",
   "pygments_lexer": "ipython3",
   "version": "3.4.3"
  }
 },
 "nbformat": 4,
 "nbformat_minor": 0
}
