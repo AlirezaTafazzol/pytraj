{
 "cells": [
  {
   "cell_type": "code",
   "execution_count": 1,
   "metadata": {
    "collapsed": false
   },
   "outputs": [],
   "source": [
    "import pytraj as pt\n",
    "import nglview as nv\n",
    "\n",
    "traj = pt.load('dna.nc', 'dna.prmtop')\n",
    "traj.superpose(ref=0, mask='@P')\n",
    "\n",
    "view= nv.show_pytraj(traj)\n",
    "view.representations = []\n",
    "view.add_representation('cartoon')\n",
    "view.add_representation('surface', opacity=0.3)\n",
    "view # BEFORE doing autoimage"
   ]
  },
  {
   "cell_type": "code",
   "execution_count": 2,
   "metadata": {
    "collapsed": false
   },
   "outputs": [],
   "source": [
    "traj.autoimage()\n",
    "view2 = nv.show_pytraj(traj)\n",
    "view2.representations = []\n",
    "view2.add_representation('cartoon', selection='dna')\n",
    "view2.add_representation('surface', opacity=0.3)\n",
    "view2 # AFTER doing autoimage"
   ]
  }
 ],
 "metadata": {
  "kernelspec": {
   "display_name": "Python 3",
   "language": "python",
   "name": "python3"
  },
  "language_info": {
   "codemirror_mode": {
    "name": "ipython",
    "version": 3
   },
   "file_extension": ".py",
   "mimetype": "text/x-python",
   "name": "python",
   "nbconvert_exporter": "python",
   "pygments_lexer": "ipython3",
   "version": "3.5.1"
  }
 },
 "nbformat": 4,
 "nbformat_minor": 0
}
