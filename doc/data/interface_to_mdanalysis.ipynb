{
 "cells": [
  {
   "cell_type": "code",
   "execution_count": 1,
   "metadata": {
    "collapsed": false
   },
   "outputs": [],
   "source": [
    "# load MDAnalysis\n",
    "from MDAnalysis import Universe\n",
    "from MDAnalysisTests import datafiles"
   ]
  },
  {
   "cell_type": "code",
   "execution_count": 9,
   "metadata": {
    "collapsed": false
   },
   "outputs": [
    {
     "data": {
      "text/plain": [
       "< XTCReader 'MDAnalysisTests/data/adk_oplsaa.xtc' with 10 frames of 47681 atoms>"
      ]
     },
     "execution_count": 9,
     "metadata": {},
     "output_type": "execute_result"
    }
   ],
   "source": [
    "# create Universe in MDanalysis\n",
    "universe = Universe(datafiles.GRO, datafiles.XTC)\n",
    "universe.trajectory"
   ]
  },
  {
   "cell_type": "code",
   "execution_count": 10,
   "metadata": {
    "collapsed": true
   },
   "outputs": [],
   "source": [
    "# need to save a pdb file which will be used as Topology for pytraj\n",
    "# you don't need to do this step if you already have a pdb file\n",
    "all_atoms = universe.select_atoms('all')\n",
    "all_atoms.write('pdb_0.pdb')"
   ]
  },
  {
   "cell_type": "code",
   "execution_count": 3,
   "metadata": {
    "collapsed": true
   },
   "outputs": [],
   "source": [
    "# load pytraj\n",
    "import pytraj as pt"
   ]
  },
  {
   "cell_type": "code",
   "execution_count": 19,
   "metadata": {
    "collapsed": false
   },
   "outputs": [
    {
     "data": {
      "text/plain": [
       "((10, 47681, 3), dtype('float64'))"
      ]
     },
     "execution_count": 19,
     "metadata": {},
     "output_type": "execute_result"
    }
   ],
   "source": [
    "# iterate Universe to get coordinates\n",
    "# convert to numpy with dtype=f8 (double precision)\n",
    "import numpy as np\n",
    "coords = np.asarray([all_atoms.coordinates() for frame in universe.trajectory], dtype='f8')\n",
    "coords.shape, coords.dtype"
   ]
  },
  {
   "cell_type": "code",
   "execution_count": 24,
   "metadata": {
    "collapsed": false
   },
   "outputs": [
    {
     "data": {
      "text/plain": [
       "(<pytraj.Trajectory, 10 frames, include:\n",
       " <Topology: 47681 atoms, 11302 residues, 0 mols, PBC with box type = nonortho>>\n",
       "            , (10, 47681, 3), dtype('float64'))"
      ]
     },
     "execution_count": 24,
     "metadata": {},
     "output_type": "execute_result"
    }
   ],
   "source": [
    "# create pytraj's Trajectory\n",
    "traj = pt.Trajectory(xyz=coords, top='pdb_0.pdb')\n",
    "traj, traj.xyz.shape, traj.xyz.dtype"
   ]
  },
  {
   "cell_type": "code",
   "execution_count": 22,
   "metadata": {
    "collapsed": false
   },
   "outputs": [
    {
     "data": {
      "text/plain": [
       "array([[ 59.95022684,  39.88316017,  28.29267956],\n",
       "       [ 59.9966342 ,  39.84912084,  28.32422609],\n",
       "       [ 60.04153786,  39.90619703,  28.25798692],\n",
       "       ..., \n",
       "       [ 60.03552057,  39.91483842,  28.27997638],\n",
       "       [ 60.03982541,  39.82686919,  28.3703214 ],\n",
       "       [ 60.10060834,  39.81491474,  28.34947451]])"
      ]
     },
     "execution_count": 22,
     "metadata": {},
     "output_type": "execute_result"
    }
   ],
   "source": [
    "# perform some calculation\n",
    "pt.center_of_geometry(traj)"
   ]
  }
 ],
 "metadata": {
  "kernelspec": {
   "display_name": "Python 2",
   "language": "python",
   "name": "python2"
  },
  "language_info": {
   "codemirror_mode": {
    "name": "ipython",
    "version": 2
   },
   "file_extension": ".py",
   "mimetype": "text/x-python",
   "name": "python",
   "nbconvert_exporter": "python",
   "pygments_lexer": "ipython2",
   "version": "2.7.10"
  }
 },
 "nbformat": 4,
 "nbformat_minor": 0
}
