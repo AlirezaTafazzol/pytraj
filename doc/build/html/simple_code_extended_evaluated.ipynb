{
 "metadata": {
  "kernelspec": {
   "display_name": "Python 3",
   "language": "python",
   "name": "python3"
  },
  "language_info": {
   "codemirror_mode": {
    "name": "ipython",
    "version": 3
   },
   "file_extension": ".py",
   "mimetype": "text/x-python",
   "name": "python",
   "nbconvert_exporter": "python",
   "pygments_lexer": "ipython3",
   "version": "3.4.3"
  },
  "name": ""
 },
 "nbformat": 3,
 "nbformat_minor": 0,
 "worksheets": [
  {
   "cells": [
    {
     "cell_type": "code",
     "collapsed": false,
     "input": [
      "import pytraj as pt\n",
      "#traj = pt.iterload('tz2.ortho.nc', 'tz2.ortho.parm7')\n",
      "traj = pt.iterload('data/tz2.ortho.nc', 'data/tz2.ortho.parm7')\n",
      "traj"
     ],
     "language": "python",
     "metadata": {},
     "outputs": [
      {
       "output_type": "pyout",
       "prompt_number": 1,
       "text": [
        "<pytraj.TrajectoryIterator, 10 frames, include:\n",
        "<Topology: 5293 atoms, 1704 residues, 1692 mols, PBC with box type = ortho>>\n",
        "           "
       ]
      }
     ],
     "prompt_number": 1
    },
    {
     "cell_type": "code",
     "collapsed": false,
     "input": [
      "# calculate rmsd to 1st frame, mask = CA\n",
      "data = pt.rmsd(traj, ref=0, mask='@CA')\n",
      "print(data)"
     ],
     "language": "python",
     "metadata": {},
     "outputs": [
      {
       "output_type": "stream",
       "stream": "stdout",
       "text": [
        "[ 0.          0.26412388  0.38596881  0.26882031  0.26192277  0.45762002\n",
        "  0.45645516  0.44428977  0.43628622  0.44746086]\n"
       ]
      }
     ],
     "prompt_number": 2
    },
    {
     "cell_type": "code",
     "collapsed": false,
     "input": [
      "# get info about unitcells\n",
      "traj.unitcells"
     ],
     "language": "python",
     "metadata": {},
     "outputs": [
      {
       "output_type": "pyout",
       "prompt_number": 3,
       "text": [
        "array([[ 35.26277966,  41.84554768,  36.16862953,  90.        ,\n",
        "         90.        ,  90.        ],\n",
        "       [ 35.2563193 ,  41.83788131,  36.16200321,  90.        ,\n",
        "         90.        ,  90.        ],\n",
        "       [ 35.25450718,  41.83573091,  36.16014454,  90.        ,\n",
        "         90.        ,  90.        ],\n",
        "       ..., \n",
        "       [ 35.24903289,  41.82923469,  36.15452962,  90.        ,\n",
        "         90.        ,  90.        ],\n",
        "       [ 35.26186109,  41.84445763,  36.16768736,  90.        ,\n",
        "         90.        ,  90.        ],\n",
        "       [ 35.27351853,  41.85829125,  36.17964426,  90.        ,\n",
        "         90.        ,  90.        ]])"
       ]
      }
     ],
     "prompt_number": 3
    },
    {
     "cell_type": "code",
     "collapsed": false,
     "input": [
      "# load all coordinates to memory\n",
      "xyz = traj.xyz[:]\n",
      "print(xyz[0])"
     ],
     "language": "python",
     "metadata": {},
     "outputs": [
      {
       "output_type": "stream",
       "stream": "stdout",
       "text": [
        "[[ 15.55458927  28.54844856  17.18908691]\n",
        " [ 16.20579147  29.07935524  17.74959946]\n",
        " [ 14.95065975  29.27651787  16.83513069]\n",
        " ..., \n",
        " [  0.52251548   8.47930241  18.05087662]\n",
        " [  0.13079797   9.02361012  17.36785507]\n",
        " [ -0.17751557   8.35964298  18.69264793]]\n"
       ]
      }
     ],
     "prompt_number": 4
    },
    {
     "cell_type": "code",
     "collapsed": false,
     "input": [
      "# calculate bfactor\n",
      "data = pt.bfactors(traj, '@CA', byres=True)\n",
      "print(data)"
     ],
     "language": "python",
     "metadata": {},
     "outputs": [
      {
       "output_type": "stream",
       "stream": "stdout",
       "text": [
        "[[  0.          10.05908339]\n",
        " [  1.           8.3347316 ]\n",
        " [  2.           7.59440762]\n",
        " ..., \n",
        " [  9.          10.89077958]\n",
        " [ 10.          11.03991199]\n",
        " [ 11.          11.75692999]]\n"
       ]
      }
     ],
     "prompt_number": 5
    },
    {
     "cell_type": "code",
     "collapsed": false,
     "input": [
      "# plot bfactor\n",
      "%matplotlib inline\n",
      "from matplotlib import pyplot as plt\n",
      "data = data.T\n",
      "print(data)\n",
      "plt.plot(data[0], data[1], '--bo')"
     ],
     "language": "python",
     "metadata": {},
     "outputs": [
      {
       "output_type": "stream",
       "stream": "stdout",
       "text": [
        "[[  0.           1.           2.         ...,   9.          10.          11.        ]\n",
        " [ 10.05908339   8.3347316    7.59440762 ...,  10.89077958  11.03991199\n",
        "   11.75692999]]\n"
       ]
      },
      {
       "output_type": "pyout",
       "prompt_number": 6,
       "text": [
        "[<matplotlib.lines.Line2D at 0x2aaac8f66da0>]"
       ]
      },
      {
       "output_type": "display_data",
       "png": "[encoded data removed]",
       "text": [
        "<matplotlib.figure.Figure at 0x2aaab2524320>"
       ]
      }
     ],
     "prompt_number": 6
    }
   ],
   "metadata": {}
  }
 ]
}