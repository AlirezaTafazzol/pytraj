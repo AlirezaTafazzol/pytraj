{
 "metadata": {
  "kernelspec": {
   "display_name": "Python 3",
   "language": "python",
   "name": "python3"
  },
  "language_info": {
   "codemirror_mode": {
    "name": "ipython",
    "version": 3
   },
   "file_extension": ".py",
   "mimetype": "text/x-python",
   "name": "python",
   "nbconvert_exporter": "python",
   "pygments_lexer": "ipython3",
   "version": "3.4.3"
  },
  "name": ""
 },
 "nbformat": 3,
 "nbformat_minor": 0,
 "worksheets": [
  {
   "cells": [
    {
     "cell_type": "code",
     "collapsed": false,
     "input": [
      "# load data\n",
      "# pdb file from: http://www.rcsb.org/pdb/explore/explore.do?pdbId=1l2y\n",
      "\n",
      "import pytraj as pt\n",
      "\n",
      "traj = pt.iterload('1L2Y.pdb', top='1L2Y.pdb')\n",
      "traj"
     ],
     "language": "python",
     "metadata": {},
     "outputs": [
      {
       "output_type": "pyout",
       "prompt_number": 1,
       "text": [
        "pytraj.TrajectoryIterator, 38 frames: \n",
        "Size: 0.000258 (GB)\n",
        "<Topology: 304 atoms, 20 residues, 1 mols, PBC with box type = ortho>\n",
        "           "
       ]
      }
     ],
     "prompt_number": 1
    },
    {
     "cell_type": "code",
     "collapsed": false,
     "input": [
      "# search hbonds for all residues\n",
      "# dump data to `dataset` (similiar to python'list and dict)\n",
      "dataset = pt.search_hbonds(traj, dtype='dataset')\n",
      "print(dataset)\n",
      "# 0: no hbond\n",
      "# 1: there is hbond"
     ],
     "language": "python",
     "metadata": {
      "scrolled": true
     },
     "outputs": [
      {
       "output_type": "stream",
       "stream": "stdout",
       "text": [
        "<pytraj.DatasetList with 32 datasets>\n",
        "total_solute_hbonds\n",
        "[6 7 8 ..., 7 6 6]\n",
        "\n",
        "ASN1_O-GLN5_N-H\n",
        "[1 0 0 ..., 0 0 0]\n",
        "\n",
        "ARG16_O-TRP6_NE1-HE1\n",
        "[1 1 1 ..., 1 1 1]\n",
        "...\n",
        "\n",
        "ASP9_OD2-SER14_OG-HG\n",
        "[0 0 0 ..., 0 0 0]\n",
        "\n",
        "ASP9_OD2-ARG16_NH1-HH11\n",
        "[0 0 0 ..., 0 0 0]\n"
       ]
      }
     ],
     "prompt_number": 2
    },
    {
     "cell_type": "code",
     "collapsed": false,
     "input": [
      "# get total solute hbonds\n",
      "print(dataset['total_solute_hbonds'])"
     ],
     "language": "python",
     "metadata": {},
     "outputs": [
      {
       "output_type": "stream",
       "stream": "stdout",
       "text": [
        "<pytraj.array.DataArray: size=38, key=total_solute_hbonds, dtype=int32, ndim=1> \n",
        "values:\n",
        "[6 7 8 ..., 7 6 6]\n"
       ]
      }
     ],
     "prompt_number": 3
    },
    {
     "cell_type": "code",
     "collapsed": false,
     "input": [
      "# take data for specific hbond\n",
      "print(dataset['ARG16_O-TRP6_NE1-HE1'])"
     ],
     "language": "python",
     "metadata": {},
     "outputs": [
      {
       "output_type": "stream",
       "stream": "stdout",
       "text": [
        "<pytraj.array.DataArray: size=38, key=ARG16_O-TRP6_NE1-HE1, dtype=int32, ndim=1> \n",
        "values:\n",
        "[1 1 1 ..., 1 1 1]\n"
       ]
      }
     ],
     "prompt_number": 4
    },
    {
     "cell_type": "code",
     "collapsed": false,
     "input": [
      "# take hbond for only ASP9\n",
      "glu5 = dataset.filter(lambda x: 'ASP9' in x.key)\n",
      "print(glu5.keys())"
     ],
     "language": "python",
     "metadata": {},
     "outputs": [
      {
       "output_type": "stream",
       "stream": "stdout",
       "text": [
        "['ASP9_O-SER14_OG-HG', 'ASP9_OD2-ARG16_NH1-HH12', 'ASP9_OD2-ARG16_NH2-HH22', 'ASP9_OD2-ARG16_NE-HE', 'ASP9_OD1-LYS8_NZ-HZ1', 'ASP9_OD2-ARG16_NH2-HH21', 'ASP9_OD1-SER14_OG-HG', 'GLN5_O-ASP9_N-H', 'ASP9_OD2-SER14_OG-HG', 'ASP9_OD2-ARG16_NH1-HH11']\n"
       ]
      }
     ],
     "prompt_number": 5
    },
    {
     "cell_type": "code",
     "collapsed": false,
     "input": [
      "glu5_val = glu5.values\n",
      "print(glu5_val)\n",
      "\n",
      "print('total hbonds for GLU5 per frame')\n",
      "import numpy as np\n",
      "glu5_total = np.sum(glu5_val, axis=0)\n",
      "print(glu5_total)"
     ],
     "language": "python",
     "metadata": {},
     "outputs": [
      {
       "output_type": "stream",
       "stream": "stdout",
       "text": [
        "[[1 1 1 ..., 0 0 0]\n",
        " [0 1 0 ..., 0 0 0]\n",
        " [0 1 0 ..., 0 0 0]\n",
        " ..., \n",
        " [0 0 0 ..., 0 0 0]\n",
        " [0 0 0 ..., 0 0 0]\n",
        " [0 0 0 ..., 0 0 0]]\n",
        "total hbonds for GLU5 per frame\n",
        "[1 3 1 ..., 0 0 0]\n"
       ]
      }
     ],
     "prompt_number": 6
    },
    {
     "cell_type": "code",
     "collapsed": false,
     "input": [
      "# plot\n",
      "%matplotlib inline\n",
      "\n",
      "from matplotlib import pyplot as plt\n",
      "plt.plot(glu5_total, 'ro')"
     ],
     "language": "python",
     "metadata": {},
     "outputs": [
      {
       "output_type": "pyout",
       "prompt_number": 7,
       "text": [
        "[<matplotlib.lines.Line2D at 0x2aaaabea6c50>]"
       ]
      },
      {
       "output_type": "display_data",
       "png": "[encoded data removed]",
       "text": [
        "<matplotlib.figure.Figure at 0x2aaac2e99668>"
       ]
      }
     ],
     "prompt_number": 7
    },
    {
     "cell_type": "code",
     "collapsed": false,
     "input": [
      "# get usage\n",
      "help(pt.search_hbonds)"
     ],
     "language": "python",
     "metadata": {},
     "outputs": [
      {
       "output_type": "stream",
       "stream": "stdout",
       "text": [
        "Help on function hbond in module pytraj.hbond_analysis:\n",
        "\n",
        "hbond(traj, mask='', solvent_donor=None, solvent_acceptor=None, distance=3.0, angle=135.0, image=False, series=True, cpp_options='', dtype='hbond', frame_indices=None, top=None)\n",
        "    (combined with cpptraj doc) Searching for Hbond donors/acceptors in region specified by ``mask``.\n",
        "    Hydrogen bond is defined as A-HD, where A is acceptor heavy atom, H is hydrogen, D is\n",
        "    donor heavy atom. Hydrogen bond is formed when A to D distance < distance cutoff and A-H-D angle\n",
        "    > angle cutoff; if `angle` < 0 it is ignored.\n",
        "    \n",
        "    Parameters\n",
        "    ----------\n",
        "    traj : Trajectory-like\n",
        "    mask : {str, 1D array-like}\n",
        "        Atom mask for searching hbond. If this `mask` is specify, cpptraj will\n",
        "        automatically search for donors and acceptors.\n",
        "    solvent_donor : {None, str}, default None\n",
        "    solvent_acceptor: {None, str}, deafult None\n",
        "        if solvent_acceptor and solvent_donor are None, cpptraj only search hbond for \n",
        "        if solvent_donor and solvent_acceptor are NOT None, cpptraj will search for hbond\n",
        "        between solute and solvent too.\n",
        "    distance : float, default 3.0 (angstrom)\n",
        "        hbond distance cut off\n",
        "    angle : float, 135.0 degree\n",
        "        hbond angle cut off\n",
        "    dtype : return output's type, default 'hbond'\n",
        "    image : bool, default False\n",
        "    series : bool, default True\n",
        "        - output time series (array of 1 and 0) for hbond or not.\n",
        "        - if False, you must specify dtype='dataset'\n",
        "    cpp_options : str\n",
        "        additional cpptraj options. For example you can explicitly specify donormask and\n",
        "        acceptormask. \n",
        "    \n",
        "        - If ``donormask`` is specified but not ``acceptormask``, acceptors will be\n",
        "          automatically searched for in ``mask``.\n",
        "    \n",
        "        - If ``acceptormask`` is specified but not donormask, donors will be\n",
        "        automatically search for in ``mask``. \n",
        "    \n",
        "        - If both ``donormask`` and ``acceptormask`` are specified no automatic searching will\n",
        "          occur.\n",
        "    \n",
        "    \n",
        "    Returns\n",
        "    -------\n",
        "    out : DatasetHBond if series is True else return 'DatasetList'\n",
        "          \n",
        "    Notes\n",
        "    -----\n",
        "    - pytraj use 'series' as default. In cpptraj, you need to explicitly specify 'series'.\n",
        "    - if 'series' is False, the 'dtype' argument will be ignored.\n",
        "    \n",
        "    See also\n",
        "    --------\n",
        "    to_amber_mask\n",
        "    \n",
        "    \n",
        "    Examples\n",
        "    --------\n",
        "    >>> import pytraj as pt\n",
        "    >>> traj = pt.load_sample_data('tz2')\n",
        "    >>> # search hbond without including solvent\n",
        "    >>> data = pt.search_hbonds(traj, ':5,8')\n",
        "    >>> data\n",
        "    <pytraj.hbonds.DatasetHBond\n",
        "    donor_aceptor pairs : 2>\n",
        "    >>> data.donor_aceptor\n",
        "    ['LYS8_O-GLU5_N-H', 'GLU5_O-LYS8_N-H']\n",
        "    >>> data.values\n",
        "    array([[2, 2, 0, ..., 1, 1, 1],\n",
        "           [1, 1, 0, ..., 1, 1, 1],\n",
        "           [1, 1, 0, ..., 0, 0, 0]], dtype=int32)\n",
        "    >>> # search hbond including solvent\n",
        "    >>> hbonds = pt.search_hbonds(traj, ':5,8', solvent_donor=':WAT@O', solvent_acceptor=':WAT')\n",
        "    >>> hbonds\n",
        "    <pytraj.hbonds.DatasetHBond\n",
        "    donor_aceptor pairs : 8>\n",
        "    >>> hbonds.donor_aceptor\n",
        "    ['LYS8_O-GLU5_N-H', 'GLU5_O-LYS8_N-H', 'LYS8_HZ1-V', 'LYS8_HZ2-V', 'GLU5_OE2-V', 'GLU5_O-V', 'GLU5_OE1-V', 'LYS8_HZ3-V']\n",
        "    >>> # 'GLU5_O-V' mean non-specific hbond between GLU5_O and solvent (:WAT in this case)\n",
        "\n"
       ]
      }
     ],
     "prompt_number": 8
    }
   ],
   "metadata": {}
  }
 ]
}