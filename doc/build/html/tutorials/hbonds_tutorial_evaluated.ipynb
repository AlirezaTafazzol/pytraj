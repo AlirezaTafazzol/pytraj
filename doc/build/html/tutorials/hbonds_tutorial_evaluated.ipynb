{
 "metadata": {
  "kernelspec": {
   "display_name": "Python 3",
   "language": "python",
   "name": "python3"
  },
  "language_info": {
   "codemirror_mode": {
    "name": "ipython",
    "version": 3
   },
   "file_extension": ".py",
   "mimetype": "text/x-python",
   "name": "python",
   "nbconvert_exporter": "python",
   "pygments_lexer": "ipython3",
   "version": "3.4.3"
  },
  "name": ""
 },
 "nbformat": 3,
 "nbformat_minor": 0,
 "worksheets": [
  {
   "cells": [
    {
     "cell_type": "code",
     "collapsed": false,
     "input": [
      "# load data\n",
      "# pdb file from: http://www.rcsb.org/pdb/explore/explore.do?pdbId=1l2y\n",
      "\n",
      "import pytraj as pt\n",
      "\n",
      "traj = pt.iterload('1L2Y.pdb', top='1L2Y.pdb')\n",
      "traj"
     ],
     "language": "python",
     "metadata": {},
     "outputs": [
      {
       "output_type": "pyout",
       "prompt_number": 1,
       "text": [
        "<pytraj.TrajectoryIterator, 38 frames, include:\n",
        "<Topology: 304 atoms, 20 residues, 1 mols, PBC with box type = ortho>>\n",
        "           "
       ]
      }
     ],
     "prompt_number": 1
    },
    {
     "cell_type": "code",
     "collapsed": false,
     "input": [
      "# search hbonds for all residues\n",
      "# dump data to `dataset` (similiar to python'list and dict)\n",
      "dataset = pt.search_hbonds(traj, dtype='dataset')\n",
      "print(dataset)\n",
      "# 0: no hbond\n",
      "# 1: there is hbond"
     ],
     "language": "python",
     "metadata": {
      "scrolled": true
     },
     "outputs": [
      {
       "output_type": "stream",
       "stream": "stdout",
       "text": [
        "<pytraj.DatasetList with 32 datasets>\n",
        "total_solute_hbonds\n",
        "[6 7 8 ..., 7 6 6]\n",
        "\n",
        "ASN1_O-GLN5_N-H\n",
        "[2 0 0 ..., 0 0 0]\n",
        "\n",
        "ARG16_O-TRP6_NE1-HE1\n",
        "[36  0  0 ...,  0  0  0]\n",
        "...\n",
        "\n",
        "ASP9_OD2-SER14_OG-HG\n",
        "[1 0 0 ..., 0 0 0]\n",
        "\n",
        "ASP9_OD2-ARG16_NH1-HH11\n",
        "[1 0 0 ..., 0 0 0]\n"
       ]
      }
     ],
     "prompt_number": 2
    },
    {
     "cell_type": "code",
     "collapsed": false,
     "input": [
      "# get total solute hbonds\n",
      "print(dataset['total_solute_hbonds'])"
     ],
     "language": "python",
     "metadata": {},
     "outputs": [
      {
       "output_type": "stream",
       "stream": "stdout",
       "text": [
        "<pytraj.array.DataArray: size=38, key=total_solute_hbonds, dtype=int32, ndim=1> \n",
        "values:\n",
        "[6 7 8 ..., 7 6 6]\n"
       ]
      }
     ],
     "prompt_number": 3
    },
    {
     "cell_type": "code",
     "collapsed": false,
     "input": [
      "# take data for specific hbond\n",
      "print(dataset['ARG16_O-TRP6_NE1-HE1'])"
     ],
     "language": "python",
     "metadata": {},
     "outputs": [
      {
       "output_type": "stream",
       "stream": "stdout",
       "text": [
        "<pytraj.array.DataArray: size=38, key=ARG16_O-TRP6_NE1-HE1, dtype=int32, ndim=1> \n",
        "values:\n",
        "[36  0  0 ...,  0  0  0]\n"
       ]
      }
     ],
     "prompt_number": 4
    },
    {
     "cell_type": "code",
     "collapsed": false,
     "input": [
      "# take hbond for only ASP9\n",
      "glu5 = dataset.filter(lambda x: 'ASP9' in x.key)\n",
      "print(glu5.keys())"
     ],
     "language": "python",
     "metadata": {},
     "outputs": [
      {
       "output_type": "stream",
       "stream": "stdout",
       "text": [
        "['ASP9_O-SER14_OG-HG', 'ASP9_OD2-ARG16_NH1-HH12', 'ASP9_OD2-ARG16_NH2-HH22', 'ASP9_OD2-ARG16_NE-HE', 'ASP9_OD1-LYS8_NZ-HZ1', 'ASP9_OD2-ARG16_NH2-HH21', 'ASP9_OD1-SER14_OG-HG', 'GLN5_O-ASP9_N-H', 'ASP9_OD2-SER14_OG-HG', 'ASP9_OD2-ARG16_NH1-HH11']\n"
       ]
      }
     ],
     "prompt_number": 5
    },
    {
     "cell_type": "code",
     "collapsed": false,
     "input": [
      "glu5_val = glu5.values\n",
      "print(glu5_val)\n",
      "\n",
      "print('total hbonds for GLU5 per frame')\n",
      "import numpy as np\n",
      "glu5_total = np.sum(glu5_val, axis=0)\n",
      "print(glu5_total)"
     ],
     "language": "python",
     "metadata": {},
     "outputs": [
      {
       "output_type": "stream",
       "stream": "stdout",
       "text": [
        "[[12  0  0 ...,  0  0  0]\n",
        " [ 1  0  0 ...,  0  0  0]\n",
        " [ 1  0  0 ...,  0  0  0]\n",
        " ..., \n",
        " [ 1  0  0 ...,  0  0  0]\n",
        " [ 1  0  0 ...,  0  0  0]\n",
        " [ 1  0  0 ...,  0  0  0]]\n",
        "total hbonds for GLU5 per frame\n",
        "[32  0  0 ...,  0  0  0]\n"
       ]
      }
     ],
     "prompt_number": 6
    },
    {
     "cell_type": "code",
     "collapsed": false,
     "input": [
      "# plot\n",
      "%matplotlib inline\n",
      "\n",
      "from matplotlib import pyplot as plt\n",
      "plt.plot(glu5_total, 'ro')"
     ],
     "language": "python",
     "metadata": {},
     "outputs": [
      {
       "output_type": "pyout",
       "prompt_number": 7,
       "text": [
        "[<matplotlib.lines.Line2D at 0x2aaaabe48a90>]"
       ]
      },
      {
       "output_type": "display_data",
       "png": "[encoded data removed]",
       "text": [
        "<matplotlib.figure.Figure at 0x2aaac2056940>"
       ]
      }
     ],
     "prompt_number": 7
    },
    {
     "cell_type": "code",
     "collapsed": false,
     "input": [
      "# get usage\n",
      "help(pt.search_hbonds)"
     ],
     "language": "python",
     "metadata": {},
     "outputs": [
      {
       "output_type": "stream",
       "stream": "stdout",
       "text": [
        "Help on function search_hbonds in module pytraj.hbonds:\n",
        "\n",
        "search_hbonds(traj, mask='', solvent_donor=None, solvent_acceptor=None, distance=3.0, angle=135.0, dtype='hbond', image=False, more_options='', top=None)\n",
        "    search hbonds for a given mask. \n",
        "    \n",
        "    Parameters\n",
        "    ----------\n",
        "    traj : Trajectory-like\n",
        "    mask : str \n",
        "        Amber atom mask\n",
        "    \n",
        "    Returns\n",
        "    -------\n",
        "    out : pytraj.DatasetList, which is similiar to Python list with labeled data.\n",
        "    \n",
        "    Examples\n",
        "    --------\n",
        "    >>> import pytraj as pt\n",
        "    >>> traj = pt.load_sample_data('tz2')\n",
        "    >>> pt.search_hbonds(traj, ':5,8')\n",
        "    <pytraj.DatasetList with 3 datasets>\n",
        "    total_solute_hbonds\n",
        "    [2 2 0 1 1 0 2 1 1 1]\n",
        "    LYS8_O-GLU5_N-H\n",
        "    [1 1 0 1 1 0 1 1 1 1]\n",
        "    GLU5_O-LYS8_N-H\n",
        "    [1 1 0 0 0 0 1 0 0 0]\n",
        "\n"
       ]
      }
     ],
     "prompt_number": 8
    }
   ],
   "metadata": {}
  }
 ]
}