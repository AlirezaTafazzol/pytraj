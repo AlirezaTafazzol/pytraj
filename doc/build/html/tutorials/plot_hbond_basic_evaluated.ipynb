{
 "metadata": {
  "kernelspec": {
   "display_name": "Python 3",
   "language": "python",
   "name": "python3"
  },
  "language_info": {
   "codemirror_mode": {
    "name": "ipython",
    "version": 3
   },
   "file_extension": ".py",
   "mimetype": "text/x-python",
   "name": "python",
   "nbconvert_exporter": "python",
   "pygments_lexer": "ipython3",
   "version": "3.4.3"
  },
  "name": ""
 },
 "nbformat": 3,
 "nbformat_minor": 0,
 "worksheets": [
  {
   "cells": [
    {
     "cell_type": "code",
     "collapsed": true,
     "input": [
      "# config to get better plot\n",
      "%matplotlib inline # inline for notebook, you can replace \"inline\" by \"notebook\"\n",
      "%config InlineBackend.figure_format = 'retina'  # high resolution\n",
      "\n",
      "import matplotlib\n",
      "matplotlib.rcParams['savefig.dpi'] = 1.5 * matplotlib.rcParams['savefig.dpi'] # larger image\n",
      "matplotlib.rcParams['axes.labelcolor'] =  'green' # default green for label\n",
      "\n",
      "matplotlib.rcParams['axes.linewidth'] =  0.5\n",
      "\n",
      "from matplotlib import pyplot as plt\n",
      "import seaborn as sb # add seaborn for pretty plot (vs default one in matplotlib)\n",
      "\n",
      "import warnings # just to avoid any warning to make this notebook prettier\n",
      "warnings.filterwarnings('ignore')"
     ],
     "language": "python",
     "metadata": {},
     "outputs": [
      {
       "output_type": "stream",
       "stream": "stderr",
       "text": [
        "UsageError: unrecognized arguments: # inline for notebook, you can replace \"inline\" by \"notebook\""
       ]
      }
     ],
     "prompt_number": 1
    },
    {
     "cell_type": "code",
     "collapsed": false,
     "input": [
      "# import pytraj\n",
      "import pytraj as pt\n",
      "\n",
      "# load sample data\n",
      "traj = pt.datafiles.load_tz2()\n",
      "traj"
     ],
     "language": "python",
     "metadata": {},
     "outputs": [
      {
       "output_type": "pyout",
       "prompt_number": 2,
       "text": [
        "pytraj.TrajectoryIterator, 101 frames: \n",
        "Size: 0.000503 (GB)\n",
        "<Topology: 223 atoms, 13 residues, 1 mols, non-PBC>\n",
        "           "
       ]
      }
     ],
     "prompt_number": 2
    },
    {
     "cell_type": "code",
     "collapsed": false,
     "input": [
      "# find hbond\n",
      "hb = pt.hbond(traj)\n",
      "print('donor - acceptor: ', hb._amber_mask())\n",
      "\n",
      "print(\"\")\n",
      "print(hb.data)"
     ],
     "language": "python",
     "metadata": {},
     "outputs": [
      {
       "output_type": "stream",
       "stream": "stdout",
       "text": [
        "donor - acceptor:  [':1@OG :2@H', ':5@O :3@HG1', ':3@O :1@H3', ':6@O :8@H', ':3@OG1 :6@HD21', ':2@O :4@H', ':10@OG1 :8@HZ3', ':10@O :12@HZ1', ':10@O :10@HG1', ':10@OG1 :12@HZ1', ':10@O :12@HZ2', ':5@OE2 :6@H', ':7@O :9@H']\n",
        "\n",
        "<pytraj.DatasetList with 14 datasets>\n",
        "total_solute_hbonds\n",
        "[0 1 0 ..., 0 0 0]\n",
        "\n",
        "SER1_OG-TRP2_N-H\n",
        "[0 1 0 ..., 0 0 0]\n",
        "\n",
        "GLU5_O-THR3_OG1-HG1\n",
        "[0 0 0 ..., 0 0 0]\n",
        "...\n",
        "\n",
        "GLU5_OE2-ASN6_N-H\n",
        "[0 0 0 ..., 0 0 0]\n",
        "\n",
        "GLY7_O-TRP9_N-H\n",
        "[0 0 0 ..., 0 0 0]\n"
       ]
      }
     ],
     "prompt_number": 3
    },
    {
     "cell_type": "code",
     "collapsed": false,
     "input": [
      "dist = pt.distance(traj, hb._amber_mask())\n",
      "print('all hbond distances: ', dist)"
     ],
     "language": "python",
     "metadata": {},
     "outputs": [
      {
       "output_type": "stream",
       "stream": "stdout",
       "text": [
        "all hbond distances:  [[ 2.1924577   1.92054906  2.35839995 ...,  3.93999355  3.81974987\n",
        "   4.45726496]\n",
        " [ 8.03544864  3.95953378  4.2438701  ...,  6.47548095  4.97960639\n",
        "   6.47500662]\n",
        " [ 4.38455889  3.25022817  3.38755539 ...,  6.45264846  7.37518528\n",
        "   6.0956301 ]\n",
        " ..., \n",
        " [ 6.97851158  9.15141704  8.42936098 ...,  7.2329342   6.74667953\n",
        "   5.96993506]\n",
        " [ 4.40668236  4.33245685  4.49102881 ...,  5.0485394   4.88464996\n",
        "   6.04310722]\n",
        " [ 2.10765322  3.28954633  4.13369896 ...,  2.22195659  3.01349072\n",
        "   3.48705884]]\n"
       ]
      }
     ],
     "prompt_number": 4
    },
    {
     "cell_type": "code",
     "collapsed": false,
     "input": [
      "sb.color_palette('deep', n_colors=6, desat=0.5)\n",
      "sb.set_style(style='white')\n",
      "\n",
      "# scatter plot for distance between ':1@OG :2@H' and ':5@O :3@HG1'\n",
      "# the point is colored by frame number (total frame = traj.n_frames (101))\n",
      "fig = plt.scatter(dist[0], dist[1], marker='o', c=range(traj.n_frames), alpha=0.8, cmap='Spectral')\n",
      "plt.colorbar()\n",
      "plt.grid()\n",
      "plt.xlabel(':1@OG :2@H')\n",
      "plt.ylabel(':5@O :3@HG1')"
     ],
     "language": "python",
     "metadata": {},
     "outputs": [
      {
       "ename": "NameError",
       "evalue": "name 'sb' is not defined",
       "output_type": "pyerr",
       "traceback": [
        "\u001b[1;31m---------------------------------------------------------------------------\u001b[0m",
        "\u001b[1;31mNameError\u001b[0m                                 Traceback (most recent call last)",
        "\u001b[1;32m<ipython-input-5-9e63a193aeb3>\u001b[0m in \u001b[0;36m<module>\u001b[1;34m()\u001b[0m\n\u001b[1;32m----> 1\u001b[1;33m \u001b[0msb\u001b[0m\u001b[1;33m.\u001b[0m\u001b[0mcolor_palette\u001b[0m\u001b[1;33m(\u001b[0m\u001b[1;34m'deep'\u001b[0m\u001b[1;33m,\u001b[0m \u001b[0mn_colors\u001b[0m\u001b[1;33m=\u001b[0m\u001b[1;36m6\u001b[0m\u001b[1;33m,\u001b[0m \u001b[0mdesat\u001b[0m\u001b[1;33m=\u001b[0m\u001b[1;36m0.5\u001b[0m\u001b[1;33m)\u001b[0m\u001b[1;33m\u001b[0m\u001b[0m\n\u001b[0m\u001b[0;32m      2\u001b[0m \u001b[0msb\u001b[0m\u001b[1;33m.\u001b[0m\u001b[0mset_style\u001b[0m\u001b[1;33m(\u001b[0m\u001b[0mstyle\u001b[0m\u001b[1;33m=\u001b[0m\u001b[1;34m'white'\u001b[0m\u001b[1;33m)\u001b[0m\u001b[1;33m\u001b[0m\u001b[0m\n\u001b[0;32m      3\u001b[0m \u001b[1;33m\u001b[0m\u001b[0m\n\u001b[0;32m      4\u001b[0m \u001b[1;31m# scatter plot for distance between ':1@OG :2@H' and ':5@O :3@HG1'\u001b[0m\u001b[1;33m\u001b[0m\u001b[1;33m\u001b[0m\u001b[0m\n\u001b[0;32m      5\u001b[0m \u001b[1;31m# the point is colored by frame number (total frame = traj.n_frames (101))\u001b[0m\u001b[1;33m\u001b[0m\u001b[1;33m\u001b[0m\u001b[0m\n",
        "\u001b[1;31mNameError\u001b[0m: name 'sb' is not defined"
       ]
      }
     ],
     "prompt_number": 5
    }
   ],
   "metadata": {}
  }
 ]
}