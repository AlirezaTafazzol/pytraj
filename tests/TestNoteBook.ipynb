{
 "metadata": {
  "name": "",
  "signature": "sha256:a6391c467f6a4dd820d9efab8c590f9549b67f0949730fec6efec69dcd8c1fbf"
 },
 "nbformat": 3,
 "nbformat_minor": 0,
 "worksheets": [
  {
   "cells": [
    {
     "cell_type": "code",
     "collapsed": false,
     "input": [
      "import pytraj\n",
      "from pytraj import io as mdio"
     ],
     "language": "python",
     "metadata": {},
     "outputs": [],
     "prompt_number": 1
    },
    {
     "cell_type": "code",
     "collapsed": false,
     "input": [
      "# you can find ./data in $PYCPPTRAJHOME/examples/\n",
      "traj = mdio.load(\"./data/md1_prod.Tc5b.x\", \"./data/Tc5b.top\")[:]"
     ],
     "language": "python",
     "metadata": {},
     "outputs": [],
     "prompt_number": 2
    },
    {
     "cell_type": "code",
     "collapsed": false,
     "input": [
      "# test memoryview\n",
      "#print traj[0, :, :]\n",
      "arr0 = traj[0:1, :, :]"
     ],
     "language": "python",
     "metadata": {},
     "outputs": [],
     "prompt_number": 3
    },
    {
     "cell_type": "code",
     "collapsed": false,
     "input": [
      "print traj[0, 0, 0]\n",
      "arr0[0][0, 0] = 100.\n",
      "print traj[0, 0, 0]\n",
      "print arr0[0][0, 0]\n",
      "print type(arr0)"
     ],
     "language": "python",
     "metadata": {},
     "outputs": [
      {
       "output_type": "stream",
       "stream": "stdout",
       "text": [
        "-16.492\n",
        "-16.492\n",
        "100.0\n",
        "<type 'numpy.ndarray'>\n"
       ]
      }
     ],
     "prompt_number": 4
    },
    {
     "cell_type": "code",
     "collapsed": false,
     "input": [
      "print type(arr0)"
     ],
     "language": "python",
     "metadata": {},
     "outputs": [
      {
       "output_type": "stream",
       "stream": "stdout",
       "text": [
        "<type 'numpy.ndarray'>\n"
       ]
      }
     ],
     "prompt_number": 5
    },
    {
     "cell_type": "code",
     "collapsed": false,
     "input": [
      "arr1 = traj[:, 0, 0]\n",
      "print arr1"
     ],
     "language": "python",
     "metadata": {},
     "outputs": [
      {
       "output_type": "stream",
       "stream": "stdout",
       "text": [
        "[-16.492  12.434 -11.018]\n"
       ]
      }
     ],
     "prompt_number": 6
    },
    {
     "cell_type": "code",
     "collapsed": false,
     "input": [
      "print arr1\n",
      "print arr1.shape\n",
      "arr1[0] = 2.3\n",
      "print traj[:, 0, 0]\n",
      "print arr1\n",
      "print type(arr1)\n",
      "frame0 = traj[0]\n",
      "arr2 = frame0[:]\n",
      "print arr2[0]\n",
      "arr2[0, 0] = 2.93\n",
      "print arr2[0, 0]\n",
      "print frame0[0, 0]\n",
      "print arr1[0]\n",
      "print arr1[:]"
     ],
     "language": "python",
     "metadata": {},
     "outputs": [
      {
       "output_type": "stream",
       "stream": "stdout",
       "text": [
        "[-16.492  12.434 -11.018]\n",
        "(3,)\n",
        "[-16.492  12.434 -11.018]\n",
        "[ 2.42   6.201  5.808]\n",
        "<type 'numpy.ndarray'>\n",
        "[-16.492  12.434 -11.018]\n",
        "2.93\n",
        "2.93\n",
        "2.42\n",
        "[ 2.42   6.201  5.808]\n"
       ]
      }
     ],
     "prompt_number": 7
    },
    {
     "cell_type": "code",
     "collapsed": false,
     "input": [
      "arr3 = traj[0, :]"
     ],
     "language": "python",
     "metadata": {},
     "outputs": [],
     "prompt_number": 8
    },
    {
     "cell_type": "code",
     "collapsed": false,
     "input": [
      "print arr3[0, 0]"
     ],
     "language": "python",
     "metadata": {},
     "outputs": [
      {
       "output_type": "stream",
       "stream": "stdout",
       "text": [
        "2.93\n"
       ]
      }
     ],
     "prompt_number": 9
    },
    {
     "cell_type": "code",
     "collapsed": false,
     "input": [
      "arr3[0, 0] = 100.\n",
      "print traj[0, :][0]\n",
      "print arr2[0, 0]\n",
      "print frame0[0, 0]"
     ],
     "language": "python",
     "metadata": {},
     "outputs": [
      {
       "output_type": "stream",
       "stream": "stdout",
       "text": [
        "[ 100.      12.434  -11.018]\n",
        "100.0\n",
        "100.0\n"
       ]
      }
     ],
     "prompt_number": 10
    },
    {
     "cell_type": "code",
     "collapsed": false,
     "input": [
      "print frame0.buffer1d[:3]\n",
      "print frame0.buffer3d[0]\n",
      "print frame0.atoms(0)\n"
     ],
     "language": "python",
     "metadata": {},
     "outputs": [
      {
       "output_type": "stream",
       "stream": "stdout",
       "text": [
        "<MemoryView of 'array' object>\n",
        "<MemoryView of 'array' object>\n",
        "array('d', [100.0, 12.434, -11.018])\n"
       ]
      }
     ],
     "prompt_number": 11
    },
    {
     "cell_type": "code",
     "collapsed": false,
     "input": [
      "arr4 = traj[0:3, 2, :]\n",
      "print type(arr4)"
     ],
     "language": "python",
     "metadata": {},
     "outputs": [
      {
       "output_type": "stream",
       "stream": "stdout",
       "text": [
        "<type 'numpy.ndarray'>\n"
       ]
      }
     ],
     "prompt_number": 12
    },
    {
     "cell_type": "code",
     "collapsed": false,
     "input": [
      "print arr4.shape"
     ],
     "language": "python",
     "metadata": {},
     "outputs": [
      {
       "output_type": "stream",
       "stream": "stdout",
       "text": [
        "(304, 3)\n"
       ]
      }
     ],
     "prompt_number": 13
    },
    {
     "cell_type": "code",
     "collapsed": false,
     "input": [
      "arr5 = traj[0, 2:8, :]\n",
      "print type(arr5)\n",
      "print arr5.shape"
     ],
     "language": "python",
     "metadata": {},
     "outputs": [
      {
       "output_type": "stream",
       "stream": "stdout",
       "text": [
        "<type 'numpy.ndarray'>\n",
        "(6, 3)\n"
       ]
      }
     ],
     "prompt_number": 14
    },
    {
     "cell_type": "code",
     "collapsed": false,
     "input": [
      "print arr5[0, 0]\n",
      "arr5[0, 0] = 123.\n",
      "print arr5[0, 0]\n",
      "assert arr5[0, 0] == traj[0, 2, 0]"
     ],
     "language": "python",
     "metadata": {},
     "outputs": [
      {
       "output_type": "stream",
       "stream": "stdout",
       "text": [
        "-17.148\n",
        "123.0\n"
       ]
      }
     ],
     "prompt_number": 15
    },
    {
     "cell_type": "code",
     "collapsed": false,
     "input": [
      "arr6 = traj[1:2, :, :]\n",
      "print arr6.shape"
     ],
     "language": "python",
     "metadata": {},
     "outputs": [
      {
       "output_type": "stream",
       "stream": "stdout",
       "text": [
        "(1, 304, 3)\n"
       ]
      }
     ],
     "prompt_number": 16
    },
    {
     "cell_type": "code",
     "collapsed": false,
     "input": [
      "arr6[0, 0, 0] = 1234.\n",
      "print arr6[0, 0, 0]\n",
      "print traj[1:2, :, :][0, 0, 0]"
     ],
     "language": "python",
     "metadata": {},
     "outputs": [
      {
       "output_type": "stream",
       "stream": "stdout",
       "text": [
        "1234.0\n",
        "8.094\n"
       ]
      }
     ],
     "prompt_number": 17
    },
    {
     "cell_type": "code",
     "collapsed": false,
     "input": [
      "print traj[3:5, 0:5, 0:1].shape\n"
     ],
     "language": "python",
     "metadata": {},
     "outputs": [
      {
       "output_type": "stream",
       "stream": "stdout",
       "text": [
        "(2, 5, 1)\n"
       ]
      }
     ],
     "prompt_number": 18
    },
    {
     "cell_type": "code",
     "collapsed": false,
     "input": [
      "print traj[3:5, 0:5, :]"
     ],
     "language": "python",
     "metadata": {},
     "outputs": [
      {
       "output_type": "stream",
       "stream": "stdout",
       "text": [
        "[[[ -4.96    1.233  -7.279]\n",
        "  [ -5.898   0.896  -7.116]\n",
        "  [ -4.647   0.893  -8.177]\n",
        "  [ -5.021   2.238  -7.362]\n",
        "  [ -4.155   0.799  -6.114]]\n",
        "\n",
        " [[ 11.092  -1.919  -4.204]\n",
        "  [ 11.865  -1.816  -4.845]\n",
        "  [ 11.159  -2.797  -3.71 ]\n",
        "  [ 11.095  -1.18   -3.515]\n",
        "  [  9.83   -1.849  -4.991]]]\n"
       ]
      }
     ],
     "prompt_number": 19
    },
    {
     "cell_type": "code",
     "collapsed": false,
     "input": [
      "# test mask. coords of CA atoms of 1st frame\n",
      "arr0 = traj['@CA'][0]\n",
      "print arr0"
     ],
     "language": "python",
     "metadata": {},
     "outputs": [
      {
       "output_type": "stream",
       "stream": "stdout",
       "text": [
        "[[-17.146  12.069  -9.756]\n",
        " [-15.774   9.648  -7.087]\n",
        " [-16.761   7.688  -3.829]\n",
        " [-15.228   5.335  -1.254]\n",
        " [-15.974   4.229   2.418]\n",
        " [-14.016   1.006   2.992]\n",
        " [-12.158  -1.711   1.129]\n",
        " [-10.459  -5.137   2.023]\n",
        " [ -9.524  -7.464  -0.965]\n",
        " [ -8.858 -11.163  -0.287]\n",
        " [ -7.71  -12.693   3.106]\n",
        " [ -5.13  -11.608   5.838]\n",
        " [ -1.73   -9.971   5.185]\n",
        " [  1.379  -9.977   7.51 ]\n",
        " [  4.659  -7.949   7.677]\n",
        " [  8.367  -8.606   6.79 ]\n",
        " [ 11.671  -7.68    8.742]\n",
        " [ 12.513  -3.997   8.439]\n",
        " [ 15.912  -2.833   6.877]\n",
        " [ 19.12   -3.114   8.925]]\n"
       ]
      }
     ],
     "prompt_number": 20
    },
    {
     "cell_type": "code",
     "collapsed": false,
     "input": [
      "# changing arr0 does not affect traj coords since arr0 is a copy\n",
      "arr0[0, 0 ] = 1000.\n",
      "print traj['@CA'][0, 0]"
     ],
     "language": "python",
     "metadata": {},
     "outputs": [
      {
       "output_type": "stream",
       "stream": "stdout",
       "text": [
        "[-17.146  12.069  -9.756]\n"
       ]
      }
     ],
     "prompt_number": 21
    },
    {
     "cell_type": "code",
     "collapsed": false,
     "input": [
      "traj['topology']"
     ],
     "language": "python",
     "metadata": {},
     "outputs": [
      {
       "metadata": {},
       "output_type": "pyout",
       "prompt_number": 22,
       "text": [
        "Topology instance with 304 atoms. ID = 0x7f8f20054290"
       ]
      }
     ],
     "prompt_number": 22
    },
    {
     "cell_type": "code",
     "collapsed": false,
     "input": [
      "traj['coordinates']"
     ],
     "language": "python",
     "metadata": {},
     "outputs": [
      {
       "metadata": {},
       "output_type": "pyout",
       "prompt_number": 23,
       "text": [
        "array([[[ 100.   ,   12.434,  -11.018],\n",
        "        [ -15.656,   12.967,  -10.819],\n",
        "        [ 123.   ,   12.897,  -11.629],\n",
        "        ..., \n",
        "        [  20.432,   -2.438,    8.549],\n",
        "        [  21.025,   -2.706,    7.516],\n",
        "        [  20.795,   -1.451,    9.25 ]],\n",
        "\n",
        "       [[   8.094,   -6.718,   -8.313],\n",
        "        [   7.667,   -7.159,   -9.115],\n",
        "        [   8.414,   -7.244,   -7.512],\n",
        "        ..., \n",
        "        [   0.818,    8.492,   11.577],\n",
        "        [   0.859,    8.692,   12.8  ],\n",
        "        [   0.977,    9.433,   10.749]],\n",
        "\n",
        "       [[   1.759,    7.739,  -13.828],\n",
        "        [   1.225,    8.596,  -13.825],\n",
        "        [   1.248,    7.086,  -14.405],\n",
        "        ..., \n",
        "        [   1.33 ,    4.523,   13.783],\n",
        "        [   2.35 ,    3.83 ,   14.093],\n",
        "        [   1.074,    5.556,   14.405]],\n",
        "\n",
        "       ..., \n",
        "       [[  -1.741,   -9.935,    1.549],\n",
        "        [  -1.236,  -10.607,    0.99 ],\n",
        "        [  -2.734,  -10.096,    1.452],\n",
        "        ..., \n",
        "        [  -2.951,   -3.736,   10.039],\n",
        "        [  -3.827,   -2.809,    9.947],\n",
        "        [  -2.888,   -4.648,   10.925]],\n",
        "\n",
        "       [[  -4.22 ,   -3.224,   -9.05 ],\n",
        "        [  -4.47 ,   -2.444,   -9.64 ],\n",
        "        [  -5.08 ,   -3.582,   -8.661],\n",
        "        ..., \n",
        "        [  -8.195,   -6.471,   -4.115],\n",
        "        [  -9.199,   -5.719,   -4.038],\n",
        "        [  -7.901,   -7.23 ,   -5.096]],\n",
        "\n",
        "       [[   3.628,   -7.709,   -5.266],\n",
        "        [   3.208,   -8.591,   -5.009],\n",
        "        [   4.624,   -7.82 ,   -5.14 ],\n",
        "        ..., \n",
        "        [  -1.836,   -7.242,   -9.004],\n",
        "        [  -1.21 ,   -7.066,  -10.069],\n",
        "        [  -1.574,   -8.165,   -8.141]]])"
       ]
      }
     ],
     "prompt_number": 23
    },
    {
     "cell_type": "code",
     "collapsed": false,
     "input": [
      "print traj"
     ],
     "language": "python",
     "metadata": {},
     "outputs": [
      {
       "output_type": "stream",
       "stream": "stdout",
       "text": [
        "FrameArray instance with 1000 frames, 304 atoms/frame\n",
        "                  ID = 0x7f8f06ab7c90\n",
        "               \n"
       ]
      }
     ],
     "prompt_number": 24
    },
    {
     "cell_type": "code",
     "collapsed": false,
     "input": [
      "# test GDT score\n",
      "from pytraj.gdt.calc_score import calc_score\n",
      "print calc_score?"
     ],
     "language": "python",
     "metadata": {},
     "outputs": [],
     "prompt_number": 25
    },
    {
     "cell_type": "code",
     "collapsed": false,
     "input": [
      "print calc_score"
     ],
     "language": "python",
     "metadata": {},
     "outputs": []
    },
    {
     "cell_type": "code",
     "collapsed": false,
     "input": [
      "print calc_score"
     ],
     "language": "python",
     "metadata": {},
     "outputs": [
      {
       "output_type": "stream",
       "stream": "stdout",
       "text": [
        "<function calc_score at 0x7f8f0675cc80>\n"
       ]
      }
     ],
     "prompt_number": 26
    },
    {
     "cell_type": "code",
     "collapsed": false,
     "input": [
      "calc_score(traj[0], traj[1], top=traj.top, score='gdtscore')/1000."
     ],
     "language": "python",
     "metadata": {},
     "outputs": [
      {
       "metadata": {},
       "output_type": "pyout",
       "prompt_number": 27,
       "text": [
        "0.33300000000000002"
       ]
      }
     ],
     "prompt_number": 27
    },
    {
     "cell_type": "code",
     "collapsed": false,
     "input": [
      "import pandas as pd"
     ],
     "language": "python",
     "metadata": {},
     "outputs": [],
     "prompt_number": 28
    },
    {
     "cell_type": "code",
     "collapsed": false,
     "input": [
      "import numpy as np"
     ],
     "language": "python",
     "metadata": {},
     "outputs": [],
     "prompt_number": 29
    },
    {
     "cell_type": "code",
     "collapsed": false,
     "input": [
      "df2 = pd.DataFrame(traj[0][:])"
     ],
     "language": "python",
     "metadata": {},
     "outputs": [],
     "prompt_number": 30
    },
    {
     "cell_type": "code",
     "collapsed": false,
     "input": [
      "pd.describe_option"
     ],
     "language": "python",
     "metadata": {},
     "outputs": [
      {
       "metadata": {},
       "output_type": "pyout",
       "prompt_number": 31,
       "text": [
        "<pandas.core.config.CallableDynamicDoc at 0x7f8f066b1650>"
       ]
      }
     ],
     "prompt_number": 31
    },
    {
     "cell_type": "code",
     "collapsed": false,
     "input": [
      "# test show_code\n",
      "from pytraj.misc import show_code"
     ],
     "language": "python",
     "metadata": {},
     "outputs": [],
     "prompt_number": 32
    },
    {
     "cell_type": "code",
     "collapsed": false,
     "input": [
      "show_code(mdio.load)"
     ],
     "language": "python",
     "metadata": {},
     "outputs": [
      {
       "output_type": "stream",
       "stream": "stdout",
       "text": [
        "def load(*args, **kwd):\n",
        "    \"\"\"try loading and returning appropriate values\"\"\"\n",
        "    if len(args) + len(kwd) == 1:\n",
        "        # loading only Topology\n",
        "        return readparm(*args, **kwd)\n",
        "    else:\n",
        "        # load traj\n",
        "        return loadtraj(*args, **kwd)\n",
        "\n"
       ]
      }
     ],
     "prompt_number": 34
    },
    {
     "cell_type": "code",
     "collapsed": false,
     "input": [
      "import pytraj as pyc"
     ],
     "language": "python",
     "metadata": {},
     "outputs": [],
     "prompt_number": 35
    },
    {
     "cell_type": "code",
     "collapsed": false,
     "input": [
      "show_code(pyc.AtomSelect.get_indices)"
     ],
     "language": "python",
     "metadata": {},
     "outputs": [
      {
       "output_type": "stream",
       "stream": "stdout",
       "text": [
        "    def get_indices(self, mask):\n",
        "        \"\"\"return a list of atom indinces\"\"\"\n",
        "        arr0 = np.asarray(self._selected_frame.buffer3d)\n",
        "\n",
        "        if isinstance(mask, AtomMask):\n",
        "            return mask.selected_indices()\n",
        "        elif isinstance(mask, basestring):\n",
        "            atm = AtomMask(mask)\n",
        "            self.top.set_integer_mask(atm)\n",
        "            return atm.selected_indices()\n",
        "\n"
       ]
      }
     ],
     "prompt_number": 37
    },
    {
     "cell_type": "code",
     "collapsed": false,
     "input": [],
     "language": "python",
     "metadata": {},
     "outputs": []
    }
   ],
   "metadata": {}
  }
 ]
}
