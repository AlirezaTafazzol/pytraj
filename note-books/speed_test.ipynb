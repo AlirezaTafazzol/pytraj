{
 "cells": [
  {
   "cell_type": "markdown",
   "metadata": {},
   "source": [
    "## `pytraj` vs `mdtraj`.\n",
    "\n",
    "I just want to test how slow and how fast `pytraj` is to further optimize the speed. \n",
    "This comparison won't be fair since I have limited knowdlege about `mdtraj`. And there is different in designing two packages (`cpptraj` used double precision while `mdtraj` use (mostly?) float32)"
   ]
  },
  {
   "cell_type": "code",
   "execution_count": 1,
   "metadata": {
    "collapsed": false
   },
   "outputs": [
    {
     "name": "stdout",
     "output_type": "stream",
     "text": [
      "0.1.2.dev3\n",
      "1.4.0.dev0.dev-bb6923f\n"
     ]
    }
   ],
   "source": [
    "from pytraj.__version__ import __version__ as p_version\n",
    "print (p_version)\n",
    "from mdtraj.version import version as m_version\n",
    "print (m_version)"
   ]
  },
  {
   "cell_type": "markdown",
   "metadata": {},
   "source": [
    "## loading data"
   ]
  },
  {
   "cell_type": "code",
   "execution_count": 2,
   "metadata": {
    "collapsed": false
   },
   "outputs": [
    {
     "name": "stdout",
     "output_type": "stream",
     "text": [
      "200M\t../tests/data/nogit/remd/remd.x.000\n",
      "\n",
      "%VERSION  VERSION_STAMP = V0001.000  DATE = 03/13/14  02:23:52                  \n",
      "%FLAG TITLE                                                                     \n",
      "%FORMAT(20a4)                                                                   \n",
      "default_name                                                                    \n",
      "%FLAG POINTERS                                                                  \n",
      "%FORMAT(10I8)                                                                   \n",
      "   17443      16   17165     287     603     386    1257    1129       0       0\n",
      "   25521    5666     287     386    1129      61     139     179      32       1\n",
      "       0       0       0       0       0       0       0       2      24       0\n",
      "       0\n"
     ]
    }
   ],
   "source": [
    "# data is stored in local disk, generated from TIP3P REMD, netcdf\n",
    "\n",
    "from pytraj import io\n",
    "import mdtraj as md\n",
    "\n",
    "top_name = \"../tests/data/nogit/remd/myparm.parm7\"\n",
    "filename = \"../tests/data/nogit/remd/remd.x.000\"\n",
    "\n",
    "!du -sh \"../tests/data/nogit/remd/remd.x.000\"\n",
    "print ()\n",
    "!head \"../tests/data/nogit/remd/myparm.parm7\""
   ]
  },
  {
   "cell_type": "code",
   "execution_count": 3,
   "metadata": {
    "collapsed": false,
    "scrolled": true
   },
   "outputs": [
    {
     "name": "stdout",
     "output_type": "stream",
     "text": [
      "Topology is None\n",
      "CPU times: user 2 s, sys: 521 ms, total: 2.52 s\n",
      "Wall time: 2.52 s\n",
      "CPU times: user 189 ms, sys: 13 ms, total: 202 ms\n",
      "Wall time: 202 ms\n",
      "CPU times: user 1.8 s, sys: 299 ms, total: 2.1 s\n",
      "Wall time: 2.3 s\n"
     ]
    },
    {
     "data": {
      "text/plain": [
       "<mdtraj.Trajectory with 1000 frames, 17443 atoms, 5666 residues, and unitcells at 0x2aaacf0627f0>"
      ]
     },
     "execution_count": 3,
     "metadata": {},
     "output_type": "execute_result"
    }
   ],
   "source": [
    "# load whole traj into memory by FrameArray in pytraj\n",
    "# I don't use %timeit because it's terriblly slow in my computer\n",
    "\n",
    "%time io.load(filename, top_name)[:]\n",
    "# using cpptraj's class (Trajin_Single)\n",
    "%time io.load(filename, top_name) # the data is actually still in disk :D\n",
    "\n",
    "%time md.load_netcdf(filename, top=top_name)\n",
    "\n",
    "# pytraj fa: -1 (but not that slow)"
   ]
  },
  {
   "cell_type": "code",
   "execution_count": 4,
   "metadata": {
    "collapsed": false
   },
   "outputs": [
    {
     "name": "stdout",
     "output_type": "stream",
     "text": [
      "Topology is None\n"
     ]
    }
   ],
   "source": [
    "fa = io.load(filename, top_name)[:10]\n",
    "m_traj = md.load_netcdf(filename, top=top_name)[:10]"
   ]
  },
  {
   "cell_type": "markdown",
   "metadata": {},
   "source": [
    "## calc_rmsd"
   ]
  },
  {
   "cell_type": "code",
   "execution_count": 5,
   "metadata": {
    "collapsed": false
   },
   "outputs": [
    {
     "name": "stdout",
     "output_type": "stream",
     "text": [
      "\n",
      "rmsd from pytraj, no parallel\n",
      "100 loops, best of 3: 9.91 ms per loop\n",
      "\n",
      "rmsd from mdtraj, no parallel\n",
      "The slowest run took 14.28 times longer than the fastest. This could mean that an intermediate result is being cached \n",
      "1000 loops, best of 3: 1.51 ms per loop\n",
      "\n",
      "rmsd from pytraj, with parallel\n",
      "1000 loops, best of 3: 973 µs per loop\n",
      "\n",
      "compare speed between float32 and float64 for FakeTraj, no parallel\n",
      "1000 loops, best of 3: 1.47 ms per loop\n",
      "100 loops, best of 3: 4.05 ms per loop\n",
      "\n",
      "compare speed between float32 and float64 for FakeTraj, with parallel\n",
      "1000 loops, best of 3: 897 µs per loop\n",
      "100 loops, best of 3: 4 ms per loop\n",
      "\n",
      "rmsd for single frame, pytraj, no parallel\n",
      "1000 loops, best of 3: 996 µs per loop\n",
      "rmsd for single frame, mdtraj, no parallel\n",
      "1000 loops, best of 3: 267 µs per loop\n",
      "rmsd for single frame, mdtraj, with parallel\n",
      "1000 loops, best of 3: 435 µs per loop\n"
     ]
    }
   ],
   "source": [
    "f0 = fa[0]\n",
    "\n",
    "print (\"\")\n",
    "print (\"rmsd from pytraj, no parallel\")\n",
    "%timeit [frame.rmsd(f0) for frame in fa]\n",
    "\n",
    "print (\"\")\n",
    "print (\"rmsd from mdtraj, no parallel\")\n",
    "%timeit md.rmsd(m_traj, m_traj, 0, parallel=False)\n",
    "\n",
    "print (\"\")\n",
    "print (\"rmsd from pytraj, with parallel\")\n",
    "%timeit md.rmsd(m_traj, m_traj, 0, parallel=True)\n",
    "\n",
    "# mdtraj has very fast rmsd calculation (about >10 times faster). they use \"openmp\" (?) and float32 while we used float64\n",
    "\n",
    "# let's try convert pytraj's double precision traj to float32\n",
    "class FakeTraj:\n",
    "    def __init__(self, traj, astype='float64'):\n",
    "        import numpy as np\n",
    "        \n",
    "        self.top = traj.top.copy()\n",
    "        if astype == 'float64':\n",
    "            self.xyz = traj.xyz\n",
    "        elif astype == 'float32':\n",
    "            self.xyz = traj.xyz.astype(np.float32)\n",
    "        \n",
    "ftraj32 = FakeTraj(fa, astype='float32')\n",
    "ftraj64 = FakeTraj(fa)\n",
    "\n",
    "print (\"\")\n",
    "print (\"compare speed between float32 and float64 for FakeTraj, no parallel\")\n",
    "%timeit md.rmsd(ftraj32, ftraj32, 0, parallel=False)\n",
    "%timeit md.rmsd(ftraj64, ftraj64, 0, parallel=False)\n",
    "\n",
    "# using float32 make rms calculation >= 3 times faster\n",
    "\n",
    "print (\"\")\n",
    "print (\"compare speed between float32 and float64 for FakeTraj, with parallel\")\n",
    "%timeit md.rmsd(ftraj32, ftraj32, 0)\n",
    "%timeit md.rmsd(ftraj64, ftraj64, 0)\n",
    "\n",
    "# conclusion: use float32 + openmp to improve calculation in pytraj\n",
    "\n",
    "# rmsd for single frame\n",
    "f1 = fa[1]\n",
    "m_traj1 = m_traj[0]\n",
    "\n",
    "print (\"\")\n",
    "print (\"rmsd for single frame, pytraj, no parallel\")\n",
    "%timeit f1.rmsd(f0)\n",
    "print (\"rmsd for single frame, mdtraj, no parallel\")\n",
    "%timeit md.rmsd(m_traj1, m_traj1, 0, parallel=False)\n",
    "print (\"rmsd for single frame, mdtraj, with parallel\")\n",
    "%timeit md.rmsd(m_traj1, m_traj1, 0, parallel=True)"
   ]
  },
  {
   "cell_type": "markdown",
   "metadata": {},
   "source": [
    "## calc_radgyr"
   ]
  },
  {
   "cell_type": "code",
   "execution_count": 6,
   "metadata": {
    "collapsed": false
   },
   "outputs": [
    {
     "name": "stdout",
     "output_type": "stream",
     "text": [
      "10 loops, best of 3: 23.8 ms per loop\n",
      "10 loops, best of 3: 26.9 ms per loop\n"
     ]
    }
   ],
   "source": [
    "%timeit fa.calc_radgyr()\n",
    "%timeit md.compute_rg(m_traj)\n",
    "\n",
    "# pytraj/cpptraj is about 5 times faster"
   ]
  },
  {
   "cell_type": "markdown",
   "metadata": {},
   "source": [
    "## calc_dssp"
   ]
  },
  {
   "cell_type": "code",
   "execution_count": 7,
   "metadata": {
    "collapsed": false
   },
   "outputs": [
    {
     "name": "stdout",
     "output_type": "stream",
     "text": [
      "10 loops, best of 3: 24.1 ms per loop\n"
     ]
    }
   ],
   "source": [
    "## calc_dssp\n",
    "import numpy as np\n",
    "%timeit fa.calc_dssp(dtype='ndarray')"
   ]
  },
  {
   "cell_type": "code",
   "execution_count": 8,
   "metadata": {
    "collapsed": false
   },
   "outputs": [
    {
     "name": "stdout",
     "output_type": "stream",
     "text": [
      "1 loops, best of 3: 1.66 s per loop\n"
     ]
    }
   ],
   "source": [
    "%timeit md.compute_dssp(m_traj)"
   ]
  },
  {
   "cell_type": "raw",
   "metadata": {},
   "source": [
    "# cpptraj/pytraj is super fast (~350 times faster) (but I need to check the result)."
   ]
  },
  {
   "cell_type": "markdown",
   "metadata": {},
   "source": [
    "## calc_COM"
   ]
  },
  {
   "cell_type": "code",
   "execution_count": 9,
   "metadata": {
    "collapsed": false
   },
   "outputs": [
    {
     "name": "stdout",
     "output_type": "stream",
     "text": [
      "10 loops, best of 3: 25.3 ms per loop\n",
      "10 loops, best of 3: 30.4 ms per loop\n"
     ]
    }
   ],
   "source": [
    "%timeit fa.calc_COM()\n",
    "%timeit md.compute_center_of_mass(m_traj)\n",
    "\n",
    "# almost the same"
   ]
  },
  {
   "cell_type": "markdown",
   "metadata": {},
   "source": [
    "## calc_distance"
   ]
  },
  {
   "cell_type": "code",
   "execution_count": 10,
   "metadata": {
    "collapsed": false
   },
   "outputs": [
    {
     "name": "stdout",
     "output_type": "stream",
     "text": [
      "10 loops, best of 3: 22.9 ms per loop\n",
      "1000 loops, best of 3: 375 µs per loop\n"
     ]
    }
   ],
   "source": [
    "%timeit fa.calc_distance(\"@1 @300\")\n",
    "\n",
    "indices = np.array([[0, 299],])\n",
    "%timeit md.compute_distances(m_traj, indices)\n",
    "\n",
    "# mdtraj is much faster for single calculation (62 times faster). Not sure about including mask like :2-100@CB,CA ..."
   ]
  },
  {
   "cell_type": "markdown",
   "metadata": {},
   "source": [
    "## calc_psi"
   ]
  },
  {
   "cell_type": "code",
   "execution_count": 11,
   "metadata": {
    "collapsed": false
   },
   "outputs": [
    {
     "name": "stdout",
     "output_type": "stream",
     "text": [
      "10 loops, best of 3: 69.9 ms per loop\n",
      "10 loops, best of 3: 59.7 ms per loop\n"
     ]
    }
   ],
   "source": [
    "%timeit fa.calc_multidihedral(\"psi\")\n",
    "%timeit md.compute_psi(m_traj)\n",
    "\n",
    "# mdtraj is about 10 times faster. Not sure about mask selection"
   ]
  },
  {
   "cell_type": "markdown",
   "metadata": {},
   "source": [
    "## calc_phi"
   ]
  },
  {
   "cell_type": "code",
   "execution_count": 12,
   "metadata": {
    "collapsed": false
   },
   "outputs": [
    {
     "name": "stdout",
     "output_type": "stream",
     "text": [
      "10 loops, best of 3: 69.9 ms per loop\n",
      "10 loops, best of 3: 59.6 ms per loop\n"
     ]
    }
   ],
   "source": [
    "%timeit fa.calc_multidihedral(\"phi\")\n",
    "%timeit md.compute_phi(m_traj)\n",
    "\n",
    "# same result as calc_psi"
   ]
  },
  {
   "cell_type": "code",
   "execution_count": 13,
   "metadata": {
    "collapsed": false
   },
   "outputs": [
    {
     "name": "stdout",
     "output_type": "stream",
     "text": [
      "10 loops, best of 3: 195 ms per loop\n",
      "1 loops, best of 3: 294 ms per loop\n",
      "1 loops, best of 3: 350 ms per loop\n",
      "1 loops, best of 3: 231 ms per loop\n",
      "10 loops, best of 3: 117 ms per loop\n",
      "10 loops, best of 3: 59.1 ms per loop\n",
      "10 loops, best of 3: 58.8 ms per loop\n"
     ]
    }
   ],
   "source": [
    "# search all dihedral?\n",
    "\n",
    "%timeit fa.calc_multidihedral() # search all in pytraj/cpptraj\n",
    "\n",
    "%timeit md.compute_chi1(m_traj)\n",
    "%timeit md.compute_chi2(m_traj)\n",
    "%timeit md.compute_chi3(m_traj)\n",
    "%timeit md.compute_chi4(m_traj) \n",
    "%timeit md.compute_phi(m_traj)\n",
    "%timeit md.compute_psi(m_traj)"
   ]
  },
  {
   "cell_type": "markdown",
   "metadata": {},
   "source": [
    "## saving files"
   ]
  },
  {
   "cell_type": "code",
   "execution_count": 14,
   "metadata": {
    "collapsed": false
   },
   "outputs": [
    {
     "name": "stdout",
     "output_type": "stream",
     "text": [
      "10 loops, best of 3: 20.6 ms per loop\n",
      "The slowest run took 4.95 times longer than the fastest. This could mean that an intermediate result is being cached \n",
      "100 loops, best of 3: 12.7 ms per loop\n"
     ]
    }
   ],
   "source": [
    "# netcdf\n",
    "\n",
    "%timeit fa.save(\"fa.nc\", overwrite=True)\n",
    "%timeit m_traj.save(\"m_traj.nc\")"
   ]
  },
  {
   "cell_type": "code",
   "execution_count": 15,
   "metadata": {
    "collapsed": false
   },
   "outputs": [
    {
     "name": "stdout",
     "output_type": "stream",
     "text": [
      "The slowest run took 4.02 times longer than the fastest. This could mean that an intermediate result is being cached \n",
      "100 loops, best of 3: 6.71 ms per loop\n",
      "The slowest run took 7.53 times longer than the fastest. This could mean that an intermediate result is being cached \n",
      "100 loops, best of 3: 8.41 ms per loop\n"
     ]
    }
   ],
   "source": [
    "# dcd\n",
    "\n",
    "%timeit fa.save(\"fa.dcd\", overwrite=True)\n",
    "%timeit m_traj.save(\"m_traj.dcd\")"
   ]
  },
  {
   "cell_type": "code",
   "execution_count": 16,
   "metadata": {
    "collapsed": false
   },
   "outputs": [
    {
     "name": "stdout",
     "output_type": "stream",
     "text": [
      "The slowest run took 5.82 times longer than the fastest. This could mean that an intermediate result is being cached \n",
      "100 loops, best of 3: 6.67 ms per loop\n",
      "10 loops, best of 3: 33.6 ms per loop\n"
     ]
    }
   ],
   "source": [
    "# binpos\n",
    "\n",
    "%timeit fa.save(\"fa.binpos\", overwrite=True)\n",
    "%timeit m_traj.save(\"m_traj.binpos\")"
   ]
  },
  {
   "cell_type": "code",
   "execution_count": 17,
   "metadata": {
    "collapsed": false
   },
   "outputs": [
    {
     "name": "stdout",
     "output_type": "stream",
     "text": [
      "1 loops, best of 3: 402 ms per loop\n",
      "10 loops, best of 3: 20.5 ms per loop\n"
     ]
    }
   ],
   "source": [
    "# xtc # not sure cpptraj supports\n",
    "\n",
    "%timeit fa.save(\"fa.xtc\", overwrite=True)\n",
    "%timeit m_traj.save(\"m_traj.xtc\")"
   ]
  }
 ],
 "metadata": {
  "kernelspec": {
   "display_name": "Python 3",
   "language": "python",
   "name": "python3"
  },
  "language_info": {
   "codemirror_mode": {
    "name": "ipython",
    "version": 3
   },
   "file_extension": ".py",
   "mimetype": "text/x-python",
   "name": "python",
   "nbconvert_exporter": "python",
   "pygments_lexer": "ipython3",
   "version": "3.4.3"
  }
 },
 "nbformat": 4,
 "nbformat_minor": 0
}
