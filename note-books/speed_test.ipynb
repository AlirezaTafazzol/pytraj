{
 "cells": [
  {
   "cell_type": "markdown",
   "metadata": {},
   "source": [
    "## `pytraj` vs `mdtraj`.\n",
    "\n",
    "I just want to test how slow and how fast `pytraj` is to further optimize the speed. \n",
    "This comparison won't be fair since I have limited knowdlege about `mdtraj`. And there is different in designing two packages (`cpptraj` used double precision while `mdtraj` use (mostly?) float32)"
   ]
  },
  {
   "cell_type": "code",
   "execution_count": 37,
   "metadata": {
    "collapsed": false
   },
   "outputs": [
    {
     "name": "stdout",
     "output_type": "stream",
     "text": [
      "0.1.2.dev3\n",
      "1.4.0.dev0.dev-bb6923f\n"
     ]
    }
   ],
   "source": [
    "from pytraj.__version__ import __version__ as p_version\n",
    "print (p_version)\n",
    "from mdtraj.version import version as m_version\n",
    "print (m_version)"
   ]
  },
  {
   "cell_type": "markdown",
   "metadata": {},
   "source": [
    "## loading data"
   ]
  },
  {
   "cell_type": "code",
   "execution_count": 48,
   "metadata": {
    "collapsed": false
   },
   "outputs": [
    {
     "name": "stdout",
     "output_type": "stream",
     "text": [
      "200M\t../tests/data/nogit/remd/remd.x.000\n",
      "\n",
      "%VERSION  VERSION_STAMP = V0001.000  DATE = 03/13/14  02:23:52                  \n",
      "%FLAG TITLE                                                                     \n",
      "%FORMAT(20a4)                                                                   \n",
      "default_name                                                                    \n",
      "%FLAG POINTERS                                                                  \n",
      "%FORMAT(10I8)                                                                   \n",
      "   17443      16   17165     287     603     386    1257    1129       0       0\n",
      "   25521    5666     287     386    1129      61     139     179      32       1\n",
      "       0       0       0       0       0       0       0       2      24       0\n",
      "       0\n"
     ]
    }
   ],
   "source": [
    "# data is stored in local disk, generated from TIP3P REMD, netcdf\n",
    "\n",
    "from pytraj import io\n",
    "import mdtraj as md\n",
    "\n",
    "top_name = \"../tests/data/nogit/remd/myparm.parm7\"\n",
    "filename = \"../tests/data/nogit/remd/remd.x.000\"\n",
    "\n",
    "!du -sh \"../tests/data/nogit/remd/remd.x.000\"\n",
    "print ()\n",
    "!head \"../tests/data/nogit/remd/myparm.parm7\""
   ]
  },
  {
   "cell_type": "code",
   "execution_count": 39,
   "metadata": {
    "collapsed": false
   },
   "outputs": [
    {
     "name": "stdout",
     "output_type": "stream",
     "text": [
      "CPU times: user 2.11 s, sys: 466 ms, total: 2.58 s\n",
      "Wall time: 2.58 s\n",
      "CPU times: user 213 ms, sys: 17 ms, total: 230 ms\n",
      "Wall time: 230 ms\n",
      "CPU times: user 1.87 s, sys: 335 ms, total: 2.21 s\n",
      "Wall time: 2.41 s\n"
     ]
    },
    {
     "data": {
      "text/plain": [
       "<mdtraj.Trajectory with 1000 frames, 17443 atoms, 5666 residues, and unitcells at 0x2aab0405c588>"
      ]
     },
     "execution_count": 39,
     "metadata": {},
     "output_type": "execute_result"
    }
   ],
   "source": [
    "# load whole traj into memory by FrameArray in pytraj\n",
    "# I don't use %timeit because it's terriblly slow in my computer\n",
    "\n",
    "%time io.load(filename, top_name)[:]\n",
    "# using cpptraj's class (Trajin_Single)\n",
    "%time io.load(filename, top_name) # the data is actually still in disk :D\n",
    "\n",
    "%time md.load_netcdf(filename, top=top_name)\n",
    "\n",
    "# pytraj fa: -1 (but not that slow)"
   ]
  },
  {
   "cell_type": "markdown",
   "metadata": {},
   "source": [
    "## calc_rmsd"
   ]
  },
  {
   "cell_type": "code",
   "execution_count": 40,
   "metadata": {
    "collapsed": false
   },
   "outputs": [
    {
     "name": "stdout",
     "output_type": "stream",
     "text": [
      "10 loops, best of 3: 99.5 ms per loop\n",
      "100 loops, best of 3: 8.74 ms per loop\n"
     ]
    }
   ],
   "source": [
    "f0 = fa[0]\n",
    "%timeit [frame.rmsd(f0) for frame in fa]\n",
    "%timeit md.rmsd(m_traj, m_traj, 0)\n",
    "\n",
    "# mdtraj has very fast rmsd calculation (about 10 times faster). they use \"openmp\" (?) and float32 while we used float64"
   ]
  },
  {
   "cell_type": "markdown",
   "metadata": {},
   "source": [
    "## calc_radgyr"
   ]
  },
  {
   "cell_type": "code",
   "execution_count": 41,
   "metadata": {
    "collapsed": false
   },
   "outputs": [
    {
     "name": "stdout",
     "output_type": "stream",
     "text": [
      "10 loops, best of 3: 53.2 ms per loop\n",
      "1 loops, best of 3: 267 ms per loop\n"
     ]
    }
   ],
   "source": [
    "%timeit fa.calc_radgyr()\n",
    "%timeit md.compute_rg(m_traj)\n",
    "\n",
    "# pytraj/cpptraj is about 5 times faster"
   ]
  },
  {
   "cell_type": "markdown",
   "metadata": {},
   "source": [
    "## calc_dssp"
   ]
  },
  {
   "cell_type": "code",
   "execution_count": 42,
   "metadata": {
    "collapsed": false
   },
   "outputs": [
    {
     "name": "stdout",
     "output_type": "stream",
     "text": [
      "10 loops, best of 3: 44.1 ms per loop\n"
     ]
    }
   ],
   "source": [
    "## calc_dssp\n",
    "import numpy as np\n",
    "%timeit fa.calc_dssp(dtype='ndarray')"
   ]
  },
  {
   "cell_type": "code",
   "execution_count": 43,
   "metadata": {
    "collapsed": false
   },
   "outputs": [
    {
     "name": "stdout",
     "output_type": "stream",
     "text": [
      "1 loops, best of 3: 15.5 s per loop\n"
     ]
    }
   ],
   "source": [
    "%timeit md.compute_dssp(m_traj)"
   ]
  },
  {
   "cell_type": "raw",
   "metadata": {},
   "source": [
    "# cpptraj/pytraj is super fast (~350 times faster) (but I need to check the result)."
   ]
  },
  {
   "cell_type": "markdown",
   "metadata": {},
   "source": [
    "## calc_COM"
   ]
  },
  {
   "cell_type": "code",
   "execution_count": 44,
   "metadata": {
    "collapsed": false
   },
   "outputs": [
    {
     "name": "stdout",
     "output_type": "stream",
     "text": [
      "10 loops, best of 3: 58.9 ms per loop\n",
      "10 loops, best of 3: 69.6 ms per loop\n"
     ]
    }
   ],
   "source": [
    "%timeit fa.calc_COM()\n",
    "%timeit md.compute_center_of_mass(m_traj)\n",
    "\n",
    "# almost the same"
   ]
  },
  {
   "cell_type": "markdown",
   "metadata": {},
   "source": [
    "## calc_distance"
   ]
  },
  {
   "cell_type": "code",
   "execution_count": 45,
   "metadata": {
    "collapsed": false
   },
   "outputs": [
    {
     "name": "stdout",
     "output_type": "stream",
     "text": [
      "10 loops, best of 3: 27.7 ms per loop\n",
      "1000 loops, best of 3: 408 µs per loop\n"
     ]
    }
   ],
   "source": [
    "%timeit fa.calc_distance(\"@1 @300\")\n",
    "\n",
    "indices = np.array([[0, 299],])\n",
    "%timeit md.compute_distances(m_traj, indices)\n",
    "\n",
    "# mdtraj is much faster for single calculation (62 times faster). Not sure about including mask like :2-100@CB,CA ..."
   ]
  },
  {
   "cell_type": "markdown",
   "metadata": {},
   "source": [
    "## calc_psi"
   ]
  },
  {
   "cell_type": "code",
   "execution_count": 46,
   "metadata": {
    "collapsed": false
   },
   "outputs": [
    {
     "name": "stdout",
     "output_type": "stream",
     "text": [
      "1 loops, best of 3: 493 ms per loop\n",
      "10 loops, best of 3: 62.5 ms per loop\n"
     ]
    }
   ],
   "source": [
    "%timeit fa.calc_multidihedral(\"psi\")\n",
    "%timeit md.compute_psi(m_traj)\n",
    "\n",
    "# mdtraj is about 10 times faster. Not sure about mask selection"
   ]
  },
  {
   "cell_type": "markdown",
   "metadata": {},
   "source": [
    "## calc_phi"
   ]
  },
  {
   "cell_type": "code",
   "execution_count": 47,
   "metadata": {
    "collapsed": false
   },
   "outputs": [
    {
     "name": "stdout",
     "output_type": "stream",
     "text": [
      "1 loops, best of 3: 500 ms per loop\n",
      "10 loops, best of 3: 63.1 ms per loop\n"
     ]
    }
   ],
   "source": [
    "%timeit fa.calc_multidihedral(\"phi\")\n",
    "%timeit md.compute_phi(m_traj)\n",
    "\n",
    "# same result as calc_psi"
   ]
  },
  {
   "cell_type": "code",
   "execution_count": 55,
   "metadata": {
    "collapsed": false
   },
   "outputs": [
    {
     "name": "stdout",
     "output_type": "stream",
     "text": [
      "1 loops, best of 3: 1.48 s per loop\n",
      "1 loops, best of 3: 284 ms per loop\n",
      "1 loops, best of 3: 342 ms per loop\n",
      "1 loops, best of 3: 228 ms per loop\n",
      "10 loops, best of 3: 115 ms per loop\n",
      "10 loops, best of 3: 58.5 ms per loop\n",
      "10 loops, best of 3: 57.9 ms per loop\n"
     ]
    }
   ],
   "source": [
    "# search all dihedral?\n",
    "\n",
    "%timeit fa.calc_multidihedral() # search all in pytraj/cpptraj\n",
    "\n",
    "%timeit md.compute_chi1(m_traj)\n",
    "%timeit md.compute_chi2(m_traj)\n",
    "%timeit md.compute_chi3(m_traj)\n",
    "%timeit md.compute_chi4(m_traj) \n",
    "%timeit md.compute_phi(m_traj)\n",
    "%timeit md.compute_psi(m_traj)"
   ]
  },
  {
   "cell_type": "markdown",
   "metadata": {},
   "source": [
    "## saving files"
   ]
  },
  {
   "cell_type": "code",
   "execution_count": 58,
   "metadata": {
    "collapsed": false
   },
   "outputs": [
    {
     "name": "stdout",
     "output_type": "stream",
     "text": [
      "1 loops, best of 3: 205 ms per loop\n",
      "10 loops, best of 3: 118 ms per loop\n"
     ]
    }
   ],
   "source": [
    "# netcdf\n",
    "\n",
    "%timeit fa.save(\"fa.nc\", overwrite=True)\n",
    "%timeit m_traj.save(\"m_traj.nc\")"
   ]
  },
  {
   "cell_type": "code",
   "execution_count": 59,
   "metadata": {
    "collapsed": false
   },
   "outputs": [
    {
     "name": "stdout",
     "output_type": "stream",
     "text": [
      "10 loops, best of 3: 61.1 ms per loop\n",
      "10 loops, best of 3: 78.5 ms per loop\n"
     ]
    }
   ],
   "source": [
    "# dcd\n",
    "\n",
    "%timeit fa.save(\"fa.dcd\", overwrite=True)\n",
    "%timeit m_traj.save(\"m_traj.dcd\")"
   ]
  },
  {
   "cell_type": "code",
   "execution_count": 60,
   "metadata": {
    "collapsed": false
   },
   "outputs": [
    {
     "name": "stdout",
     "output_type": "stream",
     "text": [
      "10 loops, best of 3: 63 ms per loop\n",
      "1 loops, best of 3: 336 ms per loop\n"
     ]
    }
   ],
   "source": [
    "# binpos\n",
    "\n",
    "%timeit fa.save(\"fa.binpos\", overwrite=True)\n",
    "%timeit m_traj.save(\"m_traj.binpos\")"
   ]
  },
  {
   "cell_type": "code",
   "execution_count": 62,
   "metadata": {
    "collapsed": false
   },
   "outputs": [
    {
     "name": "stdout",
     "output_type": "stream",
     "text": [
      "1 loops, best of 3: 4.01 s per loop\n",
      "1 loops, best of 3: 196 ms per loop\n"
     ]
    }
   ],
   "source": [
    "# xtc # not sure cpptraj supports\n",
    "\n",
    "%timeit fa.save(\"fa.xtc\", overwrite=True)\n",
    "%timeit m_traj.save(\"m_traj.xtc\")"
   ]
  }
 ],
 "metadata": {
  "kernelspec": {
   "display_name": "Python 3",
   "language": "python",
   "name": "python3"
  },
  "language_info": {
   "codemirror_mode": {
    "name": "ipython",
    "version": 3
   },
   "file_extension": ".py",
   "mimetype": "text/x-python",
   "name": "python",
   "nbconvert_exporter": "python",
   "pygments_lexer": "ipython3",
   "version": "3.4.3"
  }
 },
 "nbformat": 4,
 "nbformat_minor": 0
}
