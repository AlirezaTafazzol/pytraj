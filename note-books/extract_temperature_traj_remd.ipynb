{
 "metadata": {
  "name": "",
  "signature": "sha256:e5ac3907e1a006a8d29d155d560478d4a38ca09882322eeb038f079524467995"
 },
 "nbformat": 3,
 "nbformat_minor": 0,
 "worksheets": [
  {
   "cells": [
    {
     "cell_type": "code",
     "collapsed": false,
     "input": [
      "\"\"\"This script shows how to extract frames having the same temperature\n",
      "from replica exchange MD run. You can do it with cpptraj but this shows how easily\n",
      "to write new script with pytraj\n",
      "# TODO : check typos for DOCo\n",
      "\"\"\"\n",
      "\n",
      "import unittest\n",
      "from array import array\n",
      "from glob import glob\n",
      "from pytraj.base import *\n",
      "from pytraj import io as mdio\n",
      "from pytraj.utils.check_and_assert import assert_almost_equal\n",
      "\n",
      "def get_frames_same_T():\n",
      "   # create a list of all remd trajs\n",
      "   flist = glob(\"../tests/data/Test_RemdTraj/rem.nc.*\") \n",
      "\n",
      "   # make a list of TrajReadOnly instances\n",
      "   trajlist = []\n",
      "   for fh in flist:\n",
      "       topfile = \"../tests/data/Test_RemdTraj/ala2.99sb.mbondi2.parm7\"\n",
      "\n",
      "       # load trajectory and append to trajlist\n",
      "       trajlist.append(mdio.load(fh, topfile))\n",
      "\n",
      "   # make FrameArray instance that holds 492.2 T frames\n",
      "   # we need to reserve n_frames to hold the data\n",
      "   f4922 = FrameArray(n_frames=trajlist[0].n_frames)\n",
      "\n",
      "   assert f4922.n_frames == trajlist[0].n_frames\n",
      "   f4922.top = trajlist[0].top.copy()\n",
      "\n",
      "   # extract frames having T = 492.2\n",
      "   # use iteration for nested loops\n",
      "   for traj in trajlist:\n",
      "       for idx, frame in enumerate(traj):\n",
      "           if frame.temperature == 492.2:\n",
      "               # we don't use `append` method since we want to make sure \n",
      "               # frames are in the order of simulation time\n",
      "               f4922[idx] = frame\n",
      "\n",
      "   # make sure f4922 only hold frames having T = 492.2 K\n",
      "   arr0 = array('d', [492.2, 492.2, 492.2, 492.2, 492.2, \n",
      "                     492.2, 492.2, 492.2, 492.2, 492.2])\n",
      "   assert f4922.temperatures == arr0\n",
      "\n",
      "   # make sure we reproduce cpptraj output\n",
      "   cpptraj = mdio.load(\"../tests/data/Test_RemdTraj/temp0.crd.492.20\", topfile)\n",
      "   for idx, framepy in enumerate(f4922):\n",
      "       assert_almost_equal(framepy.coords, cpptraj[idx].coords)\n",
      "       print(\"rmsd between pytraj Frame and cpptraj Frame = %s \" % framepy.rmsd(cpptraj[idx]))\n",
      "\n",
      "   print(f4922[5].coords[:10])\n",
      "   print(cpptraj[5].coords[:10])\n",
      "\n",
      "   print(\"YES, we can reproduce cpptraj output\")\n",
      "\n",
      "\n",
      "        "
     ],
     "language": "python",
     "metadata": {},
     "outputs": [],
     "prompt_number": 7
    },
    {
     "cell_type": "code",
     "collapsed": false,
     "input": [
      "get_frames_same_T()"
     ],
     "language": "python",
     "metadata": {},
     "outputs": [
      {
       "output_type": "stream",
       "stream": "stdout",
       "text": [
        "rmsd between pytraj Frame and cpptraj Frame = 0.0004537857325777221 \n",
        "rmsd between pytraj Frame and cpptraj Frame = 0.00040011085473567147 \n",
        "rmsd between pytraj Frame and cpptraj Frame = 0.0004965490165713683 \n",
        "rmsd between pytraj Frame and cpptraj Frame = 0.0004901392777290847 \n",
        "rmsd between pytraj Frame and cpptraj Frame = 0.00048039576004936676 \n",
        "rmsd between pytraj Frame and cpptraj Frame = 0.0004474136708874317 \n",
        "rmsd between pytraj Frame and cpptraj Frame = 0.0004878846620305841 \n",
        "rmsd between pytraj Frame and cpptraj Frame = 0.0005227524683447184 \n",
        "rmsd between pytraj Frame and cpptraj Frame = 0.00046504114463576655 \n",
        "rmsd between pytraj Frame and cpptraj Frame = 0.0004950090575904039 \n",
        "array('d', [4.3478453626686875, 0.18808112361214402, 1.2859867334535175, 3.37988548183983, 0.6536363146521831, 1.1004827737977558, 3.4873455038124863, 1.0530179522254253, 0.09199553431773727, 3.176387595182115])\n",
        "array('d', [8.037, 5.207, 1.351, 7.069, 5.673, 1.166, 7.177, 6.072, 0.157, 6.866])\n",
        "YES, we can reproduce cpptraj output\n"
       ]
      }
     ],
     "prompt_number": 8
    },
    {
     "cell_type": "code",
     "collapsed": false,
     "input": [],
     "language": "python",
     "metadata": {},
     "outputs": [],
     "prompt_number": 8
    }
   ],
   "metadata": {}
  }
 ]
}