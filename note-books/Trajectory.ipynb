{
 "cells": [
  {
   "cell_type": "markdown",
   "metadata": {},
   "source": [
    "There are two types of trajectory objects in pytraj: TrajReadOnly and FrameArray\n",
    "    * TrajReadOnly is thin wrapper of Trajectory class in cpptraj. It is immutatble in pytraj\n",
    "    * FrameArray is pytraj class, behaving like a vector (or array) of frame instances. It is mutable. FrameArray was created to give interface with numpy/scipy and other Python packages.\n",
    "    "
   ]
  },
  {
   "cell_type": "code",
   "execution_count": 1,
   "metadata": {
    "collapsed": false
   },
   "outputs": [],
   "source": [
    "from __future__ import absolute_import\n",
    "from pytraj import load_sample_data\n",
    "# load sample Ala3 trajectory \n",
    "traj = load_sample_data()\n"
   ]
  },
  {
   "cell_type": "code",
   "execution_count": 2,
   "metadata": {
    "collapsed": false
   },
   "outputs": [
    {
     "name": "stdout",
     "output_type": "stream",
     "text": [
      "TrajReadOnly instance with 1 frames, 34 atoms/frame\n",
      "           \n"
     ]
    }
   ],
   "source": [
    "print (traj)"
   ]
  },
  {
   "cell_type": "code",
   "execution_count": 3,
   "metadata": {
    "collapsed": false
   },
   "outputs": [
    {
     "name": "stdout",
     "output_type": "stream",
     "text": [
      "3.32577\n",
      "updating coords of 0-th frame\n",
      "3.32577\n"
     ]
    }
   ],
   "source": [
    "print (traj[0][0, 0])\n",
    "print (\"updating coords of 0-th frame\")\n",
    "\n",
    "traj[0][0, 0] = 1000.\n",
    "print (traj[0][0, 0])   "
   ]
  },
  {
   "cell_type": "code",
   "execution_count": 4,
   "metadata": {
    "collapsed": false
   },
   "outputs": [
    {
     "name": "stdout",
     "output_type": "stream",
     "text": [
      "3.32577\n",
      "updating coords of 0-th frame\n",
      "1000.0\n"
     ]
    }
   ],
   "source": [
    "# convert to FrameArray object\n",
    "farray = traj[:]\n",
    "print (farray[0][0, 0])\n",
    "print (\"updating coords of 0-th frame\")\n",
    "\n",
    "farray[0][0, 0] = 1000.\n",
    "print (farray[0][0, 0])  "
   ]
  },
  {
   "cell_type": "code",
   "execution_count": 6,
   "metadata": {
    "collapsed": false
   },
   "outputs": [
    {
     "name": "stdout",
     "output_type": "stream",
     "text": [
      "FrameArray instance with 1 frames, 3 atoms/frame\n",
      "           \n"
     ]
    }
   ],
   "source": [
    "# TrajReadOnly and FrameArray have similiar methods.\n",
    "\n",
    "# extract coords of CA atoms\n",
    "print (traj['@CA'])"
   ]
  },
  {
   "cell_type": "code",
   "execution_count": 8,
   "metadata": {
    "collapsed": false
   },
   "outputs": [
    {
     "name": "stdout",
     "output_type": "stream",
     "text": [
      "FrameArray instance with 1 frames, 3 atoms/frame\n",
      "           \n"
     ]
    }
   ],
   "source": [
    "print (farray['@CA'])"
   ]
  }
 ],
 "metadata": {
  "kernelspec": {
   "display_name": "Python 3",
   "language": "python",
   "name": "python3"
  },
  "language_info": {
   "codemirror_mode": {
    "name": "ipython",
    "version": 3
   },
   "file_extension": ".py",
   "mimetype": "text/x-python",
   "name": "python",
   "nbconvert_exporter": "python",
   "pygments_lexer": "ipython3",
   "version": "3.4.3"
  }
 },
 "nbformat": 4,
 "nbformat_minor": 0
}
