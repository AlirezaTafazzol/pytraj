{
 "cells": [
  {
   "cell_type": "markdown",
   "metadata": {},
   "source": [
    "## Speed for three Trajectory classes in `pytraj`\n",
    "\n",
    "What are they?\n",
    "    * TrajReadOnly: a thin wrapper for cpptraj Trajin classes. Data will only be loaded if iterating it\n",
    "    * FrameArray: a wrapper of C++ vector of Frame object. Data will be fully loaded to memory. This class was originally designed to hold in-memory Frames for TrajReadOnly and for faster iterating\n",
    "    * api.Trajectory: new class using numpy\n",
    "        * why this class: it's very fast to iterate FrameArray but it's a bit slow to convert to numpy array. I created this class as an interface to numpy/scipy/mdtraj ....\n",
    "        * Note: FrameArray might be deprecated, depending on how I (we) really need. For technical diffculty in manage lifetime of C++ vector in Python, I can not subclass FrameArray in Python level. "
   ]
  },
  {
   "cell_type": "code",
   "execution_count": 1,
   "metadata": {
    "collapsed": false
   },
   "outputs": [
    {
     "name": "stdout",
     "output_type": "stream",
     "text": [
      "0.1.2.dev3\n"
     ]
    }
   ],
   "source": [
    "from pytraj.__version__ import __version__ as p_version\n",
    "import mdtraj as md\n",
    "print (p_version)"
   ]
  },
  {
   "cell_type": "markdown",
   "metadata": {},
   "source": [
    "## loading data"
   ]
  },
  {
   "cell_type": "code",
   "execution_count": 2,
   "metadata": {
    "collapsed": false
   },
   "outputs": [],
   "source": [
    "# data is stored in local disk, generated from TIP3P REMD, netcdf, 200 Mb, 17443 atoms, 1000 frames\n",
    "\n",
    "from pytraj import io\n",
    "import mdtraj as md\n",
    "\n",
    "top_name = \"../tests/data/nogit/remd/myparm.parm7\"\n",
    "filename = \"../tests/data/nogit/remd/remd.x.000\"\n",
    "file_and_top_names = (filename, top_name)"
   ]
  },
  {
   "cell_type": "code",
   "execution_count": 3,
   "metadata": {
    "collapsed": false
   },
   "outputs": [],
   "source": [
    "# load classes\n",
    "from pytraj import FrameArray\n",
    "from pytraj.api import Trajectory\n",
    "from pytraj import TrajReadOnly"
   ]
  },
  {
   "cell_type": "code",
   "execution_count": 4,
   "metadata": {
    "collapsed": false,
    "scrolled": true
   },
   "outputs": [
    {
     "name": "stdout",
     "output_type": "stream",
     "text": [
      "CPU times: user 2.39 s, sys: 869 ms, total: 3.26 s\n",
      "Wall time: 4.15 s\n",
      "CPU times: user 2.27 s, sys: 750 ms, total: 3.02 s\n",
      "Wall time: 3.03 s\n",
      "CPU times: user 204 ms, sys: 16 ms, total: 220 ms\n",
      "Wall time: 220 ms\n"
     ]
    }
   ],
   "source": [
    "%time fa = FrameArray(*file_and_top_names)\n",
    "%time traj = Trajectory(*file_and_top_names)\n",
    "%time trajread = TrajReadOnly(*file_and_top_names)"
   ]
  },
  {
   "cell_type": "code",
   "execution_count": 5,
   "metadata": {
    "collapsed": true
   },
   "outputs": [],
   "source": [
    "# reload since we used \"%timeit\".\n",
    "\n",
    "fa = FrameArray(*file_and_top_names)\n",
    "traj = Trajectory(*file_and_top_names)\n",
    "trajread = TrajReadOnly(*file_and_top_names)"
   ]
  },
  {
   "cell_type": "markdown",
   "metadata": {},
   "source": [
    "## iterate frames"
   ]
  },
  {
   "cell_type": "code",
   "execution_count": 6,
   "metadata": {
    "collapsed": false
   },
   "outputs": [
    {
     "name": "stdout",
     "output_type": "stream",
     "text": [
      "1000 loops, best of 3: 822 µs per loop\n",
      "1 loops, best of 3: 2.25 s per loop\n",
      "1 loops, best of 3: 1.02 s per loop\n"
     ]
    }
   ],
   "source": [
    "%timeit for frame in fa: pass\n",
    "%timeit for frame in traj: pass\n",
    "%timeit for frame in trajread: pass\n",
    "\n",
    "# iterate FrameArray is extremely fast since it is a wrapper of C++ vector class"
   ]
  },
  {
   "cell_type": "markdown",
   "metadata": {},
   "source": [
    "## frame_iter"
   ]
  },
  {
   "cell_type": "code",
   "execution_count": 7,
   "metadata": {
    "collapsed": false
   },
   "outputs": [
    {
     "name": "stdout",
     "output_type": "stream",
     "text": [
      "1000 loops, best of 3: 1.64 ms per loop\n",
      "10 loops, best of 3: 39.6 ms per loop\n",
      "100 loops, best of 3: 19 ms per loop\n"
     ]
    }
   ],
   "source": [
    "start, stop, stride = 10, 999, 100\n",
    "\n",
    "%timeit for frame in fa.frame_iter(start, stop, stride): pass\n",
    "%timeit for frame in traj.frame_iter(start, stop, stride): pass\n",
    "%timeit for frame in trajread.frame_iter(start, stop, stride): pass\n",
    "\n",
    "# we need to redesign frame_iter of Trajectory"
   ]
  },
  {
   "cell_type": "markdown",
   "metadata": {},
   "source": [
    "## convert to numpy array by calling `xyz` attribute"
   ]
  },
  {
   "cell_type": "code",
   "execution_count": 8,
   "metadata": {
    "collapsed": false
   },
   "outputs": [
    {
     "name": "stdout",
     "output_type": "stream",
     "text": [
      "1 loops, best of 3: 504 ms per loop\n",
      "The slowest run took 26.04 times longer than the fastest. This could mean that an intermediate result is being cached \n",
      "10000000 loops, best of 3: 115 ns per loop\n",
      "1 loops, best of 3: 2.6 s per loop\n"
     ]
    }
   ],
   "source": [
    "%timeit fa.xyz\n",
    "%timeit traj.xyz\n",
    "%timeit trajread.xyz\n",
    "\n",
    "# traj.xyz is numpy array, so it tooks only 115 ns to call (vs. 504 ms for FrameArray and 2.6 s for TrajReadOnly).\n",
    "# However iterating Trajectory (numpy) is much slower.\n",
    "# the best thing is to move numpy to Cython level so we can combine fast iterating in Cython + fast vectorizing in numpy"
   ]
  },
  {
   "cell_type": "markdown",
   "metadata": {},
   "source": [
    "## calc_rmsd"
   ]
  },
  {
   "cell_type": "code",
   "execution_count": 9,
   "metadata": {
    "collapsed": false
   },
   "outputs": [
    {
     "name": "stdout",
     "output_type": "stream",
     "text": [
      "1 loops, best of 3: 978 ms per loop\n",
      "1 loops, best of 3: 3.25 s per loop\n",
      "1 loops, best of 3: 1.91 s per loop\n",
      "1 loops, best of 3: 391 ms per loop\n"
     ]
    }
   ],
   "source": [
    "# save reference\n",
    "f0 = fa[0]\n",
    "%timeit for frame in fa: frame.rmsd(f0) \n",
    "%timeit for frame in traj: frame.rmsd(f0) \n",
    "%timeit for frame in trajread: frame.rmsd(f0)\n",
    "\n",
    "# we can use fast rmsd calculation in mdtraj for our Trajectory too. (make the rmsd calculation ~ 3 times faster)\n",
    "# for this calculation, mdtraj only cares about `xyz` attribute, and all of Trajectories in pytraj do have `xyz`\n",
    "%timeit md.rmsd(traj, traj, 0)"
   ]
  },
  {
   "cell_type": "markdown",
   "metadata": {},
   "source": [
    "## calc_radgyr"
   ]
  },
  {
   "cell_type": "code",
   "execution_count": 10,
   "metadata": {
    "collapsed": false
   },
   "outputs": [
    {
     "name": "stdout",
     "output_type": "stream",
     "text": [
      "1 loops, best of 3: 288 ms per loop\n",
      "1 loops, best of 3: 2.87 s per loop\n",
      "1 loops, best of 3: 1.24 s per loop\n"
     ]
    }
   ],
   "source": [
    "%timeit fa.calc_radgyr()\n",
    "%timeit traj.calc_radgyr()\n",
    "%timeit trajread.calc_radgyr()\n",
    "\n",
    "# trajread is the slowest because it needs to load frames to memory"
   ]
  },
  {
   "cell_type": "markdown",
   "metadata": {},
   "source": [
    "## calc_dssp"
   ]
  },
  {
   "cell_type": "code",
   "execution_count": 11,
   "metadata": {
    "collapsed": false
   },
   "outputs": [
    {
     "name": "stdout",
     "output_type": "stream",
     "text": [
      "10 loops, best of 3: 167 ms per loop\n",
      "1 loops, best of 3: 2.91 s per loop\n",
      "1 loops, best of 3: 1.2 s per loop\n"
     ]
    }
   ],
   "source": [
    "%timeit fa.calc_dssp()\n",
    "%timeit traj.calc_dssp()\n",
    "%timeit trajread.calc_dssp()"
   ]
  },
  {
   "cell_type": "markdown",
   "metadata": {},
   "source": [
    "## calc_COM"
   ]
  },
  {
   "cell_type": "code",
   "execution_count": 12,
   "metadata": {
    "collapsed": false
   },
   "outputs": [
    {
     "name": "stdout",
     "output_type": "stream",
     "text": [
      "1 loops, best of 3: 379 ms per loop\n",
      "1 loops, best of 3: 4.58 s per loop\n",
      "1 loops, best of 3: 1.23 s per loop\n"
     ]
    }
   ],
   "source": [
    "%timeit fa.calc_COM()\n",
    "%timeit traj.calc_COM()\n",
    "%timeit trajread.calc_COM()"
   ]
  }
 ],
 "metadata": {
  "kernelspec": {
   "display_name": "Python 3",
   "language": "python",
   "name": "python3"
  },
  "language_info": {
   "codemirror_mode": {
    "name": "ipython",
    "version": 3
   },
   "file_extension": ".py",
   "mimetype": "text/x-python",
   "name": "python",
   "nbconvert_exporter": "python",
   "pygments_lexer": "ipython3",
   "version": "3.4.3"
  }
 },
 "nbformat": 4,
 "nbformat_minor": 0
}
