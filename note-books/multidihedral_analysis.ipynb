{
 "cells": [
  {
   "cell_type": "code",
   "execution_count": 25,
   "metadata": {
    "collapsed": true
   },
   "outputs": [],
   "source": [
    "from pytraj import DataFileList, DataSetList\n",
    "from pytraj import io as mdio\n",
    "from pytraj import adict"
   ]
  },
  {
   "cell_type": "code",
   "execution_count": 26,
   "metadata": {
    "collapsed": false
   },
   "outputs": [],
   "source": [
    "traj = mdio.load(\"../tests/data/md1_prod.Tc5b.x\", \"../tests/data/Tc5b.top\")\n",
    "\n",
    "act = adict['multidihedral']\n",
    "dslist = DataSetList()\n",
    "\n",
    "act(\"phi psi resrange 6-9\", traj[:2], dslist=dslist)"
   ]
  },
  {
   "cell_type": "code",
   "execution_count": 27,
   "metadata": {
    "collapsed": false
   },
   "outputs": [
    {
     "name": "stdout",
     "output_type": "stream",
     "text": [
      "['phi:6', 'psi:6', 'phi:7', 'psi:7', 'phi:8', 'psi:8', 'phi:9', 'psi:9']\n"
     ]
    }
   ],
   "source": [
    "print (dslist.get_legends())"
   ]
  },
  {
   "cell_type": "code",
   "execution_count": 28,
   "metadata": {
    "collapsed": false
   },
   "outputs": [
    {
     "name": "stdout",
     "output_type": "stream",
     "text": [
      "[<pytraj.datasets.DataSet_double.DataSet_double object at 0x2aaac4ea5630>]\n"
     ]
    }
   ],
   "source": [
    "print (dslist['phi:6']) # return a list of DataSet with a given legend"
   ]
  },
  {
   "cell_type": "code",
   "execution_count": 29,
   "metadata": {
    "collapsed": false
   },
   "outputs": [
    {
     "name": "stdout",
     "output_type": "stream",
     "text": [
      "[-154.42303256899663, -148.6445770244097]\n"
     ]
    }
   ],
   "source": [
    "d0 = dslist['phi:6'][0]\n",
    "print (d0[:])"
   ]
  }
 ],
 "metadata": {
  "kernelspec": {
   "display_name": "Python 3",
   "language": "python",
   "name": "python3"
  },
  "language_info": {
   "codemirror_mode": {
    "name": "ipython",
    "version": 3
   },
   "file_extension": ".py",
   "mimetype": "text/x-python",
   "name": "python",
   "nbconvert_exporter": "python",
   "pygments_lexer": "ipython3",
   "version": "3.4.3"
  }
 },
 "nbformat": 4,
 "nbformat_minor": 0
}
