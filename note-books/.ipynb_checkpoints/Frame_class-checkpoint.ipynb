{
 "metadata": {
  "name": "",
  "signature": "sha256:81182eb5ed65bcf908e002c31cdc33ee49cd13210ad3b4d6780ad1cd1465d142"
 },
 "nbformat": 3,
 "nbformat_minor": 0,
 "worksheets": [
  {
   "cells": [
    {
     "cell_type": "heading",
     "level": 1,
     "metadata": {},
     "source": [
      "Frame object"
     ]
    },
    {
     "cell_type": "markdown",
     "metadata": {},
     "source": [
      "Just like cpptraj, Frame object is work-horse of pycpptraj. "
     ]
    },
    {
     "cell_type": "code",
     "collapsed": false,
     "input": [
      "from pycpptraj import io as mdio\n",
      "from pycpptraj import Frame"
     ],
     "language": "python",
     "metadata": {},
     "outputs": [],
     "prompt_number": 36
    },
    {
     "cell_type": "code",
     "collapsed": false,
     "input": [
      "# loading traj file to FrameArray object\n",
      "traj = mdio.load(\"../tests/data/md1_prod.Tc5b.x\", \"../tests/data/Tc5b.top\")"
     ],
     "language": "python",
     "metadata": {},
     "outputs": [],
     "prompt_number": 37
    },
    {
     "cell_type": "code",
     "collapsed": false,
     "input": [
      "# get frame object\n",
      "frame0 = traj[0]\n",
      "\n",
      "# frame0 behaves like 2D array with shape of (n_atoms, 3)\n",
      "print frame0.shape"
     ],
     "language": "python",
     "metadata": {},
     "outputs": [
      {
       "output_type": "stream",
       "stream": "stdout",
       "text": [
        "(304, 3)\n"
       ]
      }
     ],
     "prompt_number": 38
    },
    {
     "cell_type": "code",
     "collapsed": false,
     "input": [
      "# fancy indexing\n",
      "# whole coords\n",
      "frame0[:][0]"
     ],
     "language": "python",
     "metadata": {},
     "outputs": [
      {
       "metadata": {},
       "output_type": "pyout",
       "prompt_number": 39,
       "text": [
        "array([-16.492,  12.434, -11.018])"
       ]
      }
     ],
     "prompt_number": 39
    },
    {
     "cell_type": "code",
     "collapsed": false,
     "input": [
      "# or\n",
      "frame0[0, :]"
     ],
     "language": "python",
     "metadata": {},
     "outputs": [
      {
       "metadata": {},
       "output_type": "pyout",
       "prompt_number": 40,
       "text": [
        "array([-16.492,  12.434, -11.018])"
       ]
      }
     ],
     "prompt_number": 40
    },
    {
     "cell_type": "code",
     "collapsed": false,
     "input": [
      "# use numpy array as memory view for Frame object\n",
      "import numpy as np\n",
      "\n",
      "arr0 = np.asarray(frame0[:])\n",
      "\n",
      "# update arr0 will update frame coords\n",
      "print frame0[0, 0]\n",
      "arr0[0, 0] = 1000.\n",
      "print frame0[0, 0]"
     ],
     "language": "python",
     "metadata": {},
     "outputs": [
      {
       "output_type": "stream",
       "stream": "stdout",
       "text": [
        "-16.492\n",
        "1000.0\n"
       ]
      }
     ],
     "prompt_number": 41
    },
    {
     "cell_type": "code",
     "collapsed": false,
     "input": [
      "# extracting Frame coords with given mask. \n",
      "# 1st way\n",
      "\n",
      "print frame0[traj.top(\"@CA\")]"
     ],
     "language": "python",
     "metadata": {},
     "outputs": [
      {
       "output_type": "stream",
       "stream": "stdout",
       "text": [
        "[[-17.146  12.069  -9.756]\n",
        " [-15.774   9.648  -7.087]\n",
        " [-16.761   7.688  -3.829]\n",
        " [-15.228   5.335  -1.254]\n",
        " [-15.974   4.229   2.418]\n",
        " [-14.016   1.006   2.992]\n",
        " [-12.158  -1.711   1.129]\n",
        " [-10.459  -5.137   2.023]\n",
        " [ -9.524  -7.464  -0.965]\n",
        " [ -8.858 -11.163  -0.287]\n",
        " [ -7.71  -12.693   3.106]\n",
        " [ -5.13  -11.608   5.838]\n",
        " [ -1.73   -9.971   5.185]\n",
        " [  1.379  -9.977   7.51 ]\n",
        " [  4.659  -7.949   7.677]\n",
        " [  8.367  -8.606   6.79 ]\n",
        " [ 11.671  -7.68    8.742]\n",
        " [ 12.513  -3.997   8.439]\n",
        " [ 15.912  -2.833   6.877]\n",
        " [ 19.12   -3.114   8.925]]\n"
       ]
      }
     ],
     "prompt_number": 42
    },
    {
     "cell_type": "code",
     "collapsed": false,
     "input": [
      "# 2nd way\n",
      "# need to set Topology for frame to use AtomMask\n",
      "frame0.set_top(traj.top)\n",
      "frame0[\"@CA\"]"
     ],
     "language": "python",
     "metadata": {},
     "outputs": [
      {
       "metadata": {},
       "output_type": "pyout",
       "prompt_number": 43,
       "text": [
        "array([[-17.146,  12.069,  -9.756],\n",
        "       [-15.774,   9.648,  -7.087],\n",
        "       [-16.761,   7.688,  -3.829],\n",
        "       [-15.228,   5.335,  -1.254],\n",
        "       [-15.974,   4.229,   2.418],\n",
        "       [-14.016,   1.006,   2.992],\n",
        "       [-12.158,  -1.711,   1.129],\n",
        "       [-10.459,  -5.137,   2.023],\n",
        "       [ -9.524,  -7.464,  -0.965],\n",
        "       [ -8.858, -11.163,  -0.287],\n",
        "       [ -7.71 , -12.693,   3.106],\n",
        "       [ -5.13 , -11.608,   5.838],\n",
        "       [ -1.73 ,  -9.971,   5.185],\n",
        "       [  1.379,  -9.977,   7.51 ],\n",
        "       [  4.659,  -7.949,   7.677],\n",
        "       [  8.367,  -8.606,   6.79 ],\n",
        "       [ 11.671,  -7.68 ,   8.742],\n",
        "       [ 12.513,  -3.997,   8.439],\n",
        "       [ 15.912,  -2.833,   6.877],\n",
        "       [ 19.12 ,  -3.114,   8.925]])"
       ]
      }
     ],
     "prompt_number": 43
    },
    {
     "cell_type": "code",
     "collapsed": false,
     "input": [
      "# coords of 11-th residue (index starts from 0)\n",
      "frame0[\":10\"]"
     ],
     "language": "python",
     "metadata": {},
     "outputs": [
      {
       "metadata": {},
       "output_type": "pyout",
       "prompt_number": 44,
       "text": [
        "array([[ -9.386,  -9.873,  -0.657],\n",
        "       [-10.344,  -9.807,  -0.969],\n",
        "       [ -8.858, -11.163,  -0.287],\n",
        "       [ -9.514, -11.931,  -0.696],\n",
        "       [ -7.851, -11.243,  -0.697],\n",
        "       [ -8.742, -11.387,   1.292],\n",
        "       [ -9.38 , -10.654,   2.081]])"
       ]
      }
     ],
     "prompt_number": 44
    },
    {
     "cell_type": "code",
     "collapsed": false,
     "input": [
      "# indices of atoms in 10-th residue\n",
      "traj.top(\":10\").selected_indices()"
     ],
     "language": "python",
     "metadata": {},
     "outputs": [
      {
       "metadata": {},
       "output_type": "pyout",
       "prompt_number": 45,
       "text": [
        "array('i', [169, 170, 171, 172, 173, 174, 175])"
       ]
      }
     ],
     "prompt_number": 45
    },
    {
     "cell_type": "code",
     "collapsed": false,
     "input": [
      "# TODO : double-check\n",
      "print traj.top[169].resnum\n",
      "print frame0[169, :]"
     ],
     "language": "python",
     "metadata": {},
     "outputs": [
      {
       "output_type": "stream",
       "stream": "stdout",
       "text": [
        "9\n",
        "[-18.772 -19.746  -1.314]\n"
       ]
      }
     ],
     "prompt_number": 66
    },
    {
     "cell_type": "code",
     "collapsed": false,
     "input": [
      "# do basic math with Frame object (you can use numpy memory (as demonstated before))\n",
      "\n",
      "print frame0[12, :]\n",
      "frame0 += frame0\n",
      "print frame0[12, :]"
     ],
     "language": "python",
     "metadata": {},
     "outputs": [
      {
       "output_type": "stream",
       "stream": "stdout",
       "text": [
        "[-21.025  14.293 -10.013]\n",
        "[-42.05   28.586 -20.026]\n"
       ]
      }
     ],
     "prompt_number": 47
    },
    {
     "cell_type": "code",
     "collapsed": false,
     "input": [
      "# calculate rmsd between two frames (2-th frame and 9-th frame in traj object)\n",
      "\n",
      "print traj[2].rmsd(traj[9])"
     ],
     "language": "python",
     "metadata": {},
     "outputs": [
      {
       "output_type": "stream",
       "stream": "stdout",
       "text": [
        "5.82364553554\n"
       ]
      }
     ],
     "prompt_number": 48
    },
    {
     "cell_type": "code",
     "collapsed": false,
     "input": [
      "# methods / properties\n",
      "print dir(frame0)"
     ],
     "language": "python",
     "metadata": {},
     "outputs": [
      {
       "output_type": "stream",
       "stream": "stdout",
       "text": [
        "['VCenterOfMass', 'VGeometricCenter', '__class__', '__delattr__', '__delitem__', '__doc__', '__format__', '__getattribute__', '__getitem__', '__hash__', '__iadd__', '__imul__', '__init__', '__isub__', '__iter__', '__len__', '__mul__', '__new__', '__pyx_vtable__', '__reduce__', '__reduce_ex__', '__repr__', '__rmul__', '__rsub__', '__setattr__', '__setitem__', '__sizeof__', '__str__', '__sub__', '__subclasshook__', 'add_by_mask', 'add_vec3', 'add_xyz', 'atoms', 'box_crd', 'boxview', 'buffer1d', 'buffer3d', 'calc_inertia', 'calc_temperature', 'center_on_origin', 'check_coords_invalid', 'clear_atoms', 'coords', 'copy', 'dist_rmsd', 'divide', 'get_box', 'get_subframe', 'has_box', 'has_vel', 'i_address', 'info', 'is_empty', 'mass', 'n_atoms', 'n_repdims', 'neg_translate', 'py_free_mem', 'rmsd', 'rmsd_centered_ref', 'rmsd_nofit', 'rotate', 'same_coords_as', 'save', 'scale', 'set_axis_of_rotation', 'set_box_angles', 'set_coord', 'set_coords_by_map', 'set_frame', 'set_frame_from_mask', 'set_frame_v', 'set_frame_x_m', 'set_from_crd', 'set_nobox', 'set_top', 'shape', 'size', 'strip_atoms', 'swap_atoms', 't_address', 'temperature', 'trans_rot_trans', 'translate', 'update_atom', 'update_atoms', 'v_address', 'v_xyz', 'zero_coords']\n"
       ]
      }
     ],
     "prompt_number": 49
    },
    {
     "cell_type": "heading",
     "level": 2,
     "metadata": {},
     "source": [
      "Perform cpptraj Action on Frame object"
     ]
    },
    {
     "cell_type": "code",
     "collapsed": false,
     "input": [
      "# this code shows how we're able control workflow of cpptraj.\n",
      "from pycpptraj import allactions\n",
      "radgyr = allactions.Action_Radgyr()"
     ],
     "language": "python",
     "metadata": {},
     "outputs": [],
     "prompt_number": 50
    },
    {
     "cell_type": "code",
     "collapsed": false,
     "input": [
      "# import DataSetList object to store radius of gyration data\n",
      "# there is much shorter way to do this but this is for demonstration\n",
      "from pycpptraj.DataSetList import DataSetList\n",
      "\n",
      "# store data file for writing output\n",
      "from pycpptraj.DataFileList import DataFileList"
     ],
     "language": "python",
     "metadata": {},
     "outputs": [],
     "prompt_number": 51
    },
    {
     "cell_type": "code",
     "collapsed": false,
     "input": [
      "dsetlist = DataSetList()\n",
      "dflist = DataFileList()\n",
      "# perform action on traj\n",
      "\n",
      "# calculate radgyr using CA, \n",
      "radgyr.read_input(\"radgyr @CA out test.out\", current_top=traj.top, dslist=dsetlist, dflist=dflist)"
     ],
     "language": "python",
     "metadata": {},
     "outputs": [
      {
       "metadata": {},
       "output_type": "pyout",
       "prompt_number": 52,
       "text": [
        "0"
       ]
      }
     ],
     "prompt_number": 52
    },
    {
     "cell_type": "code",
     "collapsed": false,
     "input": [
      "# process Topology if needed\n",
      "radgyr.process(traj.top)"
     ],
     "language": "python",
     "metadata": {},
     "outputs": [
      {
       "metadata": {},
       "output_type": "pyout",
       "prompt_number": 53,
       "text": [
        "0"
       ]
      }
     ],
     "prompt_number": 53
    },
    {
     "cell_type": "code",
     "collapsed": false,
     "input": [
      "# start looping all Frame objects"
     ],
     "language": "python",
     "metadata": {},
     "outputs": [],
     "prompt_number": 54
    },
    {
     "cell_type": "code",
     "collapsed": false,
     "input": [
      "for idx, frame in enumerate(traj):\n",
      "    radgyr.do_action(idx, frame)"
     ],
     "language": "python",
     "metadata": {},
     "outputs": [],
     "prompt_number": 55
    },
    {
     "cell_type": "code",
     "collapsed": false,
     "input": [
      "# it's time to get the data\n",
      "import pycpptraj as pyc\n",
      "\n",
      "# currently we need to cast dataset since cpptraj has several kinds\n",
      "d0 = pyc.cast_dataset(dsetlist[0])\n",
      "print d0[:]"
     ],
     "language": "python",
     "metadata": {},
     "outputs": [
      {
       "output_type": "stream",
       "stream": "stdout",
       "text": [
        "[14.745553448243305, 8.429851835145147, 8.44305221395083, 8.110338765119495, 8.10076134863261, 8.920832525190685, 7.938751780191897, 8.022500827360505, 8.394965759161856, 7.984560564927791]\n"
       ]
      }
     ],
     "prompt_number": 56
    },
    {
     "cell_type": "code",
     "collapsed": false,
     "input": [
      "# saving to file\n",
      "dflist.write_all_datafiles()"
     ],
     "language": "python",
     "metadata": {},
     "outputs": [],
     "prompt_number": 57
    },
    {
     "cell_type": "code",
     "collapsed": false,
     "input": [
      "# make sure we already save it\n",
      "!ls test.out"
     ],
     "language": "python",
     "metadata": {},
     "outputs": [
      {
       "output_type": "stream",
       "stream": "stdout",
       "text": [
        "test.out\r\n"
       ]
      }
     ],
     "prompt_number": 58
    },
    {
     "cell_type": "code",
     "collapsed": false,
     "input": [
      "!head test.out"
     ],
     "language": "python",
     "metadata": {},
     "outputs": [
      {
       "output_type": "stream",
       "stream": "stdout",
       "text": [
        "#Frame         radgyr  radgyr[Max]\r\n",
        "       1      14.7456      23.7857\r\n",
        "       2       8.4299      14.3481\r\n",
        "       3       8.4431      14.9007\r\n",
        "       4       8.1103      15.2074\r\n",
        "       5       8.1008      13.5288\r\n",
        "       6       8.9208      13.8100\r\n",
        "       7       7.9388      12.4629\r\n",
        "       8       8.0225      12.2434\r\n",
        "       9       8.3950      13.7869\r\n"
       ]
      }
     ],
     "prompt_number": 59
    },
    {
     "cell_type": "code",
     "collapsed": false,
     "input": [
      "# what's happen if we get lost?\n",
      "from pycpptraj import action_help\n",
      "action_help()"
     ],
     "language": "python",
     "metadata": {},
     "outputs": [
      {
       "output_type": "stream",
       "stream": "stdout",
       "text": [
        "give the name of Action to get help\n",
        "action_help('RadGyr')\n",
        "['Rotdif', 'Pucker', 'NativeContacts', 'Scale', 'FilterByData', 'Temperature', 'Radgyr', 'NAstruct', 'LIE', 'Rotate', 'Dipole', 'DSSP', 'AtomMap', 'Outtraj', 'Matrix', 'PairDist', 'Surf', 'Gist', 'ClusterDihedral', 'RandomizeIons', 'SetVelocity', 'Box', 'VelocityAutoCorr', 'LESsplit', 'Image', 'MultiDihedral', 'Mask', 'Translate', 'GridFreeEnergy', 'RunningAvg', 'Rmsd', 'AtomicCorr', 'AtomicFluct', 'MakeStructure', 'Average', 'Spam', 'CheckStructure', 'Strip', 'Center', 'NMRrst', 'Projection', 'FixAtomOrder', 'Radial', 'Bounds', 'SymmetricRmsd', 'Contacts', 'Volmap', 'Vector', 'Pairwise', 'Dihedral', 'STFC_Diffusion', 'Jcoupling', 'Watershell', 'Molsurf', 'Closest', 'Principal', 'Grid', 'DistRmsd', 'Diffusion', 'Angle', 'CreateReservoir', 'Unwrap', 'AutoImage', 'Distance', 'Hbond', 'OrderParameter', 'DNAionTracker', 'DihedralScan', 'CreateCrd', 'Density']\n"
       ]
      }
     ],
     "prompt_number": 60
    },
    {
     "cell_type": "code",
     "collapsed": false,
     "input": [
      "action_help(\"AutoImage\") \n",
      "# oops, currently pycpptraj can not capture cpptraj mprint output ins this notebook\n",
      "# if we use ipython, we still see it.\n"
     ],
     "language": "python",
     "metadata": {},
     "outputs": [],
     "prompt_number": 61
    },
    {
     "cell_type": "markdown",
     "metadata": {},
     "source": [
      "        [<mask> | anchor <mask> [fixed <fmask>] [mobile <mmask>]]\n",
      "        [origin] [firstatom] [familiar | triclinic]\n",
      "  Automatically center and image periodic trajectory.\n",
      "  The 'anchor' molecule (default the first molecule) will be centered;\n",
      "  all 'fixed' molecules will be imaged only if imaging brings them closer\n",
      "  to the 'anchor' molecule; default for 'fixed' molecules is all\n",
      "  non-solvent non-ion molecules. All other molecules (referred to as\n",
      "  'mobile') will be imaged freely.\n"
     ]
    }
   ],
   "metadata": {}
  }
 ]
}