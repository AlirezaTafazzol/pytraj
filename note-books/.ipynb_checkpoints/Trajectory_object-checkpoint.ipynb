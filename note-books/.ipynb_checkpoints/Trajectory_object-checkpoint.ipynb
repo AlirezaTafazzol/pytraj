{
 "metadata": {
  "name": "",
  "signature": "sha256:400113f320c47c6b93ee36236d30afeb2da0a95c376851b40223c41787450bd1"
 },
 "nbformat": 3,
 "nbformat_minor": 0,
 "worksheets": [
  {
   "cells": [
    {
     "cell_type": "markdown",
     "metadata": {},
     "source": [
      "There are two types of trajectory objects in pytraj: TrajReadOnly and FrameArray\n",
      "    * TrajReadOnly is thin wrapper of Trajectory class in cpptraj. It is immutatble in pytraj\n",
      "    * FrameArray is pytraj class, behaving like a vector (or array) of frame instances. It is mutable. FrameArray was created to give interface with numpy/scipy and other Python packages.\n",
      "    "
     ]
    },
    {
     "cell_type": "code",
     "collapsed": false,
     "input": [
      "from __future__ import absolute_import\n",
      "from pytraj import load_sample_data\n",
      "# load sample Ala3 trajectory \n",
      "traj = load_sample_data()\n"
     ],
     "language": "python",
     "metadata": {},
     "outputs": [],
     "prompt_number": 2
    },
    {
     "cell_type": "code",
     "collapsed": false,
     "input": [
      "print (traj)"
     ],
     "language": "python",
     "metadata": {},
     "outputs": [
      {
       "output_type": "stream",
       "stream": "stdout",
       "text": [
        "<pytraj.TrajReadOnly.TrajReadOnly object at 0x7f79980a04b0>\n"
       ]
      }
     ],
     "prompt_number": 3
    },
    {
     "cell_type": "code",
     "collapsed": false,
     "input": [
      "print (traj[0][0, 0])\n",
      "print (\"updating coords of 0-th frame\")\n",
      "\n",
      "traj[0][0, 0] = 1000.\n",
      "print (traj[0][0, 0])   "
     ],
     "language": "python",
     "metadata": {},
     "outputs": [
      {
       "output_type": "stream",
       "stream": "stdout",
       "text": [
        "3.32577\n",
        "updating coords of 0-th frame\n",
        "3.32577\n"
       ]
      }
     ],
     "prompt_number": 4
    },
    {
     "cell_type": "code",
     "collapsed": false,
     "input": [
      "# convert to FrameArray object\n",
      "farray = traj[:]\n",
      "print (farray[0][0, 0])\n",
      "print (\"updating coords of 0-th frame\")\n",
      "\n",
      "farray[0][0, 0] = 1000.\n",
      "print (farray[0][0, 0])  "
     ],
     "language": "python",
     "metadata": {},
     "outputs": [
      {
       "output_type": "stream",
       "stream": "stdout",
       "text": [
        "3.32577\n",
        "updating coords of 0-th frame\n",
        "1000.0\n"
       ]
      }
     ],
     "prompt_number": 5
    },
    {
     "cell_type": "code",
     "collapsed": false,
     "input": [
      "# TrajReadOnly and FrameArray have similiar methods.\n",
      "\n",
      "# extract coords of CA atoms\n",
      "print traj['@CA']"
     ],
     "language": "python",
     "metadata": {},
     "outputs": [
      {
       "output_type": "stream",
       "stream": "stdout",
       "text": [
        "[[[  3.97004800e+00   2.84579500e+00  -1.00000000e-07]\n",
        "  [  7.64000760e+00   3.83858370e+00  -7.40000000e-06]\n",
        "  [  1.01610562e+01   6.68437820e+00   1.20000000e-06]]]\n"
       ]
      }
     ],
     "prompt_number": 6
    },
    {
     "cell_type": "code",
     "collapsed": false,
     "input": [
      "print farray['@CA']"
     ],
     "language": "python",
     "metadata": {},
     "outputs": [
      {
       "output_type": "stream",
       "stream": "stdout",
       "text": [
        "[[[  3.97004800e+00   2.84579500e+00  -1.00000000e-07]\n",
        "  [  7.64000760e+00   3.83858370e+00  -7.40000000e-06]\n",
        "  [  1.01610562e+01   6.68437820e+00   1.20000000e-06]]]\n"
       ]
      }
     ],
     "prompt_number": 7
    },
    {
     "cell_type": "code",
     "collapsed": false,
     "input": [],
     "language": "python",
     "metadata": {},
     "outputs": []
    }
   ],
   "metadata": {}
  }
 ]
}