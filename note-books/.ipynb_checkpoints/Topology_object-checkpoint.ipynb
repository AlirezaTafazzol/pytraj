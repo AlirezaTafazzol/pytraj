{
 "metadata": {
  "name": "",
  "signature": "sha256:339bbad3aabafc3790c03939aec0671634b0e2e48d0520a1cf110fb3e04e70e5"
 },
 "nbformat": 3,
 "nbformat_minor": 0,
 "worksheets": [
  {
   "cells": [
    {
     "cell_type": "markdown",
     "metadata": {},
     "source": [
      "# TODO : write introduction"
     ]
    },
    {
     "cell_type": "code",
     "collapsed": false,
     "input": [
      "from pycpptraj import Topology\n",
      "from pycpptraj import load_sample_data"
     ],
     "language": "python",
     "metadata": {},
     "outputs": [],
     "prompt_number": 1
    },
    {
     "cell_type": "code",
     "collapsed": false,
     "input": [
      "top = Topology(\"../tests/data/Tc5b.top\")\n",
      "print top"
     ],
     "language": "python",
     "metadata": {},
     "outputs": [
      {
       "output_type": "stream",
       "stream": "stdout",
       "text": [
        "Topology instance with 304 atoms. ID = 0x7f1bbb9c9fb0\n"
       ]
      }
     ],
     "prompt_number": 2
    },
    {
     "cell_type": "code",
     "collapsed": false,
     "input": [
      "# get first atom in Topology\n",
      "print top[0]"
     ],
     "language": "python",
     "metadata": {},
     "outputs": [
      {
       "output_type": "stream",
       "stream": "stdout",
       "text": [
        "Atom object with name N    \n"
       ]
      }
     ],
     "prompt_number": 3
    },
    {
     "cell_type": "code",
     "collapsed": false,
     "input": [
      "# get all atoms with mask CA\n",
      "print top['@CA']"
     ],
     "language": "python",
     "metadata": {},
     "outputs": [
      {
       "output_type": "stream",
       "stream": "stdout",
       "text": [
        "[<Atom object: CA  >, <Atom object: CA  >, <Atom object: CA  >, <Atom object: CA  >, <Atom object: CA  >, <Atom object: CA  >, <Atom object: CA  >, <Atom object: CA  >, <Atom object: CA  >, <Atom object: CA  >, <Atom object: CA  >, <Atom object: CA  >, <Atom object: CA  >, <Atom object: CA  >, <Atom object: CA  >, <Atom object: CA  >, <Atom object: CA  >, <Atom object: CA  >, <Atom object: CA  >, <Atom object: CA  >]\n"
       ]
      }
     ],
     "prompt_number": 4
    },
    {
     "cell_type": "code",
     "collapsed": false,
     "input": [
      "# loop all CA to get information\n",
      "for atom in top['@CA']:\n",
      "    print atom.name, atom.resnum"
     ],
     "language": "python",
     "metadata": {},
     "outputs": [
      {
       "output_type": "stream",
       "stream": "stdout",
       "text": [
        "CA   0\n",
        "CA   1\n",
        "CA   2\n",
        "CA   3\n",
        "CA   4\n",
        "CA   5\n",
        "CA   6\n",
        "CA   7\n",
        "CA   8\n",
        "CA   9\n",
        "CA   10\n",
        "CA   11\n",
        "CA   12\n",
        "CA   13\n",
        "CA   14\n",
        "CA   15\n",
        "CA   16\n",
        "CA   17\n",
        "CA   18\n",
        "CA   19\n"
       ]
      }
     ],
     "prompt_number": 5
    },
    {
     "cell_type": "code",
     "collapsed": false,
     "input": [
      "# make a new copy\n",
      "top2 = top.copy()"
     ],
     "language": "python",
     "metadata": {},
     "outputs": [],
     "prompt_number": 6
    },
    {
     "cell_type": "code",
     "collapsed": false,
     "input": [
      "top2 == top"
     ],
     "language": "python",
     "metadata": {},
     "outputs": [
      {
       "metadata": {},
       "output_type": "pyout",
       "prompt_number": 7,
       "text": [
        "False"
       ]
      }
     ],
     "prompt_number": 7
    },
    {
     "cell_type": "code",
     "collapsed": false,
     "input": [
      "# get unique atom names\n",
      "top.get_atomname_set()"
     ],
     "language": "python",
     "metadata": {},
     "outputs": [
      {
       "output_type": "stream",
       "stream": "stdout",
       "text": [
        "this method name will be changed\n"
       ]
      },
      {
       "metadata": {},
       "output_type": "pyout",
       "prompt_number": 8,
       "text": [
        "Set(['HH12', 'HD22', 'HD23', 'H3  ', 'OH  ', 'HE2 ', 'ND2 ', 'HG23', 'NH2 ', 'HB3 ', 'HH  ', 'HD2 ', 'HE22', 'NE2 ', 'HE21', 'CE1 ', 'HE  ', 'HH2 ', 'NE  ', 'CE2 ', 'HD21', 'CG2 ', 'HG3 ', 'CZ  ', 'HH22', 'O   ', 'HG12', 'HG13', 'NZ  ', 'C   ', 'HZ2 ', 'CZ3 ', 'CG1 ', 'HZ1 ', 'CZ2 ', 'CE3 ', 'HE3 ', 'HA3 ', 'HD1 ', 'CA  ', 'HA2 ', 'HB2 ', 'HD3 ', 'HG  ', 'HE1 ', 'HD13', 'HD12', 'HD11', 'CD2 ', 'OD1 ', 'N   ', 'NE1 ', 'HZ3 ', 'OXT ', 'HA  ', 'CD1 ', 'CB  ', 'CE  ', 'HG2 ', 'HH21', 'HB  ', 'NH1 ', 'OG  ', 'CD  ', 'H1  ', 'HH11', 'CH2 ', 'HG21', 'OD2 ', 'CG  ', 'HG22', 'H   ', 'H2  ', 'OE1 '])"
       ]
      }
     ],
     "prompt_number": 8
    },
    {
     "cell_type": "code",
     "collapsed": false,
     "input": [
      "# get unique residue name\n",
      "top.get_resname_set()"
     ],
     "language": "python",
     "metadata": {},
     "outputs": [
      {
       "output_type": "stream",
       "stream": "stdout",
       "text": [
        "this method name will be changed\n"
       ]
      },
      {
       "metadata": {},
       "output_type": "pyout",
       "prompt_number": 10,
       "text": [
        "Set(['ILE ', 'LEU ', 'LYS ', 'TRP ', 'GLN ', 'GLY ', 'TYR ', 'SER ', 'ARG ', 'ASP ', 'ASN ', 'PRO '])"
       ]
      }
     ],
     "prompt_number": 10
    },
    {
     "cell_type": "code",
     "collapsed": false,
     "input": [
      "res0 = top.residueiter.next()"
     ],
     "language": "python",
     "metadata": {},
     "outputs": [],
     "prompt_number": 11
    },
    {
     "cell_type": "code",
     "collapsed": false,
     "input": [
      "for res0 in top.residueiter:\n",
      "    print res0.name"
     ],
     "language": "python",
     "metadata": {},
     "outputs": [
      {
       "output_type": "stream",
       "stream": "stdout",
       "text": [
        "ASN \n",
        "LEU \n",
        "TYR \n",
        "ILE \n",
        "GLN \n",
        "TRP \n",
        "LEU \n",
        "LYS \n",
        "ASP \n",
        "GLY \n",
        "GLY \n",
        "PRO \n",
        "SER \n",
        "SER \n",
        "GLY \n",
        "ARG \n",
        "PRO \n",
        "PRO \n",
        "PRO \n",
        "SER \n"
       ]
      }
     ],
     "prompt_number": 14
    },
    {
     "cell_type": "code",
     "collapsed": false,
     "input": [
      "# get atom mask object\n",
      "atommask = top(\"@CA\")"
     ],
     "language": "python",
     "metadata": {},
     "outputs": [],
     "prompt_number": 16
    },
    {
     "cell_type": "code",
     "collapsed": false,
     "input": [
      "# get incides of atoms having mask \"@CA\"\n",
      "print atommask.selected_indices()"
     ],
     "language": "python",
     "metadata": {},
     "outputs": [
      {
       "output_type": "stream",
       "stream": "stdout",
       "text": [
        "array('i', [4, 18, 37, 58, 77, 94, 118, 137, 159, 171, 178, 193, 199, 210, 221, 228, 260, 274, 288, 294])\n"
       ]
      }
     ],
     "prompt_number": 17
    },
    {
     "cell_type": "code",
     "collapsed": false,
     "input": [
      "# but you can get atom objects having mask @CA too\n",
      "# In this case, we use [] rather using ()\n",
      "print top[\"@CA\"]"
     ],
     "language": "python",
     "metadata": {},
     "outputs": [
      {
       "output_type": "stream",
       "stream": "stdout",
       "text": [
        "[<Atom object: CA  >, <Atom object: CA  >, <Atom object: CA  >, <Atom object: CA  >, <Atom object: CA  >, <Atom object: CA  >, <Atom object: CA  >, <Atom object: CA  >, <Atom object: CA  >, <Atom object: CA  >, <Atom object: CA  >, <Atom object: CA  >, <Atom object: CA  >, <Atom object: CA  >, <Atom object: CA  >, <Atom object: CA  >, <Atom object: CA  >, <Atom object: CA  >, <Atom object: CA  >, <Atom object: CA  >]\n"
       ]
      }
     ],
     "prompt_number": 18
    },
    {
     "cell_type": "code",
     "collapsed": false,
     "input": [
      "# get indices of residues having mask :PRO\n",
      "# TODO : return residue indices too?\n",
      "top(\":PRO\").selected_indices()"
     ],
     "language": "python",
     "metadata": {},
     "outputs": [
      {
       "metadata": {},
       "output_type": "pyout",
       "prompt_number": 24,
       "text": [
        "array('i', [183, 184, 185, 186, 187, 188, 189, 190, 191, 192, 193, 194, 195, 196, 250, 251, 252, 253, 254, 255, 256, 257, 258, 259, 260, 261, 262, 263, 264, 265, 266, 267, 268, 269, 270, 271, 272, 273, 274, 275, 276, 277, 278, 279, 280, 281, 282, 283, 284, 285, 286, 287, 288, 289, 290, 291])"
       ]
      }
     ],
     "prompt_number": 24
    },
    {
     "cell_type": "code",
     "collapsed": false,
     "input": [
      "# get residues indies having mask :PRO\n",
      "from sets import Set\n",
      "resid = Set()\n",
      "\n",
      "for atom in top[\":PRO\"]:\n",
      "    resid.add(atom.resnum)\n",
      "    \n",
      "print sorted(resid)"
     ],
     "language": "python",
     "metadata": {},
     "outputs": [
      {
       "output_type": "stream",
       "stream": "stdout",
       "text": [
        "[11, 16, 17, 18]\n"
       ]
      }
     ],
     "prompt_number": 31
    },
    {
     "cell_type": "code",
     "collapsed": false,
     "input": [
      "# how's about creating new Topology from new atoms?\n",
      "\n",
      "from pycpptraj.Atom import Atom\n",
      "pseudotop = Topology()\n",
      "\n"
     ],
     "language": "python",
     "metadata": {},
     "outputs": [],
     "prompt_number": 35
    },
    {
     "cell_type": "code",
     "collapsed": false,
     "input": [
      "# create atom with name \"CA\" and nametype \"CX\"\n",
      "# dummy example\n",
      "\n",
      "for name, ntype in zip([\"CA\", \"CA\", \"CB\"], [\"CX\", \"CY\", \"CZ\"]):\n",
      "    atom = Atom(\"CA\", \"CX\")\n",
      "    pseudotop.add_atom(atom, resid=20, resname=\"TEST\")"
     ],
     "language": "python",
     "metadata": {},
     "outputs": [],
     "prompt_number": 39
    },
    {
     "cell_type": "code",
     "collapsed": false,
     "input": [
      "print pseudotop"
     ],
     "language": "python",
     "metadata": {},
     "outputs": [
      {
       "output_type": "stream",
       "stream": "stdout",
       "text": [
        "Topology instance with 3 atoms. ID = 0x7f1ba012db30\n"
       ]
      }
     ],
     "prompt_number": 40
    },
    {
     "cell_type": "code",
     "collapsed": false,
     "input": [
      "print pseudotop.n_atoms"
     ],
     "language": "python",
     "metadata": {},
     "outputs": [
      {
       "output_type": "stream",
       "stream": "stdout",
       "text": [
        "3\n"
       ]
      }
     ],
     "prompt_number": 41
    },
    {
     "cell_type": "code",
     "collapsed": false,
     "input": [
      "print pseudotop.get_atomname_set()\n",
      "print pseudotop.get_resname_set()"
     ],
     "language": "python",
     "metadata": {},
     "outputs": [
      {
       "output_type": "stream",
       "stream": "stdout",
       "text": [
        "this method name will be changed\n",
        "Set(['CA  '])\n",
        "this method name will be changed\n",
        "Set(['TEST'])\n"
       ]
      }
     ],
     "prompt_number": 42
    },
    {
     "cell_type": "code",
     "collapsed": false,
     "input": [],
     "language": "python",
     "metadata": {},
     "outputs": []
    }
   ],
   "metadata": {}
  }
 ]
}