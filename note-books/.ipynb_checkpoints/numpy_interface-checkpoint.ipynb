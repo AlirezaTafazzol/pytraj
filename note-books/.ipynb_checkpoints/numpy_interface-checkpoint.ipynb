{
 "metadata": {
  "name": "",
  "signature": "sha256:76f650ff2d3b5856faecea4fdb0773fb08e14825763692dc5ff16dbd48699768"
 },
 "nbformat": 3,
 "nbformat_minor": 0,
 "worksheets": [
  {
   "cells": [
    {
     "cell_type": "markdown",
     "metadata": {},
     "source": [
      "pytraj (and cpptraj) does not depend on numpy/scipy library. However you are still able to fully use their computational power by using memoryview in Python"
     ]
    },
    {
     "cell_type": "code",
     "collapsed": false,
     "input": [
      "from __future__ import absolute_import\n",
      "from pytraj import load_sample_data"
     ],
     "language": "python",
     "metadata": {},
     "outputs": [],
     "prompt_number": 13
    },
    {
     "cell_type": "code",
     "collapsed": false,
     "input": [
      "# load sample Ala3 trajectory \n",
      "traj = load_sample_data()\n",
      "\n",
      "# extract frame object\n",
      "frame = traj[0]"
     ],
     "language": "python",
     "metadata": {},
     "outputs": [],
     "prompt_number": 14
    },
    {
     "cell_type": "code",
     "collapsed": false,
     "input": [
      "# using memoryview with numpy array (basically you can use numpy to change \n",
      "# frame object's internal data without doing extra copying)\n",
      "\n",
      "import numpy as np\n",
      "\n",
      "arr0 = np.asarray(frame[:])\n",
      "# or explicitly use frame.buffer3d\n",
      "# arr0 = np.asarray(frame.buffer3d[:])\n",
      "\n",
      "print (frame.shape)\n",
      "print (arr0.shape)"
     ],
     "language": "python",
     "metadata": {},
     "outputs": [
      {
       "output_type": "stream",
       "stream": "stdout",
       "text": [
        "(34, 3)\n",
        "(34, 3)\n"
       ]
      }
     ],
     "prompt_number": 15
    },
    {
     "cell_type": "code",
     "collapsed": false,
     "input": [
      "# update arr0 will update frame's coordinates too\n",
      "print (\"before updating arr0\")\n",
      "print (frame[0, :])\n",
      "print (arr0[0, :])\n",
      "\n",
      "arr0[0, :] = np.arange(3, dtype=np.float64)\n",
      "print ()\n",
      "print (\"after updating arr0\")\n",
      "print (frame[0, :])\n",
      "print (arr0[0, :])"
     ],
     "language": "python",
     "metadata": {},
     "outputs": [
      {
       "output_type": "stream",
       "stream": "stdout",
       "text": [
        "before updating arr0\n",
        "[  3.32577000e+00   1.54790900e+00  -1.60000000e-06]\n",
        "[  3.32577000e+00   1.54790900e+00  -1.60000000e-06]\n",
        "()\n",
        "after updating arr0\n",
        "[ 0.  1.  2.]\n",
        "[ 0.  1.  2.]\n"
       ]
      }
     ],
     "prompt_number": 16
    },
    {
     "cell_type": "code",
     "collapsed": false,
     "input": [],
     "language": "python",
     "metadata": {},
     "outputs": [],
     "prompt_number": 16
    }
   ],
   "metadata": {}
  }
 ]
}