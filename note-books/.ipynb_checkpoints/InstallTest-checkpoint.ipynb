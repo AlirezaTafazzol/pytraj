{
 "metadata": {
  "name": "",
  "signature": "sha256:fc1e7b9c864104fab5486d93dd088518c2f89730ee503e5cdb4a20cb5602fa97"
 },
 "nbformat": 3,
 "nbformat_minor": 0,
 "worksheets": [
  {
   "cells": [
    {
     "cell_type": "code",
     "collapsed": false,
     "input": [
      "from pycpptraj import run_tests\n",
      "run_tests()"
     ],
     "language": "python",
     "metadata": {},
     "outputs": [
      {
       "output_type": "stream",
       "stream": "stdout",
       "text": [
        "OK\n"
       ]
      }
     ],
     "prompt_number": 7
    },
    {
     "cell_type": "code",
     "collapsed": false,
     "input": [
      "from pycpptraj import load_sample_data\n",
      "traj = load_sample_data()[:]\n",
      "print traj\n",
      "print traj.top\n",
      "\n",
      "# coords of first 10 atoms\n",
      "print traj[0, :10]"
     ],
     "language": "python",
     "metadata": {},
     "outputs": [
      {
       "output_type": "stream",
       "stream": "stdout",
       "text": [
        "FrameArray instance with 1 frames, 34 atoms/frame\n",
        "                  ID = 0x7fa941bc81a0\n",
        "               \n",
        "Topology instance with 34 atoms. ID = 0x7fa941b5b4f0\n",
        "[[  3.32577000e+00   1.54790900e+00  -1.60000000e-06]\n",
        " [  4.04615400e+00   8.39991000e-01  -2.90000000e-06]\n",
        " [  2.82309400e+00   1.49950800e+00  -8.74687000e-01]\n",
        " [  2.82309700e+00   1.49950700e+00   8.74685000e-01]\n",
        " [  3.97004800e+00   2.84579500e+00  -1.00000000e-07]\n",
        " [  3.67166300e+00   3.40012900e+00  -8.89820000e-01]\n",
        " [  3.57696500e+00   3.65383800e+00   1.23214300e+00]\n",
        " [  3.87748400e+00   3.11579500e+00   2.13119700e+00]\n",
        " [  4.07505900e+00   4.62301700e+00   1.20578600e+00]\n",
        " [  2.49699500e+00   3.80107500e+00   1.24137900e+00]]\n"
       ]
      }
     ],
     "prompt_number": 12
    },
    {
     "cell_type": "code",
     "collapsed": false,
     "input": [],
     "language": "python",
     "metadata": {},
     "outputs": []
    }
   ],
   "metadata": {}
  }
 ]
}