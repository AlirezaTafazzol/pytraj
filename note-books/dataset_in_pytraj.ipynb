{
 "cells": [
  {
   "cell_type": "markdown",
   "metadata": {},
   "source": [
    "# DataSetList\n",
    "\n",
    "This is an important class in pytraj/cpptraj. It holds data from calculation. Such as\n",
    "```python\n",
    "    calc_radgyr(\"@CA\", traj, dslist=dslist)\n",
    "```"
   ]
  },
  {
   "cell_type": "markdown",
   "metadata": {},
   "source": [
    "There are few methods and attributres of DataSetList make anlyzing data easier.\n",
    "```pytraj\n",
    "      dslist.tolist() # try to cast to Python list\n",
    "      dslist.to_ndarray() # try to cast to numpy array\n",
    "      dslist.to_dict() # try to cast to Python Dict\n",
    "      dslist.groupby(key, mode='legend') # try to group datasets having `key` in `mode`. (example will be shown later)\n",
    "\n",
    "Note: this notebook is not final version and methods can be changed. :D"
   ]
  },
  {
   "cell_type": "markdown",
   "metadata": {},
   "source": [
    "## 1. Perform dihedral search"
   ]
  },
  {
   "cell_type": "code",
   "execution_count": 1,
   "metadata": {
    "collapsed": false
   },
   "outputs": [
    {
     "name": "stdout",
     "output_type": "stream",
     "text": [
      "TrajReadOnly instance with 1 frames, 34 atoms/frame\n",
      "           \n",
      "Topology instance with 34 atoms. ID = 0x2aaac4062810\n",
      "{'ALA ', 'ALH '}\n"
     ]
    }
   ],
   "source": [
    "# load sample data from pytraj\n",
    "\n",
    "from pytraj import load_sample_data\n",
    "\n",
    "traj = load_sample_data()\n",
    "print (traj)\n",
    "print (traj.top)\n",
    "print (traj.top.get_unique_resname())"
   ]
  },
  {
   "cell_type": "code",
   "execution_count": 2,
   "metadata": {
    "collapsed": false,
    "scrolled": true
   },
   "outputs": [
    {
     "name": "stdout",
     "output_type": "stream",
     "text": [
      "<pytraj.DataSetList.DataSetList object at 0x2aaac6a06b90>\n",
      "['psi:1', 'phi:2', 'psi:2', 'omega:2', 'phi:3', 'omega:3']\n",
      "<pytraj.datasets.DataSet_double.DataSet_double object at 0x2b3e2aa2e8a0>\n"
     ]
    }
   ],
   "source": [
    "# let's do dihedral search and hold data in DataSetList object\n",
    "from pytraj import calculate\n",
    "dslist = calculate('multidihedral', \"\", traj) # search all possible dihedrals\n",
    "print (dslist)\n",
    "\n",
    "# dlist be haves similiar to Python dict and list\n",
    "print (dslist.keys()) # get `key` for indexing like a dictionary\n",
    "print (dslist['phi:2']) # print phi for residue 2 (when using string for indexing, the index starts from 1)"
   ]
  },
  {
   "cell_type": "code",
   "execution_count": 3,
   "metadata": {
    "collapsed": false
   },
   "outputs": [
    {
     "name": "stdout",
     "output_type": "stream",
     "text": [
      "<pytraj.datasets.DataSet_double.DataSet_double object at 0x2b3e2aa2e900>\n",
      "[179.99992142498905]\n",
      "{'psi:1': [179.99992142498905], 'phi:3': [-179.99977572713476], 'psi:2': [179.99992587395795], 'omega:2': [179.99992243336035], 'omega:3': [179.99992169448015], 'phi:2': [-179.99976823544196]}\n"
     ]
    }
   ],
   "source": [
    "# behave like a python list\n",
    "print (dslist[0])\n",
    "\n",
    "# want to get raw data?\n",
    "print (dslist[0].tolist())\n",
    "\n",
    "# convert to real Python dict?\n",
    "print (dslist.to_dict())"
   ]
  },
  {
   "cell_type": "code",
   "execution_count": 4,
   "metadata": {
    "collapsed": false
   },
   "outputs": [
    {
     "name": "stdout",
     "output_type": "stream",
     "text": [
      "{'phi:2': [-179.99976823544196], 'phi:3': [-179.99977572713476]}\n"
     ]
    }
   ],
   "source": [
    "# group by keyword?\n",
    "print (dslist.groupby(\"phi\").to_dict())"
   ]
  },
  {
   "cell_type": "code",
   "execution_count": 5,
   "metadata": {
    "collapsed": false
   },
   "outputs": [
    {
     "name": "stdout",
     "output_type": "stream",
     "text": [
      "[[ 179.99992142]\n",
      " [-179.99976824]\n",
      " [ 179.99992587]\n",
      " [ 179.99992243]\n",
      " [-179.99977573]\n",
      " [ 179.99992169]]\n"
     ]
    }
   ],
   "source": [
    "# gete ndarray?\n",
    "print (dslist.to_ndarray())"
   ]
  },
  {
   "cell_type": "code",
   "execution_count": 6,
   "metadata": {
    "collapsed": false
   },
   "outputs": [
    {
     "name": "stdout",
     "output_type": "stream",
     "text": [
      "6\n",
      "5\n",
      "['psi:1', 'phi:2', 'omega:2', 'phi:3', 'omega:3']\n"
     ]
    }
   ],
   "source": [
    "# remove dataset?\n",
    "# size before\n",
    "print (dslist.size)\n",
    "dslist.remove_set(dslist['psi:2'])\n",
    "\n",
    "# after\n",
    "print (dslist.size)\n",
    "print (dslist.keys())"
   ]
  },
  {
   "cell_type": "code",
   "execution_count": 7,
   "metadata": {
    "collapsed": false,
    "scrolled": false
   },
   "outputs": [
    {
     "name": "stdout",
     "output_type": "stream",
     "text": [
      "Help on DataSetList object:\n",
      "\n",
      "class DataSetList(builtins.object)\n",
      " |  Methods defined here:\n",
      " |  \n",
      " |  __call__(self, /, *args, **kwargs)\n",
      " |      Call self as a function.\n",
      " |  \n",
      " |  __getitem__(...)\n",
      " |      return a DataSet instance\n",
      " |      Memory view is applied (which mean this new insance is just alias of self[idx])\n",
      " |      Should we use a copy instead?\n",
      " |  \n",
      " |  __iadd__(self, value, /)\n",
      " |      Return self+=value.\n",
      " |  \n",
      " |  __iter__(self, /)\n",
      " |      Implement iter(self).\n",
      " |  \n",
      " |  __len__(self, /)\n",
      " |      Return len(self).\n",
      " |  \n",
      " |  __new__(*args, **kwargs) from builtins.type\n",
      " |      Create and return a new object.  See help(type) for accurate signature.\n",
      " |  \n",
      " |  add_existing_set(...)\n",
      " |      DataSetList.add_existing_set(self, DataSet ds)\n",
      " |  \n",
      " |  add_set(...)\n",
      " |      DataSetList.add_set(self, dtype=None, name='', default_name='')\n",
      " |  \n",
      " |  add_set_aspect(...)\n",
      " |      DataSetList.add_set_aspect(self, dtype, name=None, aspect=None)\n",
      " |      add new dataset\n",
      " |              Paramters\n",
      " |              --------\n",
      " |              dtype : str\n",
      " |                  DataType\n",
      " |      \n",
      " |              name_1 : str\n",
      " |      \n",
      " |              name_2 : str\n",
      " |  \n",
      " |  add_setidx(...)\n",
      " |      DataSetList.add_setidx(self, DataType inType, string nameIn, int idx)\n",
      " |  \n",
      " |  allocate_sets(...)\n",
      " |      DataSetList.allocate_sets(self, long i)\n",
      " |  \n",
      " |  clear(...)\n",
      " |      DataSetList.clear(self)\n",
      " |  \n",
      " |  ensemble_num(...)\n",
      " |      DataSetList.ensemble_num(self)\n",
      " |  \n",
      " |  find_coords_set(...)\n",
      " |      DataSetList.find_coords_set(self, name)\n",
      " |  \n",
      " |  find_set_of_type(...)\n",
      " |      DataSetList.find_set_of_type(self, filename, dtype)\n",
      " |  \n",
      " |  get_aspects(...)\n",
      " |      DataSetList.get_aspects(self, is_set=True)\n",
      " |      return a set of uniqure aspects if \"is_set\" = True\n",
      " |              else: return a full list\n",
      " |  \n",
      " |  get_dataset(...)\n",
      " |      DataSetList.get_dataset(self, idx=None, name=None, dtype=None)\n",
      " |      \n",
      " |      return DataSet instance\n",
      " |      Input:\n",
      " |      =====\n",
      " |      name :: str, optional\n",
      " |      idx :: integer, optional\n",
      " |  \n",
      " |  get_dtypes(...)\n",
      " |      DataSetList.get_dtypes(self)\n",
      " |      return a list\n",
      " |  \n",
      " |  get_legends(...)\n",
      " |      DataSetList.get_legends(self)\n",
      " |      return a list\n",
      " |  \n",
      " |  get_multiple_sets(...)\n",
      " |      DataSetList.get_multiple_sets(self, string s)\n",
      " |      TODO: double-check cpptraj\n",
      " |  \n",
      " |  get_scalar_modes(...)\n",
      " |      DataSetList.get_scalar_modes(self)\n",
      " |      return a list\n",
      " |  \n",
      " |  get_scalar_types(...)\n",
      " |      DataSetList.get_scalar_types(self)\n",
      " |      return a list\n",
      " |  \n",
      " |  get_set(...)\n",
      " |      DataSetList.get_set(self, string dsname, int idx, string attr_arg)\n",
      " |  \n",
      " |  groupby(...)\n",
      " |      DataSetList.groupby(self, key, mode='legend')\n",
      " |      \"return a new DataSetList object as a view of `self`\n",
      " |      \n",
      " |              Parameters\n",
      " |              ----------\n",
      " |              key : str\n",
      " |                  keyword for searching\n",
      " |              mode: str, default='legend'\n",
      " |                  mode = 'legend' | 'name' | 'dtype' | 'aspect'\n",
      " |  \n",
      " |  is_empty(...)\n",
      " |      DataSetList.is_empty(self)\n",
      " |  \n",
      " |  keys(...)\n",
      " |      DataSetList.keys(self)\n",
      " |  \n",
      " |  len(...)\n",
      " |      DataSetList.len(self)\n",
      " |  \n",
      " |  remove_set(...)\n",
      " |      DataSetList.remove_set(self, DataSet dset)\n",
      " |  \n",
      " |  set_ensemble_num(...)\n",
      " |      DataSetList.set_ensemble_num(self, int i)\n",
      " |  \n",
      " |  set_precision_of_data_sets(...)\n",
      " |      DataSetList.set_precision_of_data_sets(self, string nameIn, int widthIn, int precisionIn)\n",
      " |  \n",
      " |  set_py_free_mem(...)\n",
      " |      DataSetList.set_py_free_mem(self, bool value)\n",
      " |  \n",
      " |  to_dict(...)\n",
      " |      DataSetList.to_dict(self)\n",
      " |      return a dict object with key=legend, value=list\n",
      " |  \n",
      " |  to_ndarray(...)\n",
      " |      DataSetList.to_ndarray(self)\n",
      " |  \n",
      " |  tolist(...)\n",
      " |      DataSetList.tolist(self)\n",
      " |      return a list of list/array\n",
      " |  \n",
      " |  ----------------------------------------------------------------------\n",
      " |  Data descriptors defined here:\n",
      " |  \n",
      " |  size\n",
      " |      DataSetList.size(self)\n",
      "\n"
     ]
    }
   ],
   "source": [
    "help(dslist)"
   ]
  },
  {
   "cell_type": "markdown",
   "metadata": {},
   "source": [
    "## 1. Perform DSSP analysis"
   ]
  },
  {
   "cell_type": "code",
   "execution_count": 8,
   "metadata": {
    "collapsed": false
   },
   "outputs": [
    {
     "name": "stdout",
     "output_type": "stream",
     "text": [
      "TrajReadOnly instance with 100 frames, 332 atoms/frame\n",
      "           \n",
      "{'HA  ', 'OE2 ', 'HA2 ', 'CH3 ', 'HZ3 ', 'HN1 ', 'HZ2 ', 'OE1 ', 'HD11', 'HB3 ', 'HD22', 'C   ', 'HG23', 'HD1 ', 'OH  ', 'HB  ', 'HG11', 'HG1 ', 'HG2 ', 'HE21', 'CE2 ', 'OG  ', 'NE2 ', 'CE1 ', 'CE  ', 'HD2 ', 'HD21', 'CB  ', 'HD3 ', 'HA3 ', 'HH  ', 'HE22', 'HD12', 'HG12', 'HH33', 'HG3 ', 'O   ', 'HE2 ', 'HH31', 'CG1 ', 'CD2 ', 'HH32', 'HD23', 'CZ  ', 'HN2 ', 'NZ  ', 'HG13', 'HE1 ', 'HG  ', 'CD  ', 'HD13', 'HB2 ', 'HZ1 ', 'HE3 ', 'HZ  ', 'CG2 ', 'CA  ', 'N   ', 'CG  ', 'OG1 ', 'CD1 ', 'H   ', 'HG21', 'HG22'}\n",
      "{'ACE ', 'PHE ', 'GLU ', 'LEU ', 'GLN ', 'SER ', 'LYS ', 'ILE ', 'VAL ', 'PRO ', 'GLY ', 'TYR ', 'NHE ', 'THR '}\n",
      "22\n"
     ]
    }
   ],
   "source": [
    "# let's load DPDP peptide simulation from cpptraj test\n",
    "# you can find the traj with topology files in either\n",
    "# \n",
    "# $AMBERHOME/AmberTools/test/cpptraj/\n",
    "\n",
    "# or from cpptraj-dev version in github\n",
    "# https://github.com/mojyt/cpptraj/tree/master/test/DPDP.*\n",
    "\n",
    "from pytraj import io\n",
    "traj = io.load(\"../tests/data/DPDP.nc\", \"../tests/data/DPDP.parm7\")\n",
    "print (traj)\n",
    "print (traj.top.get_unique_atomname())\n",
    "print (traj.top.get_unique_resname())\n",
    "print (traj.top.n_residues)"
   ]
  },
  {
   "cell_type": "code",
   "execution_count": 9,
   "metadata": {
    "collapsed": false
   },
   "outputs": [
    {
     "name": "stdout",
     "output_type": "stream",
     "text": [
      "<pytraj.DataSetList.DataSetList object at 0x2aaac8d82ab0>\n",
      "['DSSP_00000[None]', 'DSSP_00000[Para]', 'DSSP_00000[Anti]', 'DSSP_00000[3-10]', 'DSSP_00000[Alpha]', 'DSSP_00000[Pi]', 'DSSP_00000[Turn]', 'DSSP_00000[Bend]', 'VAL:2', 'PHE:3', 'ILE:4', 'THR:5', 'SER:6', 'PRO:7', 'GLY:8', 'LYS:9', 'THR:10', 'TYR:11', 'THR:12', 'GLU:13', 'VAL:14', 'PRO:15']\n",
      "[ 0.5714286   0.5714286   0.5714286   0.71428573  0.5714286   0.42857143\n",
      "  0.5714286   0.5714286   0.5714286   0.5714286 ]\n"
     ]
    }
   ],
   "source": [
    "# let do dssp analysis\n",
    "\n",
    "dslist = traj.calc_dssp(\":2-15\", dtype='dataset') # perform analysis for residue 2 to 15 (index starts from 1)\n",
    "# dtype = 'str' | 'int' | 'dataset'\n",
    "print (dslist)\n",
    "print (dslist.keys())\n",
    "\n",
    "# print average beta content for first 10 frames\n",
    "print (dslist.groupby(\"Anti\").to_ndarray()[:10])"
   ]
  },
  {
   "cell_type": "code",
   "execution_count": 10,
   "metadata": {
    "collapsed": false
   },
   "outputs": [],
   "source": [
    "# what's about specific residue?\n",
    "arr = (dslist.groupby(\"PHE\").to_ndarray())"
   ]
  },
  {
   "cell_type": "code",
   "execution_count": 11,
   "metadata": {
    "collapsed": false,
    "scrolled": true
   },
   "outputs": [
    {
     "name": "stdout",
     "output_type": "stream",
     "text": [
      "PHE\n",
      "['B', 'B', 'B', 'B', 'B', 'B', 'B', 'B', 'B', 'B', 'B', 'B', 'B', 'B', 'B', 'B', 'B', 'B', 'B', 'B', 'B', 'B', 'B', 'B', 'B', 'B', 'B', 'B', 'B', 'B', 'B', 'B', 'B', 'B', 'B', 'B', 'B', 'B', 'B', 'B', 'B', 'B', 'B', 'B', 'B', 'B', 'B', 'B', 'B', 'B', 'B', 'B', 'B', 'B', 'B', 'B', 'B', 'B', 'B', 'B', 'B', 'B', 'B', 'B', 'B', 'B', 'B', 'B', 'B', 'B', 'B', 'B', 'B', 'B', 'B', 'B', 'B', 'B', 'B', 'B', 'B', 'B', 'B', 'B', 'B', 'B', 'B', 'B', '0', 'B', 'B', 'B', 'B', 'B', 'B', 'B', 'B', 'B', 'B', 'B']\n",
      "\n",
      "SER\n",
      "['S', 'S', '0', 'B', 'T', 'G', '0', 'S', 'S', 'S', 'S', 'S', '0', 'B', 'B', '0', 'S', 'B', 'S', 'S', '0', 'B', '0', 'B', 'B', 'B', '0', 'B', 'B', 'B', 'S', 'S', 'B', 'B', 'B', 'B', 'B', 'B', 'B', 'B', 'B', '0', 'B', 'B', 'S', 'B', 'B', 'B', '0', 'B', '0', '0', '0', '0', '0', '0', '0', 'B', 'T', 'G', 'G', 'T', 'G', 'T', 'S', '0', 'G', 'T', '0', '0', 'T', 'G', 'G', 'T', '0', '0', 'S', '0', 'B', 'S', 'G', 'G', 'T', 'T', '0', 'B', '0', '0', 'B', '0', 'T', 'T', 'B', 'B', 'G', 'T', 'B', 'B', 'B', 'B']\n"
     ]
    }
   ],
   "source": [
    "# we need to convert to meaningful thing \n",
    "from pytraj.common_actions import to_string_ss\n",
    "\n",
    "print (\"PHE\")\n",
    "print (to_string_ss(arr))\n",
    "\n",
    "print (\"\")\n",
    "print (\"SER\")\n",
    "print (to_string_ss(dslist.groupby(\"SER\").to_ndarray()))"
   ]
  },
  {
   "cell_type": "code",
   "execution_count": 12,
   "metadata": {
    "collapsed": false
   },
   "outputs": [
    {
     "name": "stdout",
     "output_type": "stream",
     "text": [
      "[['0' 'B' 'B' ..., 'B' '0' '0']\n",
      " ['0' 'B' 'B' ..., 'B' 'B' '0']\n",
      " ['0' 'B' 'B' ..., 'B' '0' '0']\n",
      " ..., \n",
      " ['0' 'B' 'B' ..., 'B' '0' '0']\n",
      " ['0' 'B' 'B' ..., 'B' '0' '0']\n",
      " ['0' 'B' 'B' ..., 'B' '0' '0']]\n"
     ]
    }
   ],
   "source": [
    "# in case you're not patient to use \"to_string_ss\" method, you can follow below\n",
    "\n",
    "ss_dict = traj.calc_dssp(dtype='ndarray')\n",
    "print (ss_dict)"
   ]
  }
 ],
 "metadata": {
  "kernelspec": {
   "display_name": "Python 3",
   "language": "python",
   "name": "python3"
  },
  "language_info": {
   "codemirror_mode": {
    "name": "ipython",
    "version": 3
   },
   "file_extension": ".py",
   "mimetype": "text/x-python",
   "name": "python",
   "nbconvert_exporter": "python",
   "pygments_lexer": "ipython3",
   "version": "3.4.3"
  }
 },
 "nbformat": 4,
 "nbformat_minor": 0
}
