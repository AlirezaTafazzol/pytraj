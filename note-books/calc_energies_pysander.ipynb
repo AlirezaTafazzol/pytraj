{
 "cells": [
  {
   "cell_type": "markdown",
   "metadata": {},
   "source": [
    "This example shows how to use pytraj (wrapper of cpptraj) and pysander (wrapper of sander) to extract useful (energy) information (energy) for post-processing MD data.\n",
    "\n",
    "Aim: load traj and calculate solvation energy for 10 frames of Trp-cage MD simulation using igb=8 model"
   ]
  },
  {
   "cell_type": "code",
   "execution_count": 1,
   "metadata": {
    "collapsed": true
   },
   "outputs": [],
   "source": [
    "from __future__ import print_function"
   ]
  },
  {
   "cell_type": "code",
   "execution_count": 2,
   "metadata": {
    "collapsed": true
   },
   "outputs": [],
   "source": [
    "# require: pytraj, pysander and chemistry packages (pysander and `chemistry` are in AmberTools 15)"
   ]
  },
  {
   "cell_type": "code",
   "execution_count": 3,
   "metadata": {
    "collapsed": true
   },
   "outputs": [],
   "source": [
    "# load `pytraj.io` method to load trajectory\n",
    "from pytraj import io as mdio"
   ]
  },
  {
   "cell_type": "code",
   "execution_count": 4,
   "metadata": {
    "collapsed": false
   },
   "outputs": [
    {
     "name": "stdout",
     "output_type": "stream",
     "text": [
      "No module named 'pytz'\n"
     ]
    }
   ],
   "source": [
    "# load sander from pysander\n",
    "import sander"
   ]
  },
  {
   "cell_type": "code",
   "execution_count": 5,
   "metadata": {
    "collapsed": true
   },
   "outputs": [],
   "source": [
    "# load AmberParm class\n",
    "from chemistry.amber.readparm import AmberParm"
   ]
  },
  {
   "cell_type": "code",
   "execution_count": 6,
   "metadata": {
    "collapsed": false
   },
   "outputs": [],
   "source": [
    "traj_fn = \"../tests/data/md1_prod.Tc5b.x\"\n",
    "top_fn = \"../tests/data/Tc5b.top\""
   ]
  },
  {
   "cell_type": "code",
   "execution_count": 7,
   "metadata": {
    "collapsed": false
   },
   "outputs": [
    {
     "name": "stdout",
     "output_type": "stream",
     "text": [
      "<TrajReadOnly with 10 frames, 304 atoms/frame>\n",
      "           \n",
      "<Topology with 1 mols, 20 residues, 304 atoms, 310 bonds, non-PBC>\n"
     ]
    }
   ],
   "source": [
    "# load traj\n",
    "traj = mdio.load(traj_fn, top_fn)\n",
    "print (traj)\n",
    "print (traj.top)"
   ]
  },
  {
   "cell_type": "code",
   "execution_count": 8,
   "metadata": {
    "collapsed": true
   },
   "outputs": [],
   "source": [
    "# currently `chemistry` and pytraj packges use different Topology objects so we need to load parm file again\n",
    "#\n",
    "parm = AmberParm(top_fn)"
   ]
  },
  {
   "cell_type": "code",
   "execution_count": 9,
   "metadata": {
    "collapsed": false
   },
   "outputs": [
    {
     "name": "stdout",
     "output_type": "stream",
     "text": [
      "../tests/data/Tc5b.top\n"
     ]
    }
   ],
   "source": [
    "print (parm)"
   ]
  },
  {
   "cell_type": "code",
   "execution_count": 10,
   "metadata": {
    "collapsed": true
   },
   "outputs": [],
   "source": [
    "# create input for igb=8 model\n",
    "inp = sander.gas_input(8)"
   ]
  },
  {
   "cell_type": "code",
   "execution_count": 11,
   "metadata": {
    "collapsed": true
   },
   "outputs": [],
   "source": [
    "# initialize parm\n",
    "parm.load_coordinates(traj[0].coords)"
   ]
  },
  {
   "cell_type": "code",
   "execution_count": 12,
   "metadata": {
    "collapsed": false
   },
   "outputs": [
    {
     "name": "stdout",
     "output_type": "stream",
     "text": [
      "Solvation energy =  -466.10420332687943\n",
      "Solvation energy =  -455.76754993695613\n",
      "Solvation energy =  -455.5976464241175\n",
      "Solvation energy =  -478.5433764963464\n",
      "Solvation energy =  -448.8931420795517\n",
      "Solvation energy =  -404.6002687139827\n",
      "Solvation energy =  -450.3030628951594\n",
      "Solvation energy =  -414.40620305552153\n",
      "Solvation energy =  -443.75073691232376\n",
      "Solvation energy =  -429.7327396323983\n"
     ]
    }
   ],
   "source": [
    "# it's time to do calcuation\n",
    "with sander.setup(parm, parm.coords, None, inp):\n",
    "    # iterate all frames\n",
    "    # use traj(0, 8, 2) to read the traj from 0-th frame to 8-th frame but skiping every 2 frames\n",
    "    for frame in traj:\n",
    "        sander.set_positions(frame.coords)\n",
    "        ene, forces = sander.energy_forces()\n",
    "        # atomic force (x, y, z)\n",
    "        #print (len(frc))\n",
    "        print (\"Solvation energy = \", ene.gb)"
   ]
  }
 ],
 "metadata": {
  "kernelspec": {
   "display_name": "Python 3",
   "language": "python",
   "name": "python3"
  },
  "language_info": {
   "codemirror_mode": {
    "name": "ipython",
    "version": 3
   },
   "file_extension": ".py",
   "mimetype": "text/x-python",
   "name": "python",
   "nbconvert_exporter": "python",
   "pygments_lexer": "ipython3",
   "version": "3.4.3"
  }
 },
 "nbformat": 4,
 "nbformat_minor": 0
}
