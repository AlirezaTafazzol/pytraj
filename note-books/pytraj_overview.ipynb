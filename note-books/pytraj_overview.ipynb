{
 "cells": [
  {
   "cell_type": "markdown",
   "metadata": {},
   "source": [
    "`pytraj` is a Python wrapper of `cpptraj`. `pytraj` was written with the hope that it will introduce flexibilty in customizing data analysis workflow"
   ]
  },
  {
   "cell_type": "markdown",
   "metadata": {},
   "source": [
    "Outline\n",
    "    * Trajectory object\n",
    "    * Frame object\n",
    "    * Perform Action with frame/traj\n",
    "    * Topology object\n",
    "    * AtomMask object\n",
    "         + AtomMask follows AMBER syntax for picking atoms.\n",
    "        (check Amber14 manual http://ambermd.org/doc12/Amber14.pdf, page 327-330\n",
    "         + indexing difference when using integer mask and character mask. frame[0] and frame[top(':1')]\n",
    "    * Full example\n"
   ]
  },
  {
   "cell_type": "markdown",
   "metadata": {},
   "source": [
    "# Trajectory objects"
   ]
  },
  {
   "cell_type": "markdown",
   "metadata": {},
   "source": [
    "### * Two types of Trajectry objects"
   ]
  },
  {
   "cell_type": "markdown",
   "metadata": {},
   "source": [
    "There are two types of trajectory objects in pytraj, one is immutatble (TrajReadOnly) and another is mutable (FrameArray).\n",
    "TrajReadOnly is a thin wrapper of cpptraj Trajectory class that provides efficiency in loading large data file.\n",
    "When method `load` is called by TrajReadOnly object, not all data is loaded to memory.\n",
    "\n",
    "In constrast, FrameArray is mutable trajectory object. It was designed to hold frame objects in memory."
   ]
  },
  {
   "cell_type": "code",
   "execution_count": 399,
   "metadata": {
    "collapsed": false
   },
   "outputs": [],
   "source": [
    "import numpy as np\n",
    "from pytraj import io as mdio\n",
    "from pytraj import FrameArray, DataSetList, DataFileList\n",
    "\n",
    "traj = mdio.load(filename=\"../tests/data/md1_prod.Tc5b.x\", top=\"../tests/data/Tc5b.top\")\n",
    "farray = FrameArray(filename=\"../tests/data/md1_prod.Tc5b.x\", top=\"../tests/data/Tc5b.top\")\n",
    "# those files can be found in\n",
    "# $PYTRAJHOME/tests/data"
   ]
  },
  {
   "cell_type": "code",
   "execution_count": 400,
   "metadata": {
    "collapsed": false
   },
   "outputs": [
    {
     "name": "stdout",
     "output_type": "stream",
     "text": [
      "TrajReadOnly instance with 10 frames, 304 atoms/frame\n",
      "                  ID = 0x2aaac50e7f98\n",
      "               \n"
     ]
    }
   ],
   "source": [
    "print (traj)"
   ]
  },
  {
   "cell_type": "code",
   "execution_count": 401,
   "metadata": {
    "collapsed": false
   },
   "outputs": [
    {
     "name": "stdout",
     "output_type": "stream",
     "text": [
      "FrameArray instance with 10 frames, 304 atoms/frame\n",
      "               \n"
     ]
    }
   ],
   "source": [
    "print (farray)"
   ]
  },
  {
   "cell_type": "code",
   "execution_count": 402,
   "metadata": {
    "collapsed": false
   },
   "outputs": [
    {
     "name": "stdout",
     "output_type": "stream",
     "text": [
      "traj object is immutable\n",
      "-16.492\n"
     ]
    }
   ],
   "source": [
    "print (\"traj object is immutable\")\n",
    "\n",
    "# print x-coordinate of 1st atom in 1st frame\n",
    "print (traj[0, 0, 0])\n",
    "\n",
    "# try to change its x-coordinate: pytraj does not allow this, it will raise Error saying user should use FrameArray\n",
    "#traj[0, 0, 0] = 100.\n",
    "\n",
    "# print x-coordinate of 1st atom in 1st frame\n",
    "#print (traj[0, 0, 0])"
   ]
  },
  {
   "cell_type": "code",
   "execution_count": 403,
   "metadata": {
    "collapsed": false
   },
   "outputs": [
    {
     "name": "stdout",
     "output_type": "stream",
     "text": [
      "farray object is mutable\n",
      "-16.492\n",
      "100.0\n"
     ]
    }
   ],
   "source": [
    "print (\"farray object is mutable\")\n",
    "\n",
    "# print x-coordinate of 1st atom in 1st frame\n",
    "print (farray[0, 0, 0])\n",
    "\n",
    "# try to change its x-coordinate\n",
    "farray[0, 0, 0] = 100.\n",
    "\n",
    "# print x-coordinate of 1st atom in 1st frame\n",
    "print (farray[0, 0, 0])"
   ]
  },
  {
   "cell_type": "markdown",
   "metadata": {},
   "source": [
    "### * iterate trajectory"
   ]
  },
  {
   "cell_type": "code",
   "execution_count": 404,
   "metadata": {
    "collapsed": false
   },
   "outputs": [
    {
     "name": "stdout",
     "output_type": "stream",
     "text": [
      "Frame instance with 304 atoms\n",
      "Frame instance with 304 atoms\n",
      "Frame instance with 304 atoms\n",
      "Frame instance with 304 atoms\n",
      "Frame instance with 304 atoms\n"
     ]
    }
   ],
   "source": [
    "# pytraj provides fast and easy way to iterate over trajectories\n",
    "\n",
    "# iterate from 0-th frame to 8-th frame and skip every 2 frames\n",
    "for frame in traj(start=0, stop=8, stride=2):\n",
    "    print (frame)"
   ]
  },
  {
   "cell_type": "code",
   "execution_count": 405,
   "metadata": {
    "collapsed": false
   },
   "outputs": [
    {
     "name": "stdout",
     "output_type": "stream",
     "text": [
      "Frame instance with 304 atoms\n",
      "Frame instance with 304 atoms\n",
      "Frame instance with 304 atoms\n",
      "Frame instance with 304 atoms\n",
      "Frame instance with 304 atoms\n"
     ]
    }
   ],
   "source": [
    "# we can shorten by this\n",
    "for frame in traj(0, 8, 2):\n",
    "    print (frame)"
   ]
  },
  {
   "cell_type": "code",
   "execution_count": 406,
   "metadata": {
    "collapsed": false
   },
   "outputs": [
    {
     "name": "stdout",
     "output_type": "stream",
     "text": [
      "Frame instance with 20 atoms\n",
      "Frame instance with 20 atoms\n",
      "Frame instance with 20 atoms\n",
      "Frame instance with 20 atoms\n",
      "Frame instance with 20 atoms\n"
     ]
    }
   ],
   "source": [
    "# we can combine iterating with stripping atoms too\n",
    "\n",
    "# iterate and strip all but CA atoms\n",
    "for frame in traj(0, 8, 2, '@CA'):\n",
    "    print (frame)"
   ]
  },
  {
   "cell_type": "markdown",
   "metadata": {},
   "source": [
    "### * Extract coordinates/frame from Trajectory"
   ]
  },
  {
   "cell_type": "code",
   "execution_count": 407,
   "metadata": {
    "collapsed": false
   },
   "outputs": [
    {
     "name": "stdout",
     "output_type": "stream",
     "text": [
      "[-16.492  12.434 -11.018]\n"
     ]
    }
   ],
   "source": [
    "# pytraj provides different convinient ways to extract atom coordinates/frames from trajectory object.\n",
    "\n",
    "# numpy-like object\n",
    "# x, y and z coordinates of 1st atom in the 1st frame\n",
    "print (traj[0, 0, :])"
   ]
  },
  {
   "cell_type": "code",
   "execution_count": 408,
   "metadata": {
    "collapsed": false
   },
   "outputs": [
    {
     "name": "stdout",
     "output_type": "stream",
     "text": [
      "FrameArray instance with 2 frames, 20 atoms/frame\n",
      "               \n"
     ]
    }
   ],
   "source": [
    "#x, y, z coordinates of all CA atoms for 1st and 2nd frames\n",
    "#print (traj[:2]['@CA'])\n",
    "\n",
    "# if you don't want to get raw coordinates, you can extract `frame` objects by adding `:frame` keyword\n",
    "# the below command with result a FrameArray object with 2 frames containing only CA atoms\n",
    "f0 = traj[:2]['@CA :frame']\n",
    "print (f0)"
   ]
  },
  {
   "cell_type": "markdown",
   "metadata": {},
   "source": [
    "# Frame object"
   ]
  },
  {
   "cell_type": "markdown",
   "metadata": {},
   "source": [
    "Just like cpptraj, Frame object is work-horse of pytraj."
   ]
  },
  {
   "cell_type": "code",
   "execution_count": 409,
   "metadata": {
    "collapsed": false
   },
   "outputs": [
    {
     "name": "stdout",
     "output_type": "stream",
     "text": [
      "frame_methods_and_attributes\n",
      "\n",
      "['VCenterOfMass', 'VGeometricCenter', 'add_by_mask', 'add_vec3', 'add_xyz', 'atoms', 'box_crd', 'boxview', 'buffer1d', 'buffer3d', 'calc_angle', 'calc_dihedral', 'calc_inertia', 'calc_temperature', 'center_on_origin', 'check_coords_invalid', 'clear_atoms', 'coords', 'copy', 'dist_rmsd', 'divide', 'fit_to', 'frame_iter', 'get_box', 'get_subframe', 'get_top', 'has_box', 'has_vel', 'i_address', 'info', 'is_empty', 'mass', 'n_atoms', 'n_repdims', 'neg_translate', 'py_free_mem', 'rmsd', 'rmsd_centered_ref', 'rmsd_nofit', 'rotate', 'same_coords_as', 'save', 'scale', 'set_axis_of_rotation', 'set_box_angles', 'set_coords', 'set_coords_by_map', 'set_frame', 'set_frame_from_mask', 'set_frame_m', 'set_frame_v', 'set_frame_x_m', 'set_from_crd', 'set_nobox', 'set_top', 'shape', 'size', 'strip_atoms', 'swap_atoms', 't_address', 'temperature', 'trans_rot_trans', 'translate', 'update_atom', 'update_atoms', 'v_address', 'v_xyz', 'zero_coords']\n"
     ]
    }
   ],
   "source": [
    "frame0 = traj[0]\n",
    "\n",
    "frame_methods_and_attributes = [att for att in dir(frame0) if not att.startswith(\"__\")]\n",
    "print (\"frame_methods_and_attributes\")\n",
    "print ()\n",
    "print (frame_methods_and_attributes)"
   ]
  },
  {
   "cell_type": "code",
   "execution_count": 410,
   "metadata": {
    "collapsed": false
   },
   "outputs": [
    {
     "name": "stdout",
     "output_type": "stream",
     "text": [
      "shape:  (304, 3)\n",
      "atom coords:  [-16.492  12.434 -11.018]\n",
      "before updating arr0:  [-16.492  12.434 -11.018]\n",
      "after updating arr0:  [ 100.      12.434  -11.018]\n"
     ]
    }
   ],
   "source": [
    "# frame0 behaves like 2D array with shape of (n_atoms, 3)\n",
    "print ('shape: ', frame0.shape)\n",
    "print ('atom coords: ', frame0[0])\n",
    "\n",
    "# to avoid data copy when using with numpy, one ca assess Frame's buffer\n",
    "arr0 = np.asarray(frame0[:])\n",
    "\n",
    "# update arr0 will update frame coords\n",
    "print ('before updating arr0: ', frame0[0])\n",
    "arr0[0, 0] = 100.\n",
    "print ('after updating arr0: ', frame0[0])"
   ]
  },
  {
   "cell_type": "code",
   "execution_count": 411,
   "metadata": {
    "collapsed": false
   },
   "outputs": [
    {
     "name": "stdout",
     "output_type": "stream",
     "text": [
      "[[-17.146  12.069  -9.756]\n",
      " [-15.774   9.648  -7.087]\n",
      " [-16.761   7.688  -3.829]\n",
      " [-15.228   5.335  -1.254]\n",
      " [-15.974   4.229   2.418]\n",
      " [-14.016   1.006   2.992]\n",
      " [-12.158  -1.711   1.129]\n",
      " [-10.459  -5.137   2.023]\n",
      " [ -9.524  -7.464  -0.965]\n",
      " [ -8.858 -11.163  -0.287]\n",
      " [ -7.71  -12.693   3.106]\n",
      " [ -5.13  -11.608   5.838]\n",
      " [ -1.73   -9.971   5.185]\n",
      " [  1.379  -9.977   7.51 ]\n",
      " [  4.659  -7.949   7.677]\n",
      " [  8.367  -8.606   6.79 ]\n",
      " [ 11.671  -7.68    8.742]\n",
      " [ 12.513  -3.997   8.439]\n",
      " [ 15.912  -2.833   6.877]\n",
      " [ 19.12   -3.114   8.925]]\n"
     ]
    }
   ],
   "source": [
    "# extracting Frame coords with given mask. \n",
    "# 1st way: extract coords of CA atoms\n",
    "\n",
    "print (frame0[traj.top(\"@CA\")])"
   ]
  },
  {
   "cell_type": "code",
   "execution_count": 412,
   "metadata": {
    "collapsed": false
   },
   "outputs": [
    {
     "data": {
      "text/plain": [
       "array([[-17.146,  12.069,  -9.756],\n",
       "       [-15.774,   9.648,  -7.087],\n",
       "       [-16.761,   7.688,  -3.829],\n",
       "       [-15.228,   5.335,  -1.254],\n",
       "       [-15.974,   4.229,   2.418],\n",
       "       [-14.016,   1.006,   2.992],\n",
       "       [-12.158,  -1.711,   1.129],\n",
       "       [-10.459,  -5.137,   2.023],\n",
       "       [ -9.524,  -7.464,  -0.965],\n",
       "       [ -8.858, -11.163,  -0.287],\n",
       "       [ -7.71 , -12.693,   3.106],\n",
       "       [ -5.13 , -11.608,   5.838],\n",
       "       [ -1.73 ,  -9.971,   5.185],\n",
       "       [  1.379,  -9.977,   7.51 ],\n",
       "       [  4.659,  -7.949,   7.677],\n",
       "       [  8.367,  -8.606,   6.79 ],\n",
       "       [ 11.671,  -7.68 ,   8.742],\n",
       "       [ 12.513,  -3.997,   8.439],\n",
       "       [ 15.912,  -2.833,   6.877],\n",
       "       [ 19.12 ,  -3.114,   8.925]])"
      ]
     },
     "execution_count": 412,
     "metadata": {},
     "output_type": "execute_result"
    }
   ],
   "source": [
    "# 2nd way\n",
    "# need to set Topology for frame to use AtomMask\n",
    "frame0.set_top(traj.top)\n",
    "frame0[\"@CA\"]"
   ]
  },
  {
   "cell_type": "code",
   "execution_count": 413,
   "metadata": {
    "collapsed": false
   },
   "outputs": [
    {
     "name": "stdout",
     "output_type": "stream",
     "text": [
      "coords of residue 10:  [[ -9.386  -9.873  -0.657]\n",
      " [-10.344  -9.807  -0.969]\n",
      " [ -8.858 -11.163  -0.287]\n",
      " [ -9.514 -11.931  -0.696]\n",
      " [ -7.851 -11.243  -0.697]\n",
      " [ -8.742 -11.387   1.292]\n",
      " [ -9.38  -10.654   2.081]]\n"
     ]
    }
   ],
   "source": [
    "# using cpptraj's mask for accessing frame coords\n",
    "# coords of 11-th residue (index starts from 0)\n",
    "print (\"coords of residue 10: \", frame0[\":10\"])"
   ]
  },
  {
   "cell_type": "markdown",
   "metadata": {},
   "source": [
    "# Perform Action with frame/traj"
   ]
  },
  {
   "cell_type": "code",
   "execution_count": 414,
   "metadata": {
    "collapsed": false
   },
   "outputs": [
    {
     "name": "stdout",
     "output_type": "stream",
     "text": [
      "['angle', 'areapermol', 'atomiccorr', 'atomicfluct', 'atommap', 'autoimage', 'average', 'bounds', 'box', 'center', 'channel', 'checkchirality', 'checkstructure', 'closest', 'clusterdihedral', 'contacts', 'createcrd', 'createreservoir', 'density', 'diffusion', 'dihedral', 'dihedralscan', 'dipole', 'distance', 'distrmsd', 'dnaiontracker', 'dssp', 'energy', 'filterbydata', 'fixatomorder', 'gist', 'grid', 'gridfreeenergy', 'hbond', 'image', 'jcoupling', 'lessplit', 'lie', 'makestructure', 'mask', 'matrix', 'minimage', 'molsurf', 'multidihedral', 'multivector', 'nastruct', 'nativecontacts', 'nmrrst', 'orderparameter', 'outtraj', 'pairdist', 'pairwise', 'principal', 'projection', 'pucker', 'radgyr', 'radial', 'randomizeions', 'replicatecell', 'rmsd', 'rotate', 'runningavg', 'scale', 'secstruct', 'setvelocity', 'spam', 'stfc_diffusion', 'strip', 'surf', 'surf_LCPO', 'surf_lcpo', 'symmetricrmsd', 'temperature', 'translate', 'unwrap', 'vector', 'velocityautocorr', 'volmap', 'volume', 'watershell']\n",
      "\n",
      "number of supported actions in pytraj = 80\n"
     ]
    }
   ],
   "source": [
    "# how's about doing analysis with `frame` or trajectory object in pytraj?\n",
    "# import `action` dictionanry holding all supported action keywords\n",
    "from pytraj import adict\n",
    "keys = adict.keys()\n",
    "print (keys)\n",
    "\n",
    "print ()\n",
    "print (\"number of supported actions in pytraj = %s\" % len(keys))"
   ]
  },
  {
   "cell_type": "code",
   "execution_count": 415,
   "metadata": {
    "collapsed": false
   },
   "outputs": [
    {
     "name": "stdout",
     "output_type": "stream",
     "text": [
      "[720.1709573993338, 725.2564253204187, 735.0340618338898, 727.0239870474329, 739.5226597713878, 724.384682977327, 759.2786504955443, 761.311545972785, 744.5491727069283, 756.4058672731229]\n"
     ]
    }
   ],
   "source": [
    "# to get the data from `action`, you can create DataSetList object\n",
    "dslist = DataSetList()\n",
    "\n",
    "# create `action` you want to perform\n",
    "# example: calculate molecular surface\n",
    "act = adict['molsurf']\n",
    "\n",
    "# perform action to calculate surf for only CA atom for farray\n",
    "act(\"@CA\", farray, dslist=dslist)\n",
    "\n",
    "# get the data\n",
    "d0 = dslist[0]\n",
    "print (d0[:])"
   ]
  },
  {
   "cell_type": "code",
   "execution_count": 416,
   "metadata": {
    "collapsed": false
   },
   "outputs": [
    {
     "name": "stdout",
     "output_type": "stream",
     "text": [
      "[720.1709573993338, 725.2564253204187, 735.0340618338898, 727.0239870474329, 739.5226597713878, 724.384682977327, 759.2786504955443, 761.311545972785, 744.5491727069283, 756.4058672731229]\n",
      "[720.1709573993338, 735.0340618338898, 739.5226597713878, 759.2786504955443]\n",
      "Action.pyx: list, tuple\n",
      "[720.1709573993338, 725.2564253204187, 735.0340618338898, 727.0239870474329, 739.5226597713878, 724.384682977327, 759.2786504955443, 761.311545972785, 744.5491727069283, 756.4058672731229, 720.1709573993338, 735.0340618338898, 739.5226597713878, 759.2786504955443, 756.4058672731229]\n"
     ]
    }
   ],
   "source": [
    "# pytraj also provides shorter way to perform common actions\n",
    "# adding `calc_` to keywork `molsurf`\n",
    "from pytraj.common_actions import calc_molsurf\n",
    "\n",
    "# get the data\n",
    "d1 = calc_molsurf(\"@CA\", farray)\n",
    "print (d1[:])\n",
    "\n",
    "# how's about skipping frames?\n",
    "# we use frame iterator: farray(start, stop, stride)\n",
    "# need to provide topology object because the iterator does not hold this.\n",
    "# calcualte molsurf for every 2 frames, starting from 0-th frame and stop at 6-th frame\n",
    "d2 = calc_molsurf(\"@CA\", farray(0, 6, 2), farray.top)\n",
    "print (d2[:])\n",
    "\n",
    "# pytraj can process a list of mixing trajectory and frame objects too\n",
    "trajlist = [traj, farray(0, 6, 2), traj[-1]]\n",
    "d3 = calc_molsurf(\"@CA\", trajlist, farray.top)\n",
    "print (d3[:])"
   ]
  },
  {
   "cell_type": "markdown",
   "metadata": {},
   "source": [
    "### * save traj with different format"
   ]
  },
  {
   "cell_type": "code",
   "execution_count": 417,
   "metadata": {
    "collapsed": false
   },
   "outputs": [],
   "source": [
    "# saving traj with different format?\n",
    "# AMBER netcdf\n",
    "traj.save(\"./output/test.nc\", overwrite=True)\n",
    "\n",
    "# CHARMM dcd format\n",
    "traj.save(\"./output/test.dcd\", overwrite=True)\n",
    "\n",
    "# save a list of trajs\n",
    "mdio.write_traj(\"./output/combo_trajs.x\", [traj, traj, traj[:3], traj[:0]], traj.top, overwrite=True)"
   ]
  },
  {
   "cell_type": "markdown",
   "metadata": {},
   "source": [
    "!ls ./output/test.nc\n",
    "!ls ./output/test.dcd\n",
    "!ls ./output/combo_trajs.x"
   ]
  },
  {
   "cell_type": "markdown",
   "metadata": {},
   "source": [
    "### * Common Actions"
   ]
  },
  {
   "cell_type": "code",
   "execution_count": 418,
   "metadata": {
    "collapsed": false
   },
   "outputs": [
    {
     "name": "stdout",
     "output_type": "stream",
     "text": [
      "['calc_distance', 'calc_dihedral', 'calc_distrmsd', 'calc_dssp', 'calc_volume', 'calc_radial', 'calc_dih', 'calculate', 'calc_protein_score', 'calc_molsurf', 'calc_score', 'calc_radgyr', 'calc_angle', 'calc_watershell']\n",
      "['do_translation', 'do_rotation', 'do_autoimage']\n"
     ]
    }
   ],
   "source": [
    "from pytraj import common_actions\n",
    "\n",
    "cdict = common_actions.__dict__\n",
    "calc_list = [act for act in cdict if act.startswith(\"calc\")]\n",
    "print (calc_list)\n",
    "print ([act for act in cdict if act.startswith(\"do_\")])"
   ]
  },
  {
   "cell_type": "code",
   "execution_count": 419,
   "metadata": {
    "collapsed": false
   },
   "outputs": [
    {
     "name": "stdout",
     "output_type": "stream",
     "text": [
      "[-16.492  12.434 -11.018]\n",
      "[-13.53985524 -16.36409421   9.84253447]\n"
     ]
    }
   ],
   "source": [
    "from pytraj.common_actions import do_rotation\n",
    "\n",
    "frame0 = traj[0]\n",
    "print (frame0[0])\n",
    "\n",
    "# do_rotation\n",
    "do_rotation(\"x 20 y 60 z 80\", frame0, traj.top)\n",
    "\n",
    "# cooords of frame0 were updated\n",
    "print (frame0[0])"
   ]
  },
  {
   "cell_type": "markdown",
   "metadata": {},
   "source": [
    "# Topology object"
   ]
  },
  {
   "cell_type": "code",
   "execution_count": 420,
   "metadata": {
    "collapsed": false
   },
   "outputs": [],
   "source": [
    "from pytraj import Topology\n",
    "top = Topology(\"../tests/data/Tc5b.top\")"
   ]
  },
  {
   "cell_type": "code",
   "execution_count": 421,
   "metadata": {
    "collapsed": false
   },
   "outputs": [
    {
     "name": "stdout",
     "output_type": "stream",
     "text": [
      "Topology instance with 304 atoms. ID = 0x2aaac50eb570\n"
     ]
    }
   ],
   "source": [
    "print (top)"
   ]
  },
  {
   "cell_type": "code",
   "execution_count": 422,
   "metadata": {
    "collapsed": false
   },
   "outputs": [
    {
     "name": "stdout",
     "output_type": "stream",
     "text": [
      "get first atom in Topology\n",
      "N    - resnum 0\n",
      "\n",
      "get all atoms with mask CA\n",
      "[<CA   - resnum 0>, <CA   - resnum 1>, <CA   - resnum 2>, <CA   - resnum 3>, <CA   - resnum 4>, <CA   - resnum 5>, <CA   - resnum 6>, <CA   - resnum 7>, <CA   - resnum 8>, <CA   - resnum 9>, <CA   - resnum 10>, <CA   - resnum 11>, <CA   - resnum 12>, <CA   - resnum 13>, <CA   - resnum 14>, <CA   - resnum 15>, <CA   - resnum 16>, <CA   - resnum 17>, <CA   - resnum 18>, <CA   - resnum 19>]\n"
     ]
    }
   ],
   "source": [
    "print (\"get first atom in Topology\")\n",
    "print (top[0])\n",
    "\n",
    "print ()\n",
    "print (\"get all atoms with mask CA\")\n",
    "print (top['@CA'])"
   ]
  },
  {
   "cell_type": "code",
   "execution_count": 423,
   "metadata": {
    "collapsed": false
   },
   "outputs": [
    {
     "name": "stdout",
     "output_type": "stream",
     "text": [
      "loop all CA to get information\n",
      "CA   0\n",
      "CA   1\n",
      "CA   2\n",
      "CA   3\n",
      "CA   4\n",
      "CA   5\n",
      "CA   6\n",
      "CA   7\n",
      "CA   8\n",
      "CA   9\n",
      "CA   10\n",
      "CA   11\n",
      "CA   12\n",
      "CA   13\n",
      "CA   14\n",
      "CA   15\n",
      "CA   16\n",
      "CA   17\n",
      "CA   18\n",
      "CA   19\n"
     ]
    }
   ],
   "source": [
    "print (\"loop all CA to get information\")\n",
    "for atom in top['@CA']:\n",
    "    print (atom.name, atom.resnum)"
   ]
  },
  {
   "cell_type": "code",
   "execution_count": 424,
   "metadata": {
    "collapsed": false
   },
   "outputs": [],
   "source": [
    "# how's about creating new Topology from new atoms?\n",
    "\n",
    "from pytraj.Atom import Atom\n",
    "pseudotop = Topology()\n",
    "\n",
    "# create atom with name \"CA\" and nametype \"CX\"\n",
    "# (dummy example)\n",
    "\n",
    "for name, ntype in zip([\"CH\", \"CO\", \"CB\"], [\"CX\", \"CY\", \"CZ\"]):\n",
    "    atom = Atom(name, ntype)\n",
    "    pseudotop.add_atom(atom, resid=0, resname=\"TEST\")"
   ]
  },
  {
   "cell_type": "code",
   "execution_count": 425,
   "metadata": {
    "collapsed": false
   },
   "outputs": [
    {
     "name": "stdout",
     "output_type": "stream",
     "text": [
      "Topology instance with 3 atoms. ID = 0x2aaac50eb050\n",
      "3\n",
      "CH   - resnum 0\n",
      "CO   - resnum 0\n",
      "CB   - resnum 0\n"
     ]
    }
   ],
   "source": [
    "# get info for pseudotop\n",
    "print (pseudotop)\n",
    "print (pseudotop.n_atoms)\n",
    "\n",
    "for atom in pseudotop:\n",
    "    print (atom)"
   ]
  },
  {
   "cell_type": "markdown",
   "metadata": {},
   "source": [
    "# AtomMask"
   ]
  },
  {
   "cell_type": "code",
   "execution_count": 426,
   "metadata": {
    "collapsed": false
   },
   "outputs": [],
   "source": [
    "# AtomMask object is another important class of pytraj/cpptraj. It provide easy and convenient (to me) to select atom\n",
    "# one can asses AtomMask object in different way\n",
    "# traditionally,\n",
    "\n",
    "from pytraj import AtomMask\n",
    "\n",
    "# create AtomMask object with chosen '@CA' mask\n",
    "atm = AtomMask('@CA')"
   ]
  },
  {
   "cell_type": "code",
   "execution_count": 427,
   "metadata": {
    "collapsed": false
   },
   "outputs": [
    {
     "name": "stdout",
     "output_type": "stream",
     "text": [
      "['__class__', '__delattr__', '__dir__', '__doc__', '__eq__', '__format__', '__ge__', '__getattribute__', '__getitem__', '__gt__', '__hash__', '__init__', '__iter__', '__le__', '__lt__', '__ne__', '__new__', '__reduce__', '__reduce_ex__', '__repr__', '__setattr__', '__sizeof__', '__str__', '__subclasshook__', 'add_atom', 'add_atom_range', 'add_atoms', 'add_mask_at_position', 'add_selected_atom', 'atoms_in_char_mask', 'back', 'brief_mask_info', 'clear_selected', 'convert_to_char_mask', 'convert_to_int_mask', 'invert_mask', 'is_char_mask', 'is_empty', 'mask_expression', 'mask_info', 'mask_string', 'mask_string_was_set', 'n_atoms', 'n_selected', 'num_atoms_in_common', 'print_mask_atoms', 'reset_mask', 'selected_indices', 'setup_char_mask', 'setup_int_mask']\n",
      "b'@CA'\n"
     ]
    }
   ],
   "source": [
    "print (dir(atm))\n",
    "\n",
    "print (atm.mask_string)"
   ]
  },
  {
   "cell_type": "code",
   "execution_count": 428,
   "metadata": {
    "collapsed": false
   },
   "outputs": [],
   "source": [
    "# or use shortcut\n",
    "\n",
    "atm0 = traj.top(\"@CA\")"
   ]
  },
  {
   "cell_type": "code",
   "execution_count": 429,
   "metadata": {
    "collapsed": false
   },
   "outputs": [
    {
     "name": "stdout",
     "output_type": "stream",
     "text": [
      "<pytraj.AtomMask.AtomMask object at 0x2aaac5091fc0>\n"
     ]
    }
   ],
   "source": [
    "print (atm0)"
   ]
  },
  {
   "cell_type": "code",
   "execution_count": 430,
   "metadata": {
    "collapsed": false
   },
   "outputs": [
    {
     "name": "stdout",
     "output_type": "stream",
     "text": [
      "20\n"
     ]
    }
   ],
   "source": [
    "# access useful data\n",
    "\n",
    "# number of selected atoms\n",
    "print (atm0.n_atoms)"
   ]
  },
  {
   "cell_type": "code",
   "execution_count": 431,
   "metadata": {
    "collapsed": false
   },
   "outputs": [
    {
     "name": "stdout",
     "output_type": "stream",
     "text": [
      "array('i', [4, 18, 37, 58, 77, 94, 118, 137, 159, 171, 178, 193, 199, 210, 221, 228, 260, 274, 288, 294])\n"
     ]
    }
   ],
   "source": [
    "# get indices of selected atoms\n",
    "print (atm0.selected_indices())"
   ]
  },
  {
   "cell_type": "code",
   "execution_count": 432,
   "metadata": {
    "collapsed": false
   },
   "outputs": [
    {
     "name": "stdout",
     "output_type": "stream",
     "text": [
      "array('i', [18, 37])\n"
     ]
    }
   ],
   "source": [
    "# When using `string` as mask, the index number starts from 1 (to be compatible with AMBER), otherwise the index starts from 0.\n",
    "\n",
    "# choose CA at residue 2 and 3 \n",
    "atm0 = traj.top(\":2-3@CA\")\n",
    "print (atm0.selected_indices())\n",
    "\n",
    "indices = atm0.selected_indices()"
   ]
  },
  {
   "cell_type": "code",
   "execution_count": 433,
   "metadata": {
    "collapsed": false
   },
   "outputs": [
    {
     "name": "stdout",
     "output_type": "stream",
     "text": [
      "LEU_2@CA\n",
      "TYR_3@CA\n"
     ]
    }
   ],
   "source": [
    "print (traj.top.trunc_res_atom_name(indices[0]))\n",
    "print (traj.top.trunc_res_atom_name(indices[1]))"
   ]
  },
  {
   "cell_type": "markdown",
   "metadata": {},
   "source": [
    "# Full example"
   ]
  },
  {
   "cell_type": "code",
   "execution_count": 434,
   "metadata": {
    "collapsed": false
   },
   "outputs": [],
   "source": [
    "# 1\n",
    "\"\"\"This script shows how to extract frames having the same temperature\n",
    "from replica exchange MD run. You can do it with cpptraj but this shows how easily\n",
    "to write new script with pytraj\n",
    "# TODO : check typos for DOCo\n",
    "\"\"\"\n",
    "\n",
    "import unittest\n",
    "from array import array\n",
    "from glob import glob\n",
    "from pytraj.base import *\n",
    "from pytraj import io as mdio\n",
    "from pytraj.utils.check_and_assert import assert_almost_equal\n",
    "\n",
    "def get_frames_same_T():\n",
    "   # create a list of all remd trajs\n",
    "   flist = glob(\"../tests/data/Test_RemdTraj/rem.nc.*\") \n",
    "\n",
    "   # make a list of TrajReadOnly instances\n",
    "   trajlist = []\n",
    "   for fh in flist:\n",
    "       topfile = \"../tests/data/Test_RemdTraj/ala2.99sb.mbondi2.parm7\"\n",
    "\n",
    "       # load trajectory and append to trajlist\n",
    "       trajlist.append(mdio.load(fh, topfile))\n",
    "\n",
    "   # make FrameArray instance that holds 492.2 T frames\n",
    "   # we need to reserve n_frames to hold the data\n",
    "   f4922 = FrameArray(n_frames=trajlist[0].n_frames)\n",
    "\n",
    "   assert f4922.n_frames == trajlist[0].n_frames\n",
    "   f4922.top = trajlist[0].top.copy()\n",
    "\n",
    "   # extract frames having T = 492.2\n",
    "   # use iteration for nested loops\n",
    "   for traj in trajlist:\n",
    "       for idx, frame in enumerate(traj):\n",
    "           if frame.temperature == 492.2:\n",
    "               # we don't use `append` method since we want to make sure \n",
    "               # frames are in the order of simulation time\n",
    "               f4922[idx] = frame\n",
    "\n",
    "   # make sure f4922 only hold frames having T = 492.2 K\n",
    "   arr0 = array('d', [492.2, 492.2, 492.2, 492.2, 492.2, \n",
    "                     492.2, 492.2, 492.2, 492.2, 492.2])\n",
    "   assert f4922.temperatures == arr0\n",
    "\n",
    "   # make sure we reproduce cpptraj output\n",
    "   cpptraj = mdio.load(\"../tests/data/Test_RemdTraj/temp0.crd.492.20\", topfile)\n",
    "   for idx, framepy in enumerate(f4922):\n",
    "       assert_almost_equal(framepy.coords, cpptraj[idx].coords)\n",
    "       print(\"rmsd between pytraj Frame and cpptraj Frame = %s \" % framepy.rmsd(cpptraj[idx]))\n",
    "   \n",
    "   print ()\n",
    "   print(f4922[5].coords[:10])\n",
    "   print(cpptraj[5].coords[:10])\n",
    "\n",
    "   print(\"YES, we can reproduce cpptraj output\")"
   ]
  },
  {
   "cell_type": "code",
   "execution_count": 435,
   "metadata": {
    "collapsed": false
   },
   "outputs": [
    {
     "name": "stdout",
     "output_type": "stream",
     "text": [
      "rmsd between pytraj Frame and cpptraj Frame = 0.0004537857325777221 \n",
      "rmsd between pytraj Frame and cpptraj Frame = 0.00040011085473567147 \n",
      "rmsd between pytraj Frame and cpptraj Frame = 0.0004965490165713683 \n",
      "rmsd between pytraj Frame and cpptraj Frame = 0.0004901392777290847 \n",
      "rmsd between pytraj Frame and cpptraj Frame = 0.00048039576004936676 \n",
      "rmsd between pytraj Frame and cpptraj Frame = 0.0004474136708874317 \n",
      "rmsd between pytraj Frame and cpptraj Frame = 0.0004878846620305841 \n",
      "rmsd between pytraj Frame and cpptraj Frame = 0.0005227524683447184 \n",
      "rmsd between pytraj Frame and cpptraj Frame = 0.00046504114463576655 \n",
      "rmsd between pytraj Frame and cpptraj Frame = 0.0004950090575904039 \n",
      "\n",
      "array('d', [8.037311553955078, 5.207451820373535, 1.3513193130493164, 7.069351673126221, 5.673007011413574, 1.1658153533935547, 7.176811695098877, 6.072388648986816, 0.15732811391353607, 6.865853786468506])\n",
      "array('d', [8.037, 5.207, 1.351, 7.069, 5.673, 1.166, 7.177, 6.072, 0.157, 6.866])\n",
      "YES, we can reproduce cpptraj output\n"
     ]
    }
   ],
   "source": [
    "get_frames_same_T()"
   ]
  },
  {
   "cell_type": "code",
   "execution_count": 436,
   "metadata": {
    "collapsed": false
   },
   "outputs": [],
   "source": [
    "\"\"\" 2: calc_pairwise_rmsd\n",
    "You can do it with cpptraj but this shows how easily\n",
    "to write new script with pytraj\"\"\"\n",
    "\n",
    "import numpy as np\n",
    "from pytraj.base import *\n",
    "from time import time\n",
    "\n",
    "TRAJ = TrajReadOnly()\n",
    "TRAJ.top = Topology(\"../tests/data/Tc5b.top\")\n",
    "TRAJ.load(\"../tests/data/md1_prod.Tc5b.x\")\n",
    "\n",
    "def calc_pairwise_rmsd():\n",
    "    farray = FrameArray()\n",
    "    farray.top = TRAJ.top\n",
    "    #\n",
    "    for frame in TRAJ:\n",
    "        frame.strip_atoms(\"!@CA\", TRAJ.top.copy())\n",
    "        farray.append(frame)\n",
    "    \n",
    "    size = farray.size\n",
    "    arr = np.empty(shape=(size, size))\n",
    "    \n",
    "    for i, framei in enumerate(farray):\n",
    "        for j, framej in enumerate(farray):\n",
    "            arr[i, j] = framei.rmsd(framej)\n",
    "    return arr\n",
    "\n",
    "arr0 = calc_pairwise_rmsd()"
   ]
  },
  {
   "cell_type": "code",
   "execution_count": 437,
   "metadata": {
    "collapsed": false
   },
   "outputs": [
    {
     "name": "stdout",
     "output_type": "stream",
     "text": [
      "[[  5.41057859e-07   9.75457220e+00   9.65628956e+00   1.11727631e+01\n",
      "    1.09077360e+01   1.03929239e+01   1.11727298e+01   1.10058707e+01\n",
      "    1.05837293e+01   1.14651283e+01]\n",
      " [  9.75457220e+00   0.00000000e+00   3.27419669e+00   4.04657903e+00\n",
      "    5.57790805e+00   7.13030493e+00   6.37631614e+00   6.18558755e+00\n",
      "    6.78389254e+00   5.24499039e+00]\n",
      " [  9.65628956e+00   3.27419669e+00   1.84678237e-07   3.84257042e+00\n",
      "    4.69312503e+00   6.14501885e+00   5.26026237e+00   5.12229179e+00\n",
      "    6.00964523e+00   4.73110002e+00]\n",
      " [  1.11727631e+01   4.04657903e+00   3.84257042e+00   1.06624030e-07\n",
      "    3.65342118e+00   5.55976251e+00   5.26531127e+00   5.06034737e+00\n",
      "    5.43988366e+00   3.43892531e+00]\n",
      " [  1.09077360e+01   5.57790805e+00   4.69312503e+00   3.65342118e+00\n",
      "    0.00000000e+00   3.47111248e+00   3.01260132e+00   3.16157971e+00\n",
      "    3.50381802e+00   3.16548984e+00]\n",
      " [  1.03929239e+01   7.13030493e+00   6.14501885e+00   5.55976251e+00\n",
      "    3.47111248e+00   2.55675442e-07   3.02214022e+00   3.04624528e+00\n",
      "    3.41472099e+00   4.90745105e+00]\n",
      " [  1.11727298e+01   6.37631614e+00   5.26026237e+00   5.26531127e+00\n",
      "    3.01260132e+00   3.02214022e+00   0.00000000e+00   1.28082274e+00\n",
      "    2.76118598e+00   3.97168167e+00]\n",
      " [  1.10058707e+01   6.18558755e+00   5.12229179e+00   5.06034737e+00\n",
      "    3.16157971e+00   3.04624528e+00   1.28082274e+00   0.00000000e+00\n",
      "    2.37144767e+00   4.01867558e+00]\n",
      " [  1.05837293e+01   6.78389254e+00   6.00964523e+00   5.43988366e+00\n",
      "    3.50381802e+00   3.41472099e+00   2.76118598e+00   2.37144767e+00\n",
      "    1.59936045e-07   4.88762933e+00]\n",
      " [  1.14651283e+01   5.24499039e+00   4.73110002e+00   3.43892531e+00\n",
      "    3.16548984e+00   4.90745105e+00   3.97168167e+00   4.01867558e+00\n",
      "    4.88762933e+00   0.00000000e+00]]\n"
     ]
    }
   ],
   "source": [
    "print (arr0[:20])"
   ]
  }
 ],
 "metadata": {
  "kernelspec": {
   "display_name": "Python 3",
   "language": "python",
   "name": "python3"
  },
  "language_info": {
   "codemirror_mode": {
    "name": "ipython",
    "version": 3
   },
   "file_extension": ".py",
   "mimetype": "text/x-python",
   "name": "python",
   "nbconvert_exporter": "python",
   "pygments_lexer": "ipython3",
   "version": "3.4.3"
  }
 },
 "nbformat": 4,
 "nbformat_minor": 0
}
