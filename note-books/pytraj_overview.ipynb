{
 "metadata": {
  "name": "",
  "signature": "sha256:b8eea8a37d1a37b65ab9d72c0365dfd2b47c18edd3ca3333854fd18b73444e74"
 },
 "nbformat": 3,
 "nbformat_minor": 0,
 "worksheets": [
  {
   "cells": [
    {
     "cell_type": "markdown",
     "metadata": {},
     "source": [
      "`pytraj` is a Python wrapper of `cpptraj`. `pytraj` was written with the hope that it will introduce flexibilty in customizing data analysis workflow"
     ]
    },
    {
     "cell_type": "markdown",
     "metadata": {},
     "source": [
      "Outline\n",
      "    * Install\n",
      "    * Trajectory object\n",
      "    * Frame object\n",
      "    * Topology object\n",
      "    * AtomMask object\n",
      "         + AtomMask follows AMBER syntax for picking atoms.\n",
      "        (check Amber14 manual http://ambermd.org/doc12/Amber14.pdf, page 327-330\n",
      "         + indexing difference when using integer mask and character mask. frame[0] and frame[top(':1')]\n"
     ]
    },
    {
     "cell_type": "heading",
     "level": 1,
     "metadata": {},
     "source": [
      "1. Install\n"
     ]
    },
    {
     "cell_type": "markdown",
     "metadata": {},
     "source": [
      "    * cd $AMBERHOME/AmberTools/src && make pytraj"
     ]
    },
    {
     "cell_type": "heading",
     "level": 1,
     "metadata": {},
     "source": [
      "2. Trajectory file object"
     ]
    },
    {
     "cell_type": "heading",
     "level": 3,
     "metadata": {},
     "source": [
      "* Two types of Trajectry objects"
     ]
    },
    {
     "cell_type": "raw",
     "metadata": {},
     "source": [
      "There are two types of trajectory objects in pytraj, one is immutatble (TrajReadOnly) and another is mutable (FrameArray).\n",
      "TrajReadOnly is a thin wrapper of cpptraj Trajectory class that provides efficiency in loading large data file.\n",
      "When method `load` is called by TrajReadOnly object, not all data is loaded to memory.\n",
      "\n",
      "In constrast, FrameArray is mutable trajectory object. It was designed to hold frame objects in memory."
     ]
    },
    {
     "cell_type": "code",
     "collapsed": false,
     "input": [
      "from pytraj import io as mdio\n",
      "from pytraj import FrameArray, DataSetList, DataFileList\n",
      "\n",
      "traj = mdio.load(filename=\"../tests/data/md1_prod.Tc5b.x\", top=\"../tests/data/Tc5b.top\")\n",
      "farray = FrameArray(filename=\"../tests/data/md1_prod.Tc5b.x\", top=\"../tests/data/Tc5b.top\")\n",
      "# those files can be found in\n",
      "# $AMBERHOME/AmberTools/src/pytraj/tests/data"
     ],
     "language": "python",
     "metadata": {},
     "outputs": [],
     "prompt_number": 28
    },
    {
     "cell_type": "code",
     "collapsed": false,
     "input": [
      "print (traj)"
     ],
     "language": "python",
     "metadata": {},
     "outputs": [
      {
       "output_type": "stream",
       "stream": "stdout",
       "text": [
        "TrajReadOnly instance with 10 frames, 304 atoms/frame\n",
        "                  ID = 0x2aaac49b7668\n",
        "               \n"
       ]
      }
     ],
     "prompt_number": 29
    },
    {
     "cell_type": "code",
     "collapsed": false,
     "input": [
      "print (farray)"
     ],
     "language": "python",
     "metadata": {},
     "outputs": [
      {
       "output_type": "stream",
       "stream": "stdout",
       "text": [
        "FrameArray instance with 10 frames, 304 atoms/frame\n",
        "               \n"
       ]
      }
     ],
     "prompt_number": 30
    },
    {
     "cell_type": "code",
     "collapsed": false,
     "input": [
      "print (\"traj object is immutable\")\n",
      "\n",
      "# print x-coordinate of 1st atom in 1st frame\n",
      "print (traj[0, 0, 0])\n",
      "\n",
      "# try to change its x-coordinate: pytraj does not allow this, it will raise Error saying user should use FrameArray\n",
      "#traj[0, 0, 0] = 100.\n",
      "\n",
      "# print x-coordinate of 1st atom in 1st frame\n",
      "#print (traj[0, 0, 0])"
     ],
     "language": "python",
     "metadata": {},
     "outputs": [
      {
       "output_type": "stream",
       "stream": "stdout",
       "text": [
        "traj object is immutable\n",
        "-16.492\n"
       ]
      }
     ],
     "prompt_number": 31
    },
    {
     "cell_type": "code",
     "collapsed": false,
     "input": [
      "print (\"farray object is mutable\")\n",
      "\n",
      "# print x-coordinate of 1st atom in 1st frame\n",
      "print (farray[0, 0, 0])\n",
      "\n",
      "# try to change its x-coordinate\n",
      "farray[0, 0, 0] = 100.\n",
      "\n",
      "# print x-coordinate of 1st atom in 1st frame\n",
      "print (farray[0, 0, 0])"
     ],
     "language": "python",
     "metadata": {},
     "outputs": [
      {
       "output_type": "stream",
       "stream": "stdout",
       "text": [
        "farray object is mutable\n",
        "-16.492\n",
        "100.0\n"
       ]
      }
     ],
     "prompt_number": 32
    },
    {
     "cell_type": "heading",
     "level": 3,
     "metadata": {},
     "source": [
      "* iterate trajectory"
     ]
    },
    {
     "cell_type": "code",
     "collapsed": false,
     "input": [
      "# pytraj provides fast and easy way to iterate over trajectories\n",
      "\n",
      "# iterate from 0-th frame to 8-th frame and skip every 2 frames\n",
      "for frame in traj(start=0, stop=8, stride=2):\n",
      "    print (frame)"
     ],
     "language": "python",
     "metadata": {},
     "outputs": [
      {
       "output_type": "stream",
       "stream": "stdout",
       "text": [
        "Frame instance with 304 atoms\n",
        "Frame instance with 304 atoms\n",
        "Frame instance with 304 atoms\n",
        "Frame instance with 304 atoms\n",
        "Frame instance with 304 atoms\n"
       ]
      }
     ],
     "prompt_number": 33
    },
    {
     "cell_type": "code",
     "collapsed": false,
     "input": [
      "# we can shorten by this\n",
      "for frame in traj(0, 8, 2):\n",
      "    print (frame)"
     ],
     "language": "python",
     "metadata": {},
     "outputs": [
      {
       "output_type": "stream",
       "stream": "stdout",
       "text": [
        "Frame instance with 304 atoms\n",
        "Frame instance with 304 atoms\n",
        "Frame instance with 304 atoms\n",
        "Frame instance with 304 atoms\n",
        "Frame instance with 304 atoms\n"
       ]
      }
     ],
     "prompt_number": 34
    },
    {
     "cell_type": "code",
     "collapsed": false,
     "input": [
      "# we can combine iterating with stripping atoms too\n",
      "\n",
      "# iterate and strip all but CA atoms\n",
      "for frame in traj(0, 8, 2, '@CA'):\n",
      "    print (frame)"
     ],
     "language": "python",
     "metadata": {},
     "outputs": [
      {
       "output_type": "stream",
       "stream": "stdout",
       "text": [
        "Frame instance with 20 atoms\n",
        "Frame instance with 20 atoms\n",
        "Frame instance with 20 atoms\n",
        "Frame instance with 20 atoms\n",
        "Frame instance with 20 atoms\n"
       ]
      }
     ],
     "prompt_number": 35
    },
    {
     "cell_type": "heading",
     "level": 3,
     "metadata": {},
     "source": [
      "* Extract coordinates/frame from Trajectory"
     ]
    },
    {
     "cell_type": "code",
     "collapsed": false,
     "input": [
      "# pytraj provides different convinient ways to extract atom coordinates/frames from trajectory object.\n",
      "\n",
      "# numpy-like object\n",
      "# x, y and z coordinates of 1st atom in the 1st frame\n",
      "print (traj[0, 0, :])"
     ],
     "language": "python",
     "metadata": {},
     "outputs": [
      {
       "output_type": "stream",
       "stream": "stdout",
       "text": [
        "[-16.492  12.434 -11.018]\n"
       ]
      }
     ],
     "prompt_number": 36
    },
    {
     "cell_type": "code",
     "collapsed": false,
     "input": [
      "#x, y, z coordinates of all CA atoms for 1st and 2nd frames\n",
      "#print (traj[:2]['@CA'])\n",
      "\n",
      "# if you don't want to get raw coordinates, you can extract `frame` objects by adding `:frame` keyword\n",
      "# the below command with result a FrameArray object with 2 frames containing only CA atoms\n",
      "f0 = traj[:2]['@CA :frame']\n",
      "print (f0)"
     ],
     "language": "python",
     "metadata": {},
     "outputs": [
      {
       "output_type": "stream",
       "stream": "stdout",
       "text": [
        "FrameArray instance with 2 frames, 20 atoms/frame\n",
        "               \n"
       ]
      }
     ],
     "prompt_number": 37
    },
    {
     "cell_type": "heading",
     "level": 3,
     "metadata": {},
     "source": [
      "* Perform Action with frame/traj"
     ]
    },
    {
     "cell_type": "code",
     "collapsed": false,
     "input": [
      "# how's about doing analysis with `frame` or trajectory object in pytraj?\n",
      "# import `action` dictionanry holding all supported action keywords\n",
      "from pytraj import adict\n",
      "keys = adict.keys()\n",
      "print (keys)\n",
      "\n",
      "print ()\n",
      "print (\"number of supported actions in pytraj = %s\" % len(keys))"
     ],
     "language": "python",
     "metadata": {},
     "outputs": [
      {
       "output_type": "stream",
       "stream": "stdout",
       "text": [
        "['angle', 'areapermol', 'atomiccorr', 'atomicfluct', 'atommap', 'autoimage', 'average', 'bounds', 'box', 'center', 'channel', 'checkchirality', 'checkstructure', 'closest', 'clusterdihedral', 'contacts', 'createcrd', 'createreservoir', 'density', 'diffusion', 'dihedral', 'dihedralscan', 'dipole', 'distance', 'distrmsd', 'dnaiontracker', 'dssp', 'energy', 'filterbydata', 'fixatomorder', 'gist', 'grid', 'gridfreeenergy', 'hbond', 'image', 'jcoupling', 'lessplit', 'lie', 'makestructure', 'mask', 'matrix', 'minimage', 'molsurf', 'multidihedral', 'multivector', 'nastruct', 'nativecontacts', 'nmrrst', 'orderparameter', 'outtraj', 'pairdist', 'pairwise', 'principal', 'projection', 'pucker', 'radgyr', 'radial', 'randomizeions', 'replicatecell', 'rmsd', 'rotate', 'runningavg', 'scale', 'secstruct', 'setvelocity', 'spam', 'stfc_diffusion', 'strip', 'surf', 'surf_LCPO', 'surf_lcpo', 'symmetricrmsd', 'temperature', 'translate', 'unwrap', 'vector', 'velocityautocorr', 'volmap', 'volume', 'watershell']\n",
        "\n",
        "number of supported actions in pytraj = 80\n"
       ]
      }
     ],
     "prompt_number": 38
    },
    {
     "cell_type": "code",
     "collapsed": false,
     "input": [
      "# to get the data from `action`, you can create DataSetList object\n",
      "dslist = DataSetList()\n",
      "\n",
      "# create `action` you want to perform\n",
      "# example: calculate molecular surface\n",
      "act = adict['molsurf']\n",
      "\n",
      "# perform action to calculate surf for only CA atom for farray\n",
      "act(\"@CA\", farray, dslist=dslist)\n",
      "\n",
      "# get the data\n",
      "d0 = dslist[0]\n",
      "print (d0[:])"
     ],
     "language": "python",
     "metadata": {},
     "outputs": [
      {
       "output_type": "stream",
       "stream": "stdout",
       "text": [
        "[720.1709573993338, 725.2564253204187, 735.0340618338898, 727.0239870474329, 739.5226597713878, 724.384682977327, 759.2786504955443, 761.311545972785, 744.5491727069283, 756.4058672731229]\n"
       ]
      }
     ],
     "prompt_number": 39
    },
    {
     "cell_type": "code",
     "collapsed": false,
     "input": [
      "# pytraj also provides shorter way to perform common actions\n",
      "# adding `calc_` to keywork `molsurf`\n",
      "from pytraj.common_actions import calc_molsurf\n",
      "\n",
      "# get the data\n",
      "d1 = calc_molsurf(\"@CA\", farray)\n",
      "print (d1[:])\n",
      "\n",
      "# how's about skipping frames?\n",
      "# we use frame iterator: farray(start, stop, stride)\n",
      "# need to provide topology object because the iterator does not hold this.\n",
      "# calcualte molsurf for every 2 frames, starting from 0-th frame and stop at 6-th frame\n",
      "d2 = calc_molsurf(\"@CA\", farray(0, 6, 2), farray.top)\n",
      "print (d2[:])\n",
      "\n",
      "# pytraj can process a list of mixing trajectory and frame objects too\n",
      "trajlist = [traj, farray(0, 6, 2), traj[-1]]\n",
      "d3 = calc_molsurf(\"@CA\", trajlist, farray.top)\n",
      "print (d3[:])"
     ],
     "language": "python",
     "metadata": {},
     "outputs": [
      {
       "output_type": "stream",
       "stream": "stdout",
       "text": [
        "[720.1709573993338, 725.2564253204187, 735.0340618338898, 727.0239870474329, 739.5226597713878, 724.384682977327, 759.2786504955443, 761.311545972785, 744.5491727069283, 756.4058672731229]\n",
        "[720.1709573993338, 735.0340618338898, 739.5226597713878, 759.2786504955443]\n",
        "Action.pyx: list, tuple\n",
        "[720.1709573993338, 725.2564253204187, 735.0340618338898, 727.0239870474329, 739.5226597713878, 724.384682977327, 759.2786504955443, 761.311545972785, 744.5491727069283, 756.4058672731229, 720.1709573993338, 735.0340618338898, 739.5226597713878, 759.2786504955443, 756.4058672731229]\n"
       ]
      }
     ],
     "prompt_number": 40
    },
    {
     "cell_type": "heading",
     "level": 3,
     "metadata": {},
     "source": [
      "* save traj with different format"
     ]
    },
    {
     "cell_type": "code",
     "collapsed": false,
     "input": [
      "# saving traj with different format?\n",
      "# AMBER netcdf\n",
      "traj.save(\"./output/test.nc\", overwrite=True)\n",
      "\n",
      "# CHARMM dcd format\n",
      "traj.save(\"./output/test.dcd\", overwrite=True)\n",
      "\n",
      "# save a list of trajs\n",
      "mdio.write_traj(\"./output/combo_trajs.x\", [traj, traj, traj[:3], traj[:0]], traj.top, overwrite=True)"
     ],
     "language": "python",
     "metadata": {},
     "outputs": [],
     "prompt_number": 41
    },
    {
     "cell_type": "code",
     "collapsed": false,
     "input": [
      "!ls ./output/test.nc\n",
      "!ls ./output/test.dcd\n",
      "!ls ./output/combo_trajs.x"
     ],
     "language": "python",
     "metadata": {},
     "outputs": [
      {
       "output_type": "stream",
       "stream": "stdout",
       "text": [
        "./output/test.nc\r\n"
       ]
      },
      {
       "output_type": "stream",
       "stream": "stdout",
       "text": [
        "./output/test.dcd\r\n"
       ]
      },
      {
       "output_type": "stream",
       "stream": "stdout",
       "text": [
        "./output/combo_trajs.x\r\n"
       ]
      }
     ],
     "prompt_number": 42
    },
    {
     "cell_type": "heading",
     "level": 1,
     "metadata": {},
     "source": [
      "AtomMask"
     ]
    },
    {
     "cell_type": "code",
     "collapsed": false,
     "input": [
      "# AtomMask object is another important class of pytraj/cpptraj. It provide easy and convenient (to me) to select atom\n",
      "# one can asses AtomMask object in different way\n",
      "# traditionally,\n",
      "\n",
      "from pytraj import AtomMask\n",
      "\n",
      "# create AtomMask object with chosen '@CA' mask\n",
      "atm = AtomMask('@CA')"
     ],
     "language": "python",
     "metadata": {},
     "outputs": [],
     "prompt_number": 43
    },
    {
     "cell_type": "code",
     "collapsed": false,
     "input": [
      "print (dir(atm))\n",
      "\n",
      "print (atm.mask_string)"
     ],
     "language": "python",
     "metadata": {},
     "outputs": [
      {
       "output_type": "stream",
       "stream": "stdout",
       "text": [
        "['__class__', '__delattr__', '__dir__', '__doc__', '__eq__', '__format__', '__ge__', '__getattribute__', '__getitem__', '__gt__', '__hash__', '__init__', '__iter__', '__le__', '__lt__', '__ne__', '__new__', '__reduce__', '__reduce_ex__', '__repr__', '__setattr__', '__sizeof__', '__str__', '__subclasshook__', 'add_atom', 'add_atom_range', 'add_atoms', 'add_mask_at_position', 'add_selected_atom', 'atoms_in_char_mask', 'back', 'brief_mask_info', 'clear_selected', 'convert_to_char_mask', 'convert_to_int_mask', 'invert_mask', 'is_char_mask', 'is_empty', 'mask_expression', 'mask_info', 'mask_string', 'mask_string_was_set', 'n_atoms', 'n_selected', 'num_atoms_in_common', 'print_mask_atoms', 'reset_mask', 'selected_indices', 'setup_char_mask', 'setup_int_mask']\n",
        "b'@CA'\n"
       ]
      }
     ],
     "prompt_number": 44
    },
    {
     "cell_type": "code",
     "collapsed": false,
     "input": [
      "# or use shortcut\n",
      "\n",
      "atm0 = traj.top(\"@CA\")"
     ],
     "language": "python",
     "metadata": {},
     "outputs": [],
     "prompt_number": 45
    },
    {
     "cell_type": "code",
     "collapsed": false,
     "input": [
      "print (atm0)"
     ],
     "language": "python",
     "metadata": {},
     "outputs": [
      {
       "output_type": "stream",
       "stream": "stdout",
       "text": [
        "<pytraj.AtomMask.AtomMask object at 0x2aaac49cc048>\n"
       ]
      }
     ],
     "prompt_number": 46
    },
    {
     "cell_type": "code",
     "collapsed": false,
     "input": [
      "# access useful data\n",
      "\n",
      "# number of selected atoms\n",
      "print (atm0.n_atoms)"
     ],
     "language": "python",
     "metadata": {},
     "outputs": [
      {
       "output_type": "stream",
       "stream": "stdout",
       "text": [
        "20\n"
       ]
      }
     ],
     "prompt_number": 47
    },
    {
     "cell_type": "code",
     "collapsed": false,
     "input": [
      "# get indices of selected atoms\n",
      "print (atm0.selected_indices())"
     ],
     "language": "python",
     "metadata": {},
     "outputs": [
      {
       "output_type": "stream",
       "stream": "stdout",
       "text": [
        "array('i', [4, 18, 37, 58, 77, 94, 118, 137, 159, 171, 178, 193, 199, 210, 221, 228, 260, 274, 288, 294])\n"
       ]
      }
     ],
     "prompt_number": 48
    },
    {
     "cell_type": "code",
     "collapsed": false,
     "input": [
      "# When using `string` as mask, the index number starts from 1 (to be compatible with AMBER), otherwise the index starts from 0.\n",
      "\n",
      "# choose CA at residue 2 and 3 \n",
      "atm0 = traj.top(\":2-3@CA\")\n",
      "print (atm0.selected_indices())\n",
      "\n",
      "indices = atm0.selected_indices()"
     ],
     "language": "python",
     "metadata": {},
     "outputs": [
      {
       "output_type": "stream",
       "stream": "stdout",
       "text": [
        "array('i', [18, 37])\n"
       ]
      }
     ],
     "prompt_number": 49
    },
    {
     "cell_type": "code",
     "collapsed": false,
     "input": [
      "print (traj.top.trunc_res_atom_name(indices[0]))\n",
      "print (traj.top.trunc_res_atom_name(indices[1]))"
     ],
     "language": "python",
     "metadata": {},
     "outputs": [
      {
       "output_type": "stream",
       "stream": "stdout",
       "text": [
        "LEU_2@CA\n",
        "TYR_3@CA\n"
       ]
      }
     ],
     "prompt_number": 50
    },
    {
     "cell_type": "heading",
     "level": 2,
     "metadata": {},
     "source": [
      "* Common Actions"
     ]
    },
    {
     "cell_type": "code",
     "collapsed": false,
     "input": [
      "from pytraj import common_actions"
     ],
     "language": "python",
     "metadata": {},
     "outputs": [],
     "prompt_number": 51
    },
    {
     "cell_type": "code",
     "collapsed": false,
     "input": [
      "cdict = common_actions.__dict__"
     ],
     "language": "python",
     "metadata": {},
     "outputs": [],
     "prompt_number": 52
    },
    {
     "cell_type": "code",
     "collapsed": false,
     "input": [
      "calc_list = [act for act in cdict if act.startswith(\"calc\")]\n",
      "print (calc_list)"
     ],
     "language": "python",
     "metadata": {},
     "outputs": [
      {
       "output_type": "stream",
       "stream": "stdout",
       "text": [
        "['calc_score', 'calc_dssp', 'calc_angle', 'calc_radial', 'calc_protein_score', 'calc_distrmsd', 'calc_radgyr', 'calc_molsurf', 'calc_dih', 'calc_dihedral', 'calc_watershell', 'calc_volume', 'calc_distance', 'calculate']\n"
       ]
      }
     ],
     "prompt_number": 53
    },
    {
     "cell_type": "code",
     "collapsed": false,
     "input": [
      "print ([act for act in cdict if act.startswith(\"do_\")])"
     ],
     "language": "python",
     "metadata": {},
     "outputs": [
      {
       "output_type": "stream",
       "stream": "stdout",
       "text": [
        "['do_translation', 'do_autoimage', 'do_rotation']\n"
       ]
      }
     ],
     "prompt_number": 54
    }
   ],
   "metadata": {}
  }
 ]
}