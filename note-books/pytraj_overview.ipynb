{
 "metadata": {
  "name": "",
  "signature": "sha256:6ba0dc264be5ee46e3f584ff111614a2ac20fffc6f93556586c8e8cd813db6d4"
 },
 "nbformat": 3,
 "nbformat_minor": 0,
 "worksheets": [
  {
   "cells": [
    {
     "cell_type": "raw",
     "metadata": {},
     "source": [
      "`pytraj` is a Python wrapper of `cpptraj`. `pytraj` was written with the hope that it will introduce flexibilty in customizing data analysis workflow"
     ]
    },
    {
     "cell_type": "raw",
     "metadata": {},
     "source": [
      "1. Work flow\n",
      "2. Trajectory object\n",
      "3. Frame object\n",
      "4. Topology object\n",
      "5. AtomMask object\n",
      "    + AtomMask follows AMBER syntax for picking atoms.\n",
      "        (check Amber14 manual http://ambermd.org/doc12/Amber14.pdf, page 327-330\n",
      "    + indexing difference when using integer mask and character mask. frame[0] and frame[top(':1')]\n"
     ]
    },
    {
     "cell_type": "raw",
     "metadata": {},
     "source": [
      "1. Work flow\n",
      "+ load trajectory files\n",
      "+ perform 'action' on frame/trajectory\n",
      "+ write output"
     ]
    },
    {
     "cell_type": "heading",
     "level": 1,
     "metadata": {},
     "source": [
      "2. Trajectory file object"
     ]
    },
    {
     "cell_type": "raw",
     "metadata": {},
     "source": [
      "There are two types of trajectory objects in pytraj, one is immutatble (TrajReadOnly) and another is mutable (FrameArray).\n",
      "TrajReadOnly is a thin wrapper of cpptraj Trajectory class that provides efficiency in loading large data file.\n",
      "When method `load` is called by TrajReadOnly object, not all data is loaded to memory.\n",
      "\n",
      "In constrast, FrameArray is mutable trajectory object. It was designed to hold frame objects in memory."
     ]
    },
    {
     "cell_type": "code",
     "collapsed": false,
     "input": [
      "from pytraj import io as mdio\n",
      "\n",
      "traj = mdio.load(filename=\"../tests/data/md1_prod.Tc5b.x\", top=\"../tests/data/Tc5b.top\")\n",
      "farray = FrameArray(filename=\"../tests/data/md1_prod.Tc5b.x\", top=\"../tests/data/Tc5b.top\")\n"
     ],
     "language": "python",
     "metadata": {},
     "outputs": [],
     "prompt_number": 29
    },
    {
     "cell_type": "code",
     "collapsed": false,
     "input": [
      "print (traj)\n"
     ],
     "language": "python",
     "metadata": {},
     "outputs": [
      {
       "output_type": "stream",
       "stream": "stdout",
       "text": [
        "TrajReadOnly instance with 10 frames, 304 atoms/frame\n",
        "                  ID = 0x7f5a2be54800\n",
        "               \n"
       ]
      }
     ],
     "prompt_number": 30
    },
    {
     "cell_type": "code",
     "collapsed": false,
     "input": [
      "print (farray)"
     ],
     "language": "python",
     "metadata": {},
     "outputs": [
      {
       "output_type": "stream",
       "stream": "stdout",
       "text": [
        "FrameArray instance with 10 frames, 304 atoms/frame\n",
        "               \n"
       ]
      }
     ],
     "prompt_number": 31
    },
    {
     "cell_type": "code",
     "collapsed": false,
     "input": [
      "print (\"traj object is immutable\")\n",
      "\n",
      "# print x-coordinate of 1st atom in 1st frame\n",
      "print (traj[0, 0, 0])\n",
      "\n",
      "# try to change its x-coordinate: pytraj does not allow this, it will raise Error saying user should use FrameArray\n",
      "#traj[0, 0, 0] = 100.\n",
      "\n",
      "# print x-coordinate of 1st atom in 1st frame\n",
      "#print (traj[0, 0, 0])"
     ],
     "language": "python",
     "metadata": {},
     "outputs": [
      {
       "output_type": "stream",
       "stream": "stdout",
       "text": [
        "traj object is immutable\n",
        "-16.492\n"
       ]
      }
     ],
     "prompt_number": 32
    },
    {
     "cell_type": "code",
     "collapsed": false,
     "input": [
      "print (\"farray object is mutable\")\n",
      "\n",
      "# print x-coordinate of 1st atom in 1st frame\n",
      "print (farray[0, 0, 0])\n",
      "\n",
      "# try to change its x-coordinate\n",
      "farray[0, 0, 0] = 100.\n",
      "\n",
      "# print x-coordinate of 1st atom in 1st frame\n",
      "print (farray[0, 0, 0])"
     ],
     "language": "python",
     "metadata": {},
     "outputs": [
      {
       "output_type": "stream",
       "stream": "stdout",
       "text": [
        "farray object is mutable\n",
        "-16.492\n",
        "100.0\n"
       ]
      }
     ],
     "prompt_number": 33
    },
    {
     "cell_type": "heading",
     "level": 2,
     "metadata": {},
     "source": [
      "2.1 Extract coordinates/frame from Trajectory"
     ]
    },
    {
     "cell_type": "code",
     "collapsed": false,
     "input": [
      "# pytraj provides different convinient ways to extract atom coordinates/frames from trajectory object.\n",
      "\n",
      "# numpy-like object\n",
      "# x, y and z coordinates of 1st atom in the 1st frame\n",
      "print (traj[0, 0, :])"
     ],
     "language": "python",
     "metadata": {},
     "outputs": [
      {
       "output_type": "stream",
       "stream": "stdout",
       "text": [
        "[-16.492  12.434 -11.018]\n"
       ]
      }
     ],
     "prompt_number": 34
    },
    {
     "cell_type": "code",
     "collapsed": false,
     "input": [
      "#x, y, z coordinates of all CA atoms for 1st and 2nd frames\n",
      "#print (traj[:2]['@CA'])\n",
      "\n",
      "# if you don't want to get raw coordinates, you can extract `frame` objects by adding `:frame` keyword\n",
      "# the below command with result a FrameArray object with 2 frames containing only CA atoms\n",
      "f0 = traj[:2]['@CA :frame']\n",
      "print (f0)"
     ],
     "language": "python",
     "metadata": {},
     "outputs": [
      {
       "output_type": "stream",
       "stream": "stdout",
       "text": [
        "FrameArray instance with 2 frames, 20 atoms/frame\n",
        "               \n"
       ]
      }
     ],
     "prompt_number": 35
    },
    {
     "cell_type": "code",
     "collapsed": false,
     "input": [
      "# how's about doing analysis with `frame` or trajectory object in pytraj?\n",
      "# import `action` dictionanry holding all supported action keywords\n",
      "from pytraj import adict\n",
      "print (adict.keys())"
     ],
     "language": "python",
     "metadata": {},
     "outputs": [
      {
       "output_type": "stream",
       "stream": "stdout",
       "text": [
        "['angle', 'areapermol', 'atomiccorr', 'atomicfluct', 'atommap', 'autoimage', 'average', 'bounds', 'box', 'center', 'channel', 'checkchirality', 'checkstructure', 'closest', 'clusterdihedral', 'contacts', 'createcrd', 'createreservoir', 'density', 'diffusion', 'dihedral', 'dihedralscan', 'dipole', 'distance', 'distrmsd', 'dnaiontracker', 'dssp', 'energy', 'filterbydata', 'fixatomorder', 'gist', 'grid', 'gridfreeenergy', 'hbond', 'image', 'jcoupling', 'lessplit', 'lie', 'makestructure', 'mask', 'matrix', 'minimage', 'molsurf', 'multidihedral', 'multivector', 'nastruct', 'nativecontacts', 'nmrrst', 'orderparameter', 'outtraj', 'pairdist', 'pairwise', 'principal', 'projection', 'pucker', 'radgyr', 'radial', 'randomizeions', 'replicatecell', 'rmsd', 'rotate', 'rotdif', 'runningavg', 'scale', 'secstruct', 'setvelocity', 'spam', 'stfc_diffusion', 'strip', 'surf', 'surf_LCPO', 'surf_lcpo', 'symmetricrmsd', 'temperature', 'translate', 'unwrap', 'vector', 'velocityautocorr', 'volmap', 'watershell']\n"
       ]
      }
     ],
     "prompt_number": 36
    },
    {
     "cell_type": "code",
     "collapsed": false,
     "input": [
      "# to get the data from `action`, you can create DataSetList object\n",
      "dslist = DataSetList()\n",
      "\n",
      "# create `action` you want to perform\n",
      "# example: calculate molecular surface\n",
      "act = adict['molsurf']\n",
      "\n",
      "# perform action to calculate surf for only CA atom for farray\n",
      "act(\"@CA\", farray, dslist=dslist)\n",
      "\n",
      "# get the data\n",
      "d0 = dslist[0]\n",
      "print (d0[:])"
     ],
     "language": "python",
     "metadata": {},
     "outputs": [
      {
       "output_type": "stream",
       "stream": "stdout",
       "text": [
        "[720.1709573993338, 725.2564253204187, 735.0340618338898, 727.0239870474329, 739.5226597713878, 724.384682977327, 759.2786504955443, 761.311545972785, 744.5491727069283, 756.4058672731229]\n"
       ]
      }
     ],
     "prompt_number": 39
    },
    {
     "cell_type": "code",
     "collapsed": false,
     "input": [
      "# pytraj also provides shorter way to perform common actions\n",
      "# adding `calc_` to keywork `molsurf`\n",
      "from pytraj.common_actions import calc_molsurf\n",
      "\n",
      "# get the data\n",
      "d1 = calc_molsurf(\"@CA\", farray)\n",
      "print (d1[:])\n",
      "\n",
      "# how's about skipping frames?\n",
      "# we use frame iterator: farray(start, stop, stride)\n",
      "# need to provide topology object because the iterator does not hold this.\n",
      "# calcualte molsurf for every 2 frames, starting from 0-th frame and stop at 6-th frame\n",
      "d2 = calc_molsurf(\"@CA\", farray(0, 6, 2), farray.top)\n",
      "print (d2[:])\n",
      "\n",
      "# pytraj can process a list of mixing trajectory and frame objects too\n",
      "trajlist = [traj, farray(0, 6, 2), traj[-1]]\n",
      "d3 = calc_molsurf(\"@CA\", trajlist, farray.top)\n",
      "print (d3[:])"
     ],
     "language": "python",
     "metadata": {},
     "outputs": [
      {
       "output_type": "stream",
       "stream": "stdout",
       "text": [
        "[720.1709573993338, 725.2564253204187, 735.0340618338898, 727.0239870474329, 739.5226597713878, 724.384682977327, 759.2786504955443, 761.311545972785, 744.5491727069283, 756.4058672731229]\n",
        "[720.1709573993338, 735.0340618338898, 739.5226597713878, 759.2786504955443]\n",
        "Action.pyx: list, tuple\n",
        "[720.1709573993338, 725.2564253204187, 735.0340618338898, 727.0239870474329, 739.5226597713878, 724.384682977327, 759.2786504955443, 761.311545972785, 744.5491727069283, 756.4058672731229, 720.1709573993338, 735.0340618338898, 739.5226597713878, 759.2786504955443, 756.4058672731229]\n"
       ]
      }
     ],
     "prompt_number": 45
    },
    {
     "cell_type": "code",
     "collapsed": false,
     "input": [
      "# saving traj with different format?\n",
      "# AMBER netcdf\n",
      "traj.save(\"./output/test.nc\", overwrite=True)\n",
      "\n",
      "# CHARMM dcd format\n",
      "traj.save(\"./output/test.dcd\", overwrite=True)"
     ],
     "language": "python",
     "metadata": {},
     "outputs": [],
     "prompt_number": 49
    },
    {
     "cell_type": "code",
     "collapsed": false,
     "input": [
      "!ls ./output/test.nc\n",
      "!ls ./output/test.dcd"
     ],
     "language": "python",
     "metadata": {},
     "outputs": [
      {
       "output_type": "stream",
       "stream": "stdout",
       "text": [
        "./output/test.nc\r\n"
       ]
      },
      {
       "output_type": "stream",
       "stream": "stdout",
       "text": [
        "./output/test.dcd\r\n"
       ]
      }
     ],
     "prompt_number": 47
    },
    {
     "cell_type": "code",
     "collapsed": false,
     "input": [],
     "language": "python",
     "metadata": {},
     "outputs": []
    }
   ],
   "metadata": {}
  }
 ]
}
