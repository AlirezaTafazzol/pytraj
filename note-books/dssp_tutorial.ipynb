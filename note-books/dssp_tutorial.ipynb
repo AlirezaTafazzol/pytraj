{
 "cells": [
  {
   "cell_type": "markdown",
   "metadata": {},
   "source": [
    "# Aim: demonstrating DSSP calculation in pytraj"
   ]
  },
  {
   "cell_type": "code",
   "execution_count": 8,
   "metadata": {
    "collapsed": false
   },
   "outputs": [],
   "source": [
    "from __future__ import print_function\n",
    "# import DataSetList to hold data\n",
    "from pytraj import DataSetList\n",
    "\n",
    "# import Action Dictionary (hold pytraj/cpptraj Action objects)\n",
    "from pytraj import adict, io\n",
    "\n",
    "from pytraj.common_actions import to_string_ss"
   ]
  },
  {
   "cell_type": "code",
   "execution_count": 9,
   "metadata": {
    "collapsed": false
   },
   "outputs": [],
   "source": [
    "traj = io.load(\"../tests/data/md1_prod.Tc5b.x\", \"../tests/data/Tc5b.top\")"
   ]
  },
  {
   "cell_type": "code",
   "execution_count": 10,
   "metadata": {
    "collapsed": false
   },
   "outputs": [
    {
     "name": "stdout",
     "output_type": "stream",
     "text": [
      "TrajReadOnly instance with 10 frames, 304 atoms/frame\n",
      "           \n"
     ]
    }
   ],
   "source": [
    "print (traj)"
   ]
  },
  {
   "cell_type": "markdown",
   "metadata": {},
   "source": [
    "# 1. Perform DSSP analysis in conventional way"
   ]
  },
  {
   "cell_type": "code",
   "execution_count": 11,
   "metadata": {
    "collapsed": false
   },
   "outputs": [
    {
     "name": "stdout",
     "output_type": "stream",
     "text": [
      "<pytraj.DataSetList.DataSetList object at 0x2aaac73c54d0>\n"
     ]
    }
   ],
   "source": [
    "# create Action_DSSP object\n",
    "act = adict['dssp']\n",
    "\n",
    "# create DataSetList object to hold data\n",
    "dslist = DataSetList()\n",
    "\n",
    "# calcuate DSSP for all atoms mask\n",
    "act(\"\", traj, dslist=dslist)\n",
    "\n",
    "# get the data\n",
    "print (dslist)"
   ]
  },
  {
   "cell_type": "code",
   "execution_count": 12,
   "metadata": {
    "collapsed": false
   },
   "outputs": [
    {
     "name": "stdout",
     "output_type": "stream",
     "text": [
      "['DSSP_00000[None]', 'DSSP_00000[Para]', 'DSSP_00000[Anti]', 'DSSP_00000[3-10]', 'DSSP_00000[Alpha]', 'DSSP_00000[Pi]', 'DSSP_00000[Turn]', 'DSSP_00000[Bend]', 'ASN:1', 'LEU:2', 'TYR:3', 'ILE:4', 'GLN:5', 'TRP:6', 'LEU:7', 'LYS:8', 'ASP:9', 'GLY:10', 'GLY:11', 'PRO:12', 'SER:13', 'SER:14', 'GLY:15', 'ARG:16', 'PRO:17', 'PRO:18', 'PRO:19', 'SER:20']\n"
     ]
    }
   ],
   "source": [
    "# print all data labels in this datalist\n",
    "\n",
    "print (dslist.get_legends())"
   ]
  },
  {
   "cell_type": "code",
   "execution_count": 13,
   "metadata": {
    "collapsed": false
   },
   "outputs": [
    {
     "name": "stdout",
     "output_type": "stream",
     "text": [
      "array('i', [0, 7, 7, 3, 0, 0, 0, 0, 0, 6])\n"
     ]
    }
   ],
   "source": [
    "# get the data for residue 2\n",
    "print (dslist['TYR:3'][:])"
   ]
  },
  {
   "cell_type": "code",
   "execution_count": 15,
   "metadata": {
    "collapsed": false
   },
   "outputs": [
    {
     "data": {
      "text/plain": [
       "['0', 'S', 'S', 'G', '0', '0', '0', '0', '0', 'T']"
      ]
     },
     "execution_count": 15,
     "metadata": {},
     "output_type": "execute_result"
    }
   ],
   "source": [
    "# convert to traidiontal string\n",
    "arr0 = to_string_ss(dslist['TYR:3'][:])\n",
    "arr0"
   ]
  },
  {
   "cell_type": "code",
   "execution_count": null,
   "metadata": {
    "collapsed": false
   },
   "outputs": [],
   "source": [
    "list(arr0)"
   ]
  },
  {
   "cell_type": "markdown",
   "metadata": {},
   "source": [
    "# 2. Perform DSSP analysis in much shorter way"
   ]
  },
  {
   "cell_type": "code",
   "execution_count": null,
   "metadata": {
    "collapsed": false
   },
   "outputs": [],
   "source": [
    "from pytraj.common_actions import calc_dssp"
   ]
  },
  {
   "cell_type": "code",
   "execution_count": null,
   "metadata": {
    "collapsed": false
   },
   "outputs": [],
   "source": [
    "print (\"use calc_dssp? in ipython/ipython notebook to get help\")"
   ]
  },
  {
   "cell_type": "code",
   "execution_count": null,
   "metadata": {
    "collapsed": false
   },
   "outputs": [],
   "source": [
    "dssp_0 = calc_dssp(\"\", traj, dtype='int')\n",
    "# return a list with shape = (n_frames, n_residues)\n",
    "print (dssp_0)"
   ]
  },
  {
   "cell_type": "code",
   "execution_count": null,
   "metadata": {
    "collapsed": false
   },
   "outputs": [],
   "source": [
    "dssp_0 = calc_dssp(\"\", traj, dtype='str')\n",
    "\n",
    "# return a list with shape = (n_frames, n_residues)\n",
    "print (dssp_0)"
   ]
  },
  {
   "cell_type": "code",
   "execution_count": null,
   "metadata": {
    "collapsed": false
   },
   "outputs": [],
   "source": [
    "dssp_0 = calc_dssp(\"\", traj, dtype='dataset')\n",
    "\n",
    "# return a DataSetList object\n",
    "print (dssp_0)"
   ]
  }
 ],
 "metadata": {
  "kernelspec": {
   "display_name": "Python 3",
   "language": "python",
   "name": "python3"
  },
  "language_info": {
   "codemirror_mode": {
    "name": "ipython",
    "version": 3
   },
   "file_extension": ".py",
   "mimetype": "text/x-python",
   "name": "python",
   "nbconvert_exporter": "python",
   "pygments_lexer": "ipython3",
   "version": "3.4.3"
  }
 },
 "nbformat": 4,
 "nbformat_minor": 0
}
