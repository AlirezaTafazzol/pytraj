{
 "cells": [
  {
   "cell_type": "markdown",
   "metadata": {},
   "source": [
    "# Frame object"
   ]
  },
  {
   "cell_type": "markdown",
   "metadata": {},
   "source": [
    "Just like cpptraj, Frame object is work-horse of pytraj. "
   ]
  },
  {
   "cell_type": "code",
   "execution_count": 51,
   "metadata": {
    "collapsed": false
   },
   "outputs": [],
   "source": [
    "from __future__ import print_function\n",
    "from pytraj import io as mdio\n",
    "from pytraj import Frame"
   ]
  },
  {
   "cell_type": "code",
   "execution_count": 52,
   "metadata": {
    "collapsed": false
   },
   "outputs": [],
   "source": [
    "# loading traj file to FrameArray object\n",
    "traj = mdio.load(\"../tests/data/md1_prod.Tc5b.x\", \"../tests/data/Tc5b.top\")"
   ]
  },
  {
   "cell_type": "code",
   "execution_count": 53,
   "metadata": {
    "collapsed": false
   },
   "outputs": [
    {
     "name": "stdout",
     "output_type": "stream",
     "text": [
      "(304, 3)\n"
     ]
    }
   ],
   "source": [
    "# get frame object\n",
    "frame0 = traj[0]\n",
    "\n",
    "# frame0 behaves like 2D array with shape of (n_atoms, 3)\n",
    "print (frame0.shape)"
   ]
  },
  {
   "cell_type": "code",
   "execution_count": 54,
   "metadata": {
    "collapsed": false
   },
   "outputs": [
    {
     "data": {
      "text/plain": [
       "array([-16.492,  12.434, -11.018])"
      ]
     },
     "execution_count": 54,
     "metadata": {},
     "output_type": "execute_result"
    }
   ],
   "source": [
    "# fancy indexing\n",
    "# whole coords\n",
    "frame0[:][0]"
   ]
  },
  {
   "cell_type": "code",
   "execution_count": 55,
   "metadata": {
    "collapsed": false
   },
   "outputs": [
    {
     "data": {
      "text/plain": [
       "array([-16.492,  12.434, -11.018])"
      ]
     },
     "execution_count": 55,
     "metadata": {},
     "output_type": "execute_result"
    }
   ],
   "source": [
    "# or\n",
    "frame0[0, :]"
   ]
  },
  {
   "cell_type": "code",
   "execution_count": 56,
   "metadata": {
    "collapsed": false
   },
   "outputs": [
    {
     "ename": "SyntaxError",
     "evalue": "Missing parentheses in call to 'print' (<ipython-input-56-78b4d70f128a>, line 7)",
     "output_type": "error",
     "traceback": [
      "\u001b[1;36m  File \u001b[1;32m\"<ipython-input-56-78b4d70f128a>\"\u001b[1;36m, line \u001b[1;32m7\u001b[0m\n\u001b[1;33m    print frame0[0, 0]\u001b[0m\n\u001b[1;37m               ^\u001b[0m\n\u001b[1;31mSyntaxError\u001b[0m\u001b[1;31m:\u001b[0m Missing parentheses in call to 'print'\n"
     ]
    }
   ],
   "source": [
    "# use numpy array as memory view for Frame object\n",
    "import numpy as np\n",
    "\n",
    "arr0 = np.asarray(frame0[:])\n",
    "\n",
    "# update arr0 will update frame coords\n",
    "print frame0[0, 0]\n",
    "arr0[0, 0] = 1000.\n",
    "print (frame0[0, 0])"
   ]
  },
  {
   "cell_type": "code",
   "execution_count": 57,
   "metadata": {
    "collapsed": false
   },
   "outputs": [
    {
     "name": "stdout",
     "output_type": "stream",
     "text": [
      "[[-17.146  12.069  -9.756]\n",
      " [-15.774   9.648  -7.087]\n",
      " [-16.761   7.688  -3.829]\n",
      " [-15.228   5.335  -1.254]\n",
      " [-15.974   4.229   2.418]\n",
      " [-14.016   1.006   2.992]\n",
      " [-12.158  -1.711   1.129]\n",
      " [-10.459  -5.137   2.023]\n",
      " [ -9.524  -7.464  -0.965]\n",
      " [ -8.858 -11.163  -0.287]\n",
      " [ -7.71  -12.693   3.106]\n",
      " [ -5.13  -11.608   5.838]\n",
      " [ -1.73   -9.971   5.185]\n",
      " [  1.379  -9.977   7.51 ]\n",
      " [  4.659  -7.949   7.677]\n",
      " [  8.367  -8.606   6.79 ]\n",
      " [ 11.671  -7.68    8.742]\n",
      " [ 12.513  -3.997   8.439]\n",
      " [ 15.912  -2.833   6.877]\n",
      " [ 19.12   -3.114   8.925]]\n"
     ]
    }
   ],
   "source": [
    "# extracting Frame coords with given mask. \n",
    "# 1st way\n",
    "\n",
    "print (frame0[traj.top(\"@CA\")])"
   ]
  },
  {
   "cell_type": "code",
   "execution_count": 58,
   "metadata": {
    "collapsed": false
   },
   "outputs": [
    {
     "data": {
      "text/plain": [
       "array([[-17.146,  12.069,  -9.756],\n",
       "       [-15.774,   9.648,  -7.087],\n",
       "       [-16.761,   7.688,  -3.829],\n",
       "       [-15.228,   5.335,  -1.254],\n",
       "       [-15.974,   4.229,   2.418],\n",
       "       [-14.016,   1.006,   2.992],\n",
       "       [-12.158,  -1.711,   1.129],\n",
       "       [-10.459,  -5.137,   2.023],\n",
       "       [ -9.524,  -7.464,  -0.965],\n",
       "       [ -8.858, -11.163,  -0.287],\n",
       "       [ -7.71 , -12.693,   3.106],\n",
       "       [ -5.13 , -11.608,   5.838],\n",
       "       [ -1.73 ,  -9.971,   5.185],\n",
       "       [  1.379,  -9.977,   7.51 ],\n",
       "       [  4.659,  -7.949,   7.677],\n",
       "       [  8.367,  -8.606,   6.79 ],\n",
       "       [ 11.671,  -7.68 ,   8.742],\n",
       "       [ 12.513,  -3.997,   8.439],\n",
       "       [ 15.912,  -2.833,   6.877],\n",
       "       [ 19.12 ,  -3.114,   8.925]])"
      ]
     },
     "execution_count": 58,
     "metadata": {},
     "output_type": "execute_result"
    }
   ],
   "source": [
    "# 2nd way\n",
    "# need to set Topology for frame to use AtomMask\n",
    "frame0.set_top(traj.top)\n",
    "frame0[\"@CA\"]"
   ]
  },
  {
   "cell_type": "code",
   "execution_count": 59,
   "metadata": {
    "collapsed": false
   },
   "outputs": [
    {
     "data": {
      "text/plain": [
       "array([[ -9.386,  -9.873,  -0.657],\n",
       "       [-10.344,  -9.807,  -0.969],\n",
       "       [ -8.858, -11.163,  -0.287],\n",
       "       [ -9.514, -11.931,  -0.696],\n",
       "       [ -7.851, -11.243,  -0.697],\n",
       "       [ -8.742, -11.387,   1.292],\n",
       "       [ -9.38 , -10.654,   2.081]])"
      ]
     },
     "execution_count": 59,
     "metadata": {},
     "output_type": "execute_result"
    }
   ],
   "source": [
    "# coords of 11-th residue (index starts from 0)\n",
    "frame0[\":10\"]"
   ]
  },
  {
   "cell_type": "code",
   "execution_count": 60,
   "metadata": {
    "collapsed": false
   },
   "outputs": [
    {
     "data": {
      "text/plain": [
       "array('i', [169, 170, 171, 172, 173, 174, 175])"
      ]
     },
     "execution_count": 60,
     "metadata": {},
     "output_type": "execute_result"
    }
   ],
   "source": [
    "# indices of atoms in 10-th residue\n",
    "traj.top(\":10\").selected_indices()"
   ]
  },
  {
   "cell_type": "code",
   "execution_count": 61,
   "metadata": {
    "collapsed": false
   },
   "outputs": [
    {
     "name": "stdout",
     "output_type": "stream",
     "text": [
      "9\n",
      "[-9.386 -9.873 -0.657]\n"
     ]
    }
   ],
   "source": [
    "# TODO : double-check\n",
    "print (traj.top[169].resnum)\n",
    "print (frame0[169, :])"
   ]
  },
  {
   "cell_type": "code",
   "execution_count": 62,
   "metadata": {
    "collapsed": false
   },
   "outputs": [
    {
     "name": "stdout",
     "output_type": "stream",
     "text": [
      "[-21.025  14.293 -10.013]\n",
      "[-42.05   28.586 -20.026]\n"
     ]
    }
   ],
   "source": [
    "# do basic math with Frame object (you can use numpy memory (as demonstated before))\n",
    "\n",
    "print (frame0[12, :])\n",
    "frame0 += frame0\n",
    "print (frame0[12, :])"
   ]
  },
  {
   "cell_type": "code",
   "execution_count": 63,
   "metadata": {
    "collapsed": false
   },
   "outputs": [
    {
     "name": "stdout",
     "output_type": "stream",
     "text": [
      "5.82364553553651\n"
     ]
    }
   ],
   "source": [
    "# calculate rmsd between two frames (2-th frame and 9-th frame in traj object)\n",
    "\n",
    "print (traj[2].rmsd(traj[9]))"
   ]
  },
  {
   "cell_type": "code",
   "execution_count": 64,
   "metadata": {
    "collapsed": false
   },
   "outputs": [
    {
     "name": "stdout",
     "output_type": "stream",
     "text": [
      "['VCenterOfMass', 'VGeometricCenter', '__class__', '__delattr__', '__delitem__', '__dir__', '__doc__', '__eq__', '__format__', '__ge__', '__getattribute__', '__getitem__', '__gt__', '__hash__', '__iadd__', '__imul__', '__init__', '__isub__', '__iter__', '__le__', '__len__', '__lt__', '__mul__', '__ne__', '__new__', '__pyx_vtable__', '__reduce__', '__reduce_ex__', '__repr__', '__rmul__', '__rsub__', '__setattr__', '__setitem__', '__sizeof__', '__str__', '__sub__', '__subclasshook__', 'add_by_mask', 'append_vec3', 'append_xyz', 'atoms', 'box_crd', 'boxview', 'buffer1d', 'buffer2d', 'calc_angle', 'calc_dihedral', 'calc_distance', 'calc_inertia', 'calc_temperature', 'center_on_origin', 'check_coords_invalid', 'clear_atoms', 'coords', 'copy', 'dist_rmsd', 'divide', 'fit_to', 'frame_iter', 'get_box', 'get_subframe', 'get_top', 'has_box', 'has_vel', 'i_address', 'info', 'is_empty', 'mass', 'n_atoms', 'n_repdims', 'neg_translate', 'py_free_mem', 'rmsd', 'rmsd_centered_ref', 'rmsd_nofit', 'rotate', 'same_coords_as', 'save', 'scale', 'set_axis_of_rotation', 'set_box_angles', 'set_coords', 'set_coords_by_map', 'set_frame', 'set_frame_from_mask', 'set_frame_m', 'set_frame_v', 'set_frame_x_m', 'set_from_crd', 'set_nobox', 'set_top', 'shape', 'size', 'strip_atoms', 'swap_atoms', 't_address', 'temperature', 'time', 'to_ndarray', 'tolist', 'trans_rot_trans', 'translate', 'update_atom', 'update_atoms', 'v_address', 'v_xyz', 'xyz', 'zero_coords']\n"
     ]
    }
   ],
   "source": [
    "# methods / properties\n",
    "print (dir(frame0))"
   ]
  },
  {
   "cell_type": "markdown",
   "metadata": {},
   "source": [
    "## Perform cpptraj Action on Frame object"
   ]
  },
  {
   "cell_type": "code",
   "execution_count": 65,
   "metadata": {
    "collapsed": false
   },
   "outputs": [],
   "source": [
    "# this code shows how we're able control workflow of cpptraj.\n",
    "from pytraj import allactions\n",
    "radgyr = allactions.Action_Radgyr()"
   ]
  },
  {
   "cell_type": "code",
   "execution_count": 66,
   "metadata": {
    "collapsed": false
   },
   "outputs": [],
   "source": [
    "# import DataSetList object to store radius of gyration data\n",
    "# there is much shorter way to do this but this is for demonstration\n",
    "from pytraj.DataSetList import DataSetList\n",
    "\n",
    "# store data file for writing output\n",
    "from pytraj.DataFileList import DataFileList"
   ]
  },
  {
   "cell_type": "code",
   "execution_count": 67,
   "metadata": {
    "collapsed": false
   },
   "outputs": [
    {
     "data": {
      "text/plain": [
       "0"
      ]
     },
     "execution_count": 67,
     "metadata": {},
     "output_type": "execute_result"
    }
   ],
   "source": [
    "dsetlist = DataSetList()\n",
    "dflist = DataFileList()\n",
    "# perform action on traj\n",
    "\n",
    "# calculate radgyr using CA, \n",
    "radgyr.read_input(\"radgyr @CA out test.out\", current_top=traj.top, dslist=dsetlist, dflist=dflist)"
   ]
  },
  {
   "cell_type": "code",
   "execution_count": 68,
   "metadata": {
    "collapsed": false
   },
   "outputs": [
    {
     "data": {
      "text/plain": [
       "0"
      ]
     },
     "execution_count": 68,
     "metadata": {},
     "output_type": "execute_result"
    }
   ],
   "source": [
    "# process Topology if needed\n",
    "radgyr.process(traj.top)"
   ]
  },
  {
   "cell_type": "code",
   "execution_count": 69,
   "metadata": {
    "collapsed": false
   },
   "outputs": [],
   "source": [
    "# start looping all Frame objects"
   ]
  },
  {
   "cell_type": "code",
   "execution_count": 70,
   "metadata": {
    "collapsed": false
   },
   "outputs": [],
   "source": [
    "for idx, frame in enumerate(traj):\n",
    "    radgyr.do_action(frame)"
   ]
  },
  {
   "cell_type": "code",
   "execution_count": 71,
   "metadata": {
    "collapsed": false
   },
   "outputs": [
    {
     "name": "stdout",
     "output_type": "stream",
     "text": [
      "<MemoryView of 'array' object>\n"
     ]
    }
   ],
   "source": [
    "# it's time to get the data\n",
    "import pytraj as pyc\n",
    "\n",
    "# currently we need to cast dataset since cpptraj has several kinds\n",
    "d0 = pyc.cast_dataset(dsetlist[0])\n",
    "print (d0[:])"
   ]
  },
  {
   "cell_type": "code",
   "execution_count": 72,
   "metadata": {
    "collapsed": false
   },
   "outputs": [],
   "source": [
    "# saving to file\n",
    "dflist.write_all_datafiles()"
   ]
  },
  {
   "cell_type": "code",
   "execution_count": 73,
   "metadata": {
    "collapsed": false
   },
   "outputs": [
    {
     "name": "stdout",
     "output_type": "stream",
     "text": [
      "test.out\r\n"
     ]
    }
   ],
   "source": [
    "# make sure we already save it\n",
    "!ls test.out"
   ]
  },
  {
   "cell_type": "code",
   "execution_count": 74,
   "metadata": {
    "collapsed": false
   },
   "outputs": [
    {
     "name": "stdout",
     "output_type": "stream",
     "text": [
      "#Frame         radgyr  radgyr[Max]\r\n",
      "       1      14.7456      23.7857\r\n",
      "       2       8.4299      14.3481\r\n",
      "       3       8.4431      14.9007\r\n",
      "       4       8.1103      15.2074\r\n",
      "       5       8.1008      13.5288\r\n",
      "       6       8.9208      13.8100\r\n",
      "       7       7.9388      12.4629\r\n",
      "       8       8.0225      12.2434\r\n",
      "       9       8.3950      13.7869\r\n"
     ]
    }
   ],
   "source": [
    "!head test.out"
   ]
  },
  {
   "cell_type": "code",
   "execution_count": 75,
   "metadata": {
    "collapsed": false
   },
   "outputs": [],
   "source": [
    "# what's happen if we get lost?\n",
    "from pytraj import info\n",
    "info('rms2d')"
   ]
  }
 ],
 "metadata": {
  "kernelspec": {
   "display_name": "Python 3",
   "language": "python",
   "name": "python3"
  },
  "language_info": {
   "codemirror_mode": {
    "name": "ipython",
    "version": 3
   },
   "file_extension": ".py",
   "mimetype": "text/x-python",
   "name": "python",
   "nbconvert_exporter": "python",
   "pygments_lexer": "ipython3",
   "version": "3.4.3"
  }
 },
 "nbformat": 4,
 "nbformat_minor": 0
}
