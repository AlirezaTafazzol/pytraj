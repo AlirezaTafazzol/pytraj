{
 "metadata": {
  "name": "",
  "signature": "sha256:5d55c118c30bc84727bab8beba4cd15a83a4895441680d0a90330a5e289905c5"
 },
 "nbformat": 3,
 "nbformat_minor": 0,
 "worksheets": [
  {
   "cells": [
    {
     "cell_type": "markdown",
     "metadata": {},
     "source": [
      "Aim: demonstrating DSSP calculation in pytraj"
     ]
    },
    {
     "cell_type": "code",
     "collapsed": false,
     "input": [
      "# import DataSetList to hold data\n",
      "from pytraj import DataSetList\n",
      "\n",
      "# import Action Dictionary (hold pytraj/cpptraj Action objects)\n",
      "from pytraj import adict, io\n",
      "\n",
      "from pytraj.common_actions import to_string_ss"
     ],
     "language": "python",
     "metadata": {},
     "outputs": [],
     "prompt_number": 1
    },
    {
     "cell_type": "code",
     "collapsed": false,
     "input": [
      "traj = io.load(\"../tests/data/md1_prod.Tc5b.x\", \"../tests/data/Tc5b.top\")"
     ],
     "language": "python",
     "metadata": {},
     "outputs": [],
     "prompt_number": 2
    },
    {
     "cell_type": "code",
     "collapsed": false,
     "input": [
      "print (traj)"
     ],
     "language": "python",
     "metadata": {},
     "outputs": [
      {
       "output_type": "stream",
       "stream": "stdout",
       "text": [
        "TrajReadOnly instance with 10 frames, 304 atoms/frame\n",
        "                  ID = 0x2aaaaaae15f8\n",
        "               \n"
       ]
      }
     ],
     "prompt_number": 3
    },
    {
     "cell_type": "heading",
     "level": 1,
     "metadata": {},
     "source": [
      "1. Perform DSSP analysis in conventional way"
     ]
    },
    {
     "cell_type": "code",
     "collapsed": false,
     "input": [
      "# create Action_DSSP object\n",
      "act = adict['dssp']\n",
      "\n",
      "# create DataSetList object to hold data\n",
      "dslist = DataSetList()\n",
      "\n",
      "# calcuate DSSP for all atoms mask\n",
      "act(\"\", traj, dslist=dslist)\n",
      "\n",
      "# get the data\n",
      "print (dslist)"
     ],
     "language": "python",
     "metadata": {},
     "outputs": [
      {
       "output_type": "stream",
       "stream": "stdout",
       "text": [
        "<pytraj.DataSetList.DataSetList object at 0x2aaabf9b0cf0>\n"
       ]
      }
     ],
     "prompt_number": 4
    },
    {
     "cell_type": "code",
     "collapsed": false,
     "input": [
      "# print all data labels in this datalist\n",
      "\n",
      "print (dslist.get_legends())"
     ],
     "language": "python",
     "metadata": {},
     "outputs": [
      {
       "output_type": "stream",
       "stream": "stdout",
       "text": [
        "['DSSP_00000[None]', 'DSSP_00000[Para]', 'DSSP_00000[Anti]', 'DSSP_00000[3-10]', 'DSSP_00000[Alpha]', 'DSSP_00000[Pi]', 'DSSP_00000[Turn]', 'DSSP_00000[Bend]', 'ASN:1', 'LEU:2', 'TYR:3', 'ILE:4', 'GLN:5', 'TRP:6', 'LEU:7', 'LYS:8', 'ASP:9', 'GLY:10', 'GLY:11', 'PRO:12', 'SER:13', 'SER:14', 'GLY:15', 'ARG:16', 'PRO:17', 'PRO:18', 'PRO:19', 'SER:20']\n"
       ]
      }
     ],
     "prompt_number": 5
    },
    {
     "cell_type": "code",
     "collapsed": false,
     "input": [
      "# get the data for residue 2\n",
      "print (dslist['TYR:3'][0][:])"
     ],
     "language": "python",
     "metadata": {},
     "outputs": [
      {
       "output_type": "stream",
       "stream": "stdout",
       "text": [
        "array('i', [0, 7, 7, 3, 0, 0, 0, 0, 0, 6])\n"
       ]
      }
     ],
     "prompt_number": 6
    },
    {
     "cell_type": "code",
     "collapsed": false,
     "input": [
      "# convert to traidiontal string\n",
      "arr0 = to_string_ss(dslist['TYR:3'][0][:])\n",
      "arr0"
     ],
     "language": "python",
     "metadata": {},
     "outputs": [
      {
       "metadata": {},
       "output_type": "pyout",
       "prompt_number": 7,
       "text": [
        "['0', 'S', 'S', 'G', '0', '0', '0', '0', '0', 'T']"
       ]
      }
     ],
     "prompt_number": 7
    },
    {
     "cell_type": "code",
     "collapsed": false,
     "input": [
      "list(arr0)"
     ],
     "language": "python",
     "metadata": {},
     "outputs": [
      {
       "metadata": {},
       "output_type": "pyout",
       "prompt_number": 8,
       "text": [
        "['0', 'S', 'S', 'G', '0', '0', '0', '0', '0', 'T']"
       ]
      }
     ],
     "prompt_number": 8
    },
    {
     "cell_type": "heading",
     "level": 1,
     "metadata": {},
     "source": [
      "2. Perform DSSP analysis in much shorter way"
     ]
    },
    {
     "cell_type": "code",
     "collapsed": false,
     "input": [
      "from pytraj.common_actions import calc_dssp"
     ],
     "language": "python",
     "metadata": {},
     "outputs": [],
     "prompt_number": 9
    },
    {
     "cell_type": "code",
     "collapsed": false,
     "input": [
      "print (\"use calc_dssp? in ipython/ipython notebook to get help\")"
     ],
     "language": "python",
     "metadata": {},
     "outputs": [
      {
       "output_type": "stream",
       "stream": "stdout",
       "text": [
        "use calc_dssp? in ipython/ipython notebook to get help\n"
       ]
      }
     ],
     "prompt_number": 10
    },
    {
     "cell_type": "code",
     "collapsed": false,
     "input": [
      "dssp_0 = calc_dssp(\"\", traj, dtype='int')\n",
      "# return a list with shape = (n_frames, n_residues)\n",
      "print (dssp_0)"
     ],
     "language": "python",
     "metadata": {},
     "outputs": [
      {
       "output_type": "stream",
       "stream": "stdout",
       "text": [
        "[(0, 0, 0, 0, 7, 0, 0, 0, 0, 7, 7, 0, 0, 0, 0, 0, 0, 0, 0, 0), (0, 0, 7, 0, 0, 0, 0, 7, 7, 7, 7, 0, 0, 0, 7, 0, 0, 0, 0, 0), (0, 0, 7, 0, 0, 7, 0, 7, 7, 0, 0, 0, 6, 6, 7, 0, 0, 0, 0, 0), (0, 0, 3, 3, 3, 0, 0, 7, 7, 7, 7, 7, 7, 0, 0, 0, 0, 0, 0, 0), (0, 0, 0, 6, 6, 0, 7, 7, 7, 7, 3, 3, 3, 7, 0, 0, 0, 0, 0, 0), (0, 0, 0, 7, 7, 0, 0, 7, 0, 7, 0, 6, 6, 0, 0, 0, 0, 0, 0, 0), (0, 0, 0, 6, 6, 2, 0, 7, 0, 7, 7, 3, 3, 3, 2, 7, 0, 0, 0, 0), (0, 0, 0, 6, 6, 2, 0, 7, 0, 7, 3, 3, 3, 3, 2, 0, 0, 0, 0, 0), (0, 0, 0, 6, 6, 0, 0, 7, 0, 7, 3, 3, 3, 3, 0, 0, 0, 0, 0, 0), (0, 0, 6, 6, 0, 2, 0, 0, 0, 7, 3, 3, 3, 7, 2, 0, 0, 0, 0, 0)]\n"
       ]
      }
     ],
     "prompt_number": 11
    },
    {
     "cell_type": "code",
     "collapsed": false,
     "input": [
      "dssp_0 = calc_dssp(\"\", traj, dtype='str')\n",
      "\n",
      "# return a list with shape = (n_frames, n_residues)\n",
      "print (dssp_0)"
     ],
     "language": "python",
     "metadata": {},
     "outputs": [
      {
       "output_type": "stream",
       "stream": "stdout",
       "text": [
        "[['0', '0', '0', '0', 'S', '0', '0', '0', '0', 'S', 'S', '0', '0', '0', '0', '0', '0', '0', '0', '0'], ['0', '0', 'S', '0', '0', '0', '0', 'S', 'S', 'S', 'S', '0', '0', '0', 'S', '0', '0', '0', '0', '0'], ['0', '0', 'S', '0', '0', 'S', '0', 'S', 'S', '0', '0', '0', 'T', 'T', 'S', '0', '0', '0', '0', '0'], ['0', '0', 'G', 'G', 'G', '0', '0', 'S', 'S', 'S', 'S', 'S', 'S', '0', '0', '0', '0', '0', '0', '0'], ['0', '0', '0', 'T', 'T', '0', 'S', 'S', 'S', 'S', 'G', 'G', 'G', 'S', '0', '0', '0', '0', '0', '0'], ['0', '0', '0', 'S', 'S', '0', '0', 'S', '0', 'S', '0', 'T', 'T', '0', '0', '0', '0', '0', '0', '0'], ['0', '0', '0', 'T', 'T', 'B', '0', 'S', '0', 'S', 'S', 'G', 'G', 'G', 'B', 'S', '0', '0', '0', '0'], ['0', '0', '0', 'T', 'T', 'B', '0', 'S', '0', 'S', 'G', 'G', 'G', 'G', 'B', '0', '0', '0', '0', '0'], ['0', '0', '0', 'T', 'T', '0', '0', 'S', '0', 'S', 'G', 'G', 'G', 'G', '0', '0', '0', '0', '0', '0'], ['0', '0', 'T', 'T', '0', 'B', '0', '0', '0', 'S', 'G', 'G', 'G', 'S', 'B', '0', '0', '0', '0', '0']]\n"
       ]
      }
     ],
     "prompt_number": 12
    },
    {
     "cell_type": "code",
     "collapsed": false,
     "input": [
      "dssp_0 = calc_dssp(\"\", traj, dtype='dataset')\n",
      "\n",
      "# return a DataSetList object\n",
      "print (dssp_0)"
     ],
     "language": "python",
     "metadata": {},
     "outputs": [
      {
       "output_type": "stream",
       "stream": "stdout",
       "text": [
        "<pytraj.DataSetList.DataSetList object at 0x2aaac38f6e30>\n"
       ]
      }
     ],
     "prompt_number": 13
    }
   ],
   "metadata": {}
  }
 ]
}