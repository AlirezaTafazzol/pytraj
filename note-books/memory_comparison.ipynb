{
 "cells": [
  {
   "cell_type": "markdown",
   "metadata": {},
   "source": [
    "# Comparing memory usage for 3 packages: `pytraj`, `mdtraj`, `MDAnalysis`\n",
    "\n",
    "#### Hints: `pytraj` is 3 times less efficient in memory than `mdtraj`. `MDAnalysis` uses iterator all the time so it's very friendly with RAM"
   ]
  },
  {
   "cell_type": "code",
   "execution_count": 1,
   "metadata": {
    "collapsed": false
   },
   "outputs": [],
   "source": [
    "# require: ipython_memory_usage.py (https://github.com/ianozsvald/ipython_memory_usage) # to profile\n",
    "# every line of code in ipython and notebook\n",
    "# https://pypi.python.org/pypi/memory_profiler\n",
    "# https://pypi.python.org/pypi/psutil\n",
    "\n",
    "# Note: I turned off MDAnalysis since getting error about netcdf file when running this notebook several times."
   ]
  },
  {
   "cell_type": "code",
   "execution_count": 2,
   "metadata": {
    "collapsed": false,
    "scrolled": true
   },
   "outputs": [
    {
     "name": "stdout",
     "output_type": "stream",
     "text": [
      "In [2] used 48.1367 MiB RAM in 0.95s, peaked 0.00 MiB above current, total RAM usage 72.21 MiB\n"
     ]
    }
   ],
   "source": [
    "import ipython_memory_usage as imu\n",
    "import mdtraj as md\n",
    "import pytraj.io as io\n",
    "from MDAnalysis import Universe\n",
    "imu.start_watching_memory()"
   ]
  },
  {
   "cell_type": "markdown",
   "metadata": {},
   "source": [
    "## Loading"
   ]
  },
  {
   "cell_type": "code",
   "execution_count": 3,
   "metadata": {
    "collapsed": false
   },
   "outputs": [
    {
     "name": "stdout",
     "output_type": "stream",
     "text": [
      "In [3] used 0.0430 MiB RAM in 0.10s, peaked 0.00 MiB above current, total RAM usage 72.25 MiB\n"
     ]
    }
   ],
   "source": [
    "## loading to memory\n",
    "topname = \"../tests/data/nogit/remd/myparm.top\"\n",
    "fname = \"../tests/data/nogit/remd/remd.000.ncdf\""
   ]
  },
  {
   "cell_type": "code",
   "execution_count": 4,
   "metadata": {
    "collapsed": false
   },
   "outputs": [
    {
     "name": "stdout",
     "output_type": "stream",
     "text": [
      "In [4] used 218.9141 MiB RAM in 2.06s, peaked 199.68 MiB above current, total RAM usage 291.16 MiB\n"
     ]
    }
   ],
   "source": [
    "# load mdtraj\n",
    "mtraj = md.load(fname, top=\"../tests/data/nogit/remd/myparm.parm7\")"
   ]
  },
  {
   "cell_type": "code",
   "execution_count": 5,
   "metadata": {
    "collapsed": false
   },
   "outputs": [
    {
     "name": "stdout",
     "output_type": "stream",
     "text": [
      "In [5] used 0.0156 MiB RAM in 0.10s, peaked 0.00 MiB above current, total RAM usage 291.18 MiB\n"
     ]
    }
   ],
   "source": [
    "# load MDAnalysis\n",
    "#u = Universe(topname, fname)"
   ]
  },
  {
   "cell_type": "code",
   "execution_count": 6,
   "metadata": {
    "collapsed": false
   },
   "outputs": [
    {
     "name": "stdout",
     "output_type": "stream",
     "text": [
      "In [6] used 5.5781 MiB RAM in 0.31s, peaked 0.00 MiB above current, total RAM usage 296.76 MiB\n"
     ]
    }
   ],
   "source": [
    "# load pytraj: TrajReadOnly\n",
    "trajread = io.load(fname, topname)"
   ]
  },
  {
   "cell_type": "code",
   "execution_count": 7,
   "metadata": {
    "collapsed": false
   },
   "outputs": [
    {
     "name": "stdout",
     "output_type": "stream",
     "text": [
      "In [7] used 553.5977 MiB RAM in 2.64s, peaked 0.00 MiB above current, total RAM usage 850.36 MiB\n"
     ]
    }
   ],
   "source": [
    "# load pytraj: FrameArray\n",
    "fa = io.load(fname, topname)[:]\n",
    "\n",
    "# FrameArray is 3 times heavier than mtraj (from mdtraj), both trajectories are in memory. The file size is ~200 MB.\n",
    "# FrameArray is too fat. :D"
   ]
  },
  {
   "cell_type": "markdown",
   "metadata": {},
   "source": [
    "## Slicing - single index"
   ]
  },
  {
   "cell_type": "code",
   "execution_count": 8,
   "metadata": {
    "collapsed": false
   },
   "outputs": [
    {
     "name": "stdout",
     "output_type": "stream",
     "text": [
      "In [8] used 0.0039 MiB RAM in 0.10s, peaked 0.00 MiB above current, total RAM usage 850.36 MiB\n"
     ]
    }
   ],
   "source": [
    "# MDAnalysis\n",
    "#u.trajectory[100]"
   ]
  },
  {
   "cell_type": "code",
   "execution_count": 9,
   "metadata": {
    "collapsed": false
   },
   "outputs": [
    {
     "data": {
      "text/plain": [
       "<mdtraj.Trajectory with 1 frames, 17443 atoms, 5666 residues, and unitcells at 0x2aaad2892250>"
      ]
     },
     "execution_count": 9,
     "metadata": {},
     "output_type": "execute_result"
    },
    {
     "name": "stdout",
     "output_type": "stream",
     "text": [
      "In [9] used 8.9062 MiB RAM in 0.43s, peaked 0.00 MiB above current, total RAM usage 859.27 MiB\n"
     ]
    }
   ],
   "source": [
    "# mdtraj\n",
    "mtraj[100]"
   ]
  },
  {
   "cell_type": "code",
   "execution_count": 10,
   "metadata": {
    "collapsed": false
   },
   "outputs": [
    {
     "data": {
      "text/plain": [
       "<Frame with 17443 atoms>"
      ]
     },
     "execution_count": 10,
     "metadata": {},
     "output_type": "execute_result"
    },
    {
     "name": "stdout",
     "output_type": "stream",
     "text": [
      "In [10] used 0.0117 MiB RAM in 0.11s, peaked 0.00 MiB above current, total RAM usage 859.28 MiB\n"
     ]
    }
   ],
   "source": [
    "# pytraj\n",
    "trajread[100]"
   ]
  },
  {
   "cell_type": "code",
   "execution_count": 11,
   "metadata": {
    "collapsed": false
   },
   "outputs": [
    {
     "data": {
      "text/plain": [
       "<Frame with 17443 atoms>"
      ]
     },
     "execution_count": 11,
     "metadata": {},
     "output_type": "execute_result"
    },
    {
     "name": "stdout",
     "output_type": "stream",
     "text": [
      "In [11] used 0.0352 MiB RAM in 0.10s, peaked 0.00 MiB above current, total RAM usage 859.31 MiB\n"
     ]
    }
   ],
   "source": [
    "# pytraj, FrameArray\n",
    "fa[100]"
   ]
  },
  {
   "cell_type": "markdown",
   "metadata": {},
   "source": [
    "## Slicing - a chunk"
   ]
  },
  {
   "cell_type": "code",
   "execution_count": 12,
   "metadata": {
    "collapsed": false
   },
   "outputs": [
    {
     "name": "stdout",
     "output_type": "stream",
     "text": [
      "In [12] used 0.0039 MiB RAM in 0.10s, peaked 0.00 MiB above current, total RAM usage 859.32 MiB\n"
     ]
    }
   ],
   "source": [
    "# MDanalysis, they use iterator. memory is very small\n",
    "#u.trajectory[200:500]"
   ]
  },
  {
   "cell_type": "code",
   "execution_count": 13,
   "metadata": {
    "collapsed": false
   },
   "outputs": [
    {
     "data": {
      "text/plain": [
       "<mdtraj.Trajectory with 300 frames, 17443 atoms, 5666 residues, and unitcells at 0x2aaab9b99210>"
      ]
     },
     "execution_count": 13,
     "metadata": {},
     "output_type": "execute_result"
    },
    {
     "name": "stdout",
     "output_type": "stream",
     "text": [
      "In [13] used 69.3828 MiB RAM in 0.34s, peaked 0.00 MiB above current, total RAM usage 928.70 MiB\n"
     ]
    }
   ],
   "source": [
    "# mdtraj\n",
    "mtraj[200:500]"
   ]
  },
  {
   "cell_type": "code",
   "execution_count": 14,
   "metadata": {
    "collapsed": false
   },
   "outputs": [
    {
     "data": {
      "text/plain": [
       "<FrameArray with 300 frames, 17443 atoms/frame>\n",
       "           "
      ]
     },
     "execution_count": 14,
     "metadata": {},
     "output_type": "execute_result"
    },
    {
     "name": "stdout",
     "output_type": "stream",
     "text": [
      "In [14] used 261.2461 MiB RAM in 0.92s, peaked 0.00 MiB above current, total RAM usage 1189.95 MiB\n"
     ]
    }
   ],
   "source": [
    "# pytraj, TrajReadOnly\n",
    "trajread[200:500]"
   ]
  },
  {
   "cell_type": "code",
   "execution_count": 15,
   "metadata": {
    "collapsed": false
   },
   "outputs": [
    {
     "data": {
      "text/plain": [
       "<FrameArray with 300 frames, 17443 atoms/frame>\n",
       "           "
      ]
     },
     "execution_count": 15,
     "metadata": {},
     "output_type": "execute_result"
    },
    {
     "name": "stdout",
     "output_type": "stream",
     "text": [
      "In [15] used 302.9727 MiB RAM in 0.63s, peaked 0.00 MiB above current, total RAM usage 1492.92 MiB\n"
     ]
    }
   ],
   "source": [
    "# pytraj, FrameArray, too much memory\n",
    "fa[200:500]"
   ]
  },
  {
   "cell_type": "markdown",
   "metadata": {},
   "source": [
    "# Conclusion\n",
    "* MDanalysis is the best friend of RAM\n",
    "* mdtraj: 2nd\n",
    "* pytraj: FrameArray is too fat (is there anyway to have both supperfast iterating + less memory?). But we have TrajReadOnly two"
   ]
  }
 ],
 "metadata": {
  "kernelspec": {
   "display_name": "Python 2",
   "language": "python",
   "name": "python2"
  },
  "language_info": {
   "codemirror_mode": {
    "name": "ipython",
    "version": 2
   },
   "file_extension": ".py",
   "mimetype": "text/x-python",
   "name": "python",
   "nbconvert_exporter": "python",
   "pygments_lexer": "ipython2",
   "version": "2.7.9"
  }
 },
 "nbformat": 4,
 "nbformat_minor": 0
}
