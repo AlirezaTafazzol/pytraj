{
 "cells": [
  {
   "cell_type": "code",
   "execution_count": 1,
   "metadata": {
    "collapsed": true
   },
   "outputs": [],
   "source": [
    "# note: the method's name might be changed in the future (that's why it starts with _)\n",
    "\n",
    "import pytraj.io as io"
   ]
  },
  {
   "cell_type": "code",
   "execution_count": 2,
   "metadata": {
    "collapsed": false
   },
   "outputs": [
    {
     "name": "stdout",
     "output_type": "stream",
     "text": [
      "[<TrajectoryIterator with 10 frames, 22 atoms/frame>\n",
      "           , <TrajectoryIterator with 10 frames, 22 atoms/frame>\n",
      "           , <TrajectoryIterator with 10 frames, 22 atoms/frame>\n",
      "           , <TrajectoryIterator with 10 frames, 22 atoms/frame>\n",
      "           ]\n",
      "\n",
      "['../tests/data/Test_RemdTraj/rem.nc.000', '../tests/data/Test_RemdTraj/rem.nc.001', '../tests/data/Test_RemdTraj/rem.nc.002', '../tests/data/Test_RemdTraj/rem.nc.003']\n"
     ]
    }
   ],
   "source": [
    "tlist = io._iterload_from_filelist(\"../tests/data/Test_RemdTraj/rem.nc.*\", \"../tests/data/Test_RemdTraj/ala2.99sb.mbondi2.parm7\")\n",
    "\n",
    "print (tlist)\n",
    "\n",
    "print (\"\")\n",
    "\n",
    "filelist = [traj.filename for traj in tlist]\n",
    "print (filelist)"
   ]
  },
  {
   "cell_type": "code",
   "execution_count": 3,
   "metadata": {
    "collapsed": false
   },
   "outputs": [
    {
     "name": "stdout",
     "output_type": "stream",
     "text": [
      "[<TrajectoryIterator with 10 frames, 22 atoms/frame>\n",
      "           , <TrajectoryIterator with 10 frames, 22 atoms/frame>\n",
      "           , <TrajectoryIterator with 10 frames, 22 atoms/frame>\n",
      "           , <TrajectoryIterator with 10 frames, 22 atoms/frame>\n",
      "           ]\n"
     ]
    }
   ],
   "source": [
    "# we can load from a list of files too\n",
    "tlist2 = io._iterload_from_filelist(filelist, \"../tests/data/Test_RemdTraj/ala2.99sb.mbondi2.parm7\")\n",
    "print (tlist2)"
   ]
  },
  {
   "cell_type": "code",
   "execution_count": 4,
   "metadata": {
    "collapsed": false
   },
   "outputs": [
    {
     "name": "stdout",
     "output_type": "stream",
     "text": [
      "<pytraj.datasets.DataSet_Vector.DataSet_Vector object at 0x2afd74a0c900>\n",
      "number of vectors (expteced = 40) =  40\n",
      "<Vec3: 4.312386989593506 4.813084602355957 -0.13005274534225464>\n"
     ]
    }
   ],
   "source": [
    "# pytraj is smart enought to perform 'action' on a list of files too\n",
    "import pytraj.common_actions as pyca\n",
    "\n",
    "# calculate vector center of mass? (like vector between all CA atoms and all CB atoms)\n",
    "dset = pyca.calc_COM(tlist2, \"@CA @CB\", dtype='dataset')\n",
    "print (dset)\n",
    "print (\"number of vectors (expteced = 40) = \", dset.size)\n",
    "print (dset[0])"
   ]
  },
  {
   "cell_type": "code",
   "execution_count": 5,
   "metadata": {
    "collapsed": false,
    "scrolled": true
   },
   "outputs": [
    {
     "data": {
      "text/plain": [
       "array([[ 4.31238699,  4.8130846 , -0.13005275],\n",
       "       [ 4.70764303,  5.50276709, -0.14578578],\n",
       "       [ 4.77340126,  5.08861113, -0.82117581],\n",
       "       [ 4.24787378,  4.67501116, -0.68110001],\n",
       "       [ 4.74331141,  4.12898731, -1.65600121],\n",
       "       [ 4.6513381 ,  4.12851858, -1.41458416],\n",
       "       [ 5.34591913,  5.18222713, -1.85356557],\n",
       "       [ 4.95888329,  4.6319623 , -1.85287309],\n",
       "       [ 5.237041  ,  3.9452877 , -1.49205673],\n",
       "       [ 4.86035633,  3.81905341, -0.93039691]])"
      ]
     },
     "execution_count": 5,
     "metadata": {},
     "output_type": "execute_result"
    }
   ],
   "source": [
    "# you love numpy. no problem \n",
    "dset.to_ndarray()[:10] # only print first 10 arrays"
   ]
  }
 ],
 "metadata": {
  "kernelspec": {
   "display_name": "Python 3",
   "language": "python",
   "name": "python3"
  },
  "language_info": {
   "codemirror_mode": {
    "name": "ipython",
    "version": 3
   },
   "file_extension": ".py",
   "mimetype": "text/x-python",
   "name": "python",
   "nbconvert_exporter": "python",
   "pygments_lexer": "ipython3",
   "version": "3.4.3"
  }
 },
 "nbformat": 4,
 "nbformat_minor": 0
}
