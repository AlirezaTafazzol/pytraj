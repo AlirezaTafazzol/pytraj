{
 "cells": [
  {
   "cell_type": "code",
   "execution_count": 2,
   "metadata": {
    "collapsed": false
   },
   "outputs": [
    {
     "name": "stdout",
     "output_type": "stream",
     "text": [
      "<TrajReadOnly with 10 frames, 304 atoms/frame>\n",
      "           \n"
     ]
    }
   ],
   "source": [
    "import pytraj.io as io\n",
    "\n",
    "traj = io.load(\"../tests/data/md1_prod.Tc5b.x\", \"../tests/data/Tc5b.top\")\n",
    "print  (traj)"
   ]
  },
  {
   "cell_type": "markdown",
   "metadata": {},
   "source": [
    "# save trajectory"
   ]
  },
  {
   "cell_type": "code",
   "execution_count": 12,
   "metadata": {
    "collapsed": false
   },
   "outputs": [
    {
     "name": "stdout",
     "output_type": "stream",
     "text": [
      "./output/test_1.dcd   ./output/test_1.x.2  ./output/test_1.x.6\r\n",
      "./output/test_1.x     ./output/test_1.x.3  ./output/test_1.x.7\r\n",
      "./output/test_1.x.1   ./output/test_1.x.4  ./output/test_1.x.8\r\n",
      "./output/test_1.x.10  ./output/test_1.x.5  ./output/test_1.x.9\r\n"
     ]
    }
   ],
   "source": [
    "# 1\n",
    "traj.save(\"./output/test_1.dcd\")\n",
    "traj.save(\"./output/test_1.x\", fmt='GMXTRX')\n",
    "traj.save(\"./output/test_1.x\", fmt='SQM', overwrite=True)\n",
    "\n",
    "!ls ./output/test_1*"
   ]
  },
  {
   "cell_type": "code",
   "execution_count": 11,
   "metadata": {
    "collapsed": false
   },
   "outputs": [
    {
     "data": {
      "text/plain": [
       "dict_keys(['UNKNOWN_TRAJ', 'AMBERNETCDF', 'CHARMMDCD', 'AMBERRESTART', 'SQM', 'GMXTRX', 'AMBERRESTARTNC', 'AMBERTRAJ', 'CONFLIB', 'PDBFILE', 'SDF', 'MOL2FILE', 'CIF', 'BINPOS'])"
      ]
     },
     "execution_count": 11,
     "metadata": {},
     "output_type": "execute_result"
    }
   ],
   "source": [
    "# supported formats\n",
    "from pytraj import Trajout\n",
    "Trajout.formats"
   ]
  },
  {
   "cell_type": "code",
   "execution_count": 24,
   "metadata": {
    "collapsed": false
   },
   "outputs": [],
   "source": [
    "# 2: use `io` (why bother us `io` while we have `save` method for each  traj\n",
    "io.save(\"./output/mylovelyname.x\", traj, traj.top, overwrite=True)\n",
    "\n",
    "# you need to provide `top` because `io` can save traj or a list of frames, trajs\n",
    "io.save(\"./output/mytrajlist.x\", [[traj[0], traj[-1]],], traj.top, overwrite=True)\n",
    "\n",
    "# `io` can save frame_iter too\n",
    "io.save(\"./output/mytrajiter.x\", traj(0, 9, 2), traj.top, overwrite=True) # start frame=0, stop=9, skip=2\n",
    "# `io` can save frame_iter too\n",
    "io.save(\"./output/mytrajiter2.x\", traj.frame_iter(0, 9, 2), traj.top, overwrite=True) # start frame=0, stop=9, skip=2\n",
    "\n",
    "# `io` can save chunk_iter too\n",
    "io.save(\"./output/mytrajchunk.x\", traj.chunk_iter(start=3, chunk=2), traj.top, overwrite=True) \n",
    "# start frame=3, iterate very 2 frames\n",
    "\n",
    "# `io` can save a list of trajs too\n",
    "io.save(\"./output/mytrajlist2.x\", [traj, traj[2:8:2]], traj.top, overwrite=True)"
   ]
  }
 ],
 "metadata": {
  "kernelspec": {
   "display_name": "Python 3",
   "language": "python",
   "name": "python3"
  },
  "language_info": {
   "codemirror_mode": {
    "name": "ipython",
    "version": 3
   },
   "file_extension": ".py",
   "mimetype": "text/x-python",
   "name": "python",
   "nbconvert_exporter": "python",
   "pygments_lexer": "ipython3",
   "version": "3.4.3"
  }
 },
 "nbformat": 4,
 "nbformat_minor": 0
}
