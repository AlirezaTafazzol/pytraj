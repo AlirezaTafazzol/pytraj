{
 "metadata": {
  "kernelspec": {
   "display_name": "Python 3",
   "language": "python",
   "name": "python3"
  },
  "language_info": {
   "codemirror_mode": {
    "name": "ipython",
    "version": 3
   },
   "file_extension": ".py",
   "mimetype": "text/x-python",
   "name": "python",
   "nbconvert_exporter": "python",
   "pygments_lexer": "ipython3",
   "version": "3.4.4"
  },
  "name": ""
 },
 "nbformat": 3,
 "nbformat_minor": 0,
 "worksheets": [
  {
   "cells": [
    {
     "cell_type": "markdown",
     "metadata": {},
     "source": [
      "# **Aim 1**\n",
      "\n",
      "+ download pdb file\n",
      "+ calculate phi/psi for specific residue\n",
      "+ show ramachandran plot"
     ]
    },
    {
     "cell_type": "code",
     "collapsed": false,
     "input": [
      "import warnings\n",
      "warnings.filterwarnings('ignore', category=DeprecationWarning)\n",
      "\n",
      "# do some configs to get better plot\n",
      "%matplotlib inline\n",
      "#%config InlineBackend.figure_format = 'retina'\n",
      "import matplotlib\n",
      "#matplotlib.rcParams['savefig.dpi'] = 2 * matplotlib.rcParams['savefig.dpi'] # larger image\n",
      "from matplotlib import pyplot as plt\n",
      "\n",
      "import numpy as np\n",
      "import pytraj as pt"
     ],
     "language": "python",
     "metadata": {},
     "outputs": [],
     "prompt_number": 1
    },
    {
     "cell_type": "code",
     "collapsed": false,
     "input": [
      "traj = pt.datafiles.load_trpcage()\n",
      "print(traj)\n",
      "print(set(res.name for res in traj.top.residues))"
     ],
     "language": "python",
     "metadata": {},
     "outputs": [
      {
       "output_type": "stream",
       "stream": "stdout",
       "text": [
        "pytraj.TrajectoryIterator, 38 frames: \n",
        "Size: 0.000258 (GB)\n",
        "<Topology: 304 atoms, 20 residues, 1 mols, non-PBC>\n",
        "           \n",
        "{'ARG', 'LYS', 'TRP', 'GLN', 'ILE', 'TYR', 'ASP', 'LEU', 'PRO', 'SER', 'GLY', 'ASN'}\n"
       ]
      }
     ],
     "prompt_number": 2
    },
    {
     "cell_type": "code",
     "collapsed": false,
     "input": [
      "# calculate phi/psi for Gly residues\n",
      "# need to get indcies of Gly residues\n",
      "indices = [idx for idx, res in enumerate(traj.top.residues) if 'GLY' in res.name]\n",
      "print('Gly resdiue indices = ', indices)\n",
      "\n",
      "dataset = pt.multidihedral(traj, 'phi psi', resrange=indices)\n",
      "print(dataset)\n"
     ],
     "language": "python",
     "metadata": {},
     "outputs": [
      {
       "output_type": "stream",
       "stream": "stdout",
       "text": [
        "Gly resdiue indices =  [9, 10, 14]\n",
        "<pytraj.DatasetList with 6 datasets>\n",
        "phi:10\n",
        "[ 110.78404243  107.09437321  108.32961461 ...,  115.32072427  162.43037555\n",
        "  124.30632007]\n",
        "\n",
        "psi:10\n",
        "[  8.0792315   10.33861693  -2.0464667  ...,   5.3940854   29.34859639\n",
        "   8.88098636]\n",
        "\n",
        "phi:11\n",
        "[ 55.24421349  58.27147563  60.77040425 ...,  55.64499342  51.45490984\n",
        "  57.23888395]\n",
        "...\n",
        "\n",
        "phi:15\n",
        "[ 67.93146641  75.78677981  75.05149804 ...,  74.12510912  79.94314603\n",
        "  69.51439433]\n",
        "\n",
        "psi:15\n",
        "[ 25.21773873 -37.51912045 -31.48955407 ..., -30.50312997 -35.73264016\n",
        "  20.40992958]\n"
       ]
      }
     ],
     "prompt_number": 3
    },
    {
     "cell_type": "code",
     "collapsed": false,
     "input": [
      "# take data for 'phi' and flatten to 1D array\n",
      "phi = np.array([d.values for d in dataset if 'phi' in d.key]).flatten()\n",
      "\n",
      "# take data for 'psi' and flatten to 1D array\n",
      "psi = np.array([d.values for d in dataset if 'psi' in d.key]).flatten()\n",
      "\n",
      "# setup color\n",
      "colors = np.random.rand(len(psi))\n",
      "\n",
      "plt.xlim([-180, 180])\n",
      "plt.ylim([-180, 180])\n",
      "plt.xlabel('phi')\n",
      "plt.ylabel('psi')\n",
      "plt.grid()\n",
      "plt.scatter(phi, psi, alpha=0.5, c=colors)"
     ],
     "language": "python",
     "metadata": {},
     "outputs": [
      {
       "output_type": "pyout",
       "prompt_number": 4,
       "text": [
        "<matplotlib.collections.PathCollection at 0x109e8e320>"
       ]
      },
      {
       "output_type": "display_data",
       "png": "[encoded data removed]",
       "text": [
        "<matplotlib.figure.Figure at 0x109e8e400>"
       ]
      }
     ],
     "prompt_number": 4
    },
    {
     "cell_type": "heading",
     "level": 1,
     "metadata": {},
     "source": [
      "Aim 2: plot phi/psi for Ala residue"
     ]
    },
    {
     "cell_type": "code",
     "collapsed": false,
     "input": [
      "traj = pt.iterload('ala3.dcd', 'ala3.psf')\n",
      "print([res.name for res in traj.top.residues])"
     ],
     "language": "python",
     "metadata": {},
     "outputs": [
      {
       "output_type": "stream",
       "stream": "stdout",
       "text": [
        "['ALA', 'ALA', 'ALA']\n"
       ]
      }
     ],
     "prompt_number": 5
    },
    {
     "cell_type": "code",
     "collapsed": false,
     "input": [
      "traj"
     ],
     "language": "python",
     "metadata": {},
     "outputs": [
      {
       "output_type": "pyout",
       "prompt_number": 6,
       "text": [
        "pytraj.TrajectoryIterator, 256 frames: \n",
        "Size: 0.000240 (GB)\n",
        "<Topology: 42 atoms, 3 residues, 1 mols, non-PBC>\n",
        "           "
       ]
      }
     ],
     "prompt_number": 6
    },
    {
     "cell_type": "code",
     "collapsed": false,
     "input": [
      "# only plot for residue 2 (python uses 0-based index)\n",
      "phi, psi = pt.multidihedral(traj, resrange=[1,], dhtypes='psi phi')\n",
      "phi, psi"
     ],
     "language": "python",
     "metadata": {},
     "outputs": [
      {
       "output_type": "pyout",
       "prompt_number": 7,
       "text": [
        "(<pytraj.array.DataArray: size=256, key=phi:2, dtype=float64, ndim=1> \n",
        " values:\n",
        " [  72.56233195 -144.69034696 -157.6298725  ..., -169.22686386 -106.44474766\n",
        "   -99.7414326 ],\n",
        " <pytraj.array.DataArray: size=256, key=psi:2, dtype=float64, ndim=1> \n",
        " values:\n",
        " [ -90.99678175  -92.85953579  147.31402474 ...,   18.49491339   66.60815057\n",
        "    22.05998055])"
       ]
      }
     ],
     "prompt_number": 7
    },
    {
     "cell_type": "code",
     "collapsed": true,
     "input": [
      "from matplotlib import pyplot as plt\n",
      "import seaborn as snb"
     ],
     "language": "python",
     "metadata": {},
     "outputs": [],
     "prompt_number": 8
    },
    {
     "cell_type": "code",
     "collapsed": false,
     "input": [
      "snb.jointplot(phi, psi, kind='scatter', stat_func=None)\n",
      "#plt.savefig('phipsi_ala3.png')"
     ],
     "language": "python",
     "metadata": {},
     "outputs": [
      {
       "output_type": "pyout",
       "prompt_number": 9,
       "text": [
        "<seaborn.axisgrid.JointGrid at 0x10ce052e8>"
       ]
      },
      {
       "output_type": "display_data",
       "png": "[encoded data removed]",
       "text": [
        "<matplotlib.figure.Figure at 0x10ce052b0>"
       ]
      }
     ],
     "prompt_number": 9
    }
   ],
   "metadata": {}
  }
 ]
}