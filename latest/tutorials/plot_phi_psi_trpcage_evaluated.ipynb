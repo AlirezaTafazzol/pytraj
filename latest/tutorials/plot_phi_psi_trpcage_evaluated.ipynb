{
 "metadata": {
  "kernelspec": {
   "display_name": "Python 3",
   "language": "python",
   "name": "python3"
  },
  "language_info": {
   "codemirror_mode": {
    "name": "ipython",
    "version": 3
   },
   "file_extension": ".py",
   "mimetype": "text/x-python",
   "name": "python",
   "nbconvert_exporter": "python",
   "pygments_lexer": "ipython3",
   "version": "3.4.4"
  },
  "name": ""
 },
 "nbformat": 3,
 "nbformat_minor": 0,
 "worksheets": [
  {
   "cells": [
    {
     "cell_type": "markdown",
     "metadata": {},
     "source": [
      "# **Aim 1**\n",
      "\n",
      "+ download pdb file\n",
      "+ calculate phi/psi for specific residue\n",
      "+ show ramachandran plot"
     ]
    },
    {
     "cell_type": "code",
     "collapsed": false,
     "input": [
      "import warnings\n",
      "warnings.filterwarnings('ignore', category=DeprecationWarning)\n",
      "\n",
      "# do some configs to get better plot\n",
      "%matplotlib inline\n",
      "#%config InlineBackend.figure_format = 'retina'\n",
      "import matplotlib\n",
      "#matplotlib.rcParams['savefig.dpi'] = 2 * matplotlib.rcParams['savefig.dpi'] # larger image\n",
      "from matplotlib import pyplot as plt\n",
      "\n",
      "import numpy as np\n",
      "import pytraj as pt"
     ],
     "language": "python",
     "metadata": {},
     "outputs": [],
     "prompt_number": 1
    },
    {
     "cell_type": "code",
     "collapsed": false,
     "input": [
      "traj = pt.datafiles.load_trpcage()\n",
      "print(traj)\n",
      "print(set(res.name for res in traj.top.residues))"
     ],
     "language": "python",
     "metadata": {},
     "outputs": [
      {
       "output_type": "stream",
       "stream": "stdout",
       "text": [
        "pytraj.TrajectoryIterator, 38 frames: \n",
        "Size: 0.000000 (GB)\n",
        "<Topology: 304 atoms, 20 residues, 1 mols, non-PBC>\n",
        "           \n",
        "set([u'ILE', u'SER', u'GLN', u'LYS', u'PRO', u'GLY', u'ASP', u'LEU', u'ARG', u'TRP', u'ASN', u'TYR'])\n"
       ]
      }
     ],
     "prompt_number": 2
    },
    {
     "cell_type": "code",
     "collapsed": false,
     "input": [
      "# calculate phi/psi for Gly residues\n",
      "# need to get indcies of Gly residues\n",
      "indices = [idx for idx, res in enumerate(traj.top.residues) if 'GLY' in res.name]\n",
      "print('Gly resdiue indices = ', indices)\n",
      "\n",
      "dataset = pt.multidihedral(traj, 'phi psi', resrange=indices)\n",
      "print(dataset)\n"
     ],
     "language": "python",
     "metadata": {},
     "outputs": [
      {
       "output_type": "stream",
       "stream": "stdout",
       "text": [
        "('Gly resdiue indices = ', [9, 10, 14])\n",
        "<pytraj.DatasetList with 6 datasets>\n",
        "phi:10\n",
        "[ 110.78404243  107.09437321  108.32961461 ...,  115.32072427  162.43037555\n",
        "  124.30632007]\n",
        "\n",
        "psi:10\n",
        "[  8.0792315   10.33861693  -2.0464667  ...,   5.3940854   29.34859639\n",
        "   8.88098636]\n",
        "\n",
        "phi:11\n",
        "[ 55.24421349  58.27147563  60.77040425 ...,  55.64499342  51.45490984\n",
        "  57.23888395]\n",
        "...\n",
        "\n",
        "phi:15\n",
        "[ 67.93146641  75.78677981  75.05149804 ...,  74.12510912  79.94314603\n",
        "  69.51439433]\n",
        "\n",
        "psi:15\n",
        "[ 25.21773873 -37.51912045 -31.48955407 ..., -30.50312997 -35.73264016\n",
        "  20.40992958]\n"
       ]
      }
     ],
     "prompt_number": 3
    },
    {
     "cell_type": "code",
     "collapsed": false,
     "input": [
      "# take data for 'phi' and flatten to 1D array\n",
      "phi = np.array([d.values for d in dataset if 'phi' in d.key]).flatten()\n",
      "\n",
      "# take data for 'psi' and flatten to 1D array\n",
      "psi = np.array([d.values for d in dataset if 'psi' in d.key]).flatten()\n",
      "\n",
      "# setup color\n",
      "colors = np.random.rand(len(psi))\n",
      "\n",
      "plt.xlim([-180, 180])\n",
      "plt.ylim([-180, 180])\n",
      "plt.xlabel('phi')\n",
      "plt.ylabel('psi')\n",
      "plt.grid()\n",
      "plt.scatter(phi, psi, alpha=0.5, c=colors)"
     ],
     "language": "python",
     "metadata": {},
     "outputs": [
      {
       "output_type": "pyout",
       "prompt_number": 4,
       "text": [
        "<matplotlib.collections.PathCollection at 0x108c99110>"
       ]
      },
      {
       "output_type": "display_data",
       "png": "[encoded data removed]",
       "text": [
        "<matplotlib.figure.Figure at 0x10a5586d0>"
       ]
      }
     ],
     "prompt_number": 4
    },
    {
     "cell_type": "heading",
     "level": 1,
     "metadata": {},
     "source": [
      "Aim 2: plot phi/psi for Ala residue"
     ]
    },
    {
     "cell_type": "code",
     "collapsed": false,
     "input": [
      "traj = pt.iterload('ala3.dcd', 'ala3.psf')\n",
      "print([res.name for res in traj.top.residues])"
     ],
     "language": "python",
     "metadata": {},
     "outputs": [
      {
       "output_type": "stream",
       "stream": "stdout",
       "text": [
        "[u'ALA', u'ALA', u'ALA']\n"
       ]
      }
     ],
     "prompt_number": 5
    },
    {
     "cell_type": "code",
     "collapsed": false,
     "input": [
      "traj"
     ],
     "language": "python",
     "metadata": {},
     "outputs": [
      {
       "output_type": "pyout",
       "prompt_number": 6,
       "text": [
        "pytraj.TrajectoryIterator, 256 frames: \n",
        "Size: 0.000000 (GB)\n",
        "<Topology: 42 atoms, 3 residues, 1 mols, non-PBC>\n",
        "           "
       ]
      }
     ],
     "prompt_number": 6
    },
    {
     "cell_type": "code",
     "collapsed": false,
     "input": [
      "# only plot for residue 2 (python uses 0-based index)\n",
      "phi, psi = pt.multidihedral(traj, resrange=[1,], dhtypes='psi phi')\n",
      "phi, psi"
     ],
     "language": "python",
     "metadata": {},
     "outputs": [
      {
       "ename": "TypeError",
       "evalue": "multidihedral() got an unexpected keyword argument 'dhtypes'",
       "output_type": "pyerr",
       "traceback": [
        "\u001b[0;31m---------------------------------------------------------------------------\u001b[0m",
        "\u001b[0;31mTypeError\u001b[0m                                 Traceback (most recent call last)",
        "\u001b[0;32m<ipython-input-7-357dc83675db>\u001b[0m in \u001b[0;36m<module>\u001b[0;34m()\u001b[0m\n\u001b[1;32m      1\u001b[0m \u001b[0;31m# only plot for residue 2 (python uses 0-based index)\u001b[0m\u001b[0;34m\u001b[0m\u001b[0;34m\u001b[0m\u001b[0m\n\u001b[0;32m----> 2\u001b[0;31m \u001b[0mphi\u001b[0m\u001b[0;34m,\u001b[0m \u001b[0mpsi\u001b[0m \u001b[0;34m=\u001b[0m \u001b[0mpt\u001b[0m\u001b[0;34m.\u001b[0m\u001b[0mmultidihedral\u001b[0m\u001b[0;34m(\u001b[0m\u001b[0mtraj\u001b[0m\u001b[0;34m,\u001b[0m \u001b[0mresrange\u001b[0m\u001b[0;34m=\u001b[0m\u001b[0;34m[\u001b[0m\u001b[0;36m1\u001b[0m\u001b[0;34m,\u001b[0m\u001b[0;34m]\u001b[0m\u001b[0;34m,\u001b[0m \u001b[0mdhtypes\u001b[0m\u001b[0;34m=\u001b[0m\u001b[0;34m'psi phi'\u001b[0m\u001b[0;34m)\u001b[0m\u001b[0;34m\u001b[0m\u001b[0m\n\u001b[0m\u001b[1;32m      3\u001b[0m \u001b[0mphi\u001b[0m\u001b[0;34m,\u001b[0m \u001b[0mpsi\u001b[0m\u001b[0;34m\u001b[0m\u001b[0m\n",
        "\u001b[0;32m/Users/haichit/miniconda3/envs/py2/lib/python2.7/site-packages/pytraj/utils/decorators.pyc\u001b[0m in \u001b[0;36minner\u001b[0;34m(*args, **kwd)\u001b[0m\n\u001b[1;32m      9\u001b[0m     \u001b[0;34m@\u001b[0m\u001b[0mwraps\u001b[0m\u001b[0;34m(\u001b[0m\u001b[0mf\u001b[0m\u001b[0;34m)\u001b[0m\u001b[0;34m\u001b[0m\u001b[0m\n\u001b[1;32m     10\u001b[0m     \u001b[0;32mdef\u001b[0m \u001b[0minner\u001b[0m\u001b[0;34m(\u001b[0m\u001b[0;34m*\u001b[0m\u001b[0margs\u001b[0m\u001b[0;34m,\u001b[0m \u001b[0;34m**\u001b[0m\u001b[0mkwd\u001b[0m\u001b[0;34m)\u001b[0m\u001b[0;34m:\u001b[0m\u001b[0;34m\u001b[0m\u001b[0m\n\u001b[0;32m---> 11\u001b[0;31m         \u001b[0;32mreturn\u001b[0m \u001b[0mf\u001b[0m\u001b[0;34m(\u001b[0m\u001b[0;34m*\u001b[0m\u001b[0margs\u001b[0m\u001b[0;34m,\u001b[0m \u001b[0;34m**\u001b[0m\u001b[0mkwd\u001b[0m\u001b[0;34m)\u001b[0m\u001b[0;34m\u001b[0m\u001b[0m\n\u001b[0m\u001b[1;32m     12\u001b[0m \u001b[0;34m\u001b[0m\u001b[0m\n\u001b[1;32m     13\u001b[0m     \u001b[0minner\u001b[0m\u001b[0;34m.\u001b[0m\u001b[0m_is_parallelizable\u001b[0m \u001b[0;34m=\u001b[0m \u001b[0mTrue\u001b[0m\u001b[0;34m\u001b[0m\u001b[0m\n",
        "\u001b[0;32m/Users/haichit/miniconda3/envs/py2/lib/python2.7/site-packages/pytraj/utils/get_common_objects.pyc\u001b[0m in \u001b[0;36minner\u001b[0;34m(*args, **kwargs)\u001b[0m\n\u001b[1;32m    304\u001b[0m                         \u001b[0;32mexcept\u001b[0m \u001b[0mIndexError\u001b[0m\u001b[0;34m:\u001b[0m\u001b[0;34m\u001b[0m\u001b[0m\n\u001b[1;32m    305\u001b[0m                             \u001b[0margs\u001b[0m\u001b[0;34m.\u001b[0m\u001b[0mappend\u001b[0m\u001b[0;34m(\u001b[0m\u001b[0mmask\u001b[0m\u001b[0;34m)\u001b[0m\u001b[0;34m\u001b[0m\u001b[0m\n\u001b[0;32m--> 306\u001b[0;31m             \u001b[0;32mreturn\u001b[0m \u001b[0mf\u001b[0m\u001b[0;34m(\u001b[0m\u001b[0;34m*\u001b[0m\u001b[0margs\u001b[0m\u001b[0;34m,\u001b[0m \u001b[0;34m**\u001b[0m\u001b[0mkwargs\u001b[0m\u001b[0;34m)\u001b[0m\u001b[0;34m\u001b[0m\u001b[0m\n\u001b[0m\u001b[1;32m    307\u001b[0m \u001b[0;34m\u001b[0m\u001b[0m\n\u001b[1;32m    308\u001b[0m         \u001b[0minner\u001b[0m\u001b[0;34m.\u001b[0m\u001b[0m_is_super_dispatched\u001b[0m \u001b[0;34m=\u001b[0m \u001b[0mTrue\u001b[0m\u001b[0;34m\u001b[0m\u001b[0m\n",
        "\u001b[0;31mTypeError\u001b[0m: multidihedral() got an unexpected keyword argument 'dhtypes'"
       ]
      }
     ],
     "prompt_number": 7
    },
    {
     "cell_type": "code",
     "collapsed": true,
     "input": [
      "from matplotlib import pyplot as plt\n",
      "import seaborn as snb"
     ],
     "language": "python",
     "metadata": {},
     "outputs": [],
     "prompt_number": 8
    },
    {
     "cell_type": "code",
     "collapsed": false,
     "input": [
      "snb.jointplot(phi, psi, kind='scatter', stat_func=None)\n",
      "#plt.savefig('phipsi_ala3.png')"
     ],
     "language": "python",
     "metadata": {},
     "outputs": [
      {
       "output_type": "pyout",
       "prompt_number": 9,
       "text": [
        "<seaborn.axisgrid.JointGrid at 0x10ec3e3d0>"
       ]
      },
      {
       "output_type": "display_data",
       "png": "[encoded data removed]",
       "text": [
        "<matplotlib.figure.Figure at 0x10ec3e410>"
       ]
      }
     ],
     "prompt_number": 9
    }
   ],
   "metadata": {}
  }
 ]
}