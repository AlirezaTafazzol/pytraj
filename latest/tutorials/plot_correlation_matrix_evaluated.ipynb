{
 "metadata": {
  "kernelspec": {
   "display_name": "Python 3",
   "language": "python",
   "name": "python3"
  },
  "language_info": {
   "codemirror_mode": {
    "name": "ipython",
    "version": 3
   },
   "file_extension": ".py",
   "mimetype": "text/x-python",
   "name": "python",
   "nbconvert_exporter": "python",
   "pygments_lexer": "ipython3",
   "version": "3.4.4"
  },
  "name": ""
 },
 "nbformat": 3,
 "nbformat_minor": 0,
 "worksheets": [
  {
   "cells": [
    {
     "cell_type": "code",
     "collapsed": false,
     "input": [
      "# require: matplotlib, seaborn, pytraj\n",
      "# how? \"conda install matplotib seaborn\"\n",
      "\n",
      "import warnings\n",
      "warnings.filterwarnings('ignore', category=DeprecationWarning)\n",
      "\n",
      "%matplotlib inline\n",
      "\n",
      "# add matplotlib and seaborn package\n",
      "# http://matplotlib.org/\n",
      "from matplotlib import pyplot as plt\n",
      "\n",
      "# https://stanford.edu/~mwaskom/software/seaborn/index.html\n",
      "import seaborn as sns\n",
      "\n",
      "# use pytraj\n",
      "import pytraj as pt\n",
      "\n",
      "# call matrix module\n",
      "from pytraj import matrix\n",
      "\n",
      "# load trajectory from file\n",
      "traj = pt.iterload('tz2.nc', 'tz2.parm7')\n",
      "traj"
     ],
     "language": "python",
     "metadata": {},
     "outputs": [
      {
       "output_type": "pyout",
       "prompt_number": 1,
       "text": [
        "pytraj.TrajectoryIterator, 101 frames: \n",
        "Size: 0.000503 (GB)\n",
        "<Topology: 223 atoms, 13 residues, 1 mols, non-PBC>\n",
        "           "
       ]
      }
     ],
     "prompt_number": 1
    },
    {
     "cell_type": "code",
     "collapsed": true,
     "input": [
      "# calculate coordinate covariance matrix\n",
      "mat = matrix.covar(traj, '@CA')"
     ],
     "language": "python",
     "metadata": {},
     "outputs": [],
     "prompt_number": 2
    },
    {
     "cell_type": "code",
     "collapsed": false,
     "input": [
      "mat"
     ],
     "language": "python",
     "metadata": {},
     "outputs": [
      {
       "output_type": "pyout",
       "prompt_number": 3,
       "text": [
        "array([[ 11.18702103,  -3.48995172,   0.57711937, ...,   2.97984903,\n",
        "          8.53672269,   5.30533667],\n",
        "       [ -3.48995172,   7.54542388,  -1.28398765, ...,  -1.5658132 ,\n",
        "         -5.32436993,  -3.03733563],\n",
        "       [  0.57711937,  -1.28398765,   3.36102527, ...,   0.01661629,\n",
        "          0.24280744,   0.29085414],\n",
        "       ..., \n",
        "       [  2.97984903,  -1.5658132 ,   0.01661629, ...,   3.09761025,\n",
        "          3.20744347,   1.64045046],\n",
        "       [  8.53672269,  -5.32436993,   0.24280744, ...,   3.20744347,\n",
        "          9.89487394,   5.35030725],\n",
        "       [  5.30533667,  -3.03733563,   0.29085414, ...,   1.64045046,\n",
        "          5.35030725,   4.11786141]])"
       ]
      }
     ],
     "prompt_number": 3
    },
    {
     "cell_type": "code",
     "collapsed": false,
     "input": [
      "# adapted from: https://stanford.edu/~mwaskom/software/seaborn/examples/many_pairwise_correlations.html\n",
      "# Set up the matplotlib figure\n",
      "f, ax = plt.subplots(figsize=(11, 9))\n",
      "\n",
      "# Generate a custom diverging colormap\n",
      "cmap = sns.diverging_palette(220, 10, as_cmap=True)\n",
      "\n",
      "# Draw the heatmap with correct aspect ratio\n",
      "sns.heatmap(mat, cmap=cmap, vmax=.3,\n",
      "            square=True, xticklabels=5, yticklabels=5,\n",
      "            linewidths=.5, cbar_kws={\"shrink\": .5}, ax=ax)\n",
      "#plt.savefig('matrix_covar.png')"
     ],
     "language": "python",
     "metadata": {},
     "outputs": [
      {
       "output_type": "pyout",
       "prompt_number": 4,
       "text": [
        "<matplotlib.axes._subplots.AxesSubplot at 0x10cc6de80>"
       ]
      },
      {
       "output_type": "display_data",
       "png": "[encoded data removed]",
       "text": [
        "<matplotlib.figure.Figure at 0x10cc6d630>"
       ]
      }
     ],
     "prompt_number": 4
    }
   ],
   "metadata": {}
  }
 ]
}