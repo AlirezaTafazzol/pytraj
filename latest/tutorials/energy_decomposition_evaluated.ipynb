{
 "metadata": {
  "kernelspec": {
   "display_name": "Python 3",
   "language": "python",
   "name": "python3"
  },
  "language_info": {
   "codemirror_mode": {
    "name": "ipython",
    "version": 3
   },
   "file_extension": ".py",
   "mimetype": "text/x-python",
   "name": "python",
   "nbconvert_exporter": "python",
   "pygments_lexer": "ipython3",
   "version": "3.4.4"
  },
  "name": ""
 },
 "nbformat": 3,
 "nbformat_minor": 0,
 "worksheets": [
  {
   "cells": [
    {
     "cell_type": "markdown",
     "metadata": {},
     "source": [
      "# require\n",
      "\n",
      "- pytraj/cpptraj: http://amber-md.github.io/pytraj/latest/installation.html#from-source-code\n",
      "\n",
      "        git clone https://github.com/Amber-MD/pytraj\n",
      "        cd pytraj\n",
      "        python setup.py install\n",
      "        \n",
      "- libsander (http://ambermd.org/doc12/Amber15.pdf): If you have AmberTools15 and already `make install`, it is likely that you already have ``libsander``"
     ]
    },
    {
     "cell_type": "code",
     "collapsed": false,
     "input": [
      "# load pytraj and load trajectories\n",
      "\n",
      "import warnings\n",
      "warnings.filterwarnings('ignore', category=DeprecationWarning)\n",
      "\n",
      "import pytraj as pt\n",
      "\n",
      "traj = pt.iterload('tz2.nc', 'tz2.parm7')\n",
      "print(traj)"
     ],
     "language": "python",
     "metadata": {},
     "outputs": [
      {
       "output_type": "stream",
       "stream": "stdout",
       "text": [
        "pytraj.TrajectoryIterator, 101 frames: \n",
        "Size: 0.000503 (GB)\n",
        "<Topology: 223 atoms, 13 residues, 1 mols, non-PBC>\n",
        "           \n"
       ]
      }
     ],
     "prompt_number": 1
    },
    {
     "cell_type": "code",
     "collapsed": false,
     "input": [
      "# compute the energy with igb=8 (GBneck2 solvation model)\n",
      "data = pt.energy_decomposition(traj, igb=8)\n",
      "data"
     ],
     "language": "python",
     "metadata": {},
     "outputs": [
      {
       "output_type": "pyout",
       "prompt_number": 2,
       "text": [
        "OrderedDict([('tot',\n",
        "              array([-225.72081333, -259.3103916 , -265.22164221, ..., -282.72357777,\n",
        "                     -287.55610458, -293.18137453])),\n",
        "             ('amd_boost', array([ 0.,  0.,  0., ...,  0.,  0.,  0.])),\n",
        "             ('cmap', array([ 0.,  0.,  0., ...,  0.,  0.,  0.])),\n",
        "             ('vdw_14',\n",
        "              array([ 52.55761103,  50.03499738,  54.29855009, ...,  50.42610919,\n",
        "                      48.27053805,  51.9298654 ])),\n",
        "             ('polar', array([ 0.,  0.,  0., ...,  0.,  0.,  0.])),\n",
        "             ('dvdl', array([ 0.,  0.,  0., ...,  0.,  0.,  0.])),\n",
        "             ('disp', array([ 0.,  0.,  0., ...,  0.,  0.,  0.])),\n",
        "             ('surf', array([ 0.,  0.,  0., ...,  0.,  0.,  0.])),\n",
        "             ('vdw',\n",
        "              array([-44.9811844 , -43.77030705, -52.33589852, ..., -70.01048987,\n",
        "                     -66.01297848, -67.78679498])),\n",
        "             ('elec',\n",
        "              array([-781.59559933, -807.4891344 , -741.17534022, ..., -835.16025964,\n",
        "                     -805.08867184, -825.97031683])),\n",
        "             ('constraint', array([ 0.,  0.,  0., ...,  0.,  0.,  0.])),\n",
        "             ('hbond', array([ 0.,  0.,  0., ...,  0.,  0.,  0.])),\n",
        "             ('rism', array([ 0.,  0.,  0., ...,  0.,  0.,  0.])),\n",
        "             ('gb',\n",
        "              array([-412.53266438, -400.09042163, -439.92701343, ..., -365.74056055,\n",
        "                     -395.14074215, -368.44262754])),\n",
        "             ('elec_14',\n",
        "              array([ 720.65923256,  731.53353441,  717.35440566, ...,  736.47531336,\n",
        "                      732.27034385,  726.61630671])),\n",
        "             ('imp', array([ 0.,  0.,  0., ...,  0.,  0.,  0.])),\n",
        "             ('emap', array([ 0.,  0.,  0., ...,  0.,  0.,  0.])),\n",
        "             ('ct', array([ 0.,  0.,  0., ...,  0.,  0.,  0.])),\n",
        "             ('dihedral',\n",
        "              array([ 111.61132908,  105.39241304,   93.03084989, ...,  101.81038715,\n",
        "                       94.63365271,   92.27451698])),\n",
        "             ('noe', array([ 0.,  0.,  0., ...,  0.,  0.,  0.])),\n",
        "             ('pb', array([ 0.,  0.,  0., ...,  0.,  0.,  0.])),\n",
        "             ('scf', array([ 0.,  0.,  0., ...,  0.,  0.,  0.])),\n",
        "             ('les', array([ 0.,  0.,  0., ...,  0.,  0.,  0.])),\n",
        "             ('angle',\n",
        "              array([ 128.54514846,  105.06494493,  103.52028376, ...,   99.46042639,\n",
        "                      103.49664937,   98.18016593])),\n",
        "             ('angle_ub', array([ 0.,  0.,  0., ...,  0.,  0.,  0.])),\n",
        "             ('bond',\n",
        "              array([ 0.01531366,  0.01358172,  0.01252056, ...,  0.0154962 ,\n",
        "                      0.01510391,  0.0175098 ]))])"
       ]
      }
     ],
     "prompt_number": 2
    },
    {
     "cell_type": "code",
     "collapsed": false,
     "input": [
      "# get energy you want\n",
      "print('potential energy', data['tot'])"
     ],
     "language": "python",
     "metadata": {},
     "outputs": [
      {
       "output_type": "stream",
       "stream": "stdout",
       "text": [
        "potential energy [-225.72081333 -259.3103916  -265.22164221 ..., -282.72357777 -287.55610458\n",
        " -293.18137453]\n"
       ]
      }
     ],
     "prompt_number": 3
    },
    {
     "cell_type": "code",
     "collapsed": false,
     "input": [
      "# solvation energy (igb=8)\n",
      "print('solvation energy', data['gb'])"
     ],
     "language": "python",
     "metadata": {},
     "outputs": [
      {
       "output_type": "stream",
       "stream": "stdout",
       "text": [
        "solvation energy [-412.53266438 -400.09042163 -439.92701343 ..., -365.74056055 -395.14074215\n",
        " -368.44262754]\n"
       ]
      }
     ],
     "prompt_number": 4
    },
    {
     "cell_type": "code",
     "collapsed": false,
     "input": [
      "# you can also get other energies.\n",
      "# for example: data['dihedral']\n",
      "list(data.keys())"
     ],
     "language": "python",
     "metadata": {},
     "outputs": [
      {
       "output_type": "pyout",
       "prompt_number": 5,
       "text": [
        "['tot',\n",
        " 'amd_boost',\n",
        " 'cmap',\n",
        " 'vdw_14',\n",
        " 'polar',\n",
        " 'dvdl',\n",
        " 'disp',\n",
        " 'surf',\n",
        " 'vdw',\n",
        " 'elec',\n",
        " 'constraint',\n",
        " 'hbond',\n",
        " 'rism',\n",
        " 'gb',\n",
        " 'elec_14',\n",
        " 'imp',\n",
        " 'emap',\n",
        " 'ct',\n",
        " 'dihedral',\n",
        " 'noe',\n",
        " 'pb',\n",
        " 'scf',\n",
        " 'les',\n",
        " 'angle',\n",
        " 'angle_ub',\n",
        " 'bond']"
       ]
      }
     ],
     "prompt_number": 5
    },
    {
     "cell_type": "heading",
     "level": 1,
     "metadata": {},
     "source": [
      "Parallel calculation"
     ]
    },
    {
     "cell_type": "code",
     "collapsed": false,
     "input": [
      "# serial: pt.energy_decomposition(traj, igb=8)\n",
      "\n",
      "# parallel\n",
      "data2 = pt.pmap(func=pt.energy_decomposition, traj=traj, igb=8, n_cores=4)\n",
      "data2['gb']"
     ],
     "language": "python",
     "metadata": {},
     "outputs": [
      {
       "output_type": "pyout",
       "prompt_number": 6,
       "text": [
        "array([-412.53266438, -400.09042163, -439.92701343, ..., -365.74056055,\n",
        "       -395.14074215, -368.44262754])"
       ]
      }
     ],
     "prompt_number": 6
    }
   ],
   "metadata": {}
  }
 ]
}