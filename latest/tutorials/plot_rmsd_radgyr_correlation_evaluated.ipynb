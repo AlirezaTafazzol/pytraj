{
 "metadata": {
  "kernelspec": {
   "display_name": "Python 3",
   "language": "python",
   "name": "python3"
  },
  "language_info": {
   "codemirror_mode": {
    "name": "ipython",
    "version": 3
   },
   "file_extension": ".py",
   "mimetype": "text/x-python",
   "name": "python",
   "nbconvert_exporter": "python",
   "pygments_lexer": "ipython3",
   "version": "3.4.4"
  },
  "name": ""
 },
 "nbformat": 3,
 "nbformat_minor": 0,
 "worksheets": [
  {
   "cells": [
    {
     "cell_type": "code",
     "collapsed": false,
     "input": [
      "# require: matplotlib, seaborn, pytraj\n",
      "# how? \"conda install matplotib seaborn\"\n",
      "import warnings\n",
      "warnings.filterwarnings('ignore', category=DeprecationWarning)\n",
      "\n",
      "%matplotlib inline\n",
      "\n",
      "# add matplotlib and seaborn package\n",
      "# http://matplotlib.org/\n",
      "from matplotlib import pyplot as plt\n",
      "\n",
      "# https://stanford.edu/~mwaskom/software/seaborn/index.html\n",
      "import seaborn as sns\n",
      "\n",
      "# use pytraj\n",
      "import pytraj as pt\n",
      "\n",
      "# call matrix module\n",
      "from pytraj import matrix\n",
      "\n",
      "# load trajectory from file\n",
      "traj = pt.iterload('tz2.nc', 'tz2.parm7')\n",
      "traj"
     ],
     "language": "python",
     "metadata": {},
     "outputs": [
      {
       "output_type": "pyout",
       "prompt_number": 1,
       "text": [
        "pytraj.TrajectoryIterator, 101 frames: \n",
        "Size: 0.000503 (GB)\n",
        "<Topology: 223 atoms, 13 residues, 1 mols, non-PBC>\n",
        "           "
       ]
      }
     ],
     "prompt_number": 1
    },
    {
     "cell_type": "code",
     "collapsed": false,
     "input": [
      "# caculate rmsd to 1st frame, use only backbone atoms\n",
      "rmsd_data = pt.rmsd(traj, ref=0, mask='@C,N,O')\n",
      "\n",
      "# calculate radgyr for all atoms\n",
      "rg_data = pt.radgyr(traj)\n",
      "print('rmsd_data', rmsd_data)\n",
      "print(\"\")\n",
      "print('rg_data', rg_data)"
     ],
     "language": "python",
     "metadata": {},
     "outputs": [
      {
       "output_type": "stream",
       "stream": "stdout",
       "text": [
        "rmsd_data [  9.60096438e-08   2.40720063e+00   4.12336295e+00 ...,   4.96513980e+00\n",
        "   5.55340737e+00   4.85867809e+00]\n",
        "\n",
        "rg_data [  9.4451051    9.57459712  10.19233494 ...,   7.48343543   7.43238185\n",
        "   7.62039157]\n"
       ]
      }
     ],
     "prompt_number": 2
    },
    {
     "cell_type": "code",
     "collapsed": false,
     "input": [
      "# plot the correlation\n",
      "# adapted from: \n",
      "\n",
      "#sns.jointplot(rmsd_data, rg_data, kind=\"hex\", color=\"#4CB391\")\n",
      "sns.jointplot(rmsd_data, rg_data, color=\"#31a354\")\n",
      "\n",
      "#plt.savefig('plot_rmsd_radgyr_correlation.png')"
     ],
     "language": "python",
     "metadata": {},
     "outputs": [
      {
       "output_type": "pyout",
       "prompt_number": 3,
       "text": [
        "<seaborn.axisgrid.JointGrid at 0x7f58c2d08b70>"
       ]
      },
      {
       "output_type": "display_data",
       "png": "[encoded data removed]",
       "text": [
        "<matplotlib.figure.Figure at 0x7f58c2d08fd0>"
       ]
      }
     ],
     "prompt_number": 3
    }
   ],
   "metadata": {}
  }
 ]
}