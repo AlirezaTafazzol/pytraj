{
 "metadata": {
  "kernelspec": {
   "display_name": "Python 3",
   "language": "python",
   "name": "python3"
  },
  "language_info": {
   "codemirror_mode": {
    "name": "ipython",
    "version": 3
   },
   "file_extension": ".py",
   "mimetype": "text/x-python",
   "name": "python",
   "nbconvert_exporter": "python",
   "pygments_lexer": "ipython3",
   "version": "3.4.3"
  },
  "name": ""
 },
 "nbformat": 3,
 "nbformat_minor": 0,
 "worksheets": [
  {
   "cells": [
    {
     "cell_type": "code",
     "collapsed": false,
     "input": [
      "# require: matplotlib, seaborn, pytraj\n",
      "# how? \"conda install matplotib seaborn\"\n",
      "\n",
      "%matplotlib inline\n",
      "\n",
      "# add matplotlib and seaborn package\n",
      "# http://matplotlib.org/\n",
      "from matplotlib import pyplot as plt\n",
      "\n",
      "# https://stanford.edu/~mwaskom/software/seaborn/index.html\n",
      "import seaborn as sns\n",
      "\n",
      "# use pytraj\n",
      "import pytraj as pt\n",
      "\n",
      "# call matrix module\n",
      "from pytraj import matrix\n",
      "\n",
      "# load trajectory from file\n",
      "traj = pt.iterload('tz2.nc', 'tz2.parm7')\n",
      "traj"
     ],
     "language": "python",
     "metadata": {},
     "outputs": [
      {
       "ename": "ImportError",
       "evalue": "No module named 'seaborn'",
       "output_type": "pyerr",
       "traceback": [
        "\u001b[1;31m---------------------------------------------------------------------------\u001b[0m",
        "\u001b[1;31mImportError\u001b[0m                               Traceback (most recent call last)",
        "\u001b[1;32m<ipython-input-1-36673c8d243c>\u001b[0m in \u001b[0;36m<module>\u001b[1;34m()\u001b[0m\n\u001b[0;32m      9\u001b[0m \u001b[1;33m\u001b[0m\u001b[0m\n\u001b[0;32m     10\u001b[0m \u001b[1;31m# https://stanford.edu/~mwaskom/software/seaborn/index.html\u001b[0m\u001b[1;33m\u001b[0m\u001b[1;33m\u001b[0m\u001b[0m\n\u001b[1;32m---> 11\u001b[1;33m \u001b[1;32mimport\u001b[0m \u001b[0mseaborn\u001b[0m \u001b[1;32mas\u001b[0m \u001b[0msns\u001b[0m\u001b[1;33m\u001b[0m\u001b[0m\n\u001b[0m\u001b[0;32m     12\u001b[0m \u001b[1;33m\u001b[0m\u001b[0m\n\u001b[0;32m     13\u001b[0m \u001b[1;31m# use pytraj\u001b[0m\u001b[1;33m\u001b[0m\u001b[1;33m\u001b[0m\u001b[0m\n",
        "\u001b[1;31mImportError\u001b[0m: No module named 'seaborn'"
       ]
      }
     ],
     "prompt_number": 1
    },
    {
     "cell_type": "code",
     "collapsed": false,
     "input": [
      "# caculate rmsd to 1st frame, use only backbone atoms\n",
      "rmsd_data = pt.rmsd(traj, ref=0, mask='@C,N,O')\n",
      "\n",
      "# calculate radgyr for all atoms\n",
      "rg_data = pt.radgyr(traj)\n",
      "print('rmsd_data', rmsd_data)\n",
      "print(\"\")\n",
      "print('rg_data', rg_data)"
     ],
     "language": "python",
     "metadata": {},
     "outputs": [
      {
       "output_type": "stream",
       "stream": "stdout",
       "text": [
        "rmsd_data [  8.60854086e-07   8.35498262e+00   9.93967002e+00   1.13811221e+01\n",
        "   1.19740847e+01   1.26390798e+01   1.34403607e+01   1.36437338e+01\n",
        "   1.39241471e+01   1.41304131e+01]\n",
        "\n",
        "rg_data [ 18.91114428  18.93654996  18.84969884  18.90449256  18.8568644\n",
        "  18.88917208  18.9430491   18.88878079  18.91669565  18.87069722]\n"
       ]
      }
     ],
     "prompt_number": 2
    },
    {
     "cell_type": "code",
     "collapsed": false,
     "input": [
      "# plot the correlation\n",
      "# adapted from: \n",
      "\n",
      "#sns.jointplot(rmsd_data, rg_data, kind=\"hex\", color=\"#4CB391\")\n",
      "sns.jointplot(rmsd_data, rg_data, color=\"#31a354\")\n",
      "\n",
      "#plt.savefig('plot_rmsd_radgyr_correlation.png')"
     ],
     "language": "python",
     "metadata": {},
     "outputs": [
      {
       "ename": "NameError",
       "evalue": "name 'sns' is not defined",
       "output_type": "pyerr",
       "traceback": [
        "\u001b[1;31m---------------------------------------------------------------------------\u001b[0m",
        "\u001b[1;31mNameError\u001b[0m                                 Traceback (most recent call last)",
        "\u001b[1;32m<ipython-input-3-150069874c5d>\u001b[0m in \u001b[0;36m<module>\u001b[1;34m()\u001b[0m\n\u001b[0;32m      3\u001b[0m \u001b[1;33m\u001b[0m\u001b[0m\n\u001b[0;32m      4\u001b[0m \u001b[1;31m#sns.jointplot(rmsd_data, rg_data, kind=\"hex\", color=\"#4CB391\")\u001b[0m\u001b[1;33m\u001b[0m\u001b[1;33m\u001b[0m\u001b[0m\n\u001b[1;32m----> 5\u001b[1;33m \u001b[0msns\u001b[0m\u001b[1;33m.\u001b[0m\u001b[0mjointplot\u001b[0m\u001b[1;33m(\u001b[0m\u001b[0mrmsd_data\u001b[0m\u001b[1;33m,\u001b[0m \u001b[0mrg_data\u001b[0m\u001b[1;33m,\u001b[0m \u001b[0mcolor\u001b[0m\u001b[1;33m=\u001b[0m\u001b[1;34m\"#31a354\"\u001b[0m\u001b[1;33m)\u001b[0m\u001b[1;33m\u001b[0m\u001b[0m\n\u001b[0m\u001b[0;32m      6\u001b[0m \u001b[1;33m\u001b[0m\u001b[0m\n\u001b[0;32m      7\u001b[0m \u001b[1;31m#plt.savefig('plot_rmsd_radgyr_correlation.png')\u001b[0m\u001b[1;33m\u001b[0m\u001b[1;33m\u001b[0m\u001b[0m\n",
        "\u001b[1;31mNameError\u001b[0m: name 'sns' is not defined"
       ]
      }
     ],
     "prompt_number": 3
    }
   ],
   "metadata": {}
  }
 ]
}