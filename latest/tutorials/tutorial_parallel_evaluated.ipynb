{
 "metadata": {
  "kernelspec": {
   "display_name": "Python 3",
   "language": "python",
   "name": "python3"
  },
  "language_info": {
   "codemirror_mode": {
    "name": "ipython",
    "version": 3
   },
   "file_extension": ".py",
   "mimetype": "text/x-python",
   "name": "python",
   "nbconvert_exporter": "python",
   "pygments_lexer": "ipython3",
   "version": "3.5.1"
  },
  "name": ""
 },
 "nbformat": 3,
 "nbformat_minor": 0,
 "worksheets": [
  {
   "cells": [
    {
     "cell_type": "markdown",
     "metadata": {},
     "source": [
      "## Using multiprocessing\n",
      "\n",
      "** Task **\n",
      "```\n",
      "Perform RMSD calculation in parallel\n",
      "```"
     ]
    },
    {
     "cell_type": "code",
     "collapsed": false,
     "input": [
      "import pytraj as pt\n",
      "\n",
      "traj = pt.iterload('tz2.nc', 'tz2.parm7')\n",
      "print(traj)"
     ],
     "language": "python",
     "metadata": {},
     "outputs": [
      {
       "output_type": "stream",
       "stream": "stdout",
       "text": [
        "pytraj.TrajectoryIterator, 101 frames: \n",
        "Size: 0.000503 (GB)\n",
        "<Topology: 223 atoms, 13 residues, 1 mols, non-PBC>\n",
        "           \n"
       ]
      }
     ],
     "prompt_number": 1
    },
    {
     "cell_type": "code",
     "collapsed": false,
     "input": [
      "pt.pmap(pt.rmsd, traj, mask='@CA', ref=traj[0], n_cores=4)"
     ],
     "language": "python",
     "metadata": {},
     "outputs": [
      {
       "output_type": "stream",
       "stream": "stderr",
       "text": [
        "/home/haichit/anaconda3/lib/python3.4/site-packages/IPython/core/formatters.py:92: DeprecationWarning: DisplayFormatter._ipython_display_formatter_default is deprecated: use @default decorator instead.\n",
        "  def _ipython_display_formatter_default(self):\n",
        "/home/haichit/anaconda3/lib/python3.4/site-packages/IPython/core/formatters.py:669: DeprecationWarning: PlainTextFormatter._singleton_printers_default is deprecated: use @default decorator instead.\n",
        "  def _singleton_printers_default(self):\n"
       ]
      },
      {
       "output_type": "pyout",
       "prompt_number": 2,
       "text": [
        "OrderedDict([('RMSD_00001',\n",
        "              array([  1.94667955e-07,   2.54596866e+00,   4.22333034e+00, ...,\n",
        "                       4.97189564e+00,   5.53947712e+00,   4.83201237e+00]))])"
       ]
      }
     ],
     "prompt_number": 2
    },
    {
     "cell_type": "markdown",
     "metadata": {},
     "source": [
      "## Using MPI\n",
      "\n",
      "** Task **\n",
      "```\n",
      "Perform RMSD calculation in parallel\n",
      "```"
     ]
    },
    {
     "cell_type": "code",
     "collapsed": false,
     "input": [
      "%%file my_script.py\n",
      "\n",
      "## create a file name my_scrip.py (you can use any name you like)\n",
      "\n",
      "import pytraj as pt\n",
      "from mpi4py import MPI\n",
      "\n",
      "comm = MPI.COMM_WORLD\n",
      "rank = comm.rank\n",
      "\n",
      "# load files\n",
      "traj = pt.iterload('tz2.nc', 'tz2.parm7')\n",
      "\n",
      "# call pmap_mpi for MPI\n",
      "\n",
      "# we dont need to specify n_cores=6 here since we will use `mpirun -n 6`\n",
      "data = pt.pmap_mpi(pt.rmsd, traj, mask='@CA', ref=traj[0])\n",
      "\n",
      "# data is sent to rank==0\n",
      "if rank == 0:\n",
      "    print(data)\n",
      "\n",
      "# run"
     ],
     "language": "python",
     "metadata": {},
     "outputs": [
      {
       "output_type": "stream",
       "stream": "stdout",
       "text": [
        "Writing my_script.py\n"
       ]
      }
     ],
     "prompt_number": 3
    },
    {
     "cell_type": "code",
     "collapsed": false,
     "input": [
      "# run in shell\n",
      "\n",
      "! mpirun -n 4 python my_script.py"
     ],
     "language": "python",
     "metadata": {
      "scrolled": false
     },
     "outputs": [
      {
       "output_type": "stream",
       "stream": "stdout",
       "text": [
        "Traceback (most recent call last):\r\n",
        "  File \"my_script.py\", line 5, in <module>\r\n",
        "    from mpi4py import MPI\r\n",
        "ImportError: dynamic module does not define init function (PyInit_MPI)\r\n",
        "Traceback (most recent call last):\r\n",
        "  File \"my_script.py\", line 5, in <module>\r\n",
        "    from mpi4py import MPI\r\n",
        "ImportError: dynamic module does not define init function (PyInit_MPI)\r\n",
        "Traceback (most recent call last):\r\n",
        "  File \"my_script.py\", line 5, in <module>\r\n",
        "    from mpi4py import MPI\r\n",
        "ImportError: dynamic module does not define init function (PyInit_MPI)\r\n",
        "Traceback (most recent call last):\r\n",
        "  File \"my_script.py\", line 5, in <module>\r\n",
        "    from mpi4py import MPI\r\n",
        "ImportError: dynamic module does not define init function (PyInit_MPI)\r\n"
       ]
      }
     ],
     "prompt_number": 4
    }
   ],
   "metadata": {}
  }
 ]
}