{
 "cells": [
  {
   "cell_type": "markdown",
   "metadata": {},
   "source": [
    "# **Aim 1**\n",
    "\n",
    "+ download pdb file\n",
    "+ calculate phi/psi for specific residue\n",
    "+ show ramachandran plot"
   ]
  },
  {
   "cell_type": "code",
   "execution_count": 1,
   "metadata": {
    "collapsed": false
   },
   "outputs": [],
   "source": [
    "import warnings\n",
    "warnings.filterwarnings('ignore', category=DeprecationWarning)\n",
    "\n",
    "# do some configs to get better plot\n",
    "%matplotlib inline\n",
    "#%config InlineBackend.figure_format = 'retina'\n",
    "import matplotlib\n",
    "#matplotlib.rcParams['savefig.dpi'] = 2 * matplotlib.rcParams['savefig.dpi'] # larger image\n",
    "from matplotlib import pyplot as plt\n",
    "\n",
    "import numpy as np\n",
    "import pytraj as pt"
   ]
  },
  {
   "cell_type": "code",
   "execution_count": 2,
   "metadata": {
    "collapsed": false
   },
   "outputs": [
    {
     "name": "stdout",
     "output_type": "stream",
     "text": [
      "<pytraj.Trajectory, 38 frames, include:\n",
      "<Topology: 304 atoms, 20 residues, 1 mols, non-PBC>>\n",
      "           \n",
      "{'ARG', 'TYR', 'ILE', 'ASN', 'LEU', 'ASP', 'PRO', 'SER', 'GLN', 'TRP', 'GLY', 'LYS'}\n"
     ]
    }
   ],
   "source": [
    "# download trp-cage mini protein\n",
    "# http://www.rcsb.org/pdb/explore.do?structureId=1l2y\n",
    "\n",
    "traj = pt.load_pdb_rcsb('1L2Y')\n",
    "print(traj)\n",
    "print(set(res.name for res in traj.top.residues))"
   ]
  },
  {
   "cell_type": "code",
   "execution_count": 3,
   "metadata": {
    "collapsed": false
   },
   "outputs": [
    {
     "name": "stdout",
     "output_type": "stream",
     "text": [
      "Gly resdiue indices =  [9, 10, 14]\n",
      "<pytraj.DatasetList with 6 datasets>\n",
      "phi:10\n",
      "[ 110.78404243  107.09437321  108.32961461 ...,  115.32072427  162.43037555\n",
      "  124.30632007]\n",
      "\n",
      "psi:10\n",
      "[  8.0792315   10.33861693  -2.0464667  ...,   5.3940854   29.34859639\n",
      "   8.88098636]\n",
      "\n",
      "phi:11\n",
      "[ 55.24421349  58.27147563  60.77040425 ...,  55.64499342  51.45490984\n",
      "  57.23888395]\n",
      "...\n",
      "\n",
      "phi:15\n",
      "[ 67.93146641  75.78677981  75.05149804 ...,  74.12510912  79.94314603\n",
      "  69.51439433]\n",
      "\n",
      "psi:15\n",
      "[ 25.21773873 -37.51912045 -31.48955407 ..., -30.50312997 -35.73264016\n",
      "  20.40992958]\n"
     ]
    }
   ],
   "source": [
    "# calculate phi/psi for Gly residues\n",
    "# need to get indcies of Gly residues\n",
    "indices = [idx for idx, res in enumerate(traj.top.residues) if 'GLY' in res.name]\n",
    "print('Gly resdiue indices = ', indices)\n",
    "\n",
    "dataset = pt.multidihedral(traj, 'phi psi', resrange=indices)\n",
    "print(dataset)\n"
   ]
  },
  {
   "cell_type": "code",
   "execution_count": 4,
   "metadata": {
    "collapsed": false
   },
   "outputs": [
    {
     "data": {
      "text/plain": [
       "<matplotlib.collections.PathCollection at 0x2aaad55f4e10>"
      ]
     },
     "execution_count": 4,
     "metadata": {},
     "output_type": "execute_result"
    },
    {
     "data": {
      "image/png": "[encoded data removed]",
      "text/plain": [
       "<matplotlib.figure.Figure at 0x2aaad559aa20>"
      ]
     },
     "metadata": {},
     "output_type": "display_data"
    }
   ],
   "source": [
    "# take data for 'phi' and flatten to 1D array\n",
    "phi = np.array([d.values for d in dataset if 'phi' in d.key]).flatten()\n",
    "\n",
    "# take data for 'psi' and flatten to 1D array\n",
    "psi = np.array([d.values for d in dataset if 'psi' in d.key]).flatten()\n",
    "\n",
    "# setup color\n",
    "colors = np.random.rand(len(psi))\n",
    "\n",
    "plt.xlim([-180, 180])\n",
    "plt.ylim([-180, 180])\n",
    "plt.xlabel('phi')\n",
    "plt.ylabel('psi')\n",
    "plt.grid()\n",
    "plt.scatter(phi, psi, alpha=0.5, c=colors)"
   ]
  },
  {
   "cell_type": "markdown",
   "metadata": {},
   "source": [
    "# Aim 2: plot phi/psi for Ala residue"
   ]
  },
  {
   "cell_type": "code",
   "execution_count": 5,
   "metadata": {
    "collapsed": false
   },
   "outputs": [
    {
     "name": "stdout",
     "output_type": "stream",
     "text": [
      "['ALA', 'ALA', 'ALA']\n"
     ]
    }
   ],
   "source": [
    "traj = pt.iterload('ala3.dcd', 'ala3.psf')\n",
    "print([res.name for res in traj.top.residues])"
   ]
  },
  {
   "cell_type": "code",
   "execution_count": 6,
   "metadata": {
    "collapsed": false
   },
   "outputs": [
    {
     "data": {
      "text/plain": [
       "<pytraj.TrajectoryIterator, 256 frames, include:\n",
       "<Topology: 42 atoms, 3 residues, 1 mols, non-PBC>>\n",
       "           "
      ]
     },
     "execution_count": 6,
     "metadata": {},
     "output_type": "execute_result"
    }
   ],
   "source": [
    "traj"
   ]
  },
  {
   "cell_type": "code",
   "execution_count": 7,
   "metadata": {
    "collapsed": false
   },
   "outputs": [
    {
     "data": {
      "text/plain": [
       "(<pytraj.array.DataArray: size=256, key=phi:2, dtype=float64, ndim=1> \n",
       " values:\n",
       " [  72.56233195 -144.69034696 -157.6298725  ..., -169.22686386 -106.44474766\n",
       "   -99.7414326 ],\n",
       " <pytraj.array.DataArray: size=256, key=psi:2, dtype=float64, ndim=1> \n",
       " values:\n",
       " [ -90.99678175  -92.85953579  147.31402474 ...,   18.49491339   66.60815057\n",
       "    22.05998055])"
      ]
     },
     "execution_count": 7,
     "metadata": {},
     "output_type": "execute_result"
    }
   ],
   "source": [
    "# only plot for residue 2 (python uses 0-based index)\n",
    "phi, psi = pt.multidihedral(traj, resrange=[1,], dhtypes='psi phi')\n",
    "phi, psi"
   ]
  },
  {
   "cell_type": "code",
   "execution_count": 8,
   "metadata": {
    "collapsed": true
   },
   "outputs": [],
   "source": [
    "from matplotlib import pyplot as plt\n",
    "import seaborn as snb"
   ]
  },
  {
   "cell_type": "code",
   "execution_count": 9,
   "metadata": {
    "collapsed": false
   },
   "outputs": [
    {
     "data": {
      "text/plain": [
       "<seaborn.axisgrid.JointGrid at 0x2aaadab28f98>"
      ]
     },
     "execution_count": 9,
     "metadata": {},
     "output_type": "execute_result"
    },
    {
     "data": {
      "image/png": "[encoded data removed]",
      "text/plain": [
       "<matplotlib.figure.Figure at 0x2aaadab28b70>"
      ]
     },
     "metadata": {},
     "output_type": "display_data"
    }
   ],
   "source": [
    "snb.jointplot(phi, psi, kind='scatter', stat_func=None)\n",
    "#plt.savefig('phipsi_ala3.png')"
   ]
  }
 ],
 "metadata": {
  "kernelspec": {
   "display_name": "Python 3",
   "language": "python",
   "name": "python3"
  },
  "language_info": {
   "codemirror_mode": {
    "name": "ipython",
    "version": 3
   },
   "file_extension": ".py",
   "mimetype": "text/x-python",
   "name": "python",
   "nbconvert_exporter": "python",
   "pygments_lexer": "ipython3",
   "version": "3.4.4"
  }
 },
 "nbformat": 4,
 "nbformat_minor": 0
}
