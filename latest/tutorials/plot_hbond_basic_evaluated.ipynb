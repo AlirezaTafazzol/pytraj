{
 "metadata": {
  "kernelspec": {
   "display_name": "Python 3",
   "language": "python",
   "name": "python3"
  },
  "language_info": {
   "codemirror_mode": {
    "name": "ipython",
    "version": 3
   },
   "file_extension": ".py",
   "mimetype": "text/x-python",
   "name": "python",
   "nbconvert_exporter": "python",
   "pygments_lexer": "ipython3",
   "version": "3.4.3"
  },
  "name": ""
 },
 "nbformat": 3,
 "nbformat_minor": 0,
 "worksheets": [
  {
   "cells": [
    {
     "cell_type": "code",
     "collapsed": false,
     "input": [
      "# config to get better plot\n",
      "%matplotlib inline\n",
      "%config InlineBackend.figure_format = 'retina'\n",
      "\n",
      "import matplotlib\n",
      "matplotlib.rcParams['savefig.dpi'] = 1.5 * matplotlib.rcParams['savefig.dpi'] # larger image\n",
      "matplotlib.rcParams['axes.labelcolor'] =  'green' # default green for label\n",
      "\n",
      "matplotlib.rcParams['axes.linewidth'] =  0.5\n",
      "\n",
      "from matplotlib import pyplot as plt\n",
      "import seaborn as sb # add seaborn for pretty plot (vs default one in matplotlib)\n",
      "\n",
      "import warnings # just to avoid any warning to make this notebook prettier\n",
      "warnings.filterwarnings('ignore')"
     ],
     "language": "python",
     "metadata": {},
     "outputs": [
      {
       "ename": "ImportError",
       "evalue": "No module named 'seaborn'",
       "output_type": "pyerr",
       "traceback": [
        "\u001b[0;31m---------------------------------------------------------------------------\u001b[0m",
        "\u001b[0;31mImportError\u001b[0m                               Traceback (most recent call last)",
        "\u001b[0;32m<ipython-input-1-231e15d78083>\u001b[0m in \u001b[0;36m<module>\u001b[0;34m()\u001b[0m\n\u001b[1;32m     10\u001b[0m \u001b[0;34m\u001b[0m\u001b[0m\n\u001b[1;32m     11\u001b[0m \u001b[0;32mfrom\u001b[0m \u001b[0mmatplotlib\u001b[0m \u001b[0;32mimport\u001b[0m \u001b[0mpyplot\u001b[0m \u001b[0;32mas\u001b[0m \u001b[0mplt\u001b[0m\u001b[0;34m\u001b[0m\u001b[0m\n\u001b[0;32m---> 12\u001b[0;31m \u001b[0;32mimport\u001b[0m \u001b[0mseaborn\u001b[0m \u001b[0;32mas\u001b[0m \u001b[0msb\u001b[0m \u001b[0;31m# add seaborn for pretty plot (vs default one in matplotlib)\u001b[0m\u001b[0;34m\u001b[0m\u001b[0m\n\u001b[0m\u001b[1;32m     13\u001b[0m \u001b[0;34m\u001b[0m\u001b[0m\n\u001b[1;32m     14\u001b[0m \u001b[0;32mimport\u001b[0m \u001b[0mwarnings\u001b[0m \u001b[0;31m# just to avoid any warning to make this notebook prettier\u001b[0m\u001b[0;34m\u001b[0m\u001b[0m\n",
        "\u001b[0;31mImportError\u001b[0m: No module named 'seaborn'"
       ]
      }
     ],
     "prompt_number": 1
    },
    {
     "cell_type": "code",
     "collapsed": false,
     "input": [
      "# import pytraj\n",
      "import pytraj as pt\n",
      "\n",
      "# load sample data\n",
      "traj = pt.iterload('tz2.nc', 'tz2.parm7')\n",
      "traj"
     ],
     "language": "python",
     "metadata": {},
     "outputs": [
      {
       "output_type": "pyout",
       "prompt_number": 2,
       "text": [
        "pytraj.TrajectoryIterator, 101 frames: \n",
        "Size: 0.000503 (GB)\n",
        "<Topology: 223 atoms, 13 residues, 1 mols, non-PBC>\n",
        "           "
       ]
      }
     ],
     "prompt_number": 2
    },
    {
     "cell_type": "code",
     "collapsed": false,
     "input": [
      "# find hbond\n",
      "hb = pt.hbond(traj)\n",
      "\n",
      "distance_mask = hb.get_amber_mask()[0]\n",
      "print('hbond distance mask: {} \\n '.format(distance_mask))\n",
      "\n",
      "angle_mask = hb.get_amber_mask()[1]\n",
      "print('hbond angle mask: {} \\n'.format(angle_mask))\n",
      "\n",
      "print(\"hbond data\")\n",
      "print(hb.data) # 1: have hbond; 0: does not have hbond"
     ],
     "language": "python",
     "metadata": {},
     "outputs": [
      {
       "output_type": "stream",
       "stream": "stdout",
       "text": [
        "hbond distance mask: [':1@OG :2@H' ':5@O :3@HG1' ':3@O :1@H3' ..., ':10@O :12@HZ2' ':5@OE2 :6@H'\n",
        " ':7@O :9@H'] \n",
        " \n",
        "hbond angle mask: [':1@OG :2@H :2@N' ':5@O :3@HG1 :3@OG1' ':3@O :1@H3 :1@N' ...,\n",
        " ':10@O :12@HZ2 :12@NZ' ':5@OE2 :6@H :6@N' ':7@O :9@H :9@N'] \n",
        "\n",
        "hbond data\n",
        "<pytraj.DatasetList with 14 datasets>\n",
        "total_solute_hbonds\n",
        "[0 1 0 ..., 0 0 0]\n",
        "\n",
        "SER1_OG-TRP2_N-H\n",
        "[0 1 0 ..., 0 0 0]\n",
        "\n",
        "GLU5_O-THR3_OG1-HG1\n",
        "[0 0 0 ..., 0 0 0]\n",
        "...\n",
        "\n",
        "GLU5_OE2-ASN6_N-H\n",
        "[0 0 0 ..., 0 0 0]\n",
        "\n",
        "GLY7_O-TRP9_N-H\n",
        "[0 0 0 ..., 0 0 0]\n"
       ]
      }
     ],
     "prompt_number": 3
    },
    {
     "cell_type": "code",
     "collapsed": false,
     "input": [
      "dist = pt.distance(traj, hb.get_amber_mask()[0])\n",
      "print('all hbond distances: ', dist)"
     ],
     "language": "python",
     "metadata": {},
     "outputs": [
      {
       "output_type": "stream",
       "stream": "stdout",
       "text": [
        "all hbond distances:  [[ 2.1924577   1.92054906  2.35839995 ...,  3.93999355  3.81974987\n",
        "   4.45726496]\n",
        " [ 8.03544864  3.95953378  4.2438701  ...,  6.47548095  4.97960639\n",
        "   6.47500662]\n",
        " [ 4.38455889  3.25022817  3.38755539 ...,  6.45264846  7.37518528\n",
        "   6.0956301 ]\n",
        " ..., \n",
        " [ 6.97851158  9.15141704  8.42936098 ...,  7.2329342   6.74667953\n",
        "   5.96993506]\n",
        " [ 4.40668236  4.33245685  4.49102881 ...,  5.0485394   4.88464996\n",
        "   6.04310722]\n",
        " [ 2.10765322  3.28954633  4.13369896 ...,  2.22195659  3.01349072\n",
        "   3.48705884]]\n"
       ]
      }
     ],
     "prompt_number": 4
    },
    {
     "cell_type": "code",
     "collapsed": false,
     "input": [
      "angle = pt.angle(traj, hb.get_amber_mask()[1])\n",
      "angle"
     ],
     "language": "python",
     "metadata": {
      "scrolled": true
     },
     "outputs": [
      {
       "output_type": "pyout",
       "prompt_number": 5,
       "text": [
        "array([[ 128.26687651,  140.4319339 ,  130.87185144, ...,   98.56379937,\n",
        "         107.85608806,   89.34456598],\n",
        "       [  65.2705368 ,  165.05104503,   81.00468938, ...,   66.48602645,\n",
        "          84.2725392 ,   78.31224007],\n",
        "       [ 127.47793034,  153.71941428,  123.90214257, ...,   69.92092063,\n",
        "          47.03151176,   46.42478935],\n",
        "       ..., \n",
        "       [  24.45322069,   57.47276975,   17.06828405, ...,   50.39660114,\n",
        "          91.57680164,   86.05409532],\n",
        "       [ 123.22038163,  124.99010481,  114.02273251, ...,   93.20375796,\n",
        "         103.8316453 ,   79.2753432 ],\n",
        "       [ 151.76613517,   87.21904908,   82.82755457, ...,  142.70348966,\n",
        "         111.75891022,  118.95158863]])"
       ]
      }
     ],
     "prompt_number": 5
    },
    {
     "cell_type": "heading",
     "level": 3,
     "metadata": {},
     "source": [
      "plot demo"
     ]
    },
    {
     "cell_type": "code",
     "collapsed": false,
     "input": [
      "sb.color_palette('deep', n_colors=6, desat=0.5)\n",
      "sb.set_style(style='white')\n",
      "\n",
      "# scatter plot for distance between ':1@OG :2@H' and ':5@O :3@HG1'\n",
      "# the point is colored by frame number (total frame = traj.n_frames (101))\n",
      "fig = plt.scatter(dist[0], dist[1], marker='o', c=range(traj.n_frames), alpha=0.8, cmap='Spectral')\n",
      "plt.colorbar()\n",
      "plt.grid()\n",
      "plt.xlabel(':1@OG :2@H')\n",
      "plt.ylabel(':5@O :3@HG1')"
     ],
     "language": "python",
     "metadata": {},
     "outputs": [
      {
       "ename": "NameError",
       "evalue": "name 'sb' is not defined",
       "output_type": "pyerr",
       "traceback": [
        "\u001b[0;31m---------------------------------------------------------------------------\u001b[0m",
        "\u001b[0;31mNameError\u001b[0m                                 Traceback (most recent call last)",
        "\u001b[0;32m<ipython-input-6-9e63a193aeb3>\u001b[0m in \u001b[0;36m<module>\u001b[0;34m()\u001b[0m\n\u001b[0;32m----> 1\u001b[0;31m \u001b[0msb\u001b[0m\u001b[0;34m.\u001b[0m\u001b[0mcolor_palette\u001b[0m\u001b[0;34m(\u001b[0m\u001b[0;34m'deep'\u001b[0m\u001b[0;34m,\u001b[0m \u001b[0mn_colors\u001b[0m\u001b[0;34m=\u001b[0m\u001b[0;36m6\u001b[0m\u001b[0;34m,\u001b[0m \u001b[0mdesat\u001b[0m\u001b[0;34m=\u001b[0m\u001b[0;36m0.5\u001b[0m\u001b[0;34m)\u001b[0m\u001b[0;34m\u001b[0m\u001b[0m\n\u001b[0m\u001b[1;32m      2\u001b[0m \u001b[0msb\u001b[0m\u001b[0;34m.\u001b[0m\u001b[0mset_style\u001b[0m\u001b[0;34m(\u001b[0m\u001b[0mstyle\u001b[0m\u001b[0;34m=\u001b[0m\u001b[0;34m'white'\u001b[0m\u001b[0;34m)\u001b[0m\u001b[0;34m\u001b[0m\u001b[0m\n\u001b[1;32m      3\u001b[0m \u001b[0;34m\u001b[0m\u001b[0m\n\u001b[1;32m      4\u001b[0m \u001b[0;31m# scatter plot for distance between ':1@OG :2@H' and ':5@O :3@HG1'\u001b[0m\u001b[0;34m\u001b[0m\u001b[0;34m\u001b[0m\u001b[0m\n\u001b[1;32m      5\u001b[0m \u001b[0;31m# the point is colored by frame number (total frame = traj.n_frames (101))\u001b[0m\u001b[0;34m\u001b[0m\u001b[0;34m\u001b[0m\u001b[0m\n",
        "\u001b[0;31mNameError\u001b[0m: name 'sb' is not defined"
       ]
      }
     ],
     "prompt_number": 6
    },
    {
     "cell_type": "heading",
     "level": 3,
     "metadata": {},
     "source": [
      "Do some statistics"
     ]
    },
    {
     "cell_type": "code",
     "collapsed": false,
     "input": [
      "def stat(hb, data, distance_or_angle_mask):\n",
      "    '''\n",
      "    \n",
      "    Parameters\n",
      "    ----------\n",
      "    hb : get from `pt.hbond(traj, ...)`\n",
      "    data : either distance or angle\n",
      "    distance_mask : distance mask\n",
      "    '''\n",
      "    import numpy as np\n",
      "    arr = hb.data[1:].values == 1\n",
      "    \n",
      "    std_ = {}\n",
      "    mean_ = {}\n",
      "    for idx, mask in enumerate(distance_or_angle_mask):\n",
      "        mask = mask.replace('@', '_')\n",
      "        std_[mask] = np.std(data[idx][arr[idx]])\n",
      "        mean_[mask] = np.mean(data[idx][arr[idx]])\n",
      "    \n",
      "    return mean_, std_"
     ],
     "language": "python",
     "metadata": {},
     "outputs": [],
     "prompt_number": 7
    },
    {
     "cell_type": "code",
     "collapsed": false,
     "input": [
      "stat(hb, dist, distance_mask)"
     ],
     "language": "python",
     "metadata": {},
     "outputs": [
      {
       "output_type": "pyout",
       "prompt_number": 8,
       "text": [
        "({':10_O :10_HG1': 1.9748354521175817,\n",
        "  ':10_O :12_HZ1': 1.9821660107151913,\n",
        "  ':10_O :12_HZ2': 1.9919561276430415,\n",
        "  ':10_OG1 :12_HZ1': 2.0933974614821733,\n",
        "  ':10_OG1 :8_HZ3': 2.0318465603995195,\n",
        "  ':1_OG :2_H': 1.9877602413078141,\n",
        "  ':2_O :4_H': 2.024368646624378,\n",
        "  ':3_O :1_H3': 2.1474342032636846,\n",
        "  ':3_OG1 :6_HD21': 1.9911275635014065,\n",
        "  ':5_O :3_HG1': 1.9397412032380126,\n",
        "  ':5_OE2 :6_H': 1.8608969749703308,\n",
        "  ':6_O :8_H': 2.0379229960419041,\n",
        "  ':7_O :9_H': 2.0647911659846647},\n",
        " {':10_O :10_HG1': 0.15869117394166915,\n",
        "  ':10_O :12_HZ1': 0.066799383615652963,\n",
        "  ':10_O :12_HZ2': 0.0,\n",
        "  ':10_OG1 :12_HZ1': 0.0,\n",
        "  ':10_OG1 :8_HZ3': 0.0,\n",
        "  ':1_OG :2_H': 0.075559413677526596,\n",
        "  ':2_O :4_H': 0.0,\n",
        "  ':3_O :1_H3': 0.0,\n",
        "  ':3_OG1 :6_HD21': 0.072596777856622746,\n",
        "  ':5_O :3_HG1': 0.0,\n",
        "  ':5_OE2 :6_H': 0.046113957599139832,\n",
        "  ':6_O :8_H': 0.0,\n",
        "  ':7_O :9_H': 0.0})"
       ]
      }
     ],
     "prompt_number": 8
    },
    {
     "cell_type": "code",
     "collapsed": false,
     "input": [
      "stat(hb, angle, angle_mask)"
     ],
     "language": "python",
     "metadata": {},
     "outputs": [
      {
       "output_type": "pyout",
       "prompt_number": 9,
       "text": [
        "({':10_O :10_HG1 :10_OG1': 138.92086564596366,\n",
        "  ':10_O :12_HZ1 :12_NZ': 148.28773893308082,\n",
        "  ':10_O :12_HZ2 :12_NZ': 137.44328883519057,\n",
        "  ':10_OG1 :12_HZ1 :12_NZ': 141.56305755865677,\n",
        "  ':10_OG1 :8_HZ3 :8_NZ': 147.54884869246951,\n",
        "  ':1_OG :2_H :2_N': 137.97842992484198,\n",
        "  ':2_O :4_H :4_N': 145.91068614258742,\n",
        "  ':3_O :1_H3 :1_N': 137.2488324606623,\n",
        "  ':3_OG1 :6_HD21 :6_ND2': 155.89624053475271,\n",
        "  ':5_O :3_HG1 :3_OG1': 161.50380087671053,\n",
        "  ':5_OE2 :6_H :6_N': 160.68310341915685,\n",
        "  ':6_O :8_H :8_N': 151.75294915997674,\n",
        "  ':7_O :9_H :9_N': 149.91384027241048},\n",
        " {':10_O :10_HG1 :10_OG1': 2.9717056812209393,\n",
        "  ':10_O :12_HZ1 :12_NZ': 1.2669718312419604,\n",
        "  ':10_O :12_HZ2 :12_NZ': 0.0,\n",
        "  ':10_OG1 :12_HZ1 :12_NZ': 0.0,\n",
        "  ':10_OG1 :8_HZ3 :8_NZ': 0.0,\n",
        "  ':1_OG :2_H :2_N': 4.1608017031247266,\n",
        "  ':2_O :4_H :4_N': 0.0,\n",
        "  ':3_O :1_H3 :1_N': 0.0,\n",
        "  ':3_OG1 :6_HD21 :6_ND2': 6.6837505843576395,\n",
        "  ':5_O :3_HG1 :3_OG1': 0.0,\n",
        "  ':5_OE2 :6_H :6_N': 9.3388091911946418,\n",
        "  ':6_O :8_H :8_N': 0.0,\n",
        "  ':7_O :9_H :9_N': 0.0})"
       ]
      }
     ],
     "prompt_number": 9
    }
   ],
   "metadata": {}
  }
 ]
}