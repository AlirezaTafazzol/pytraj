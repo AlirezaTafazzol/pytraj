{
 "cells": [
  {
   "cell_type": "markdown",
   "metadata": {},
   "source": [
    "### PCA analysis with sklearn (adapted from `mdtraj` and cpptraj tutorial)"
   ]
  },
  {
   "cell_type": "code",
   "execution_count": 1,
   "metadata": {
    "collapsed": false
   },
   "outputs": [],
   "source": [
    "import warnings\n",
    "warnings.filterwarnings('ignore', category=DeprecationWarning)\n",
    "\n",
    "%matplotlib inline\n",
    "from __future__ import print_function\n",
    "%config InlineBackend.figure_format = 'retina'  # high resolution\n",
    "import matplotlib\n",
    "\n",
    "import pytraj as pt\n",
    "import matplotlib.pyplot as plt\n",
    "from sklearn.decomposition import PCA\n",
    "from pytraj.plot import show_config"
   ]
  },
  {
   "cell_type": "code",
   "execution_count": 2,
   "metadata": {
    "collapsed": false
   },
   "outputs": [
    {
     "data": {
      "text/plain": [
       "<pytraj.Trajectory, 101 frames, include:\n",
       "<Topology: 223 atoms, 13 residues, 1 mols, non-PBC>>\n",
       "           "
      ]
     },
     "execution_count": 2,
     "metadata": {},
     "output_type": "execute_result"
    }
   ],
   "source": [
    "# we use `load` method to load all data to memory. This is good for small data size.\n",
    "# use `pytraj.iterload` for out-of-core traj.\n",
    "\n",
    "traj = pt.load('tz2.nc', 'tz2.parm7')\n",
    "traj"
   ]
  },
  {
   "cell_type": "code",
   "execution_count": 3,
   "metadata": {
    "collapsed": false
   },
   "outputs": [
    {
     "data": {
      "text/plain": [
       "PCA(copy=True, n_components=2, whiten=False)"
      ]
     },
     "execution_count": 3,
     "metadata": {},
     "output_type": "execute_result"
    }
   ],
   "source": [
    "pca = PCA(n_components=2)\n",
    "pca"
   ]
  },
  {
   "cell_type": "code",
   "execution_count": 4,
   "metadata": {
    "collapsed": false
   },
   "outputs": [],
   "source": [
    "# superpose to 1st frame\n",
    "pt.superpose(traj, ref=0, mask='!@H=')"
   ]
  },
  {
   "cell_type": "code",
   "execution_count": 5,
   "metadata": {
    "collapsed": false
   },
   "outputs": [
    {
     "data": {
      "text/plain": [
       "<Frame with 223 atoms>"
      ]
     },
     "execution_count": 5,
     "metadata": {},
     "output_type": "execute_result"
    }
   ],
   "source": [
    "# create average structure\n",
    "\n",
    "avg = pt.mean_structure(traj)\n",
    "avg"
   ]
  },
  {
   "cell_type": "code",
   "execution_count": 6,
   "metadata": {
    "collapsed": true
   },
   "outputs": [],
   "source": [
    "# superpose all structures to average frame\n",
    "pt.superpose(traj, ref=avg, mask='!@H=')"
   ]
  },
  {
   "cell_type": "code",
   "execution_count": null,
   "metadata": {
    "collapsed": false
   },
   "outputs": [
    {
     "name": "stdout",
     "output_type": "stream",
     "text": [
      "(101, 351)\n"
     ]
    }
   ],
   "source": [
    "# perform PCA calculation and get transformed coords\n",
    "# we need to reshape 3D traj.xyz array to 2D to make sklearn happy\n",
    "# make a new traj by stripping all H atoms\n",
    "traj_new = traj['!@H=']\n",
    "xyz_2d = traj_new.xyz.reshape(traj_new.n_frames, traj_new.n_atoms * 3)\n",
    "print(xyz_2d.shape) # (n_frames, n_dimensions)"
   ]
  },
  {
   "cell_type": "code",
   "execution_count": null,
   "metadata": {
    "collapsed": false
   },
   "outputs": [],
   "source": [
    "reduced_cartesian = pca.fit_transform(xyz_2d)\n",
    "print(reduced_cartesian.shape) # (n_frames, n_dimensions)"
   ]
  },
  {
   "cell_type": "code",
   "execution_count": null,
   "metadata": {
    "collapsed": false
   },
   "outputs": [],
   "source": [
    "# ignore warning\n",
    "import warnings\n",
    "warnings.filterwarnings('ignore')\n",
    "\n",
    "plt.figure()\n",
    "plt.scatter(reduced_cartesian[:, 0], reduced_cartesian[:,1], marker='o', c=range(traj_new.n_frames), alpha=0.5)\n",
    "plt.xlabel('PC1')\n",
    "plt.ylabel('PC2')\n",
    "cbar = plt.colorbar()\n",
    "cbar.set_label('frame #')"
   ]
  },
  {
   "cell_type": "markdown",
   "metadata": {},
   "source": [
    "### Compare to cpptraj data\n",
    "\n",
    "**note**: stop here if you do not care (a bit compilicated code)"
   ]
  },
  {
   "cell_type": "code",
   "execution_count": null,
   "metadata": {
    "collapsed": true
   },
   "outputs": [],
   "source": [
    "# cpptraj\n",
    "\n",
    "# copy from Amber15 manual (page 619)\n",
    "command = '''\n",
    "# Step one. Generate average structure.\n",
    "# RMS-Fit to first frame to remove global translation/rotation.\n",
    "parm tz2.parm7\n",
    "trajin tz2.nc\n",
    "rms first !@H=\n",
    "average crdset AVG\n",
    "run\n",
    "# Step two. RMS-Fit to average structure. Calculate covariance matrix.\n",
    "# Save the fit coordinates.\n",
    "rms ref AVG !@H=\n",
    "matrix covar name MyMatrix !@H=\n",
    "createcrd CRD1\n",
    "run\n",
    "# Step three. Diagonalize matrix.\n",
    "runanalysis diagmatrix MyMatrix vecs 2 name MyEvecs\n",
    "# Step four. Project saved fit coordinates along eigenvectors 1 and 2\n",
    "crdaction CRD1 projection evecs MyEvecs !@H= out project.dat beg 1 end 2\n",
    "'''"
   ]
  },
  {
   "cell_type": "code",
   "execution_count": null,
   "metadata": {
    "collapsed": true
   },
   "outputs": [],
   "source": [
    "state = pt.datafiles.load_cpptraj_state"
   ]
  },
  {
   "cell_type": "code",
   "execution_count": null,
   "metadata": {
    "collapsed": false
   },
   "outputs": [],
   "source": [
    "state = pt.datafiles.load_cpptraj_state(command)\n",
    "# tell 'run' to perform all calculation\n",
    "state.run()"
   ]
  },
  {
   "cell_type": "code",
   "execution_count": null,
   "metadata": {
    "collapsed": false
   },
   "outputs": [],
   "source": [
    "# get data\n",
    "state.data"
   ]
  },
  {
   "cell_type": "code",
   "execution_count": null,
   "metadata": {
    "collapsed": false
   },
   "outputs": [],
   "source": [
    "print([dset.key for dset in state.data])\n",
    "print(state.data['MyMatrix'].values.shape)"
   ]
  },
  {
   "cell_type": "code",
   "execution_count": null,
   "metadata": {
    "collapsed": false
   },
   "outputs": [],
   "source": [
    "# reduced_cartesian corresponds to dataset with names of 'Mode1', 'Mode2'\n",
    "mode_0, mode_1 = -state.data['Mode1'].values, -state.data['Mode2'].values\n",
    "# mode_0, mode_1 = state.data['Mode1'].values, state.data['Mode2'].values\n",
    "\n",
    "# plot: cpptraj\n",
    "fig = plt.figure()\n",
    "ax_0 = fig.add_subplot(211)\n",
    "ax_0.scatter(mode_0, mode_1, marker='o', c=range(traj.n_frames), alpha=0.5)\n",
    "ax_0.set_xlabel('PC1')\n",
    "ax_0.set_ylabel('PC2')\n",
    "ax_0.set_xlim([-60, 80])\n",
    "ax_0.set_ylim([-40, 40])\n",
    "ax_0.set_title('cpptraj-flip')\n",
    "ax_0.set_yticks([-40, -20, 0, 20, 40])\n",
    "\n",
    "# plot: sklearn\n",
    "fig = plt.figure()\n",
    "ax_1 = fig.add_subplot(212)\n",
    "ax_1.scatter(reduced_cartesian[:, 0], reduced_cartesian[:,1], marker='o', c=range(traj.n_frames), alpha=0.5)\n",
    "ax_1.set_xlabel('PC1')\n",
    "ax_1.set_ylabel('PC2')\n",
    "ax_1.set_yticks([-40, -20, 0, 20, 40])\n",
    "ax_1.set_title('sklearn')"
   ]
  },
  {
   "cell_type": "code",
   "execution_count": null,
   "metadata": {
    "collapsed": false
   },
   "outputs": [],
   "source": [
    "print('sklearn \\n')\n",
    "print(reduced_cartesian[:, 0], reduced_cartesian[:, 1])\n",
    "\n",
    "print('\\ncpptraj\\n') # flip sign, why?\n",
    "print(mode_0, mode_1)"
   ]
  }
 ],
 "metadata": {
  "kernelspec": {
   "display_name": "Python 3",
   "language": "python",
   "name": "python3"
  },
  "language_info": {
   "codemirror_mode": {
    "name": "ipython",
    "version": 3
   },
   "file_extension": ".py",
   "mimetype": "text/x-python",
   "name": "python",
   "nbconvert_exporter": "python",
   "pygments_lexer": "ipython3",
   "version": "3.4.4"
  }
 },
 "nbformat": 4,
 "nbformat_minor": 0
}
