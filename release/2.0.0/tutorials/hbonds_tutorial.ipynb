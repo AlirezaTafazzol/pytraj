{
 "cells": [
  {
   "cell_type": "code",
   "execution_count": 7,
   "metadata": {
    "collapsed": false
   },
   "outputs": [
    {
     "data": {
      "text/plain": [
       "pytraj.TrajectoryIterator, 38 frames: \n",
       "Size: 0.000258 (GB)\n",
       "<Topology: 304 atoms, 20 residues, 1 mols, PBC with box type = ortho>\n",
       "           "
      ]
     },
     "execution_count": 7,
     "metadata": {},
     "output_type": "execute_result"
    }
   ],
   "source": [
    "# load data\n",
    "# pdb file from: http://www.rcsb.org/pdb/explore/explore.do?pdbId=1l2y\n",
    "import warnings\n",
    "warnings.filterwarnings('ignore', category=DeprecationWarning)\n",
    "\n",
    "import pytraj as pt\n",
    "\n",
    "traj = pt.iterload('1L2Y.pdb', top='1L2Y.pdb')\n",
    "traj"
   ]
  },
  {
   "cell_type": "code",
   "execution_count": 10,
   "metadata": {
    "collapsed": false,
    "scrolled": true
   },
   "outputs": [
    {
     "name": "stdout",
     "output_type": "stream",
     "text": [
      "<pytraj.hbonds.DatasetHBond\n",
      "donor_acceptor pairs : 31>\n"
     ]
    }
   ],
   "source": [
    "# search hbonds for all residues\n",
    "# dump data to `dataset` (similiar to python'list and dict)\n",
    "dataset = pt.hbond(traj)\n",
    "print(dataset)\n",
    "# 0: no hbond\n",
    "# 1: there is hbond"
   ]
  },
  {
   "cell_type": "code",
   "execution_count": 12,
   "metadata": {
    "collapsed": false
   },
   "outputs": [
    {
     "name": "stdout",
     "output_type": "stream",
     "text": [
      "[6 7 8 ..., 7 6 6]\n"
     ]
    }
   ],
   "source": [
    "# get total solute hbonds\n",
    "print(dataset.total_solute_hbonds())"
   ]
  },
  {
   "cell_type": "code",
   "execution_count": 14,
   "metadata": {
    "collapsed": false
   },
   "outputs": [
    {
     "name": "stdout",
     "output_type": "stream",
     "text": [
      "<pytraj.array.DataArray: size=38, key=ARG16_O-TRP6_NE1-HE1, dtype=int32, ndim=1> \n",
      "values:\n",
      "[1 1 1 ..., 1 1 1]\n"
     ]
    }
   ],
   "source": [
    "# take data for specific hbond\n",
    "print(dataset.data['ARG16_O-TRP6_NE1-HE1'])"
   ]
  }
 ],
 "metadata": {
  "anaconda-cloud": {},
  "kernelspec": {
   "display_name": "Python [default]",
   "language": "python",
   "name": "python3"
  },
  "language_info": {
   "codemirror_mode": {
    "name": "ipython",
    "version": 3
   },
   "file_extension": ".py",
   "mimetype": "text/x-python",
   "name": "python",
   "nbconvert_exporter": "python",
   "pygments_lexer": "ipython3",
   "version": "3.5.1"
  }
 },
 "nbformat": 4,
 "nbformat_minor": 0
}
