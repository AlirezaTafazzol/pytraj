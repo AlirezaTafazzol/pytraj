{
 "cells": [
  {
   "cell_type": "markdown",
   "metadata": {},
   "source": [
    "## Using multiprocessing\n",
    "\n",
    "** Task **\n",
    "```\n",
    "Perform RMSD calculation in parallel\n",
    "```"
   ]
  },
  {
   "cell_type": "code",
   "execution_count": 1,
   "metadata": {
    "collapsed": false
   },
   "outputs": [
    {
     "name": "stdout",
     "output_type": "stream",
     "text": [
      "pytraj.TrajectoryIterator, 101 frames: \n",
      "Size: 0.000503 (GB)\n",
      "<Topology: 223 atoms, 13 residues, 1 mols, non-PBC>\n",
      "           \n"
     ]
    }
   ],
   "source": [
    "import warnings\n",
    "warnings.filterwarnings('ignore', category=DeprecationWarning)\n",
    "import pytraj as pt\n",
    "\n",
    "traj = pt.iterload('tz2.nc', 'tz2.parm7')\n",
    "print(traj)"
   ]
  },
  {
   "cell_type": "code",
   "execution_count": 22,
   "metadata": {
    "collapsed": false
   },
   "outputs": [
    {
     "data": {
      "text/plain": [
       "OrderedDict([('RMSD_00000',\n",
       "              array([  1.94667955e-07,   2.54596866e+00,   4.22333034e+00, ...,\n",
       "                       4.97189564e+00,   5.53947712e+00,   4.83201237e+00]))])"
      ]
     },
     "execution_count": 22,
     "metadata": {},
     "output_type": "execute_result"
    }
   ],
   "source": [
    "pt.pmap(pt.rmsd, traj, mask='@CA', ref=traj[0], n_cores=4)"
   ]
  },
  {
   "cell_type": "markdown",
   "metadata": {},
   "source": [
    "## Using MPI\n",
    "\n",
    "** Task **\n",
    "```\n",
    "Perform RMSD calculation in parallel\n",
    "```"
   ]
  },
  {
   "cell_type": "code",
   "execution_count": 24,
   "metadata": {
    "collapsed": false
   },
   "outputs": [
    {
     "name": "stdout",
     "output_type": "stream",
     "text": [
      "Overwriting my_script.py\n"
     ]
    }
   ],
   "source": [
    "%%file my_script.py\n",
    "\n",
    "## create a file name my_scrip.py (you can use any name you like)\n",
    "\n",
    "import pytraj as pt\n",
    "from mpi4py import MPI\n",
    "\n",
    "comm = MPI.COMM_WORLD\n",
    "rank = comm.rank\n",
    "\n",
    "# load files\n",
    "traj = pt.iterload('tz2.nc', 'tz2.parm7')\n",
    "\n",
    "# call pmap_mpi for MPI\n",
    "\n",
    "# we dont need to specify n_cores=6 here since we will use `mpirun -n 6`\n",
    "data = pt.pmap_mpi(pt.rmsd, traj, mask='@CA', ref=traj[0])\n",
    "\n",
    "# data is sent to rank==0\n",
    "if rank == 0:\n",
    "    print(data)\n",
    "\n",
    "# run"
   ]
  },
  {
   "cell_type": "code",
   "execution_count": 27,
   "metadata": {
    "collapsed": false,
    "scrolled": false
   },
   "outputs": [
    {
     "name": "stdout",
     "output_type": "stream",
     "text": [
      "OrderedDict([('RMSD_00000', array([  1.94667955e-07,   2.54596866e+00,   4.22333034e+00, ...,\r\n",
      "         4.97189564e+00,   5.53947712e+00,   4.83201237e+00]))])\r\n"
     ]
    }
   ],
   "source": [
    "# run in shell\n",
    "\n",
    "! mpirun -n 4 python my_script.py"
   ]
  }
 ],
 "metadata": {
  "kernelspec": {
   "display_name": "Python 3",
   "language": "python",
   "name": "python3"
  },
  "language_info": {
   "codemirror_mode": {
    "name": "ipython",
    "version": 3
   },
   "file_extension": ".py",
   "mimetype": "text/x-python",
   "name": "python",
   "nbconvert_exporter": "python",
   "pygments_lexer": "ipython3",
   "version": "3.4.4"
  }
 },
 "nbformat": 4,
 "nbformat_minor": 0
}
