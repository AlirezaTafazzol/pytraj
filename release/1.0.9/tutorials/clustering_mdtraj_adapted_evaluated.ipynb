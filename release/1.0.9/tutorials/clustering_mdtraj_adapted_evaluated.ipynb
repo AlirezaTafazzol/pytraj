{
 "metadata": {
  "kernelspec": {
   "display_name": "Python 3",
   "language": "python",
   "name": "python3"
  },
  "language_info": {
   "codemirror_mode": {
    "name": "ipython",
    "version": 3
   },
   "file_extension": ".py",
   "mimetype": "text/x-python",
   "name": "python",
   "nbconvert_exporter": "python",
   "pygments_lexer": "ipython3",
   "version": "3.4.4"
  },
  "name": ""
 },
 "nbformat": 3,
 "nbformat_minor": 0,
 "worksheets": [
  {
   "cells": [
    {
     "cell_type": "code",
     "collapsed": false,
     "input": [
      "from __future__ import print_function\n",
      "import warnings\n",
      "warnings.filterwarnings('ignore', category=DeprecationWarning)\n",
      "\n",
      "%matplotlib inline\n",
      "\n",
      "import pytraj as pt\n",
      "\n",
      "import scipy\n",
      "import scipy.cluster.hierarchy"
     ],
     "language": "python",
     "metadata": {},
     "outputs": [],
     "prompt_number": 1
    },
    {
     "cell_type": "code",
     "collapsed": false,
     "input": [
      "# load data\n",
      "traj = pt.iterload('tz2.nc', 'tz2.parm7')\n",
      "traj"
     ],
     "language": "python",
     "metadata": {},
     "outputs": [
      {
       "output_type": "pyout",
       "prompt_number": 2,
       "text": [
        "pytraj.TrajectoryIterator, 101 frames: \n",
        "Size: 0.000503 (GB)\n",
        "<Topology: 223 atoms, 13 residues, 1 mols, non-PBC>\n",
        "           "
       ]
      }
     ],
     "prompt_number": 2
    },
    {
     "cell_type": "code",
     "collapsed": false,
     "input": [
      "\n",
      "# calculate pairwise rmsd with `autoimage=True`\n",
      "# generally we only need to cluster a subset of atoms.\n",
      "# cluster for 'CA' atoms\n",
      "\n",
      "distances = pt.pairwise_rmsd(traj(autoimage=True), mask='@CA')\n",
      "\n",
      "# use `scipy` to perform clustering\n",
      "linkage = scipy.cluster.hierarchy.ward(distances)\n",
      "\n",
      "scipy.cluster.hierarchy.dendrogram(linkage, no_labels=True, count_sort='descendent')\n",
      "None"
     ],
     "language": "python",
     "metadata": {},
     "outputs": [
      {
       "output_type": "display_data",
       "png": "[encoded data removed]",
       "text": [
        "<matplotlib.figure.Figure at 0x7f2a71e891d0>"
       ]
      }
     ],
     "prompt_number": 3
    },
    {
     "cell_type": "code",
     "collapsed": false,
     "input": [
      "# cluster for all atoms but H\n",
      "\n",
      "distances = pt.pairwise_rmsd(traj(autoimage=True), mask='!@H=')\n",
      "linkage = scipy.cluster.hierarchy.ward(distances)\n",
      "scipy.cluster.hierarchy.dendrogram(linkage, no_labels=True, count_sort='descendent')\n",
      "None"
     ],
     "language": "python",
     "metadata": {},
     "outputs": [
      {
       "output_type": "display_data",
       "png": "[encoded data removed]",
       "text": [
        "<matplotlib.figure.Figure at 0x7f2a7143b400>"
       ]
      }
     ],
     "prompt_number": 4
    }
   ],
   "metadata": {}
  }
 ]
}